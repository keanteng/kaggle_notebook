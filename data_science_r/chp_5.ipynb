{
 "cells": [
  {
   "cell_type": "markdown",
   "metadata": {},
   "source": [
    "# Data Tidying"
   ]
  },
  {
   "cell_type": "code",
   "execution_count": 16,
   "metadata": {
    "vscode": {
     "languageId": "r"
    }
   },
   "outputs": [],
   "source": [
    "# setup\n",
    "options(warn = -1)\n",
    "options(repr.plot.width = 8, repr.plot.height = 7)"
   ]
  },
  {
   "cell_type": "code",
   "execution_count": 2,
   "metadata": {
    "vscode": {
     "languageId": "r"
    }
   },
   "outputs": [],
   "source": [
    "# libraries\n",
    "suppressMessages(library(tidyverse))"
   ]
  },
  {
   "cell_type": "code",
   "execution_count": 6,
   "metadata": {
    "vscode": {
     "languageId": "r"
    }
   },
   "outputs": [
    {
     "data": {
      "text/html": [
       "<table class=\"dataframe\">\n",
       "<caption>A tibble: 3 × 4</caption>\n",
       "<thead>\n",
       "\t<tr><th scope=col>country</th><th scope=col>year</th><th scope=col>cases</th><th scope=col>population</th></tr>\n",
       "\t<tr><th scope=col>&lt;chr&gt;</th><th scope=col>&lt;dbl&gt;</th><th scope=col>&lt;dbl&gt;</th><th scope=col>&lt;dbl&gt;</th></tr>\n",
       "</thead>\n",
       "<tbody>\n",
       "\t<tr><td>Afghanistan</td><td>1999</td><td>  745</td><td> 19987071</td></tr>\n",
       "\t<tr><td>Afghanistan</td><td>2000</td><td> 2666</td><td> 20595360</td></tr>\n",
       "\t<tr><td>Brazil     </td><td>1999</td><td>37737</td><td>172006362</td></tr>\n",
       "</tbody>\n",
       "</table>\n"
      ],
      "text/latex": [
       "A tibble: 3 × 4\n",
       "\\begin{tabular}{llll}\n",
       " country & year & cases & population\\\\\n",
       " <chr> & <dbl> & <dbl> & <dbl>\\\\\n",
       "\\hline\n",
       "\t Afghanistan & 1999 &   745 &  19987071\\\\\n",
       "\t Afghanistan & 2000 &  2666 &  20595360\\\\\n",
       "\t Brazil      & 1999 & 37737 & 172006362\\\\\n",
       "\\end{tabular}\n"
      ],
      "text/markdown": [
       "\n",
       "A tibble: 3 × 4\n",
       "\n",
       "| country &lt;chr&gt; | year &lt;dbl&gt; | cases &lt;dbl&gt; | population &lt;dbl&gt; |\n",
       "|---|---|---|---|\n",
       "| Afghanistan | 1999 |   745 |  19987071 |\n",
       "| Afghanistan | 2000 |  2666 |  20595360 |\n",
       "| Brazil      | 1999 | 37737 | 172006362 |\n",
       "\n"
      ],
      "text/plain": [
       "  country     year cases population\n",
       "1 Afghanistan 1999   745  19987071 \n",
       "2 Afghanistan 2000  2666  20595360 \n",
       "3 Brazil      1999 37737 172006362 "
      ]
     },
     "metadata": {},
     "output_type": "display_data"
    },
    {
     "data": {
      "text/html": [
       "<table class=\"dataframe\">\n",
       "<caption>A tibble: 3 × 4</caption>\n",
       "<thead>\n",
       "\t<tr><th scope=col>country</th><th scope=col>year</th><th scope=col>type</th><th scope=col>count</th></tr>\n",
       "\t<tr><th scope=col>&lt;chr&gt;</th><th scope=col>&lt;dbl&gt;</th><th scope=col>&lt;chr&gt;</th><th scope=col>&lt;dbl&gt;</th></tr>\n",
       "</thead>\n",
       "<tbody>\n",
       "\t<tr><td>Afghanistan</td><td>1999</td><td>cases     </td><td>     745</td></tr>\n",
       "\t<tr><td>Afghanistan</td><td>1999</td><td>population</td><td>19987071</td></tr>\n",
       "\t<tr><td>Afghanistan</td><td>2000</td><td>cases     </td><td>    2666</td></tr>\n",
       "</tbody>\n",
       "</table>\n"
      ],
      "text/latex": [
       "A tibble: 3 × 4\n",
       "\\begin{tabular}{llll}\n",
       " country & year & type & count\\\\\n",
       " <chr> & <dbl> & <chr> & <dbl>\\\\\n",
       "\\hline\n",
       "\t Afghanistan & 1999 & cases      &      745\\\\\n",
       "\t Afghanistan & 1999 & population & 19987071\\\\\n",
       "\t Afghanistan & 2000 & cases      &     2666\\\\\n",
       "\\end{tabular}\n"
      ],
      "text/markdown": [
       "\n",
       "A tibble: 3 × 4\n",
       "\n",
       "| country &lt;chr&gt; | year &lt;dbl&gt; | type &lt;chr&gt; | count &lt;dbl&gt; |\n",
       "|---|---|---|---|\n",
       "| Afghanistan | 1999 | cases      |      745 |\n",
       "| Afghanistan | 1999 | population | 19987071 |\n",
       "| Afghanistan | 2000 | cases      |     2666 |\n",
       "\n"
      ],
      "text/plain": [
       "  country     year type       count   \n",
       "1 Afghanistan 1999 cases           745\n",
       "2 Afghanistan 1999 population 19987071\n",
       "3 Afghanistan 2000 cases          2666"
      ]
     },
     "metadata": {},
     "output_type": "display_data"
    },
    {
     "data": {
      "text/html": [
       "<table class=\"dataframe\">\n",
       "<caption>A tibble: 3 × 3</caption>\n",
       "<thead>\n",
       "\t<tr><th scope=col>country</th><th scope=col>year</th><th scope=col>rate</th></tr>\n",
       "\t<tr><th scope=col>&lt;chr&gt;</th><th scope=col>&lt;dbl&gt;</th><th scope=col>&lt;chr&gt;</th></tr>\n",
       "</thead>\n",
       "<tbody>\n",
       "\t<tr><td>Afghanistan</td><td>1999</td><td>745/19987071   </td></tr>\n",
       "\t<tr><td>Afghanistan</td><td>2000</td><td>2666/20595360  </td></tr>\n",
       "\t<tr><td>Brazil     </td><td>1999</td><td>37737/172006362</td></tr>\n",
       "</tbody>\n",
       "</table>\n"
      ],
      "text/latex": [
       "A tibble: 3 × 3\n",
       "\\begin{tabular}{lll}\n",
       " country & year & rate\\\\\n",
       " <chr> & <dbl> & <chr>\\\\\n",
       "\\hline\n",
       "\t Afghanistan & 1999 & 745/19987071   \\\\\n",
       "\t Afghanistan & 2000 & 2666/20595360  \\\\\n",
       "\t Brazil      & 1999 & 37737/172006362\\\\\n",
       "\\end{tabular}\n"
      ],
      "text/markdown": [
       "\n",
       "A tibble: 3 × 3\n",
       "\n",
       "| country &lt;chr&gt; | year &lt;dbl&gt; | rate &lt;chr&gt; |\n",
       "|---|---|---|\n",
       "| Afghanistan | 1999 | 745/19987071    |\n",
       "| Afghanistan | 2000 | 2666/20595360   |\n",
       "| Brazil      | 1999 | 37737/172006362 |\n",
       "\n"
      ],
      "text/plain": [
       "  country     year rate           \n",
       "1 Afghanistan 1999 745/19987071   \n",
       "2 Afghanistan 2000 2666/20595360  \n",
       "3 Brazil      1999 37737/172006362"
      ]
     },
     "metadata": {},
     "output_type": "display_data"
    }
   ],
   "source": [
    "# view the data (first 3 rows)\n",
    "table1 %>% head(3)\n",
    "table2 %>% head(3)\n",
    "table3 %>% head(3)"
   ]
  },
  {
   "cell_type": "markdown",
   "metadata": {},
   "source": [
    "Let's apply some processes to tidy up the data."
   ]
  },
  {
   "cell_type": "code",
   "execution_count": 5,
   "metadata": {
    "vscode": {
     "languageId": "r"
    }
   },
   "outputs": [
    {
     "data": {
      "text/html": [
       "<table class=\"dataframe\">\n",
       "<caption>A tibble: 6 × 5</caption>\n",
       "<thead>\n",
       "\t<tr><th scope=col>country</th><th scope=col>year</th><th scope=col>cases</th><th scope=col>population</th><th scope=col>rate</th></tr>\n",
       "\t<tr><th scope=col>&lt;chr&gt;</th><th scope=col>&lt;dbl&gt;</th><th scope=col>&lt;dbl&gt;</th><th scope=col>&lt;dbl&gt;</th><th scope=col>&lt;dbl&gt;</th></tr>\n",
       "</thead>\n",
       "<tbody>\n",
       "\t<tr><td>Afghanistan</td><td>1999</td><td>   745</td><td>  19987071</td><td>0.372741</td></tr>\n",
       "\t<tr><td>Afghanistan</td><td>2000</td><td>  2666</td><td>  20595360</td><td>1.294466</td></tr>\n",
       "\t<tr><td>Brazil     </td><td>1999</td><td> 37737</td><td> 172006362</td><td>2.193930</td></tr>\n",
       "\t<tr><td>Brazil     </td><td>2000</td><td> 80488</td><td> 174504898</td><td>4.612363</td></tr>\n",
       "\t<tr><td>China      </td><td>1999</td><td>212258</td><td>1272915272</td><td>1.667495</td></tr>\n",
       "\t<tr><td>China      </td><td>2000</td><td>213766</td><td>1280428583</td><td>1.669488</td></tr>\n",
       "</tbody>\n",
       "</table>\n"
      ],
      "text/latex": [
       "A tibble: 6 × 5\n",
       "\\begin{tabular}{lllll}\n",
       " country & year & cases & population & rate\\\\\n",
       " <chr> & <dbl> & <dbl> & <dbl> & <dbl>\\\\\n",
       "\\hline\n",
       "\t Afghanistan & 1999 &    745 &   19987071 & 0.372741\\\\\n",
       "\t Afghanistan & 2000 &   2666 &   20595360 & 1.294466\\\\\n",
       "\t Brazil      & 1999 &  37737 &  172006362 & 2.193930\\\\\n",
       "\t Brazil      & 2000 &  80488 &  174504898 & 4.612363\\\\\n",
       "\t China       & 1999 & 212258 & 1272915272 & 1.667495\\\\\n",
       "\t China       & 2000 & 213766 & 1280428583 & 1.669488\\\\\n",
       "\\end{tabular}\n"
      ],
      "text/markdown": [
       "\n",
       "A tibble: 6 × 5\n",
       "\n",
       "| country &lt;chr&gt; | year &lt;dbl&gt; | cases &lt;dbl&gt; | population &lt;dbl&gt; | rate &lt;dbl&gt; |\n",
       "|---|---|---|---|---|\n",
       "| Afghanistan | 1999 |    745 |   19987071 | 0.372741 |\n",
       "| Afghanistan | 2000 |   2666 |   20595360 | 1.294466 |\n",
       "| Brazil      | 1999 |  37737 |  172006362 | 2.193930 |\n",
       "| Brazil      | 2000 |  80488 |  174504898 | 4.612363 |\n",
       "| China       | 1999 | 212258 | 1272915272 | 1.667495 |\n",
       "| China       | 2000 | 213766 | 1280428583 | 1.669488 |\n",
       "\n"
      ],
      "text/plain": [
       "  country     year cases  population rate    \n",
       "1 Afghanistan 1999    745   19987071 0.372741\n",
       "2 Afghanistan 2000   2666   20595360 1.294466\n",
       "3 Brazil      1999  37737  172006362 2.193930\n",
       "4 Brazil      2000  80488  174504898 4.612363\n",
       "5 China       1999 212258 1272915272 1.667495\n",
       "6 China       2000 213766 1280428583 1.669488"
      ]
     },
     "metadata": {},
     "output_type": "display_data"
    }
   ],
   "source": [
    "# add rate column\n",
    "# rate = cases / population * 100,00\n",
    "table1 %>%\n",
    "    mutate(rate = cases / population * 10000) %>%\n",
    "    head()"
   ]
  },
  {
   "cell_type": "code",
   "execution_count": 10,
   "metadata": {
    "vscode": {
     "languageId": "r"
    }
   },
   "outputs": [
    {
     "data": {
      "text/html": [
       "<table class=\"dataframe\">\n",
       "<caption>A tibble: 2 × 2</caption>\n",
       "<thead>\n",
       "\t<tr><th scope=col>year</th><th scope=col>total</th></tr>\n",
       "\t<tr><th scope=col>&lt;dbl&gt;</th><th scope=col>&lt;dbl&gt;</th></tr>\n",
       "</thead>\n",
       "<tbody>\n",
       "\t<tr><td>1999</td><td>250740</td></tr>\n",
       "\t<tr><td>2000</td><td>296920</td></tr>\n",
       "</tbody>\n",
       "</table>\n"
      ],
      "text/latex": [
       "A tibble: 2 × 2\n",
       "\\begin{tabular}{ll}\n",
       " year & total\\\\\n",
       " <dbl> & <dbl>\\\\\n",
       "\\hline\n",
       "\t 1999 & 250740\\\\\n",
       "\t 2000 & 296920\\\\\n",
       "\\end{tabular}\n"
      ],
      "text/markdown": [
       "\n",
       "A tibble: 2 × 2\n",
       "\n",
       "| year &lt;dbl&gt; | total &lt;dbl&gt; |\n",
       "|---|---|\n",
       "| 1999 | 250740 |\n",
       "| 2000 | 296920 |\n",
       "\n"
      ],
      "text/plain": [
       "  year total \n",
       "1 1999 250740\n",
       "2 2000 296920"
      ]
     },
     "metadata": {},
     "output_type": "display_data"
    }
   ],
   "source": [
    "# find total cases per year for table 1\n",
    "table1 %>%\n",
    "    group_by(year) %>%\n",
    "    summarize(total = sum(cases))"
   ]
  },
  {
   "cell_type": "code",
   "execution_count": 17,
   "metadata": {
    "vscode": {
     "languageId": "r"
    }
   },
   "outputs": [
    {
     "data": {
      "image/png": "[encoded data removed]",
      "text/plain": [
       "plot without title"
      ]
     },
     "metadata": {
      "image/png": {
       "height": 420,
       "width": 480
      }
     },
     "output_type": "display_data"
    }
   ],
   "source": [
    "# let's visualize on a plot \n",
    "# we will break the x-axis at 1999 and 2000\n",
    "ggplot(table1, aes(x = year, y = cases)) +\n",
    "    geom_line(aes(group = country, color = \"grey50\")) +\n",
    "    geom_point(aes(color = country, shape = country)) +\n",
    "    scale_x_continuous(breaks = c(1999, 2000)) "
   ]
  },
  {
   "cell_type": "markdown",
   "metadata": {},
   "source": [
    "## Lengthening Data"
   ]
  },
  {
   "cell_type": "markdown",
   "metadata": {},
   "source": [
    "We will be using the `billboard` dataset that contains the Billboard rank of songs in the year 2000"
   ]
  },
  {
   "cell_type": "code",
   "execution_count": 18,
   "metadata": {
    "vscode": {
     "languageId": "r"
    }
   },
   "outputs": [
    {
     "data": {
      "text/html": [
       "<table class=\"dataframe\">\n",
       "<caption>A tibble: 3 × 79</caption>\n",
       "<thead>\n",
       "\t<tr><th scope=col>artist</th><th scope=col>track</th><th scope=col>date.entered</th><th scope=col>wk1</th><th scope=col>wk2</th><th scope=col>wk3</th><th scope=col>wk4</th><th scope=col>wk5</th><th scope=col>wk6</th><th scope=col>wk7</th><th scope=col>⋯</th><th scope=col>wk67</th><th scope=col>wk68</th><th scope=col>wk69</th><th scope=col>wk70</th><th scope=col>wk71</th><th scope=col>wk72</th><th scope=col>wk73</th><th scope=col>wk74</th><th scope=col>wk75</th><th scope=col>wk76</th></tr>\n",
       "\t<tr><th scope=col>&lt;chr&gt;</th><th scope=col>&lt;chr&gt;</th><th scope=col>&lt;date&gt;</th><th scope=col>&lt;dbl&gt;</th><th scope=col>&lt;dbl&gt;</th><th scope=col>&lt;dbl&gt;</th><th scope=col>&lt;dbl&gt;</th><th scope=col>&lt;dbl&gt;</th><th scope=col>&lt;dbl&gt;</th><th scope=col>&lt;dbl&gt;</th><th scope=col>⋯</th><th scope=col>&lt;lgl&gt;</th><th scope=col>&lt;lgl&gt;</th><th scope=col>&lt;lgl&gt;</th><th scope=col>&lt;lgl&gt;</th><th scope=col>&lt;lgl&gt;</th><th scope=col>&lt;lgl&gt;</th><th scope=col>&lt;lgl&gt;</th><th scope=col>&lt;lgl&gt;</th><th scope=col>&lt;lgl&gt;</th><th scope=col>&lt;lgl&gt;</th></tr>\n",
       "</thead>\n",
       "<tbody>\n",
       "\t<tr><td>2 Pac       </td><td>Baby Don't Cry (Keep...</td><td>2000-02-26</td><td>87</td><td>82</td><td>72</td><td>77</td><td>87</td><td>94</td><td>99</td><td>⋯</td><td>NA</td><td>NA</td><td>NA</td><td>NA</td><td>NA</td><td>NA</td><td>NA</td><td>NA</td><td>NA</td><td>NA</td></tr>\n",
       "\t<tr><td>2Ge+her     </td><td>The Hardest Part Of ...</td><td>2000-09-02</td><td>91</td><td>87</td><td>92</td><td>NA</td><td>NA</td><td>NA</td><td>NA</td><td>⋯</td><td>NA</td><td>NA</td><td>NA</td><td>NA</td><td>NA</td><td>NA</td><td>NA</td><td>NA</td><td>NA</td><td>NA</td></tr>\n",
       "\t<tr><td>3 Doors Down</td><td>Kryptonite             </td><td>2000-04-08</td><td>81</td><td>70</td><td>68</td><td>67</td><td>66</td><td>57</td><td>54</td><td>⋯</td><td>NA</td><td>NA</td><td>NA</td><td>NA</td><td>NA</td><td>NA</td><td>NA</td><td>NA</td><td>NA</td><td>NA</td></tr>\n",
       "</tbody>\n",
       "</table>\n"
      ],
      "text/latex": [
       "A tibble: 3 × 79\n",
       "\\begin{tabular}{lllllllllllllllllllll}\n",
       " artist & track & date.entered & wk1 & wk2 & wk3 & wk4 & wk5 & wk6 & wk7 & ⋯ & wk67 & wk68 & wk69 & wk70 & wk71 & wk72 & wk73 & wk74 & wk75 & wk76\\\\\n",
       " <chr> & <chr> & <date> & <dbl> & <dbl> & <dbl> & <dbl> & <dbl> & <dbl> & <dbl> & ⋯ & <lgl> & <lgl> & <lgl> & <lgl> & <lgl> & <lgl> & <lgl> & <lgl> & <lgl> & <lgl>\\\\\n",
       "\\hline\n",
       "\t 2 Pac        & Baby Don't Cry (Keep... & 2000-02-26 & 87 & 82 & 72 & 77 & 87 & 94 & 99 & ⋯ & NA & NA & NA & NA & NA & NA & NA & NA & NA & NA\\\\\n",
       "\t 2Ge+her      & The Hardest Part Of ... & 2000-09-02 & 91 & 87 & 92 & NA & NA & NA & NA & ⋯ & NA & NA & NA & NA & NA & NA & NA & NA & NA & NA\\\\\n",
       "\t 3 Doors Down & Kryptonite              & 2000-04-08 & 81 & 70 & 68 & 67 & 66 & 57 & 54 & ⋯ & NA & NA & NA & NA & NA & NA & NA & NA & NA & NA\\\\\n",
       "\\end{tabular}\n"
      ],
      "text/markdown": [
       "\n",
       "A tibble: 3 × 79\n",
       "\n",
       "| artist &lt;chr&gt; | track &lt;chr&gt; | date.entered &lt;date&gt; | wk1 &lt;dbl&gt; | wk2 &lt;dbl&gt; | wk3 &lt;dbl&gt; | wk4 &lt;dbl&gt; | wk5 &lt;dbl&gt; | wk6 &lt;dbl&gt; | wk7 &lt;dbl&gt; | ⋯ ⋯ | wk67 &lt;lgl&gt; | wk68 &lt;lgl&gt; | wk69 &lt;lgl&gt; | wk70 &lt;lgl&gt; | wk71 &lt;lgl&gt; | wk72 &lt;lgl&gt; | wk73 &lt;lgl&gt; | wk74 &lt;lgl&gt; | wk75 &lt;lgl&gt; | wk76 &lt;lgl&gt; |\n",
       "|---|---|---|---|---|---|---|---|---|---|---|---|---|---|---|---|---|---|---|---|---|\n",
       "| 2 Pac        | Baby Don't Cry (Keep... | 2000-02-26 | 87 | 82 | 72 | 77 | 87 | 94 | 99 | ⋯ | NA | NA | NA | NA | NA | NA | NA | NA | NA | NA |\n",
       "| 2Ge+her      | The Hardest Part Of ... | 2000-09-02 | 91 | 87 | 92 | NA | NA | NA | NA | ⋯ | NA | NA | NA | NA | NA | NA | NA | NA | NA | NA |\n",
       "| 3 Doors Down | Kryptonite              | 2000-04-08 | 81 | 70 | 68 | 67 | 66 | 57 | 54 | ⋯ | NA | NA | NA | NA | NA | NA | NA | NA | NA | NA |\n",
       "\n"
      ],
      "text/plain": [
       "  artist       track                   date.entered wk1 wk2 wk3 wk4 wk5 wk6 wk7\n",
       "1 2 Pac        Baby Don't Cry (Keep... 2000-02-26   87  82  72  77  87  94  99 \n",
       "2 2Ge+her      The Hardest Part Of ... 2000-09-02   91  87  92  NA  NA  NA  NA \n",
       "3 3 Doors Down Kryptonite              2000-04-08   81  70  68  67  66  57  54 \n",
       "  ⋯ wk67 wk68 wk69 wk70 wk71 wk72 wk73 wk74 wk75 wk76\n",
       "1 ⋯ NA   NA   NA   NA   NA   NA   NA   NA   NA   NA  \n",
       "2 ⋯ NA   NA   NA   NA   NA   NA   NA   NA   NA   NA  \n",
       "3 ⋯ NA   NA   NA   NA   NA   NA   NA   NA   NA   NA  "
      ]
     },
     "metadata": {},
     "output_type": "display_data"
    }
   ],
   "source": [
    "# see the billboards data\n",
    "billboard %>% head(3)"
   ]
  },
  {
   "cell_type": "code",
   "execution_count": 21,
   "metadata": {
    "vscode": {
     "languageId": "r"
    }
   },
   "outputs": [
    {
     "data": {
      "text/html": [
       "<table class=\"dataframe\">\n",
       "<caption>A tibble: 10 × 5</caption>\n",
       "<thead>\n",
       "\t<tr><th scope=col>artist</th><th scope=col>track</th><th scope=col>date.entered</th><th scope=col>week</th><th scope=col>rank</th></tr>\n",
       "\t<tr><th scope=col>&lt;chr&gt;</th><th scope=col>&lt;chr&gt;</th><th scope=col>&lt;date&gt;</th><th scope=col>&lt;chr&gt;</th><th scope=col>&lt;dbl&gt;</th></tr>\n",
       "</thead>\n",
       "<tbody>\n",
       "\t<tr><td>2 Pac</td><td>Baby Don't Cry (Keep...</td><td>2000-02-26</td><td>wk1 </td><td>87</td></tr>\n",
       "\t<tr><td>2 Pac</td><td>Baby Don't Cry (Keep...</td><td>2000-02-26</td><td>wk2 </td><td>82</td></tr>\n",
       "\t<tr><td>2 Pac</td><td>Baby Don't Cry (Keep...</td><td>2000-02-26</td><td>wk3 </td><td>72</td></tr>\n",
       "\t<tr><td>2 Pac</td><td>Baby Don't Cry (Keep...</td><td>2000-02-26</td><td>wk4 </td><td>77</td></tr>\n",
       "\t<tr><td>2 Pac</td><td>Baby Don't Cry (Keep...</td><td>2000-02-26</td><td>wk5 </td><td>87</td></tr>\n",
       "\t<tr><td>2 Pac</td><td>Baby Don't Cry (Keep...</td><td>2000-02-26</td><td>wk6 </td><td>94</td></tr>\n",
       "\t<tr><td>2 Pac</td><td>Baby Don't Cry (Keep...</td><td>2000-02-26</td><td>wk7 </td><td>99</td></tr>\n",
       "\t<tr><td>2 Pac</td><td>Baby Don't Cry (Keep...</td><td>2000-02-26</td><td>wk8 </td><td>NA</td></tr>\n",
       "\t<tr><td>2 Pac</td><td>Baby Don't Cry (Keep...</td><td>2000-02-26</td><td>wk9 </td><td>NA</td></tr>\n",
       "\t<tr><td>2 Pac</td><td>Baby Don't Cry (Keep...</td><td>2000-02-26</td><td>wk10</td><td>NA</td></tr>\n",
       "</tbody>\n",
       "</table>\n"
      ],
      "text/latex": [
       "A tibble: 10 × 5\n",
       "\\begin{tabular}{lllll}\n",
       " artist & track & date.entered & week & rank\\\\\n",
       " <chr> & <chr> & <date> & <chr> & <dbl>\\\\\n",
       "\\hline\n",
       "\t 2 Pac & Baby Don't Cry (Keep... & 2000-02-26 & wk1  & 87\\\\\n",
       "\t 2 Pac & Baby Don't Cry (Keep... & 2000-02-26 & wk2  & 82\\\\\n",
       "\t 2 Pac & Baby Don't Cry (Keep... & 2000-02-26 & wk3  & 72\\\\\n",
       "\t 2 Pac & Baby Don't Cry (Keep... & 2000-02-26 & wk4  & 77\\\\\n",
       "\t 2 Pac & Baby Don't Cry (Keep... & 2000-02-26 & wk5  & 87\\\\\n",
       "\t 2 Pac & Baby Don't Cry (Keep... & 2000-02-26 & wk6  & 94\\\\\n",
       "\t 2 Pac & Baby Don't Cry (Keep... & 2000-02-26 & wk7  & 99\\\\\n",
       "\t 2 Pac & Baby Don't Cry (Keep... & 2000-02-26 & wk8  & NA\\\\\n",
       "\t 2 Pac & Baby Don't Cry (Keep... & 2000-02-26 & wk9  & NA\\\\\n",
       "\t 2 Pac & Baby Don't Cry (Keep... & 2000-02-26 & wk10 & NA\\\\\n",
       "\\end{tabular}\n"
      ],
      "text/markdown": [
       "\n",
       "A tibble: 10 × 5\n",
       "\n",
       "| artist &lt;chr&gt; | track &lt;chr&gt; | date.entered &lt;date&gt; | week &lt;chr&gt; | rank &lt;dbl&gt; |\n",
       "|---|---|---|---|---|\n",
       "| 2 Pac | Baby Don't Cry (Keep... | 2000-02-26 | wk1  | 87 |\n",
       "| 2 Pac | Baby Don't Cry (Keep... | 2000-02-26 | wk2  | 82 |\n",
       "| 2 Pac | Baby Don't Cry (Keep... | 2000-02-26 | wk3  | 72 |\n",
       "| 2 Pac | Baby Don't Cry (Keep... | 2000-02-26 | wk4  | 77 |\n",
       "| 2 Pac | Baby Don't Cry (Keep... | 2000-02-26 | wk5  | 87 |\n",
       "| 2 Pac | Baby Don't Cry (Keep... | 2000-02-26 | wk6  | 94 |\n",
       "| 2 Pac | Baby Don't Cry (Keep... | 2000-02-26 | wk7  | 99 |\n",
       "| 2 Pac | Baby Don't Cry (Keep... | 2000-02-26 | wk8  | NA |\n",
       "| 2 Pac | Baby Don't Cry (Keep... | 2000-02-26 | wk9  | NA |\n",
       "| 2 Pac | Baby Don't Cry (Keep... | 2000-02-26 | wk10 | NA |\n",
       "\n"
      ],
      "text/plain": [
       "   artist track                   date.entered week rank\n",
       "1  2 Pac  Baby Don't Cry (Keep... 2000-02-26   wk1  87  \n",
       "2  2 Pac  Baby Don't Cry (Keep... 2000-02-26   wk2  82  \n",
       "3  2 Pac  Baby Don't Cry (Keep... 2000-02-26   wk3  72  \n",
       "4  2 Pac  Baby Don't Cry (Keep... 2000-02-26   wk4  77  \n",
       "5  2 Pac  Baby Don't Cry (Keep... 2000-02-26   wk5  87  \n",
       "6  2 Pac  Baby Don't Cry (Keep... 2000-02-26   wk6  94  \n",
       "7  2 Pac  Baby Don't Cry (Keep... 2000-02-26   wk7  99  \n",
       "8  2 Pac  Baby Don't Cry (Keep... 2000-02-26   wk8  NA  \n",
       "9  2 Pac  Baby Don't Cry (Keep... 2000-02-26   wk9  NA  \n",
       "10 2 Pac  Baby Don't Cry (Keep... 2000-02-26   wk10 NA  "
      ]
     },
     "metadata": {},
     "output_type": "display_data"
    }
   ],
   "source": [
    "# make the week columns into a single column\n",
    "billboard %>%\n",
    "    pivot_longer(\n",
    "        cols = starts_with(\"wk\"),\n",
    "        names_to = \"week\",\n",
    "        values_to = \"rank\"\n",
    "    ) %>% head(10)"
   ]
  },
  {
   "cell_type": "markdown",
   "metadata": {},
   "source": [
    "We can see that the rank contains `NA`. This happens since the song is only top 100 for 7 weeks, thus the remaining weeks will contain `NA`. Let's get rid of them by changing the `value_drop_na` parameter which by default is set to `false`"
   ]
  },
  {
   "cell_type": "code",
   "execution_count": 22,
   "metadata": {
    "vscode": {
     "languageId": "r"
    }
   },
   "outputs": [
    {
     "data": {
      "text/html": [
       "<table class=\"dataframe\">\n",
       "<caption>A tibble: 10 × 5</caption>\n",
       "<thead>\n",
       "\t<tr><th scope=col>artist</th><th scope=col>track</th><th scope=col>date.entered</th><th scope=col>week</th><th scope=col>rank</th></tr>\n",
       "\t<tr><th scope=col>&lt;chr&gt;</th><th scope=col>&lt;chr&gt;</th><th scope=col>&lt;date&gt;</th><th scope=col>&lt;chr&gt;</th><th scope=col>&lt;dbl&gt;</th></tr>\n",
       "</thead>\n",
       "<tbody>\n",
       "\t<tr><td>2 Pac  </td><td>Baby Don't Cry (Keep...</td><td>2000-02-26</td><td>wk1</td><td>87</td></tr>\n",
       "\t<tr><td>2 Pac  </td><td>Baby Don't Cry (Keep...</td><td>2000-02-26</td><td>wk2</td><td>82</td></tr>\n",
       "\t<tr><td>2 Pac  </td><td>Baby Don't Cry (Keep...</td><td>2000-02-26</td><td>wk3</td><td>72</td></tr>\n",
       "\t<tr><td>2 Pac  </td><td>Baby Don't Cry (Keep...</td><td>2000-02-26</td><td>wk4</td><td>77</td></tr>\n",
       "\t<tr><td>2 Pac  </td><td>Baby Don't Cry (Keep...</td><td>2000-02-26</td><td>wk5</td><td>87</td></tr>\n",
       "\t<tr><td>2 Pac  </td><td>Baby Don't Cry (Keep...</td><td>2000-02-26</td><td>wk6</td><td>94</td></tr>\n",
       "\t<tr><td>2 Pac  </td><td>Baby Don't Cry (Keep...</td><td>2000-02-26</td><td>wk7</td><td>99</td></tr>\n",
       "\t<tr><td>2Ge+her</td><td>The Hardest Part Of ...</td><td>2000-09-02</td><td>wk1</td><td>91</td></tr>\n",
       "\t<tr><td>2Ge+her</td><td>The Hardest Part Of ...</td><td>2000-09-02</td><td>wk2</td><td>87</td></tr>\n",
       "\t<tr><td>2Ge+her</td><td>The Hardest Part Of ...</td><td>2000-09-02</td><td>wk3</td><td>92</td></tr>\n",
       "</tbody>\n",
       "</table>\n"
      ],
      "text/latex": [
       "A tibble: 10 × 5\n",
       "\\begin{tabular}{lllll}\n",
       " artist & track & date.entered & week & rank\\\\\n",
       " <chr> & <chr> & <date> & <chr> & <dbl>\\\\\n",
       "\\hline\n",
       "\t 2 Pac   & Baby Don't Cry (Keep... & 2000-02-26 & wk1 & 87\\\\\n",
       "\t 2 Pac   & Baby Don't Cry (Keep... & 2000-02-26 & wk2 & 82\\\\\n",
       "\t 2 Pac   & Baby Don't Cry (Keep... & 2000-02-26 & wk3 & 72\\\\\n",
       "\t 2 Pac   & Baby Don't Cry (Keep... & 2000-02-26 & wk4 & 77\\\\\n",
       "\t 2 Pac   & Baby Don't Cry (Keep... & 2000-02-26 & wk5 & 87\\\\\n",
       "\t 2 Pac   & Baby Don't Cry (Keep... & 2000-02-26 & wk6 & 94\\\\\n",
       "\t 2 Pac   & Baby Don't Cry (Keep... & 2000-02-26 & wk7 & 99\\\\\n",
       "\t 2Ge+her & The Hardest Part Of ... & 2000-09-02 & wk1 & 91\\\\\n",
       "\t 2Ge+her & The Hardest Part Of ... & 2000-09-02 & wk2 & 87\\\\\n",
       "\t 2Ge+her & The Hardest Part Of ... & 2000-09-02 & wk3 & 92\\\\\n",
       "\\end{tabular}\n"
      ],
      "text/markdown": [
       "\n",
       "A tibble: 10 × 5\n",
       "\n",
       "| artist &lt;chr&gt; | track &lt;chr&gt; | date.entered &lt;date&gt; | week &lt;chr&gt; | rank &lt;dbl&gt; |\n",
       "|---|---|---|---|---|\n",
       "| 2 Pac   | Baby Don't Cry (Keep... | 2000-02-26 | wk1 | 87 |\n",
       "| 2 Pac   | Baby Don't Cry (Keep... | 2000-02-26 | wk2 | 82 |\n",
       "| 2 Pac   | Baby Don't Cry (Keep... | 2000-02-26 | wk3 | 72 |\n",
       "| 2 Pac   | Baby Don't Cry (Keep... | 2000-02-26 | wk4 | 77 |\n",
       "| 2 Pac   | Baby Don't Cry (Keep... | 2000-02-26 | wk5 | 87 |\n",
       "| 2 Pac   | Baby Don't Cry (Keep... | 2000-02-26 | wk6 | 94 |\n",
       "| 2 Pac   | Baby Don't Cry (Keep... | 2000-02-26 | wk7 | 99 |\n",
       "| 2Ge+her | The Hardest Part Of ... | 2000-09-02 | wk1 | 91 |\n",
       "| 2Ge+her | The Hardest Part Of ... | 2000-09-02 | wk2 | 87 |\n",
       "| 2Ge+her | The Hardest Part Of ... | 2000-09-02 | wk3 | 92 |\n",
       "\n"
      ],
      "text/plain": [
       "   artist  track                   date.entered week rank\n",
       "1  2 Pac   Baby Don't Cry (Keep... 2000-02-26   wk1  87  \n",
       "2  2 Pac   Baby Don't Cry (Keep... 2000-02-26   wk2  82  \n",
       "3  2 Pac   Baby Don't Cry (Keep... 2000-02-26   wk3  72  \n",
       "4  2 Pac   Baby Don't Cry (Keep... 2000-02-26   wk4  77  \n",
       "5  2 Pac   Baby Don't Cry (Keep... 2000-02-26   wk5  87  \n",
       "6  2 Pac   Baby Don't Cry (Keep... 2000-02-26   wk6  94  \n",
       "7  2 Pac   Baby Don't Cry (Keep... 2000-02-26   wk7  99  \n",
       "8  2Ge+her The Hardest Part Of ... 2000-09-02   wk1  91  \n",
       "9  2Ge+her The Hardest Part Of ... 2000-09-02   wk2  87  \n",
       "10 2Ge+her The Hardest Part Of ... 2000-09-02   wk3  92  "
      ]
     },
     "metadata": {},
     "output_type": "display_data"
    }
   ],
   "source": [
    "# make the week columns into a single column\n",
    "billboard %>%\n",
    "    pivot_longer(\n",
    "        cols = starts_with(\"wk\"),\n",
    "        names_to = \"week\",\n",
    "        values_to = \"rank\",\n",
    "        values_drop_na = TRUE\n",
    "    ) %>% head(10)"
   ]
  },
  {
   "cell_type": "markdown",
   "metadata": {},
   "source": [
    "To make further analysis easier, let's change the week from character strings to number"
   ]
  },
  {
   "cell_type": "code",
   "execution_count": 23,
   "metadata": {
    "vscode": {
     "languageId": "r"
    }
   },
   "outputs": [
    {
     "data": {
      "text/html": [
       "<table class=\"dataframe\">\n",
       "<caption>A tibble: 6 × 5</caption>\n",
       "<thead>\n",
       "\t<tr><th scope=col>artist</th><th scope=col>track</th><th scope=col>date.entered</th><th scope=col>week</th><th scope=col>rank</th></tr>\n",
       "\t<tr><th scope=col>&lt;chr&gt;</th><th scope=col>&lt;chr&gt;</th><th scope=col>&lt;date&gt;</th><th scope=col>&lt;dbl&gt;</th><th scope=col>&lt;dbl&gt;</th></tr>\n",
       "</thead>\n",
       "<tbody>\n",
       "\t<tr><td>2 Pac</td><td>Baby Don't Cry (Keep...</td><td>2000-02-26</td><td>1</td><td>87</td></tr>\n",
       "\t<tr><td>2 Pac</td><td>Baby Don't Cry (Keep...</td><td>2000-02-26</td><td>2</td><td>82</td></tr>\n",
       "\t<tr><td>2 Pac</td><td>Baby Don't Cry (Keep...</td><td>2000-02-26</td><td>3</td><td>72</td></tr>\n",
       "\t<tr><td>2 Pac</td><td>Baby Don't Cry (Keep...</td><td>2000-02-26</td><td>4</td><td>77</td></tr>\n",
       "\t<tr><td>2 Pac</td><td>Baby Don't Cry (Keep...</td><td>2000-02-26</td><td>5</td><td>87</td></tr>\n",
       "\t<tr><td>2 Pac</td><td>Baby Don't Cry (Keep...</td><td>2000-02-26</td><td>6</td><td>94</td></tr>\n",
       "</tbody>\n",
       "</table>\n"
      ],
      "text/latex": [
       "A tibble: 6 × 5\n",
       "\\begin{tabular}{lllll}\n",
       " artist & track & date.entered & week & rank\\\\\n",
       " <chr> & <chr> & <date> & <dbl> & <dbl>\\\\\n",
       "\\hline\n",
       "\t 2 Pac & Baby Don't Cry (Keep... & 2000-02-26 & 1 & 87\\\\\n",
       "\t 2 Pac & Baby Don't Cry (Keep... & 2000-02-26 & 2 & 82\\\\\n",
       "\t 2 Pac & Baby Don't Cry (Keep... & 2000-02-26 & 3 & 72\\\\\n",
       "\t 2 Pac & Baby Don't Cry (Keep... & 2000-02-26 & 4 & 77\\\\\n",
       "\t 2 Pac & Baby Don't Cry (Keep... & 2000-02-26 & 5 & 87\\\\\n",
       "\t 2 Pac & Baby Don't Cry (Keep... & 2000-02-26 & 6 & 94\\\\\n",
       "\\end{tabular}\n"
      ],
      "text/markdown": [
       "\n",
       "A tibble: 6 × 5\n",
       "\n",
       "| artist &lt;chr&gt; | track &lt;chr&gt; | date.entered &lt;date&gt; | week &lt;dbl&gt; | rank &lt;dbl&gt; |\n",
       "|---|---|---|---|---|\n",
       "| 2 Pac | Baby Don't Cry (Keep... | 2000-02-26 | 1 | 87 |\n",
       "| 2 Pac | Baby Don't Cry (Keep... | 2000-02-26 | 2 | 82 |\n",
       "| 2 Pac | Baby Don't Cry (Keep... | 2000-02-26 | 3 | 72 |\n",
       "| 2 Pac | Baby Don't Cry (Keep... | 2000-02-26 | 4 | 77 |\n",
       "| 2 Pac | Baby Don't Cry (Keep... | 2000-02-26 | 5 | 87 |\n",
       "| 2 Pac | Baby Don't Cry (Keep... | 2000-02-26 | 6 | 94 |\n",
       "\n"
      ],
      "text/plain": [
       "  artist track                   date.entered week rank\n",
       "1 2 Pac  Baby Don't Cry (Keep... 2000-02-26   1    87  \n",
       "2 2 Pac  Baby Don't Cry (Keep... 2000-02-26   2    82  \n",
       "3 2 Pac  Baby Don't Cry (Keep... 2000-02-26   3    72  \n",
       "4 2 Pac  Baby Don't Cry (Keep... 2000-02-26   4    77  \n",
       "5 2 Pac  Baby Don't Cry (Keep... 2000-02-26   5    87  \n",
       "6 2 Pac  Baby Don't Cry (Keep... 2000-02-26   6    94  "
      ]
     },
     "metadata": {},
     "output_type": "display_data"
    }
   ],
   "source": [
    "billboard_longer = billboard %>%\n",
    "    pivot_longer(\n",
    "        cols = starts_with(\"wk\"),\n",
    "        names_to = \"week\",\n",
    "        values_to = \"rank\",\n",
    "        values_drop_na = TRUE\n",
    "    ) %>%  mutate(week = parse_number(week))\n",
    "head(billboard_longer)"
   ]
  },
  {
   "cell_type": "markdown",
   "metadata": {},
   "source": [
    "Let's make a graph to visualize how these song rank over time"
   ]
  },
  {
   "cell_type": "code",
   "execution_count": 24,
   "metadata": {
    "vscode": {
     "languageId": "r"
    }
   },
   "outputs": [
    {
     "data": {
      "image/png": "[encoded data removed]",
      "text/plain": [
       "plot without title"
      ]
     },
     "metadata": {
      "image/png": {
       "height": 420,
       "width": 480
      }
     },
     "output_type": "display_data"
    }
   ],
   "source": [
    "billboard_longer %>%\n",
    "    ggplot(aes(x = week, y = rank, group = track)) +\n",
    "    geom_line(alpha = 1/4) +\n",
    "    scale_y_reverse()"
   ]
  },
  {
   "cell_type": "markdown",
   "metadata": {},
   "source": [
    "## Many variables in column names"
   ]
  },
  {
   "cell_type": "markdown",
   "metadata": {},
   "source": [
    "We can see the below dataset has many columns"
   ]
  },
  {
   "cell_type": "code",
   "execution_count": 25,
   "metadata": {
    "vscode": {
     "languageId": "r"
    }
   },
   "outputs": [
    {
     "data": {
      "text/html": [
       "<table class=\"dataframe\">\n",
       "<caption>A tibble: 6 × 58</caption>\n",
       "<thead>\n",
       "\t<tr><th scope=col>country</th><th scope=col>year</th><th scope=col>sp_m_014</th><th scope=col>sp_m_1524</th><th scope=col>sp_m_2534</th><th scope=col>sp_m_3544</th><th scope=col>sp_m_4554</th><th scope=col>sp_m_5564</th><th scope=col>sp_m_65</th><th scope=col>sp_f_014</th><th scope=col>⋯</th><th scope=col>rel_m_4554</th><th scope=col>rel_m_5564</th><th scope=col>rel_m_65</th><th scope=col>rel_f_014</th><th scope=col>rel_f_1524</th><th scope=col>rel_f_2534</th><th scope=col>rel_f_3544</th><th scope=col>rel_f_4554</th><th scope=col>rel_f_5564</th><th scope=col>rel_f_65</th></tr>\n",
       "\t<tr><th scope=col>&lt;chr&gt;</th><th scope=col>&lt;dbl&gt;</th><th scope=col>&lt;dbl&gt;</th><th scope=col>&lt;dbl&gt;</th><th scope=col>&lt;dbl&gt;</th><th scope=col>&lt;dbl&gt;</th><th scope=col>&lt;dbl&gt;</th><th scope=col>&lt;dbl&gt;</th><th scope=col>&lt;dbl&gt;</th><th scope=col>&lt;dbl&gt;</th><th scope=col>⋯</th><th scope=col>&lt;dbl&gt;</th><th scope=col>&lt;dbl&gt;</th><th scope=col>&lt;dbl&gt;</th><th scope=col>&lt;dbl&gt;</th><th scope=col>&lt;dbl&gt;</th><th scope=col>&lt;dbl&gt;</th><th scope=col>&lt;dbl&gt;</th><th scope=col>&lt;dbl&gt;</th><th scope=col>&lt;dbl&gt;</th><th scope=col>&lt;dbl&gt;</th></tr>\n",
       "</thead>\n",
       "<tbody>\n",
       "\t<tr><td>Afghanistan</td><td>1980</td><td>NA</td><td>NA</td><td>NA</td><td>NA</td><td>NA</td><td>NA</td><td>NA</td><td>NA</td><td>⋯</td><td>NA</td><td>NA</td><td>NA</td><td>NA</td><td>NA</td><td>NA</td><td>NA</td><td>NA</td><td>NA</td><td>NA</td></tr>\n",
       "\t<tr><td>Afghanistan</td><td>1981</td><td>NA</td><td>NA</td><td>NA</td><td>NA</td><td>NA</td><td>NA</td><td>NA</td><td>NA</td><td>⋯</td><td>NA</td><td>NA</td><td>NA</td><td>NA</td><td>NA</td><td>NA</td><td>NA</td><td>NA</td><td>NA</td><td>NA</td></tr>\n",
       "\t<tr><td>Afghanistan</td><td>1982</td><td>NA</td><td>NA</td><td>NA</td><td>NA</td><td>NA</td><td>NA</td><td>NA</td><td>NA</td><td>⋯</td><td>NA</td><td>NA</td><td>NA</td><td>NA</td><td>NA</td><td>NA</td><td>NA</td><td>NA</td><td>NA</td><td>NA</td></tr>\n",
       "\t<tr><td>Afghanistan</td><td>1983</td><td>NA</td><td>NA</td><td>NA</td><td>NA</td><td>NA</td><td>NA</td><td>NA</td><td>NA</td><td>⋯</td><td>NA</td><td>NA</td><td>NA</td><td>NA</td><td>NA</td><td>NA</td><td>NA</td><td>NA</td><td>NA</td><td>NA</td></tr>\n",
       "\t<tr><td>Afghanistan</td><td>1984</td><td>NA</td><td>NA</td><td>NA</td><td>NA</td><td>NA</td><td>NA</td><td>NA</td><td>NA</td><td>⋯</td><td>NA</td><td>NA</td><td>NA</td><td>NA</td><td>NA</td><td>NA</td><td>NA</td><td>NA</td><td>NA</td><td>NA</td></tr>\n",
       "\t<tr><td>Afghanistan</td><td>1985</td><td>NA</td><td>NA</td><td>NA</td><td>NA</td><td>NA</td><td>NA</td><td>NA</td><td>NA</td><td>⋯</td><td>NA</td><td>NA</td><td>NA</td><td>NA</td><td>NA</td><td>NA</td><td>NA</td><td>NA</td><td>NA</td><td>NA</td></tr>\n",
       "</tbody>\n",
       "</table>\n"
      ],
      "text/latex": [
       "A tibble: 6 × 58\n",
       "\\begin{tabular}{lllllllllllllllllllll}\n",
       " country & year & sp\\_m\\_014 & sp\\_m\\_1524 & sp\\_m\\_2534 & sp\\_m\\_3544 & sp\\_m\\_4554 & sp\\_m\\_5564 & sp\\_m\\_65 & sp\\_f\\_014 & ⋯ & rel\\_m\\_4554 & rel\\_m\\_5564 & rel\\_m\\_65 & rel\\_f\\_014 & rel\\_f\\_1524 & rel\\_f\\_2534 & rel\\_f\\_3544 & rel\\_f\\_4554 & rel\\_f\\_5564 & rel\\_f\\_65\\\\\n",
       " <chr> & <dbl> & <dbl> & <dbl> & <dbl> & <dbl> & <dbl> & <dbl> & <dbl> & <dbl> & ⋯ & <dbl> & <dbl> & <dbl> & <dbl> & <dbl> & <dbl> & <dbl> & <dbl> & <dbl> & <dbl>\\\\\n",
       "\\hline\n",
       "\t Afghanistan & 1980 & NA & NA & NA & NA & NA & NA & NA & NA & ⋯ & NA & NA & NA & NA & NA & NA & NA & NA & NA & NA\\\\\n",
       "\t Afghanistan & 1981 & NA & NA & NA & NA & NA & NA & NA & NA & ⋯ & NA & NA & NA & NA & NA & NA & NA & NA & NA & NA\\\\\n",
       "\t Afghanistan & 1982 & NA & NA & NA & NA & NA & NA & NA & NA & ⋯ & NA & NA & NA & NA & NA & NA & NA & NA & NA & NA\\\\\n",
       "\t Afghanistan & 1983 & NA & NA & NA & NA & NA & NA & NA & NA & ⋯ & NA & NA & NA & NA & NA & NA & NA & NA & NA & NA\\\\\n",
       "\t Afghanistan & 1984 & NA & NA & NA & NA & NA & NA & NA & NA & ⋯ & NA & NA & NA & NA & NA & NA & NA & NA & NA & NA\\\\\n",
       "\t Afghanistan & 1985 & NA & NA & NA & NA & NA & NA & NA & NA & ⋯ & NA & NA & NA & NA & NA & NA & NA & NA & NA & NA\\\\\n",
       "\\end{tabular}\n"
      ],
      "text/markdown": [
       "\n",
       "A tibble: 6 × 58\n",
       "\n",
       "| country &lt;chr&gt; | year &lt;dbl&gt; | sp_m_014 &lt;dbl&gt; | sp_m_1524 &lt;dbl&gt; | sp_m_2534 &lt;dbl&gt; | sp_m_3544 &lt;dbl&gt; | sp_m_4554 &lt;dbl&gt; | sp_m_5564 &lt;dbl&gt; | sp_m_65 &lt;dbl&gt; | sp_f_014 &lt;dbl&gt; | ⋯ ⋯ | rel_m_4554 &lt;dbl&gt; | rel_m_5564 &lt;dbl&gt; | rel_m_65 &lt;dbl&gt; | rel_f_014 &lt;dbl&gt; | rel_f_1524 &lt;dbl&gt; | rel_f_2534 &lt;dbl&gt; | rel_f_3544 &lt;dbl&gt; | rel_f_4554 &lt;dbl&gt; | rel_f_5564 &lt;dbl&gt; | rel_f_65 &lt;dbl&gt; |\n",
       "|---|---|---|---|---|---|---|---|---|---|---|---|---|---|---|---|---|---|---|---|---|\n",
       "| Afghanistan | 1980 | NA | NA | NA | NA | NA | NA | NA | NA | ⋯ | NA | NA | NA | NA | NA | NA | NA | NA | NA | NA |\n",
       "| Afghanistan | 1981 | NA | NA | NA | NA | NA | NA | NA | NA | ⋯ | NA | NA | NA | NA | NA | NA | NA | NA | NA | NA |\n",
       "| Afghanistan | 1982 | NA | NA | NA | NA | NA | NA | NA | NA | ⋯ | NA | NA | NA | NA | NA | NA | NA | NA | NA | NA |\n",
       "| Afghanistan | 1983 | NA | NA | NA | NA | NA | NA | NA | NA | ⋯ | NA | NA | NA | NA | NA | NA | NA | NA | NA | NA |\n",
       "| Afghanistan | 1984 | NA | NA | NA | NA | NA | NA | NA | NA | ⋯ | NA | NA | NA | NA | NA | NA | NA | NA | NA | NA |\n",
       "| Afghanistan | 1985 | NA | NA | NA | NA | NA | NA | NA | NA | ⋯ | NA | NA | NA | NA | NA | NA | NA | NA | NA | NA |\n",
       "\n"
      ],
      "text/plain": [
       "  country     year sp_m_014 sp_m_1524 sp_m_2534 sp_m_3544 sp_m_4554 sp_m_5564\n",
       "1 Afghanistan 1980 NA       NA        NA        NA        NA        NA       \n",
       "2 Afghanistan 1981 NA       NA        NA        NA        NA        NA       \n",
       "3 Afghanistan 1982 NA       NA        NA        NA        NA        NA       \n",
       "4 Afghanistan 1983 NA       NA        NA        NA        NA        NA       \n",
       "5 Afghanistan 1984 NA       NA        NA        NA        NA        NA       \n",
       "6 Afghanistan 1985 NA       NA        NA        NA        NA        NA       \n",
       "  sp_m_65 sp_f_014 ⋯ rel_m_4554 rel_m_5564 rel_m_65 rel_f_014 rel_f_1524\n",
       "1 NA      NA       ⋯ NA         NA         NA       NA        NA        \n",
       "2 NA      NA       ⋯ NA         NA         NA       NA        NA        \n",
       "3 NA      NA       ⋯ NA         NA         NA       NA        NA        \n",
       "4 NA      NA       ⋯ NA         NA         NA       NA        NA        \n",
       "5 NA      NA       ⋯ NA         NA         NA       NA        NA        \n",
       "6 NA      NA       ⋯ NA         NA         NA       NA        NA        \n",
       "  rel_f_2534 rel_f_3544 rel_f_4554 rel_f_5564 rel_f_65\n",
       "1 NA         NA         NA         NA         NA      \n",
       "2 NA         NA         NA         NA         NA      \n",
       "3 NA         NA         NA         NA         NA      \n",
       "4 NA         NA         NA         NA         NA      \n",
       "5 NA         NA         NA         NA         NA      \n",
       "6 NA         NA         NA         NA         NA      "
      ]
     },
     "metadata": {},
     "output_type": "display_data"
    }
   ],
   "source": [
    "head(who2)"
   ]
  },
  {
   "cell_type": "markdown",
   "metadata": {},
   "source": [
    "We can see the above naming is made up of three parts\n",
    "- The first part describe the diagnosis method\n",
    "- The second is the gender\n",
    "- The third piece is the age range\n",
    "\n",
    "We can use `pivot_longer` to make them into 3 columns based on the above inference"
   ]
  },
  {
   "cell_type": "code",
   "execution_count": 26,
   "metadata": {
    "vscode": {
     "languageId": "r"
    }
   },
   "outputs": [
    {
     "data": {
      "text/html": [
       "<table class=\"dataframe\">\n",
       "<caption>A tibble: 5 × 6</caption>\n",
       "<thead>\n",
       "\t<tr><th scope=col>country</th><th scope=col>year</th><th scope=col>diagnosis</th><th scope=col>gender</th><th scope=col>age</th><th scope=col>count</th></tr>\n",
       "\t<tr><th scope=col>&lt;chr&gt;</th><th scope=col>&lt;dbl&gt;</th><th scope=col>&lt;chr&gt;</th><th scope=col>&lt;chr&gt;</th><th scope=col>&lt;chr&gt;</th><th scope=col>&lt;dbl&gt;</th></tr>\n",
       "</thead>\n",
       "<tbody>\n",
       "\t<tr><td>Afghanistan</td><td>1980</td><td>sp</td><td>m</td><td>014 </td><td>NA</td></tr>\n",
       "\t<tr><td>Afghanistan</td><td>1980</td><td>sp</td><td>m</td><td>1524</td><td>NA</td></tr>\n",
       "\t<tr><td>Afghanistan</td><td>1980</td><td>sp</td><td>m</td><td>2534</td><td>NA</td></tr>\n",
       "\t<tr><td>Afghanistan</td><td>1980</td><td>sp</td><td>m</td><td>3544</td><td>NA</td></tr>\n",
       "\t<tr><td>Afghanistan</td><td>1980</td><td>sp</td><td>m</td><td>4554</td><td>NA</td></tr>\n",
       "</tbody>\n",
       "</table>\n"
      ],
      "text/latex": [
       "A tibble: 5 × 6\n",
       "\\begin{tabular}{llllll}\n",
       " country & year & diagnosis & gender & age & count\\\\\n",
       " <chr> & <dbl> & <chr> & <chr> & <chr> & <dbl>\\\\\n",
       "\\hline\n",
       "\t Afghanistan & 1980 & sp & m & 014  & NA\\\\\n",
       "\t Afghanistan & 1980 & sp & m & 1524 & NA\\\\\n",
       "\t Afghanistan & 1980 & sp & m & 2534 & NA\\\\\n",
       "\t Afghanistan & 1980 & sp & m & 3544 & NA\\\\\n",
       "\t Afghanistan & 1980 & sp & m & 4554 & NA\\\\\n",
       "\\end{tabular}\n"
      ],
      "text/markdown": [
       "\n",
       "A tibble: 5 × 6\n",
       "\n",
       "| country &lt;chr&gt; | year &lt;dbl&gt; | diagnosis &lt;chr&gt; | gender &lt;chr&gt; | age &lt;chr&gt; | count &lt;dbl&gt; |\n",
       "|---|---|---|---|---|---|\n",
       "| Afghanistan | 1980 | sp | m | 014  | NA |\n",
       "| Afghanistan | 1980 | sp | m | 1524 | NA |\n",
       "| Afghanistan | 1980 | sp | m | 2534 | NA |\n",
       "| Afghanistan | 1980 | sp | m | 3544 | NA |\n",
       "| Afghanistan | 1980 | sp | m | 4554 | NA |\n",
       "\n"
      ],
      "text/plain": [
       "  country     year diagnosis gender age  count\n",
       "1 Afghanistan 1980 sp        m      014  NA   \n",
       "2 Afghanistan 1980 sp        m      1524 NA   \n",
       "3 Afghanistan 1980 sp        m      2534 NA   \n",
       "4 Afghanistan 1980 sp        m      3544 NA   \n",
       "5 Afghanistan 1980 sp        m      4554 NA   "
      ]
     },
     "metadata": {},
     "output_type": "display_data"
    }
   ],
   "source": [
    "# let's reogrnaize the data\n",
    "who2 %>%\n",
    "    pivot_longer(\n",
    "        cols = !(country:year),\n",
    "        names_to = c(\"diagnosis\", \"gender\", \"age\"),\n",
    "        names_sep = \"_\",\n",
    "        values_to = \"count\"\n",
    "    ) %>% head(5)"
   ]
  },
  {
   "cell_type": "markdown",
   "metadata": {},
   "source": [
    "What if we have columns names with a mix of variable values and variable names"
   ]
  },
  {
   "cell_type": "code",
   "execution_count": 27,
   "metadata": {
    "vscode": {
     "languageId": "r"
    }
   },
   "outputs": [
    {
     "data": {
      "text/html": [
       "<table class=\"dataframe\">\n",
       "<caption>A tibble: 5 × 5</caption>\n",
       "<thead>\n",
       "\t<tr><th scope=col>family</th><th scope=col>dob_child1</th><th scope=col>dob_child2</th><th scope=col>name_child1</th><th scope=col>name_child2</th></tr>\n",
       "\t<tr><th scope=col>&lt;int&gt;</th><th scope=col>&lt;date&gt;</th><th scope=col>&lt;date&gt;</th><th scope=col>&lt;chr&gt;</th><th scope=col>&lt;chr&gt;</th></tr>\n",
       "</thead>\n",
       "<tbody>\n",
       "\t<tr><td>1</td><td>1998-11-26</td><td>2000-01-29</td><td>Susan </td><td>Jose  </td></tr>\n",
       "\t<tr><td>2</td><td>1996-06-22</td><td>NA</td><td>Mark  </td><td>NA    </td></tr>\n",
       "\t<tr><td>3</td><td>2002-07-11</td><td>2004-04-05</td><td>Sam   </td><td>Seth  </td></tr>\n",
       "\t<tr><td>4</td><td>2004-10-10</td><td>2009-08-27</td><td>Craig </td><td>Khai  </td></tr>\n",
       "\t<tr><td>5</td><td>2000-12-05</td><td>2005-02-28</td><td>Parker</td><td>Gracie</td></tr>\n",
       "</tbody>\n",
       "</table>\n"
      ],
      "text/latex": [
       "A tibble: 5 × 5\n",
       "\\begin{tabular}{lllll}\n",
       " family & dob\\_child1 & dob\\_child2 & name\\_child1 & name\\_child2\\\\\n",
       " <int> & <date> & <date> & <chr> & <chr>\\\\\n",
       "\\hline\n",
       "\t 1 & 1998-11-26 & 2000-01-29 & Susan  & Jose  \\\\\n",
       "\t 2 & 1996-06-22 & NA & Mark   & NA    \\\\\n",
       "\t 3 & 2002-07-11 & 2004-04-05 & Sam    & Seth  \\\\\n",
       "\t 4 & 2004-10-10 & 2009-08-27 & Craig  & Khai  \\\\\n",
       "\t 5 & 2000-12-05 & 2005-02-28 & Parker & Gracie\\\\\n",
       "\\end{tabular}\n"
      ],
      "text/markdown": [
       "\n",
       "A tibble: 5 × 5\n",
       "\n",
       "| family &lt;int&gt; | dob_child1 &lt;date&gt; | dob_child2 &lt;date&gt; | name_child1 &lt;chr&gt; | name_child2 &lt;chr&gt; |\n",
       "|---|---|---|---|---|\n",
       "| 1 | 1998-11-26 | 2000-01-29 | Susan  | Jose   |\n",
       "| 2 | 1996-06-22 | NA | Mark   | NA     |\n",
       "| 3 | 2002-07-11 | 2004-04-05 | Sam    | Seth   |\n",
       "| 4 | 2004-10-10 | 2009-08-27 | Craig  | Khai   |\n",
       "| 5 | 2000-12-05 | 2005-02-28 | Parker | Gracie |\n",
       "\n"
      ],
      "text/plain": [
       "  family dob_child1 dob_child2 name_child1 name_child2\n",
       "1 1      1998-11-26 2000-01-29 Susan       Jose       \n",
       "2 2      1996-06-22 <NA>       Mark        NA         \n",
       "3 3      2002-07-11 2004-04-05 Sam         Seth       \n",
       "4 4      2004-10-10 2009-08-27 Craig       Khai       \n",
       "5 5      2000-12-05 2005-02-28 Parker      Gracie     "
      ]
     },
     "metadata": {},
     "output_type": "display_data"
    }
   ],
   "source": [
    "head(household)"
   ]
  },
  {
   "cell_type": "code",
   "execution_count": 31,
   "metadata": {
    "vscode": {
     "languageId": "r"
    }
   },
   "outputs": [
    {
     "data": {
      "text/html": [
       "<table class=\"dataframe\">\n",
       "<caption>A tibble: 5 × 4</caption>\n",
       "<thead>\n",
       "\t<tr><th scope=col>family</th><th scope=col>child</th><th scope=col>dob</th><th scope=col>name</th></tr>\n",
       "\t<tr><th scope=col>&lt;int&gt;</th><th scope=col>&lt;chr&gt;</th><th scope=col>&lt;date&gt;</th><th scope=col>&lt;chr&gt;</th></tr>\n",
       "</thead>\n",
       "<tbody>\n",
       "\t<tr><td>1</td><td>child1</td><td>1998-11-26</td><td>Susan</td></tr>\n",
       "\t<tr><td>1</td><td>child2</td><td>2000-01-29</td><td>Jose </td></tr>\n",
       "\t<tr><td>2</td><td>child1</td><td>1996-06-22</td><td>Mark </td></tr>\n",
       "\t<tr><td>3</td><td>child1</td><td>2002-07-11</td><td>Sam  </td></tr>\n",
       "\t<tr><td>3</td><td>child2</td><td>2004-04-05</td><td>Seth </td></tr>\n",
       "</tbody>\n",
       "</table>\n"
      ],
      "text/latex": [
       "A tibble: 5 × 4\n",
       "\\begin{tabular}{llll}\n",
       " family & child & dob & name\\\\\n",
       " <int> & <chr> & <date> & <chr>\\\\\n",
       "\\hline\n",
       "\t 1 & child1 & 1998-11-26 & Susan\\\\\n",
       "\t 1 & child2 & 2000-01-29 & Jose \\\\\n",
       "\t 2 & child1 & 1996-06-22 & Mark \\\\\n",
       "\t 3 & child1 & 2002-07-11 & Sam  \\\\\n",
       "\t 3 & child2 & 2004-04-05 & Seth \\\\\n",
       "\\end{tabular}\n"
      ],
      "text/markdown": [
       "\n",
       "A tibble: 5 × 4\n",
       "\n",
       "| family &lt;int&gt; | child &lt;chr&gt; | dob &lt;date&gt; | name &lt;chr&gt; |\n",
       "|---|---|---|---|\n",
       "| 1 | child1 | 1998-11-26 | Susan |\n",
       "| 1 | child2 | 2000-01-29 | Jose  |\n",
       "| 2 | child1 | 1996-06-22 | Mark  |\n",
       "| 3 | child1 | 2002-07-11 | Sam   |\n",
       "| 3 | child2 | 2004-04-05 | Seth  |\n",
       "\n"
      ],
      "text/plain": [
       "  family child  dob        name \n",
       "1 1      child1 1998-11-26 Susan\n",
       "2 1      child2 2000-01-29 Jose \n",
       "3 2      child1 1996-06-22 Mark \n",
       "4 3      child1 2002-07-11 Sam  \n",
       "5 3      child2 2004-04-05 Seth "
      ]
     },
     "metadata": {},
     "output_type": "display_data"
    }
   ],
   "source": [
    "household %>%\n",
    "    pivot_longer(\n",
    "        cols = !family,\n",
    "        names_to = c(\".value\", \"child\"),\n",
    "        names_sep = \"_\",\n",
    "        values_drop_na = TRUE\n",
    "    ) %>% head(5)"
   ]
  },
  {
   "cell_type": "markdown",
   "metadata": {},
   "source": [
    "## Widening Data"
   ]
  },
  {
   "cell_type": "code",
   "execution_count": 32,
   "metadata": {
    "vscode": {
     "languageId": "r"
    }
   },
   "outputs": [
    {
     "data": {
      "text/html": [
       "<table class=\"dataframe\">\n",
       "<caption>A tibble: 6 × 5</caption>\n",
       "<thead>\n",
       "\t<tr><th scope=col>org_pac_id</th><th scope=col>org_nm</th><th scope=col>measure_cd</th><th scope=col>measure_title</th><th scope=col>prf_rate</th></tr>\n",
       "\t<tr><th scope=col>&lt;chr&gt;</th><th scope=col>&lt;chr&gt;</th><th scope=col>&lt;chr&gt;</th><th scope=col>&lt;chr&gt;</th><th scope=col>&lt;dbl&gt;</th></tr>\n",
       "</thead>\n",
       "<tbody>\n",
       "\t<tr><td>0446157747</td><td>USC CARE MEDICAL GROUP INC</td><td>CAHPS_GRP_1 </td><td>CAHPS for MIPS SSM: Getting Timely Care, Appointments, and Information</td><td>63</td></tr>\n",
       "\t<tr><td>0446157747</td><td>USC CARE MEDICAL GROUP INC</td><td>CAHPS_GRP_2 </td><td>CAHPS for MIPS SSM: How Well Providers Communicate                    </td><td>87</td></tr>\n",
       "\t<tr><td>0446157747</td><td>USC CARE MEDICAL GROUP INC</td><td>CAHPS_GRP_3 </td><td>CAHPS for MIPS SSM: Patient's Rating of Provider                      </td><td>86</td></tr>\n",
       "\t<tr><td>0446157747</td><td>USC CARE MEDICAL GROUP INC</td><td>CAHPS_GRP_5 </td><td>CAHPS for MIPS SSM: Health Promotion and Education                    </td><td>57</td></tr>\n",
       "\t<tr><td>0446157747</td><td>USC CARE MEDICAL GROUP INC</td><td>CAHPS_GRP_8 </td><td>CAHPS for MIPS SSM: Courteous and Helpful Office Staff                </td><td>85</td></tr>\n",
       "\t<tr><td>0446157747</td><td>USC CARE MEDICAL GROUP INC</td><td>CAHPS_GRP_12</td><td>CAHPS for MIPS SSM: Stewardship of Patient Resources                  </td><td>24</td></tr>\n",
       "</tbody>\n",
       "</table>\n"
      ],
      "text/latex": [
       "A tibble: 6 × 5\n",
       "\\begin{tabular}{lllll}\n",
       " org\\_pac\\_id & org\\_nm & measure\\_cd & measure\\_title & prf\\_rate\\\\\n",
       " <chr> & <chr> & <chr> & <chr> & <dbl>\\\\\n",
       "\\hline\n",
       "\t 0446157747 & USC CARE MEDICAL GROUP INC & CAHPS\\_GRP\\_1  & CAHPS for MIPS SSM: Getting Timely Care, Appointments, and Information & 63\\\\\n",
       "\t 0446157747 & USC CARE MEDICAL GROUP INC & CAHPS\\_GRP\\_2  & CAHPS for MIPS SSM: How Well Providers Communicate                     & 87\\\\\n",
       "\t 0446157747 & USC CARE MEDICAL GROUP INC & CAHPS\\_GRP\\_3  & CAHPS for MIPS SSM: Patient's Rating of Provider                       & 86\\\\\n",
       "\t 0446157747 & USC CARE MEDICAL GROUP INC & CAHPS\\_GRP\\_5  & CAHPS for MIPS SSM: Health Promotion and Education                     & 57\\\\\n",
       "\t 0446157747 & USC CARE MEDICAL GROUP INC & CAHPS\\_GRP\\_8  & CAHPS for MIPS SSM: Courteous and Helpful Office Staff                 & 85\\\\\n",
       "\t 0446157747 & USC CARE MEDICAL GROUP INC & CAHPS\\_GRP\\_12 & CAHPS for MIPS SSM: Stewardship of Patient Resources                   & 24\\\\\n",
       "\\end{tabular}\n"
      ],
      "text/markdown": [
       "\n",
       "A tibble: 6 × 5\n",
       "\n",
       "| org_pac_id &lt;chr&gt; | org_nm &lt;chr&gt; | measure_cd &lt;chr&gt; | measure_title &lt;chr&gt; | prf_rate &lt;dbl&gt; |\n",
       "|---|---|---|---|---|\n",
       "| 0446157747 | USC CARE MEDICAL GROUP INC | CAHPS_GRP_1  | CAHPS for MIPS SSM: Getting Timely Care, Appointments, and Information | 63 |\n",
       "| 0446157747 | USC CARE MEDICAL GROUP INC | CAHPS_GRP_2  | CAHPS for MIPS SSM: How Well Providers Communicate                     | 87 |\n",
       "| 0446157747 | USC CARE MEDICAL GROUP INC | CAHPS_GRP_3  | CAHPS for MIPS SSM: Patient's Rating of Provider                       | 86 |\n",
       "| 0446157747 | USC CARE MEDICAL GROUP INC | CAHPS_GRP_5  | CAHPS for MIPS SSM: Health Promotion and Education                     | 57 |\n",
       "| 0446157747 | USC CARE MEDICAL GROUP INC | CAHPS_GRP_8  | CAHPS for MIPS SSM: Courteous and Helpful Office Staff                 | 85 |\n",
       "| 0446157747 | USC CARE MEDICAL GROUP INC | CAHPS_GRP_12 | CAHPS for MIPS SSM: Stewardship of Patient Resources                   | 24 |\n",
       "\n"
      ],
      "text/plain": [
       "  org_pac_id org_nm                     measure_cd  \n",
       "1 0446157747 USC CARE MEDICAL GROUP INC CAHPS_GRP_1 \n",
       "2 0446157747 USC CARE MEDICAL GROUP INC CAHPS_GRP_2 \n",
       "3 0446157747 USC CARE MEDICAL GROUP INC CAHPS_GRP_3 \n",
       "4 0446157747 USC CARE MEDICAL GROUP INC CAHPS_GRP_5 \n",
       "5 0446157747 USC CARE MEDICAL GROUP INC CAHPS_GRP_8 \n",
       "6 0446157747 USC CARE MEDICAL GROUP INC CAHPS_GRP_12\n",
       "  measure_title                                                         \n",
       "1 CAHPS for MIPS SSM: Getting Timely Care, Appointments, and Information\n",
       "2 CAHPS for MIPS SSM: How Well Providers Communicate                    \n",
       "3 CAHPS for MIPS SSM: Patient's Rating of Provider                      \n",
       "4 CAHPS for MIPS SSM: Health Promotion and Education                    \n",
       "5 CAHPS for MIPS SSM: Courteous and Helpful Office Staff                \n",
       "6 CAHPS for MIPS SSM: Stewardship of Patient Resources                  \n",
       "  prf_rate\n",
       "1 63      \n",
       "2 87      \n",
       "3 86      \n",
       "4 57      \n",
       "5 85      \n",
       "6 24      "
      ]
     },
     "metadata": {},
     "output_type": "display_data"
    }
   ],
   "source": [
    "head(cms_patient_experience)"
   ]
  },
  {
   "cell_type": "code",
   "execution_count": 33,
   "metadata": {
    "vscode": {
     "languageId": "r"
    }
   },
   "outputs": [
    {
     "data": {
      "text/html": [
       "<table class=\"dataframe\">\n",
       "<caption>A tibble: 6 × 2</caption>\n",
       "<thead>\n",
       "\t<tr><th scope=col>measure_cd</th><th scope=col>measure_title</th></tr>\n",
       "\t<tr><th scope=col>&lt;chr&gt;</th><th scope=col>&lt;chr&gt;</th></tr>\n",
       "</thead>\n",
       "<tbody>\n",
       "\t<tr><td>CAHPS_GRP_1 </td><td>CAHPS for MIPS SSM: Getting Timely Care, Appointments, and Information</td></tr>\n",
       "\t<tr><td>CAHPS_GRP_2 </td><td>CAHPS for MIPS SSM: How Well Providers Communicate                    </td></tr>\n",
       "\t<tr><td>CAHPS_GRP_3 </td><td>CAHPS for MIPS SSM: Patient's Rating of Provider                      </td></tr>\n",
       "\t<tr><td>CAHPS_GRP_5 </td><td>CAHPS for MIPS SSM: Health Promotion and Education                    </td></tr>\n",
       "\t<tr><td>CAHPS_GRP_8 </td><td>CAHPS for MIPS SSM: Courteous and Helpful Office Staff                </td></tr>\n",
       "\t<tr><td>CAHPS_GRP_12</td><td>CAHPS for MIPS SSM: Stewardship of Patient Resources                  </td></tr>\n",
       "</tbody>\n",
       "</table>\n"
      ],
      "text/latex": [
       "A tibble: 6 × 2\n",
       "\\begin{tabular}{ll}\n",
       " measure\\_cd & measure\\_title\\\\\n",
       " <chr> & <chr>\\\\\n",
       "\\hline\n",
       "\t CAHPS\\_GRP\\_1  & CAHPS for MIPS SSM: Getting Timely Care, Appointments, and Information\\\\\n",
       "\t CAHPS\\_GRP\\_2  & CAHPS for MIPS SSM: How Well Providers Communicate                    \\\\\n",
       "\t CAHPS\\_GRP\\_3  & CAHPS for MIPS SSM: Patient's Rating of Provider                      \\\\\n",
       "\t CAHPS\\_GRP\\_5  & CAHPS for MIPS SSM: Health Promotion and Education                    \\\\\n",
       "\t CAHPS\\_GRP\\_8  & CAHPS for MIPS SSM: Courteous and Helpful Office Staff                \\\\\n",
       "\t CAHPS\\_GRP\\_12 & CAHPS for MIPS SSM: Stewardship of Patient Resources                  \\\\\n",
       "\\end{tabular}\n"
      ],
      "text/markdown": [
       "\n",
       "A tibble: 6 × 2\n",
       "\n",
       "| measure_cd &lt;chr&gt; | measure_title &lt;chr&gt; |\n",
       "|---|---|\n",
       "| CAHPS_GRP_1  | CAHPS for MIPS SSM: Getting Timely Care, Appointments, and Information |\n",
       "| CAHPS_GRP_2  | CAHPS for MIPS SSM: How Well Providers Communicate                     |\n",
       "| CAHPS_GRP_3  | CAHPS for MIPS SSM: Patient's Rating of Provider                       |\n",
       "| CAHPS_GRP_5  | CAHPS for MIPS SSM: Health Promotion and Education                     |\n",
       "| CAHPS_GRP_8  | CAHPS for MIPS SSM: Courteous and Helpful Office Staff                 |\n",
       "| CAHPS_GRP_12 | CAHPS for MIPS SSM: Stewardship of Patient Resources                   |\n",
       "\n"
      ],
      "text/plain": [
       "  measure_cd  \n",
       "1 CAHPS_GRP_1 \n",
       "2 CAHPS_GRP_2 \n",
       "3 CAHPS_GRP_3 \n",
       "4 CAHPS_GRP_5 \n",
       "5 CAHPS_GRP_8 \n",
       "6 CAHPS_GRP_12\n",
       "  measure_title                                                         \n",
       "1 CAHPS for MIPS SSM: Getting Timely Care, Appointments, and Information\n",
       "2 CAHPS for MIPS SSM: How Well Providers Communicate                    \n",
       "3 CAHPS for MIPS SSM: Patient's Rating of Provider                      \n",
       "4 CAHPS for MIPS SSM: Health Promotion and Education                    \n",
       "5 CAHPS for MIPS SSM: Courteous and Helpful Office Staff                \n",
       "6 CAHPS for MIPS SSM: Stewardship of Patient Resources                  "
      ]
     },
     "metadata": {},
     "output_type": "display_data"
    }
   ],
   "source": [
    "cms_patient_experience %>%\n",
    "    distinct(measure_cd, measure_title) %>%\n",
    "    head()"
   ]
  },
  {
   "cell_type": "code",
   "execution_count": 35,
   "metadata": {
    "vscode": {
     "languageId": "r"
    }
   },
   "outputs": [
    {
     "data": {
      "text/html": [
       "<table class=\"dataframe\">\n",
       "<caption>A tibble: 6 × 9</caption>\n",
       "<thead>\n",
       "\t<tr><th scope=col>org_pac_id</th><th scope=col>org_nm</th><th scope=col>measure_title</th><th scope=col>CAHPS_GRP_1</th><th scope=col>CAHPS_GRP_2</th><th scope=col>CAHPS_GRP_3</th><th scope=col>CAHPS_GRP_5</th><th scope=col>CAHPS_GRP_8</th><th scope=col>CAHPS_GRP_12</th></tr>\n",
       "\t<tr><th scope=col>&lt;chr&gt;</th><th scope=col>&lt;chr&gt;</th><th scope=col>&lt;chr&gt;</th><th scope=col>&lt;dbl&gt;</th><th scope=col>&lt;dbl&gt;</th><th scope=col>&lt;dbl&gt;</th><th scope=col>&lt;dbl&gt;</th><th scope=col>&lt;dbl&gt;</th><th scope=col>&lt;dbl&gt;</th></tr>\n",
       "</thead>\n",
       "<tbody>\n",
       "\t<tr><td>0446157747</td><td>USC CARE MEDICAL GROUP INC</td><td>CAHPS for MIPS SSM: Getting Timely Care, Appointments, and Information</td><td>63</td><td>NA</td><td>NA</td><td>NA</td><td>NA</td><td>NA</td></tr>\n",
       "\t<tr><td>0446157747</td><td>USC CARE MEDICAL GROUP INC</td><td>CAHPS for MIPS SSM: How Well Providers Communicate                    </td><td>NA</td><td>87</td><td>NA</td><td>NA</td><td>NA</td><td>NA</td></tr>\n",
       "\t<tr><td>0446157747</td><td>USC CARE MEDICAL GROUP INC</td><td>CAHPS for MIPS SSM: Patient's Rating of Provider                      </td><td>NA</td><td>NA</td><td>86</td><td>NA</td><td>NA</td><td>NA</td></tr>\n",
       "\t<tr><td>0446157747</td><td>USC CARE MEDICAL GROUP INC</td><td>CAHPS for MIPS SSM: Health Promotion and Education                    </td><td>NA</td><td>NA</td><td>NA</td><td>57</td><td>NA</td><td>NA</td></tr>\n",
       "\t<tr><td>0446157747</td><td>USC CARE MEDICAL GROUP INC</td><td>CAHPS for MIPS SSM: Courteous and Helpful Office Staff                </td><td>NA</td><td>NA</td><td>NA</td><td>NA</td><td>85</td><td>NA</td></tr>\n",
       "\t<tr><td>0446157747</td><td>USC CARE MEDICAL GROUP INC</td><td>CAHPS for MIPS SSM: Stewardship of Patient Resources                  </td><td>NA</td><td>NA</td><td>NA</td><td>NA</td><td>NA</td><td>24</td></tr>\n",
       "</tbody>\n",
       "</table>\n"
      ],
      "text/latex": [
       "A tibble: 6 × 9\n",
       "\\begin{tabular}{lllllllll}\n",
       " org\\_pac\\_id & org\\_nm & measure\\_title & CAHPS\\_GRP\\_1 & CAHPS\\_GRP\\_2 & CAHPS\\_GRP\\_3 & CAHPS\\_GRP\\_5 & CAHPS\\_GRP\\_8 & CAHPS\\_GRP\\_12\\\\\n",
       " <chr> & <chr> & <chr> & <dbl> & <dbl> & <dbl> & <dbl> & <dbl> & <dbl>\\\\\n",
       "\\hline\n",
       "\t 0446157747 & USC CARE MEDICAL GROUP INC & CAHPS for MIPS SSM: Getting Timely Care, Appointments, and Information & 63 & NA & NA & NA & NA & NA\\\\\n",
       "\t 0446157747 & USC CARE MEDICAL GROUP INC & CAHPS for MIPS SSM: How Well Providers Communicate                     & NA & 87 & NA & NA & NA & NA\\\\\n",
       "\t 0446157747 & USC CARE MEDICAL GROUP INC & CAHPS for MIPS SSM: Patient's Rating of Provider                       & NA & NA & 86 & NA & NA & NA\\\\\n",
       "\t 0446157747 & USC CARE MEDICAL GROUP INC & CAHPS for MIPS SSM: Health Promotion and Education                     & NA & NA & NA & 57 & NA & NA\\\\\n",
       "\t 0446157747 & USC CARE MEDICAL GROUP INC & CAHPS for MIPS SSM: Courteous and Helpful Office Staff                 & NA & NA & NA & NA & 85 & NA\\\\\n",
       "\t 0446157747 & USC CARE MEDICAL GROUP INC & CAHPS for MIPS SSM: Stewardship of Patient Resources                   & NA & NA & NA & NA & NA & 24\\\\\n",
       "\\end{tabular}\n"
      ],
      "text/markdown": [
       "\n",
       "A tibble: 6 × 9\n",
       "\n",
       "| org_pac_id &lt;chr&gt; | org_nm &lt;chr&gt; | measure_title &lt;chr&gt; | CAHPS_GRP_1 &lt;dbl&gt; | CAHPS_GRP_2 &lt;dbl&gt; | CAHPS_GRP_3 &lt;dbl&gt; | CAHPS_GRP_5 &lt;dbl&gt; | CAHPS_GRP_8 &lt;dbl&gt; | CAHPS_GRP_12 &lt;dbl&gt; |\n",
       "|---|---|---|---|---|---|---|---|---|\n",
       "| 0446157747 | USC CARE MEDICAL GROUP INC | CAHPS for MIPS SSM: Getting Timely Care, Appointments, and Information | 63 | NA | NA | NA | NA | NA |\n",
       "| 0446157747 | USC CARE MEDICAL GROUP INC | CAHPS for MIPS SSM: How Well Providers Communicate                     | NA | 87 | NA | NA | NA | NA |\n",
       "| 0446157747 | USC CARE MEDICAL GROUP INC | CAHPS for MIPS SSM: Patient's Rating of Provider                       | NA | NA | 86 | NA | NA | NA |\n",
       "| 0446157747 | USC CARE MEDICAL GROUP INC | CAHPS for MIPS SSM: Health Promotion and Education                     | NA | NA | NA | 57 | NA | NA |\n",
       "| 0446157747 | USC CARE MEDICAL GROUP INC | CAHPS for MIPS SSM: Courteous and Helpful Office Staff                 | NA | NA | NA | NA | 85 | NA |\n",
       "| 0446157747 | USC CARE MEDICAL GROUP INC | CAHPS for MIPS SSM: Stewardship of Patient Resources                   | NA | NA | NA | NA | NA | 24 |\n",
       "\n"
      ],
      "text/plain": [
       "  org_pac_id org_nm                    \n",
       "1 0446157747 USC CARE MEDICAL GROUP INC\n",
       "2 0446157747 USC CARE MEDICAL GROUP INC\n",
       "3 0446157747 USC CARE MEDICAL GROUP INC\n",
       "4 0446157747 USC CARE MEDICAL GROUP INC\n",
       "5 0446157747 USC CARE MEDICAL GROUP INC\n",
       "6 0446157747 USC CARE MEDICAL GROUP INC\n",
       "  measure_title                                                         \n",
       "1 CAHPS for MIPS SSM: Getting Timely Care, Appointments, and Information\n",
       "2 CAHPS for MIPS SSM: How Well Providers Communicate                    \n",
       "3 CAHPS for MIPS SSM: Patient's Rating of Provider                      \n",
       "4 CAHPS for MIPS SSM: Health Promotion and Education                    \n",
       "5 CAHPS for MIPS SSM: Courteous and Helpful Office Staff                \n",
       "6 CAHPS for MIPS SSM: Stewardship of Patient Resources                  \n",
       "  CAHPS_GRP_1 CAHPS_GRP_2 CAHPS_GRP_3 CAHPS_GRP_5 CAHPS_GRP_8 CAHPS_GRP_12\n",
       "1 63          NA          NA          NA          NA          NA          \n",
       "2 NA          87          NA          NA          NA          NA          \n",
       "3 NA          NA          86          NA          NA          NA          \n",
       "4 NA          NA          NA          57          NA          NA          \n",
       "5 NA          NA          NA          NA          85          NA          \n",
       "6 NA          NA          NA          NA          NA          24          "
      ]
     },
     "metadata": {},
     "output_type": "display_data"
    }
   ],
   "source": [
    "cms_patient_experience %>%\n",
    "    pivot_wider(\n",
    "        names_from = measure_cd,\n",
    "        values_from = prf_rate\n",
    "    ) %>% head()"
   ]
  },
  {
   "cell_type": "code",
   "execution_count": 37,
   "metadata": {
    "vscode": {
     "languageId": "r"
    }
   },
   "outputs": [
    {
     "data": {
      "text/html": [
       "<table class=\"dataframe\">\n",
       "<caption>A tibble: 6 × 8</caption>\n",
       "<thead>\n",
       "\t<tr><th scope=col>org_pac_id</th><th scope=col>org_nm</th><th scope=col>CAHPS_GRP_1</th><th scope=col>CAHPS_GRP_2</th><th scope=col>CAHPS_GRP_3</th><th scope=col>CAHPS_GRP_5</th><th scope=col>CAHPS_GRP_8</th><th scope=col>CAHPS_GRP_12</th></tr>\n",
       "\t<tr><th scope=col>&lt;chr&gt;</th><th scope=col>&lt;chr&gt;</th><th scope=col>&lt;dbl&gt;</th><th scope=col>&lt;dbl&gt;</th><th scope=col>&lt;dbl&gt;</th><th scope=col>&lt;dbl&gt;</th><th scope=col>&lt;dbl&gt;</th><th scope=col>&lt;dbl&gt;</th></tr>\n",
       "</thead>\n",
       "<tbody>\n",
       "\t<tr><td>0446157747</td><td>USC CARE MEDICAL GROUP INC          </td><td>63</td><td>87</td><td>86</td><td>57</td><td>85</td><td>24</td></tr>\n",
       "\t<tr><td>0446162697</td><td>ASSOCIATION OF UNIVERSITY PHYSICIANS</td><td>59</td><td>85</td><td>83</td><td>63</td><td>88</td><td>22</td></tr>\n",
       "\t<tr><td>0547164295</td><td>BEAVER MEDICAL GROUP PC             </td><td>49</td><td>NA</td><td>75</td><td>44</td><td>73</td><td>12</td></tr>\n",
       "\t<tr><td>0749333730</td><td>CAPE PHYSICIANS ASSOCIATES PA       </td><td>67</td><td>84</td><td>85</td><td>65</td><td>82</td><td>24</td></tr>\n",
       "\t<tr><td>0840104360</td><td>ALLIANCE PHYSICIANS INC             </td><td>66</td><td>87</td><td>87</td><td>64</td><td>87</td><td>28</td></tr>\n",
       "\t<tr><td>0840109864</td><td>REX HOSPITAL INC                    </td><td>73</td><td>87</td><td>84</td><td>67</td><td>91</td><td>30</td></tr>\n",
       "</tbody>\n",
       "</table>\n"
      ],
      "text/latex": [
       "A tibble: 6 × 8\n",
       "\\begin{tabular}{llllllll}\n",
       " org\\_pac\\_id & org\\_nm & CAHPS\\_GRP\\_1 & CAHPS\\_GRP\\_2 & CAHPS\\_GRP\\_3 & CAHPS\\_GRP\\_5 & CAHPS\\_GRP\\_8 & CAHPS\\_GRP\\_12\\\\\n",
       " <chr> & <chr> & <dbl> & <dbl> & <dbl> & <dbl> & <dbl> & <dbl>\\\\\n",
       "\\hline\n",
       "\t 0446157747 & USC CARE MEDICAL GROUP INC           & 63 & 87 & 86 & 57 & 85 & 24\\\\\n",
       "\t 0446162697 & ASSOCIATION OF UNIVERSITY PHYSICIANS & 59 & 85 & 83 & 63 & 88 & 22\\\\\n",
       "\t 0547164295 & BEAVER MEDICAL GROUP PC              & 49 & NA & 75 & 44 & 73 & 12\\\\\n",
       "\t 0749333730 & CAPE PHYSICIANS ASSOCIATES PA        & 67 & 84 & 85 & 65 & 82 & 24\\\\\n",
       "\t 0840104360 & ALLIANCE PHYSICIANS INC              & 66 & 87 & 87 & 64 & 87 & 28\\\\\n",
       "\t 0840109864 & REX HOSPITAL INC                     & 73 & 87 & 84 & 67 & 91 & 30\\\\\n",
       "\\end{tabular}\n"
      ],
      "text/markdown": [
       "\n",
       "A tibble: 6 × 8\n",
       "\n",
       "| org_pac_id &lt;chr&gt; | org_nm &lt;chr&gt; | CAHPS_GRP_1 &lt;dbl&gt; | CAHPS_GRP_2 &lt;dbl&gt; | CAHPS_GRP_3 &lt;dbl&gt; | CAHPS_GRP_5 &lt;dbl&gt; | CAHPS_GRP_8 &lt;dbl&gt; | CAHPS_GRP_12 &lt;dbl&gt; |\n",
       "|---|---|---|---|---|---|---|---|\n",
       "| 0446157747 | USC CARE MEDICAL GROUP INC           | 63 | 87 | 86 | 57 | 85 | 24 |\n",
       "| 0446162697 | ASSOCIATION OF UNIVERSITY PHYSICIANS | 59 | 85 | 83 | 63 | 88 | 22 |\n",
       "| 0547164295 | BEAVER MEDICAL GROUP PC              | 49 | NA | 75 | 44 | 73 | 12 |\n",
       "| 0749333730 | CAPE PHYSICIANS ASSOCIATES PA        | 67 | 84 | 85 | 65 | 82 | 24 |\n",
       "| 0840104360 | ALLIANCE PHYSICIANS INC              | 66 | 87 | 87 | 64 | 87 | 28 |\n",
       "| 0840109864 | REX HOSPITAL INC                     | 73 | 87 | 84 | 67 | 91 | 30 |\n",
       "\n"
      ],
      "text/plain": [
       "  org_pac_id org_nm                               CAHPS_GRP_1 CAHPS_GRP_2\n",
       "1 0446157747 USC CARE MEDICAL GROUP INC           63          87         \n",
       "2 0446162697 ASSOCIATION OF UNIVERSITY PHYSICIANS 59          85         \n",
       "3 0547164295 BEAVER MEDICAL GROUP PC              49          NA         \n",
       "4 0749333730 CAPE PHYSICIANS ASSOCIATES PA        67          84         \n",
       "5 0840104360 ALLIANCE PHYSICIANS INC              66          87         \n",
       "6 0840109864 REX HOSPITAL INC                     73          87         \n",
       "  CAHPS_GRP_3 CAHPS_GRP_5 CAHPS_GRP_8 CAHPS_GRP_12\n",
       "1 86          57          85          24          \n",
       "2 83          63          88          22          \n",
       "3 75          44          73          12          \n",
       "4 85          65          82          24          \n",
       "5 87          64          87          28          \n",
       "6 84          67          91          30          "
      ]
     },
     "metadata": {},
     "output_type": "display_data"
    }
   ],
   "source": [
    "cms_patient_experience %>%\n",
    "    pivot_wider(\n",
    "        id_cols = starts_with(\"org\"),\n",
    "        names_from = measure_cd,\n",
    "        values_from = prf_rate\n",
    "    ) %>% head()"
   ]
  }
 ],
 "metadata": {
  "kernelspec": {
   "display_name": "R",
   "language": "R",
   "name": "ir"
  },
  "language_info": {
   "codemirror_mode": "r",
   "file_extension": ".r",
   "mimetype": "text/x-r-source",
   "name": "R",
   "pygments_lexer": "r",
   "version": "4.3.0"
  }
 },
 "nbformat": 4,
 "nbformat_minor": 2
}
