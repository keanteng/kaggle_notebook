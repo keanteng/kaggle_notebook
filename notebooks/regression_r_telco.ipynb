{
 "cells": [
  {
   "cell_type": "markdown",
   "metadata": {},
   "source": [
    "# Telo Customer Logistic Regression With R\n",
    "- Analysis focuses on the behavior of telecom customers who are more likely to leave the platform\n",
    "- The analysis is done using R"
   ]
  },
  {
   "cell_type": "code",
   "execution_count": 4,
   "metadata": {
    "vscode": {
     "languageId": "r"
    }
   },
   "outputs": [],
   "source": [
    "# libraries loading\n",
    "suppressMessages({\n",
    "    library(tidyverse)\n",
    "    library(MASS)\n",
    "    library(car)\n",
    "    library(e1071)\n",
    "    library(caret)\n",
    "    library(cowplot)\n",
    "    library(caTools)\n",
    "    library(pROC)\n",
    "    library(ggcorrplot)\n",
    "})\n"
   ]
  },
  {
   "cell_type": "code",
   "execution_count": 5,
   "metadata": {
    "vscode": {
     "languageId": "r"
    }
   },
   "outputs": [],
   "source": [
    "# load data\n",
    "telco = read.csv(\"../../data/telco_customer.csv\")"
   ]
  },
  {
   "cell_type": "code",
   "execution_count": 6,
   "metadata": {
    "vscode": {
     "languageId": "r"
    }
   },
   "outputs": [
    {
     "name": "stdout",
     "output_type": "stream",
     "text": [
      "Rows: 7,043\n",
      "Columns: 21\n",
      "$ customerID       \u001b[3m\u001b[90m<chr>\u001b[39m\u001b[23m \"7590-VHVEG\", \"5575-GNVDE\", \"3668-QPYBK\", \"7795-CFOCW…\n",
      "$ gender           \u001b[3m\u001b[90m<chr>\u001b[39m\u001b[23m \"Female\", \"Male\", \"Male\", \"Male\", \"Female\", \"Female\",…\n",
      "$ SeniorCitizen    \u001b[3m\u001b[90m<int>\u001b[39m\u001b[23m 0, 0, 0, 0, 0, 0, 0, 0, 0, 0, 0, 0, 0, 0, 0, 0, 0, 0,…\n",
      "$ Partner          \u001b[3m\u001b[90m<chr>\u001b[39m\u001b[23m \"Yes\", \"No\", \"No\", \"No\", \"No\", \"No\", \"No\", \"No\", \"Yes…\n",
      "$ Dependents       \u001b[3m\u001b[90m<chr>\u001b[39m\u001b[23m \"No\", \"No\", \"No\", \"No\", \"No\", \"No\", \"Yes\", \"No\", \"No\"…\n",
      "$ tenure           \u001b[3m\u001b[90m<int>\u001b[39m\u001b[23m 1, 34, 2, 45, 2, 8, 22, 10, 28, 62, 13, 16, 58, 49, 2…\n",
      "$ PhoneService     \u001b[3m\u001b[90m<chr>\u001b[39m\u001b[23m \"No\", \"Yes\", \"Yes\", \"No\", \"Yes\", \"Yes\", \"Yes\", \"No\", …\n",
      "$ MultipleLines    \u001b[3m\u001b[90m<chr>\u001b[39m\u001b[23m \"No phone service\", \"No\", \"No\", \"No phone service\", \"…\n",
      "$ InternetService  \u001b[3m\u001b[90m<chr>\u001b[39m\u001b[23m \"DSL\", \"DSL\", \"DSL\", \"DSL\", \"Fiber optic\", \"Fiber opt…\n",
      "$ OnlineSecurity   \u001b[3m\u001b[90m<chr>\u001b[39m\u001b[23m \"No\", \"Yes\", \"Yes\", \"Yes\", \"No\", \"No\", \"No\", \"Yes\", \"…\n",
      "$ OnlineBackup     \u001b[3m\u001b[90m<chr>\u001b[39m\u001b[23m \"Yes\", \"No\", \"Yes\", \"No\", \"No\", \"No\", \"Yes\", \"No\", \"N…\n",
      "$ DeviceProtection \u001b[3m\u001b[90m<chr>\u001b[39m\u001b[23m \"No\", \"Yes\", \"No\", \"Yes\", \"No\", \"Yes\", \"No\", \"No\", \"Y…\n",
      "$ TechSupport      \u001b[3m\u001b[90m<chr>\u001b[39m\u001b[23m \"No\", \"No\", \"No\", \"Yes\", \"No\", \"No\", \"No\", \"No\", \"Yes…\n",
      "$ StreamingTV      \u001b[3m\u001b[90m<chr>\u001b[39m\u001b[23m \"No\", \"No\", \"No\", \"No\", \"No\", \"Yes\", \"Yes\", \"No\", \"Ye…\n",
      "$ StreamingMovies  \u001b[3m\u001b[90m<chr>\u001b[39m\u001b[23m \"No\", \"No\", \"No\", \"No\", \"No\", \"Yes\", \"No\", \"No\", \"Yes…\n",
      "$ Contract         \u001b[3m\u001b[90m<chr>\u001b[39m\u001b[23m \"Month-to-month\", \"One year\", \"Month-to-month\", \"One …\n",
      "$ PaperlessBilling \u001b[3m\u001b[90m<chr>\u001b[39m\u001b[23m \"Yes\", \"No\", \"Yes\", \"No\", \"Yes\", \"Yes\", \"Yes\", \"No\", …\n",
      "$ PaymentMethod    \u001b[3m\u001b[90m<chr>\u001b[39m\u001b[23m \"Electronic check\", \"Mailed check\", \"Mailed check\", \"…\n",
      "$ MonthlyCharges   \u001b[3m\u001b[90m<dbl>\u001b[39m\u001b[23m 29.85, 56.95, 53.85, 42.30, 70.70, 99.65, 89.10, 29.7…\n",
      "$ TotalCharges     \u001b[3m\u001b[90m<dbl>\u001b[39m\u001b[23m 29.85, 1889.50, 108.15, 1840.75, 151.65, 820.50, 1949…\n",
      "$ Churn            \u001b[3m\u001b[90m<chr>\u001b[39m\u001b[23m \"No\", \"No\", \"Yes\", \"No\", \"Yes\", \"Yes\", \"No\", \"No\", \"Y…\n"
     ]
    }
   ],
   "source": [
    "# get information from the dataset\n",
    "glimpse(telco)"
   ]
  },
  {
   "cell_type": "code",
   "execution_count": 11,
   "metadata": {
    "vscode": {
     "languageId": "r"
    }
   },
   "outputs": [
    {
     "data": {
      "image/png": "[encoded data removed]",
      "text/plain": [
       "plot without title"
      ]
     },
     "metadata": {
      "image/png": {
       "height": 240,
       "width": 360
      }
     },
     "output_type": "display_data"
    }
   ],
   "source": [
    "# check percentage empty in data\n",
    "options(warn = -1) # suppress warnings globally\n",
    "options(repr.plot.width = 6, repr.plot.height = 4)\n",
    "\n",
    "missing_data <- telco %>% summarise_all(funs(sum(is.na(.))/n()))\n",
    "missing_data <- gather(missing_data, key = \"variables\", value = \"percent_missing\")\n",
    "ggplot(missing_data, aes(x = reorder(variables, percent_missing), y = percent_missing)) +\n",
    "geom_bar(stat = \"identity\", fill = \"red\", aes(color = I('white')), size = 0.3)+\n",
    "xlab('variables')+\n",
    "coord_flip()+ \n",
    "theme_bw()"
   ]
  },
  {
   "cell_type": "markdown",
   "metadata": {},
   "source": [
    "- Only 11 missing data in the `TotalCharges` field\n",
    "- `Tenure`, `MonthlyCharges` and `TotalCharges` are continuous\n",
    "- `SeniorCitizen` can be changes to categorical"
   ]
  },
  {
   "cell_type": "code",
   "execution_count": 13,
   "metadata": {
    "vscode": {
     "languageId": "r"
    }
   },
   "outputs": [],
   "source": [
    "telco <- telco[complete.cases(telco),]\n",
    "\n",
    "telco$SeniorCitizen <- as.factor(ifelse(telco$SeniorCitizen == 1, \"Yes\", \"No\"))"
   ]
  },
  {
   "cell_type": "code",
   "execution_count": 14,
   "metadata": {
    "vscode": {
     "languageId": "r"
    }
   },
   "outputs": [],
   "source": [
    "theme1 <- theme_bw() +\n",
    "    theme(axis.text.x = element_text(angle = 0, hjust = 1, vjust = 0.5), legend.poistion = \"none\")\n",
    "theme2 <- theme_bw() +\n",
    "    theme(axis.text.x = element_text(angle = 90, hjust = 1, vjust = 0.5), legend.poistion = \"none\")"
   ]
  },
  {
   "cell_type": "code",
   "execution_count": 15,
   "metadata": {
    "vscode": {
     "languageId": "r"
    }
   },
   "outputs": [
    {
     "name": "stdout",
     "output_type": "stream",
     "text": [
      "Rows: 7,032\n",
      "Columns: 21\n",
      "$ customerID       \u001b[3m\u001b[90m<chr>\u001b[39m\u001b[23m \"7590-VHVEG\", \"5575-GNVDE\", \"3668-QPYBK\", \"7795-CFOCW…\n",
      "$ gender           \u001b[3m\u001b[90m<chr>\u001b[39m\u001b[23m \"Female\", \"Male\", \"Male\", \"Male\", \"Female\", \"Female\",…\n",
      "$ SeniorCitizen    \u001b[3m\u001b[90m<fct>\u001b[39m\u001b[23m No, No, No, No, No, No, No, No, No, No, No, No, No, N…\n",
      "$ Partner          \u001b[3m\u001b[90m<chr>\u001b[39m\u001b[23m \"Yes\", \"No\", \"No\", \"No\", \"No\", \"No\", \"No\", \"No\", \"Yes…\n",
      "$ Dependents       \u001b[3m\u001b[90m<chr>\u001b[39m\u001b[23m \"No\", \"No\", \"No\", \"No\", \"No\", \"No\", \"Yes\", \"No\", \"No\"…\n",
      "$ tenure           \u001b[3m\u001b[90m<int>\u001b[39m\u001b[23m 1, 34, 2, 45, 2, 8, 22, 10, 28, 62, 13, 16, 58, 49, 2…\n",
      "$ PhoneService     \u001b[3m\u001b[90m<chr>\u001b[39m\u001b[23m \"No\", \"Yes\", \"Yes\", \"No\", \"Yes\", \"Yes\", \"Yes\", \"No\", …\n",
      "$ MultipleLines    \u001b[3m\u001b[90m<chr>\u001b[39m\u001b[23m \"No phone service\", \"No\", \"No\", \"No phone service\", \"…\n",
      "$ InternetService  \u001b[3m\u001b[90m<chr>\u001b[39m\u001b[23m \"DSL\", \"DSL\", \"DSL\", \"DSL\", \"Fiber optic\", \"Fiber opt…\n",
      "$ OnlineSecurity   \u001b[3m\u001b[90m<chr>\u001b[39m\u001b[23m \"No\", \"Yes\", \"Yes\", \"Yes\", \"No\", \"No\", \"No\", \"Yes\", \"…\n",
      "$ OnlineBackup     \u001b[3m\u001b[90m<chr>\u001b[39m\u001b[23m \"Yes\", \"No\", \"Yes\", \"No\", \"No\", \"No\", \"Yes\", \"No\", \"N…\n",
      "$ DeviceProtection \u001b[3m\u001b[90m<chr>\u001b[39m\u001b[23m \"No\", \"Yes\", \"No\", \"Yes\", \"No\", \"Yes\", \"No\", \"No\", \"Y…\n",
      "$ TechSupport      \u001b[3m\u001b[90m<chr>\u001b[39m\u001b[23m \"No\", \"No\", \"No\", \"Yes\", \"No\", \"No\", \"No\", \"No\", \"Yes…\n",
      "$ StreamingTV      \u001b[3m\u001b[90m<chr>\u001b[39m\u001b[23m \"No\", \"No\", \"No\", \"No\", \"No\", \"Yes\", \"Yes\", \"No\", \"Ye…\n",
      "$ StreamingMovies  \u001b[3m\u001b[90m<chr>\u001b[39m\u001b[23m \"No\", \"No\", \"No\", \"No\", \"No\", \"Yes\", \"No\", \"No\", \"Yes…\n",
      "$ Contract         \u001b[3m\u001b[90m<chr>\u001b[39m\u001b[23m \"Month-to-month\", \"One year\", \"Month-to-month\", \"One …\n",
      "$ PaperlessBilling \u001b[3m\u001b[90m<chr>\u001b[39m\u001b[23m \"Yes\", \"No\", \"Yes\", \"No\", \"Yes\", \"Yes\", \"Yes\", \"No\", …\n",
      "$ PaymentMethod    \u001b[3m\u001b[90m<chr>\u001b[39m\u001b[23m \"Electronic check\", \"Mailed check\", \"Mailed check\", \"…\n",
      "$ MonthlyCharges   \u001b[3m\u001b[90m<dbl>\u001b[39m\u001b[23m 29.85, 56.95, 53.85, 42.30, 70.70, 99.65, 89.10, 29.7…\n",
      "$ TotalCharges     \u001b[3m\u001b[90m<dbl>\u001b[39m\u001b[23m 29.85, 1889.50, 108.15, 1840.75, 151.65, 820.50, 1949…\n",
      "$ Churn            \u001b[3m\u001b[90m<chr>\u001b[39m\u001b[23m \"No\", \"No\", \"Yes\", \"No\", \"Yes\", \"Yes\", \"No\", \"No\", \"Y…\n"
     ]
    }
   ],
   "source": [
    "glimpse(telco)"
   ]
  },
  {
   "cell_type": "markdown",
   "metadata": {},
   "source": [
    "## Data Visualization"
   ]
  },
  {
   "cell_type": "code",
   "execution_count": 16,
   "metadata": {
    "vscode": {
     "languageId": "r"
    }
   },
   "outputs": [
    {
     "data": {
      "image/png": "[encoded data removed]",
      "text/plain": [
       "plot without title"
      ]
     },
     "metadata": {
      "image/png": {
       "height": 240,
       "width": 360
      }
     },
     "output_type": "display_data"
    }
   ],
   "source": [
    "telco %>%\n",
    "    group_by(Churn) %>%\n",
    "    summarise(Count = n()) %>%\n",
    "    mutate(percent = prop.table(Count)*100) %>%\n",
    "    ggplot(aes(reorder(Churn, -percent), percent, fill = Churn)) +\n",
    "    geom_col(fill = c(\"#00AFBB\", \"#E7B800\")) +\n",
    "    geom_text(aes(label = sprintf(\"%.2f%%\", percent)), hjust = 0.01, vjust = -0.5, size = 3.5) +\n",
    "    theme_bw() +\n",
    "    xlab(\"Churn\") +\n",
    "    ylab(\"Percentage\") +\n",
    "    ggtitle(\"Churn Percentage\")"
   ]
  },
  {
   "cell_type": "markdown",
   "metadata": {},
   "source": [
    "- We have an equal case of male and female\n",
    "- Percentage of churn is higher in `senior citizen`\n",
    "- Customers with `partners` and `dependends` have lower churn rate then does who do not have"
   ]
  },
  {
   "cell_type": "code",
   "execution_count": 20,
   "metadata": {
    "vscode": {
     "languageId": "r"
    }
   },
   "outputs": [
    {
     "data": {
      "image/png": "[encoded data removed]",
      "text/plain": [
       "plot without title"
      ]
     },
     "metadata": {
      "image/png": {
       "height": 480,
       "width": 720
      }
     },
     "output_type": "display_data"
    }
   ],
   "source": [
    "options(repr.plot.width = 12, repr.plot.height = 8)\n",
    "plot_grid(ggplot(telco, aes(x=gender,fill=Churn))+ geom_bar()+ theme_bw(), \n",
    "          ggplot(telco, aes(x=SeniorCitizen,fill=Churn))+ geom_bar(position = 'fill')+theme_bw(),\n",
    "          ggplot(telco, aes(x=Partner,fill=Churn))+ geom_bar(position = 'fill')+theme_bw(),\n",
    "          ggplot(telco, aes(x=Dependents,fill=Churn))+ geom_bar(position = 'fill')+theme_bw(),\n",
    "          ggplot(telco, aes(x=PhoneService,fill=Churn))+ geom_bar(position = 'fill')+theme_bw(),\n",
    "          ggplot(telco, aes(x=MultipleLines,fill=Churn))+ geom_bar(position = 'fill')+theme_bw()+\n",
    "          scale_x_discrete(labels = function(x) str_wrap(x, width = 10)),\n",
    "          align = \"h\")"
   ]
  },
  {
   "cell_type": "markdown",
   "metadata": {},
   "source": [
    "- Higher churn rate for `Fiber optic internet service`\n",
    "- Customers without `online backup` and `tech support` left in the past month (that is what churn meant)"
   ]
  },
  {
   "cell_type": "code",
   "execution_count": 21,
   "metadata": {
    "vscode": {
     "languageId": "r"
    }
   },
   "outputs": [
    {
     "data": {
      "image/png": "[encoded data removed]",
      "text/plain": [
       "plot without title"
      ]
     },
     "metadata": {
      "image/png": {
       "height": 480,
       "width": 720
      }
     },
     "output_type": "display_data"
    }
   ],
   "source": [
    "plot_grid(\n",
    "    ggplot(telco, aes(x=InternetService,fill=Churn))+ geom_bar(position = 'fill')+theme_bw() +\n",
    "    scale_x_discrete(labels = function(x) str_wrap(x, width = 10)),\n",
    "    ggplot(telco, aes(x=OnlineSecurity,fill=Churn))+ geom_bar(position = 'fill')+theme_bw() +\n",
    "    scale_x_discrete(labels = function(x) str_wrap(x, width = 10)),\n",
    "    ggplot(telco, aes(x=OnlineBackup,fill=Churn))+ geom_bar(position = 'fill')+theme_bw() +\n",
    "    scale_x_discrete(labels = function(x) str_wrap(x, width = 10)),\n",
    "    ggplot(telco, aes(x=DeviceProtection,fill=Churn))+ geom_bar(position = 'fill')+theme_bw() +\n",
    "    scale_x_discrete(labels = function(x) str_wrap(x, width = 10)),\n",
    "    ggplot(telco, aes(x=TechSupport,fill=Churn))+ geom_bar(position = 'fill')+theme_bw() +\n",
    "    scale_x_discrete(labels = function(x) str_wrap(x, width = 10)),\n",
    "    ggplot(telco, aes(x=StreamingTV,fill=Churn))+ geom_bar(position = 'fill')+theme_bw() +\n",
    "    scale_x_discrete(labels = function(x) str_wrap(x, width = 10)),\n",
    "    align = \"h\"\n",
    ")"
   ]
  },
  {
   "cell_type": "markdown",
   "metadata": {},
   "source": [
    "- A large percent of customers with `month subscription` left compared to those with 2 years contract\n",
    "- Higher churn rate for customers using paperless biling option\n",
    "- Customers using electronic check payment method tend to leave the platform compare to others"
   ]
  },
  {
   "cell_type": "code",
   "execution_count": 22,
   "metadata": {
    "vscode": {
     "languageId": "r"
    }
   },
   "outputs": [
    {
     "data": {
      "image/png": "[encoded data removed]",
      "text/plain": [
       "plot without title"
      ]
     },
     "metadata": {
      "image/png": {
       "height": 480,
       "width": 720
      }
     },
     "output_type": "display_data"
    }
   ],
   "source": [
    "plot_grid(\n",
    "    ggplot(telco, aes(x = StreamingMovies, fill = Churn)) + geom_bar(position = 'fill') + theme_bw() +\n",
    "    scale_x_discrete(labels = function(x) str_wrap(x, width = 10)),\n",
    "    ggplot(telco, aes(x = Contract, fill = Churn)) + geom_bar(position = 'fill') + theme_bw() +\n",
    "    scale_x_discrete(labels = function(x) str_wrap(x, width = 10)),\n",
    "    ggplot(telco, aes(x = PaperlessBilling, fill = Churn)) + geom_bar(position = 'fill') + theme_bw() +\n",
    "    scale_x_discrete(labels = function(x) str_wrap(x, width = 10)),\n",
    "    ggplot(telco, aes(x = PaymentMethod, fill = Churn)) + geom_bar(position = 'fill') + theme_bw() +\n",
    "    scale_x_discrete(labels = function(x) str_wrap(x, width = 10)),\n",
    "    align = \"h\"\n",
    ")"
   ]
  },
  {
   "cell_type": "markdown",
   "metadata": {},
   "source": [
    "## Analyzing The Continuous Variables"
   ]
  },
  {
   "cell_type": "code",
   "execution_count": 23,
   "metadata": {
    "vscode": {
     "languageId": "r"
    }
   },
   "outputs": [
    {
     "data": {
      "image/png": "[encoded data removed]",
      "text/plain": [
       "plot without title"
      ]
     },
     "metadata": {
      "image/png": {
       "height": 480,
       "width": 720
      }
     },
     "output_type": "display_data"
    }
   ],
   "source": [
    "ggplot(telco, aes(y = tenure, x = \"\", fill = Churn)) +\n",
    "    geom_boxplot() +\n",
    "    theme_bw() +\n",
    "    xlab(\"Churn\")"
   ]
  },
  {
   "cell_type": "markdown",
   "metadata": {},
   "source": [
    "The median tenure of customers who left is around 10 months"
   ]
  },
  {
   "cell_type": "code",
   "execution_count": 24,
   "metadata": {
    "vscode": {
     "languageId": "r"
    }
   },
   "outputs": [
    {
     "data": {
      "image/png": "[encoded data removed]",
      "text/plain": [
       "plot without title"
      ]
     },
     "metadata": {
      "image/png": {
       "height": 480,
       "width": 720
      }
     },
     "output_type": "display_data"
    }
   ],
   "source": [
    "ggplot(telco, aes(y = MonthlyCharges, x= \"\", fill = Churn)) +\n",
    "    geom_boxplot() +\n",
    "    theme_bw() +\n",
    "    xlab(\"Churn\")"
   ]
  },
  {
   "cell_type": "markdown",
   "metadata": {},
   "source": [
    "For churned customers, they have a higher monthly charges, the median is above 75"
   ]
  },
  {
   "cell_type": "code",
   "execution_count": 25,
   "metadata": {
    "vscode": {
     "languageId": "r"
    }
   },
   "outputs": [
    {
     "data": {
      "image/png": "[encoded data removed]",
      "text/plain": [
       "plot without title"
      ]
     },
     "metadata": {
      "image/png": {
       "height": 480,
       "width": 720
      }
     },
     "output_type": "display_data"
    }
   ],
   "source": [
    "ggplot(telco, aes(y = TotalCharges, x = \"\", fill = Churn)) +\n",
    "    geom_boxplot() +\n",
    "    theme_bw() +\n",
    "    xlab(\"Churn\")"
   ]
  },
  {
   "cell_type": "markdown",
   "metadata": {},
   "source": [
    "Median total charges of churned customers are low"
   ]
  },
  {
   "cell_type": "code",
   "execution_count": 27,
   "metadata": {
    "vscode": {
     "languageId": "r"
    }
   },
   "outputs": [
    {
     "data": {
      "image/png": "[encoded data removed]",
      "text/plain": [
       "plot without title"
      ]
     },
     "metadata": {
      "image/png": {
       "height": 480,
       "width": 720
      }
     },
     "output_type": "display_data"
    }
   ],
   "source": [
    "# correlation matrix\n",
    "telco_cor <- round(cor(telco[,c(\"tenure\", \"MonthlyCharges\", \"TotalCharges\")]), 1)\n",
    "\n",
    "ggcorrplot(telco_cor, title = \"Correlaton Matrix\") +\n",
    "    theme(plot.title = element_text(hjust = 0.5))"
   ]
  },
  {
   "cell_type": "markdown",
   "metadata": {},
   "source": [
    "A positive correlation between total charges and monthly charges/ tenure\n",
    "\n",
    "We also want to check for outliers for the continuous variables"
   ]
  },
  {
   "cell_type": "code",
   "execution_count": 31,
   "metadata": {
    "vscode": {
     "languageId": "r"
    }
   },
   "outputs": [
    {
     "data": {
      "text/html": [],
      "text/latex": [],
      "text/markdown": [],
      "text/plain": [
       "numeric(0)"
      ]
     },
     "metadata": {},
     "output_type": "display_data"
    },
    {
     "data": {
      "text/html": [],
      "text/latex": [],
      "text/markdown": [],
      "text/plain": [
       "numeric(0)"
      ]
     },
     "metadata": {},
     "output_type": "display_data"
    },
    {
     "data": {
      "text/html": [],
      "text/latex": [],
      "text/markdown": [],
      "text/plain": [
       "numeric(0)"
      ]
     },
     "metadata": {},
     "output_type": "display_data"
    },
    {
     "data": {
      "image/png": "[encoded data removed]",
      "text/plain": [
       "plot without title"
      ]
     },
     "metadata": {
      "image/png": {
       "height": 480,
       "width": 720
      }
     },
     "output_type": "display_data"
    }
   ],
   "source": [
    "par(mfrow = c(1,3))\n",
    "\n",
    "boxplot(telco$tenure)$out\n",
    "boxplot(telco$MonthlyCharges)$out\n",
    "boxplot(telco$TotalCharges)$out"
   ]
  },
  {
   "cell_type": "markdown",
   "metadata": {},
   "source": [
    "## Preparing Data\n",
    "- Clean categorical features\n",
    "- Standardising continuous features\n",
    "- Creating derived features\n",
    "- Dummy variables for factor variables\n",
    "- Train test splitting"
   ]
  },
  {
   "cell_type": "code",
   "execution_count": 32,
   "metadata": {
    "vscode": {
     "languageId": "r"
    }
   },
   "outputs": [],
   "source": [
    "# clean the categorical variables\n",
    "telco <- data.frame(lapply(telco, function(x){\n",
    "    gsub(\"No internet service\", \"No\", x)\n",
    "}))\n",
    "\n",
    "telco <- data.frame(lapply(telco, function(x){\n",
    "    gsub(\"No phone service\", \"No\", x)\n",
    "}))"
   ]
  },
  {
   "cell_type": "code",
   "execution_count": 33,
   "metadata": {
    "vscode": {
     "languageId": "r"
    }
   },
   "outputs": [],
   "source": [
    "# standardize the numerical variables\n",
    "num_columns <- c(\"tenure\", \"MonthlyCharges\", \"TotalCharges\")\n",
    "telco[num_columns] <- sapply(telco[num_columns], as.numeric)\n",
    "telco_int <- telco[, c(\"tenure\", \"MonthlyCharges\", \"TotalCharges\")]\n",
    "telco_int <- data.frame(scale(telco_int))"
   ]
  },
  {
   "cell_type": "code",
   "execution_count": 42,
   "metadata": {
    "vscode": {
     "languageId": "r"
    }
   },
   "outputs": [],
   "source": [
    "# derived features a.k.a feature engineering\n",
    "telco <- mutate(telco, tenure_bin = tenure)\n",
    "\n",
    "telco$tenure_bin[telco$tenure_bin >= 0 & telco$tenure_bin <= 12] <- \"0-1 year\"\n",
    "telco$tenure_bin[telco$tenure_bin > 12 & telco$tenure_bin <= 24] <- \"1-2 years\"\n",
    "telco$tenure_bin[telco$tenure_bin > 24 & telco$tenure_bin <= 36] <- \"2-3 years\"\n",
    "telco$tenure_bin[telco$tenure_bin > 36 & telco$tenure_bin <= 48] <- \"3-4 years\"\n",
    "telco$tenure_bin[telco$tenure_bin > 48 & telco$tenure_bin <= 60] <- \"4-5 years\"\n",
    "telco$tenure_bin[telco$tenure_bin > 60 & telco$tenure_bin <= 72] <- \"5-6 years\"\n",
    "\n",
    "telco$tenure_bin <- as.factor(telco$tenure_bin)"
   ]
  },
  {
   "cell_type": "code",
   "execution_count": 43,
   "metadata": {
    "vscode": {
     "languageId": "r"
    }
   },
   "outputs": [
    {
     "data": {
      "image/png": "[encoded data removed]",
      "text/plain": [
       "plot without title"
      ]
     },
     "metadata": {
      "image/png": {
       "height": 480,
       "width": 720
      }
     },
     "output_type": "display_data"
    }
   ],
   "source": [
    "# check the distribution\n",
    "ggplot(telco, aes(tenure_bin, fill = tenure_bin)) +\n",
    "    geom_bar() +\n",
    "    theme_bw()"
   ]
  },
  {
   "cell_type": "markdown",
   "metadata": {},
   "source": [
    "- We can see that most customers are either 5-6 years or 1-2 years tenure"
   ]
  },
  {
   "cell_type": "code",
   "execution_count": 44,
   "metadata": {
    "vscode": {
     "languageId": "r"
    }
   },
   "outputs": [
    {
     "data": {
      "text/html": [
       "<table class=\"dataframe\">\n",
       "<caption>A data.frame: 6 × 26</caption>\n",
       "<thead>\n",
       "\t<tr><th></th><th scope=col>gender</th><th scope=col>SeniorCitizen</th><th scope=col>Partner</th><th scope=col>Dependents</th><th scope=col>PhoneService</th><th scope=col>MultipleLines</th><th scope=col>InternetService.xFiber.optic</th><th scope=col>InternetService.xNo</th><th scope=col>OnlineSecurity</th><th scope=col>OnlineBackup</th><th scope=col>⋯</th><th scope=col>PaperlessBilling</th><th scope=col>PaymentMethod.xCredit.card..automatic.</th><th scope=col>PaymentMethod.xElectronic.check</th><th scope=col>PaymentMethod.xMailed.check</th><th scope=col>Churn</th><th scope=col>tenure_bin.x1.2.years</th><th scope=col>tenure_bin.x2.3.years</th><th scope=col>tenure_bin.x3.4.years</th><th scope=col>tenure_bin.x4.5.years</th><th scope=col>tenure_bin.x5.6.years</th></tr>\n",
       "\t<tr><th></th><th scope=col>&lt;dbl&gt;</th><th scope=col>&lt;dbl&gt;</th><th scope=col>&lt;dbl&gt;</th><th scope=col>&lt;dbl&gt;</th><th scope=col>&lt;dbl&gt;</th><th scope=col>&lt;dbl&gt;</th><th scope=col>&lt;dbl&gt;</th><th scope=col>&lt;dbl&gt;</th><th scope=col>&lt;dbl&gt;</th><th scope=col>&lt;dbl&gt;</th><th scope=col>⋯</th><th scope=col>&lt;dbl&gt;</th><th scope=col>&lt;dbl&gt;</th><th scope=col>&lt;dbl&gt;</th><th scope=col>&lt;dbl&gt;</th><th scope=col>&lt;dbl&gt;</th><th scope=col>&lt;dbl&gt;</th><th scope=col>&lt;dbl&gt;</th><th scope=col>&lt;dbl&gt;</th><th scope=col>&lt;dbl&gt;</th><th scope=col>&lt;dbl&gt;</th></tr>\n",
       "</thead>\n",
       "<tbody>\n",
       "\t<tr><th scope=row>1</th><td>0</td><td>0</td><td>1</td><td>0</td><td>0</td><td>0</td><td>0</td><td>0</td><td>0</td><td>1</td><td>⋯</td><td>1</td><td>0</td><td>1</td><td>0</td><td>0</td><td>0</td><td>0</td><td>0</td><td>0</td><td>0</td></tr>\n",
       "\t<tr><th scope=row>2</th><td>1</td><td>0</td><td>0</td><td>0</td><td>1</td><td>0</td><td>0</td><td>0</td><td>1</td><td>0</td><td>⋯</td><td>0</td><td>0</td><td>0</td><td>1</td><td>0</td><td>0</td><td>1</td><td>0</td><td>0</td><td>0</td></tr>\n",
       "\t<tr><th scope=row>3</th><td>1</td><td>0</td><td>0</td><td>0</td><td>1</td><td>0</td><td>0</td><td>0</td><td>1</td><td>1</td><td>⋯</td><td>1</td><td>0</td><td>0</td><td>1</td><td>1</td><td>0</td><td>0</td><td>0</td><td>0</td><td>0</td></tr>\n",
       "\t<tr><th scope=row>4</th><td>1</td><td>0</td><td>0</td><td>0</td><td>0</td><td>0</td><td>0</td><td>0</td><td>1</td><td>0</td><td>⋯</td><td>0</td><td>0</td><td>0</td><td>0</td><td>0</td><td>0</td><td>0</td><td>1</td><td>0</td><td>0</td></tr>\n",
       "\t<tr><th scope=row>5</th><td>0</td><td>0</td><td>0</td><td>0</td><td>1</td><td>0</td><td>1</td><td>0</td><td>0</td><td>0</td><td>⋯</td><td>1</td><td>0</td><td>1</td><td>0</td><td>1</td><td>0</td><td>0</td><td>0</td><td>0</td><td>0</td></tr>\n",
       "\t<tr><th scope=row>6</th><td>0</td><td>0</td><td>0</td><td>0</td><td>1</td><td>1</td><td>1</td><td>0</td><td>0</td><td>0</td><td>⋯</td><td>1</td><td>0</td><td>1</td><td>0</td><td>1</td><td>0</td><td>0</td><td>0</td><td>0</td><td>0</td></tr>\n",
       "</tbody>\n",
       "</table>\n"
      ],
      "text/latex": [
       "A data.frame: 6 × 26\n",
       "\\begin{tabular}{r|lllllllllllllllllllll}\n",
       "  & gender & SeniorCitizen & Partner & Dependents & PhoneService & MultipleLines & InternetService.xFiber.optic & InternetService.xNo & OnlineSecurity & OnlineBackup & ⋯ & PaperlessBilling & PaymentMethod.xCredit.card..automatic. & PaymentMethod.xElectronic.check & PaymentMethod.xMailed.check & Churn & tenure\\_bin.x1.2.years & tenure\\_bin.x2.3.years & tenure\\_bin.x3.4.years & tenure\\_bin.x4.5.years & tenure\\_bin.x5.6.years\\\\\n",
       "  & <dbl> & <dbl> & <dbl> & <dbl> & <dbl> & <dbl> & <dbl> & <dbl> & <dbl> & <dbl> & ⋯ & <dbl> & <dbl> & <dbl> & <dbl> & <dbl> & <dbl> & <dbl> & <dbl> & <dbl> & <dbl>\\\\\n",
       "\\hline\n",
       "\t1 & 0 & 0 & 1 & 0 & 0 & 0 & 0 & 0 & 0 & 1 & ⋯ & 1 & 0 & 1 & 0 & 0 & 0 & 0 & 0 & 0 & 0\\\\\n",
       "\t2 & 1 & 0 & 0 & 0 & 1 & 0 & 0 & 0 & 1 & 0 & ⋯ & 0 & 0 & 0 & 1 & 0 & 0 & 1 & 0 & 0 & 0\\\\\n",
       "\t3 & 1 & 0 & 0 & 0 & 1 & 0 & 0 & 0 & 1 & 1 & ⋯ & 1 & 0 & 0 & 1 & 1 & 0 & 0 & 0 & 0 & 0\\\\\n",
       "\t4 & 1 & 0 & 0 & 0 & 0 & 0 & 0 & 0 & 1 & 0 & ⋯ & 0 & 0 & 0 & 0 & 0 & 0 & 0 & 1 & 0 & 0\\\\\n",
       "\t5 & 0 & 0 & 0 & 0 & 1 & 0 & 1 & 0 & 0 & 0 & ⋯ & 1 & 0 & 1 & 0 & 1 & 0 & 0 & 0 & 0 & 0\\\\\n",
       "\t6 & 0 & 0 & 0 & 0 & 1 & 1 & 1 & 0 & 0 & 0 & ⋯ & 1 & 0 & 1 & 0 & 1 & 0 & 0 & 0 & 0 & 0\\\\\n",
       "\\end{tabular}\n"
      ],
      "text/markdown": [
       "\n",
       "A data.frame: 6 × 26\n",
       "\n",
       "| <!--/--> | gender &lt;dbl&gt; | SeniorCitizen &lt;dbl&gt; | Partner &lt;dbl&gt; | Dependents &lt;dbl&gt; | PhoneService &lt;dbl&gt; | MultipleLines &lt;dbl&gt; | InternetService.xFiber.optic &lt;dbl&gt; | InternetService.xNo &lt;dbl&gt; | OnlineSecurity &lt;dbl&gt; | OnlineBackup &lt;dbl&gt; | ⋯ ⋯ | PaperlessBilling &lt;dbl&gt; | PaymentMethod.xCredit.card..automatic. &lt;dbl&gt; | PaymentMethod.xElectronic.check &lt;dbl&gt; | PaymentMethod.xMailed.check &lt;dbl&gt; | Churn &lt;dbl&gt; | tenure_bin.x1.2.years &lt;dbl&gt; | tenure_bin.x2.3.years &lt;dbl&gt; | tenure_bin.x3.4.years &lt;dbl&gt; | tenure_bin.x4.5.years &lt;dbl&gt; | tenure_bin.x5.6.years &lt;dbl&gt; |\n",
       "|---|---|---|---|---|---|---|---|---|---|---|---|---|---|---|---|---|---|---|---|---|---|\n",
       "| 1 | 0 | 0 | 1 | 0 | 0 | 0 | 0 | 0 | 0 | 1 | ⋯ | 1 | 0 | 1 | 0 | 0 | 0 | 0 | 0 | 0 | 0 |\n",
       "| 2 | 1 | 0 | 0 | 0 | 1 | 0 | 0 | 0 | 1 | 0 | ⋯ | 0 | 0 | 0 | 1 | 0 | 0 | 1 | 0 | 0 | 0 |\n",
       "| 3 | 1 | 0 | 0 | 0 | 1 | 0 | 0 | 0 | 1 | 1 | ⋯ | 1 | 0 | 0 | 1 | 1 | 0 | 0 | 0 | 0 | 0 |\n",
       "| 4 | 1 | 0 | 0 | 0 | 0 | 0 | 0 | 0 | 1 | 0 | ⋯ | 0 | 0 | 0 | 0 | 0 | 0 | 0 | 1 | 0 | 0 |\n",
       "| 5 | 0 | 0 | 0 | 0 | 1 | 0 | 1 | 0 | 0 | 0 | ⋯ | 1 | 0 | 1 | 0 | 1 | 0 | 0 | 0 | 0 | 0 |\n",
       "| 6 | 0 | 0 | 0 | 0 | 1 | 1 | 1 | 0 | 0 | 0 | ⋯ | 1 | 0 | 1 | 0 | 1 | 0 | 0 | 0 | 0 | 0 |\n",
       "\n"
      ],
      "text/plain": [
       "  gender SeniorCitizen Partner Dependents PhoneService MultipleLines\n",
       "1 0      0             1       0          0            0            \n",
       "2 1      0             0       0          1            0            \n",
       "3 1      0             0       0          1            0            \n",
       "4 1      0             0       0          0            0            \n",
       "5 0      0             0       0          1            0            \n",
       "6 0      0             0       0          1            1            \n",
       "  InternetService.xFiber.optic InternetService.xNo OnlineSecurity OnlineBackup\n",
       "1 0                            0                   0              1           \n",
       "2 0                            0                   1              0           \n",
       "3 0                            0                   1              1           \n",
       "4 0                            0                   1              0           \n",
       "5 1                            0                   0              0           \n",
       "6 1                            0                   0              0           \n",
       "  ⋯ PaperlessBilling PaymentMethod.xCredit.card..automatic.\n",
       "1 ⋯ 1                0                                     \n",
       "2 ⋯ 0                0                                     \n",
       "3 ⋯ 1                0                                     \n",
       "4 ⋯ 0                0                                     \n",
       "5 ⋯ 1                0                                     \n",
       "6 ⋯ 1                0                                     \n",
       "  PaymentMethod.xElectronic.check PaymentMethod.xMailed.check Churn\n",
       "1 1                               0                           0    \n",
       "2 0                               1                           0    \n",
       "3 0                               1                           1    \n",
       "4 0                               0                           0    \n",
       "5 1                               0                           1    \n",
       "6 1                               0                           1    \n",
       "  tenure_bin.x1.2.years tenure_bin.x2.3.years tenure_bin.x3.4.years\n",
       "1 0                     0                     0                    \n",
       "2 0                     1                     0                    \n",
       "3 0                     0                     0                    \n",
       "4 0                     0                     1                    \n",
       "5 0                     0                     0                    \n",
       "6 0                     0                     0                    \n",
       "  tenure_bin.x4.5.years tenure_bin.x5.6.years\n",
       "1 0                     0                    \n",
       "2 0                     0                    \n",
       "3 0                     0                    \n",
       "4 0                     0                    \n",
       "5 0                     0                    \n",
       "6 0                     0                    "
      ]
     },
     "metadata": {},
     "output_type": "display_data"
    }
   ],
   "source": [
    "# dummy variables\n",
    "telco_cat <- telco[,-c(1,6,19,20)]\n",
    "\n",
    "dummy <- data.frame(sapply(telco_cat, function(x) data.frame(model.matrix(~x-1, data = telco_cat))[,-1]))\n",
    "\n",
    "head(dummy)"
   ]
  },
  {
   "cell_type": "code",
   "execution_count": 45,
   "metadata": {
    "vscode": {
     "languageId": "r"
    }
   },
   "outputs": [
    {
     "data": {
      "text/html": [
       "<table class=\"dataframe\">\n",
       "<caption>A data.frame: 2 × 29</caption>\n",
       "<thead>\n",
       "\t<tr><th></th><th scope=col>tenure</th><th scope=col>MonthlyCharges</th><th scope=col>TotalCharges</th><th scope=col>gender</th><th scope=col>SeniorCitizen</th><th scope=col>Partner</th><th scope=col>Dependents</th><th scope=col>PhoneService</th><th scope=col>MultipleLines</th><th scope=col>InternetService.xFiber.optic</th><th scope=col>⋯</th><th scope=col>PaperlessBilling</th><th scope=col>PaymentMethod.xCredit.card..automatic.</th><th scope=col>PaymentMethod.xElectronic.check</th><th scope=col>PaymentMethod.xMailed.check</th><th scope=col>Churn</th><th scope=col>tenure_bin.x1.2.years</th><th scope=col>tenure_bin.x2.3.years</th><th scope=col>tenure_bin.x3.4.years</th><th scope=col>tenure_bin.x4.5.years</th><th scope=col>tenure_bin.x5.6.years</th></tr>\n",
       "\t<tr><th></th><th scope=col>&lt;dbl&gt;</th><th scope=col>&lt;dbl&gt;</th><th scope=col>&lt;dbl&gt;</th><th scope=col>&lt;dbl&gt;</th><th scope=col>&lt;dbl&gt;</th><th scope=col>&lt;dbl&gt;</th><th scope=col>&lt;dbl&gt;</th><th scope=col>&lt;dbl&gt;</th><th scope=col>&lt;dbl&gt;</th><th scope=col>&lt;dbl&gt;</th><th scope=col>⋯</th><th scope=col>&lt;dbl&gt;</th><th scope=col>&lt;dbl&gt;</th><th scope=col>&lt;dbl&gt;</th><th scope=col>&lt;dbl&gt;</th><th scope=col>&lt;dbl&gt;</th><th scope=col>&lt;dbl&gt;</th><th scope=col>&lt;dbl&gt;</th><th scope=col>&lt;dbl&gt;</th><th scope=col>&lt;dbl&gt;</th><th scope=col>&lt;dbl&gt;</th></tr>\n",
       "</thead>\n",
       "<tbody>\n",
       "\t<tr><th scope=row>1</th><td>-1.28015700</td><td>-1.1616113</td><td>-0.9941234</td><td>0</td><td>0</td><td>1</td><td>0</td><td>0</td><td>0</td><td>0</td><td>⋯</td><td>1</td><td>0</td><td>1</td><td>0</td><td>0</td><td>0</td><td>0</td><td>0</td><td>0</td><td>0</td></tr>\n",
       "\t<tr><th scope=row>2</th><td> 0.06429811</td><td>-0.2608594</td><td>-0.1737275</td><td>1</td><td>0</td><td>0</td><td>0</td><td>1</td><td>0</td><td>0</td><td>⋯</td><td>0</td><td>0</td><td>0</td><td>1</td><td>0</td><td>0</td><td>1</td><td>0</td><td>0</td><td>0</td></tr>\n",
       "</tbody>\n",
       "</table>\n"
      ],
      "text/latex": [
       "A data.frame: 2 × 29\n",
       "\\begin{tabular}{r|lllllllllllllllllllll}\n",
       "  & tenure & MonthlyCharges & TotalCharges & gender & SeniorCitizen & Partner & Dependents & PhoneService & MultipleLines & InternetService.xFiber.optic & ⋯ & PaperlessBilling & PaymentMethod.xCredit.card..automatic. & PaymentMethod.xElectronic.check & PaymentMethod.xMailed.check & Churn & tenure\\_bin.x1.2.years & tenure\\_bin.x2.3.years & tenure\\_bin.x3.4.years & tenure\\_bin.x4.5.years & tenure\\_bin.x5.6.years\\\\\n",
       "  & <dbl> & <dbl> & <dbl> & <dbl> & <dbl> & <dbl> & <dbl> & <dbl> & <dbl> & <dbl> & ⋯ & <dbl> & <dbl> & <dbl> & <dbl> & <dbl> & <dbl> & <dbl> & <dbl> & <dbl> & <dbl>\\\\\n",
       "\\hline\n",
       "\t1 & -1.28015700 & -1.1616113 & -0.9941234 & 0 & 0 & 1 & 0 & 0 & 0 & 0 & ⋯ & 1 & 0 & 1 & 0 & 0 & 0 & 0 & 0 & 0 & 0\\\\\n",
       "\t2 &  0.06429811 & -0.2608594 & -0.1737275 & 1 & 0 & 0 & 0 & 1 & 0 & 0 & ⋯ & 0 & 0 & 0 & 1 & 0 & 0 & 1 & 0 & 0 & 0\\\\\n",
       "\\end{tabular}\n"
      ],
      "text/markdown": [
       "\n",
       "A data.frame: 2 × 29\n",
       "\n",
       "| <!--/--> | tenure &lt;dbl&gt; | MonthlyCharges &lt;dbl&gt; | TotalCharges &lt;dbl&gt; | gender &lt;dbl&gt; | SeniorCitizen &lt;dbl&gt; | Partner &lt;dbl&gt; | Dependents &lt;dbl&gt; | PhoneService &lt;dbl&gt; | MultipleLines &lt;dbl&gt; | InternetService.xFiber.optic &lt;dbl&gt; | ⋯ ⋯ | PaperlessBilling &lt;dbl&gt; | PaymentMethod.xCredit.card..automatic. &lt;dbl&gt; | PaymentMethod.xElectronic.check &lt;dbl&gt; | PaymentMethod.xMailed.check &lt;dbl&gt; | Churn &lt;dbl&gt; | tenure_bin.x1.2.years &lt;dbl&gt; | tenure_bin.x2.3.years &lt;dbl&gt; | tenure_bin.x3.4.years &lt;dbl&gt; | tenure_bin.x4.5.years &lt;dbl&gt; | tenure_bin.x5.6.years &lt;dbl&gt; |\n",
       "|---|---|---|---|---|---|---|---|---|---|---|---|---|---|---|---|---|---|---|---|---|---|\n",
       "| 1 | -1.28015700 | -1.1616113 | -0.9941234 | 0 | 0 | 1 | 0 | 0 | 0 | 0 | ⋯ | 1 | 0 | 1 | 0 | 0 | 0 | 0 | 0 | 0 | 0 |\n",
       "| 2 |  0.06429811 | -0.2608594 | -0.1737275 | 1 | 0 | 0 | 0 | 1 | 0 | 0 | ⋯ | 0 | 0 | 0 | 1 | 0 | 0 | 1 | 0 | 0 | 0 |\n",
       "\n"
      ],
      "text/plain": [
       "  tenure      MonthlyCharges TotalCharges gender SeniorCitizen Partner\n",
       "1 -1.28015700 -1.1616113     -0.9941234   0      0             1      \n",
       "2  0.06429811 -0.2608594     -0.1737275   1      0             0      \n",
       "  Dependents PhoneService MultipleLines InternetService.xFiber.optic ⋯\n",
       "1 0          0            0             0                            ⋯\n",
       "2 0          1            0             0                            ⋯\n",
       "  PaperlessBilling PaymentMethod.xCredit.card..automatic.\n",
       "1 1                0                                     \n",
       "2 0                0                                     \n",
       "  PaymentMethod.xElectronic.check PaymentMethod.xMailed.check Churn\n",
       "1 1                               0                           0    \n",
       "2 0                               1                           0    \n",
       "  tenure_bin.x1.2.years tenure_bin.x2.3.years tenure_bin.x3.4.years\n",
       "1 0                     0                     0                    \n",
       "2 0                     1                     0                    \n",
       "  tenure_bin.x4.5.years tenure_bin.x5.6.years\n",
       "1 0                     0                    \n",
       "2 0                     0                    "
      ]
     },
     "metadata": {},
     "output_type": "display_data"
    }
   ],
   "source": [
    "# combine the data\n",
    "telco_final <- cbind(telco_int, dummy)\n",
    "head(telco_final, 2)"
   ]
  },
  {
   "cell_type": "code",
   "execution_count": 47,
   "metadata": {
    "vscode": {
     "languageId": "r"
    }
   },
   "outputs": [],
   "source": [
    "# train test split\n",
    "set.seed(123)\n",
    "indices = sample.split(telco_final$Churn, SplitRatio = 0.7)\n",
    "train = telco_final[indices,]\n",
    "validation = telco_final[!(indices),]"
   ]
  },
  {
   "cell_type": "code",
   "execution_count": 48,
   "metadata": {
    "vscode": {
     "languageId": "r"
    }
   },
   "outputs": [
    {
     "data": {
      "text/plain": [
       "\n",
       "Call:\n",
       "glm(formula = Churn ~ ., family = \"binomial\", data = train)\n",
       "\n",
       "Coefficients:\n",
       "                                        Estimate Std. Error z value Pr(>|z|)\n",
       "(Intercept)                            -4.711690   1.580952  -2.980 0.002880\n",
       "tenure                                 -2.419264   0.319733  -7.567 3.83e-14\n",
       "MonthlyCharges                         -1.523039   1.152472  -1.322 0.186321\n",
       "TotalCharges                            0.236922   0.200225   1.183 0.236699\n",
       "gender                                 -0.004319   0.078799  -0.055 0.956292\n",
       "SeniorCitizen                           0.342668   0.102039   3.358 0.000784\n",
       "Partner                                 0.049639   0.095330   0.521 0.602570\n",
       "Dependents                             -0.148501   0.110427  -1.345 0.178693\n",
       "PhoneService                            0.597310   0.785026   0.761 0.446729\n",
       "MultipleLines                           0.529622   0.214832   2.465 0.013691\n",
       "InternetService.xFiber.optic            2.048017   0.960709   2.132 0.033025\n",
       "InternetService.xNo                    -2.254724   0.975826  -2.311 0.020856\n",
       "OnlineSecurity                         -0.177982   0.215524  -0.826 0.408913\n",
       "OnlineBackup                            0.126834   0.211103   0.601 0.547964\n",
       "DeviceProtection                        0.255562   0.213872   1.195 0.232114\n",
       "TechSupport                            -0.026070   0.215506  -0.121 0.903713\n",
       "StreamingTV                             0.756980   0.393508   1.924 0.054396\n",
       "StreamingMovies                         0.710913   0.394744   1.801 0.071711\n",
       "Contract.xOne.year                     -0.693044   0.130362  -5.316 1.06e-07\n",
       "Contract.xTwo.year                     -1.657976   0.233538  -7.099 1.25e-12\n",
       "PaperlessBilling                        0.384841   0.090753   4.241 2.23e-05\n",
       "PaymentMethod.xCredit.card..automatic. -0.050640   0.137167  -0.369 0.711991\n",
       "PaymentMethod.xElectronic.check         0.249223   0.113791   2.190 0.028512\n",
       "PaymentMethod.xMailed.check            -0.076660   0.138636  -0.553 0.580291\n",
       "tenure_bin.x1.2.years                   0.147347   0.191048   0.771 0.440556\n",
       "tenure_bin.x2.3.years                   0.964780   0.314795   3.065 0.002178\n",
       "tenure_bin.x3.4.years                   1.955341   0.447108   4.373 1.22e-05\n",
       "tenure_bin.x4.5.years                   2.801222   0.582303   4.811 1.50e-06\n",
       "tenure_bin.x5.6.years                   3.598926   0.728585   4.940 7.83e-07\n",
       "                                          \n",
       "(Intercept)                            ** \n",
       "tenure                                 ***\n",
       "MonthlyCharges                            \n",
       "TotalCharges                              \n",
       "gender                                    \n",
       "SeniorCitizen                          ***\n",
       "Partner                                   \n",
       "Dependents                                \n",
       "PhoneService                              \n",
       "MultipleLines                          *  \n",
       "InternetService.xFiber.optic           *  \n",
       "InternetService.xNo                    *  \n",
       "OnlineSecurity                            \n",
       "OnlineBackup                              \n",
       "DeviceProtection                          \n",
       "TechSupport                               \n",
       "StreamingTV                            .  \n",
       "StreamingMovies                        .  \n",
       "Contract.xOne.year                     ***\n",
       "Contract.xTwo.year                     ***\n",
       "PaperlessBilling                       ***\n",
       "PaymentMethod.xCredit.card..automatic.    \n",
       "PaymentMethod.xElectronic.check        *  \n",
       "PaymentMethod.xMailed.check               \n",
       "tenure_bin.x1.2.years                     \n",
       "tenure_bin.x2.3.years                  ** \n",
       "tenure_bin.x3.4.years                  ***\n",
       "tenure_bin.x4.5.years                  ***\n",
       "tenure_bin.x5.6.years                  ***\n",
       "---\n",
       "Signif. codes:  0 '***' 0.001 '**' 0.01 '*' 0.05 '.' 0.1 ' ' 1\n",
       "\n",
       "(Dispersion parameter for binomial family taken to be 1)\n",
       "\n",
       "    Null deviance: 5699.5  on 4921  degrees of freedom\n",
       "Residual deviance: 3983.3  on 4893  degrees of freedom\n",
       "AIC: 4041.3\n",
       "\n",
       "Number of Fisher Scoring iterations: 6\n"
      ]
     },
     "metadata": {},
     "output_type": "display_data"
    }
   ],
   "source": [
    "# logistic regression\n",
    "model_1 = glm(Churn ~ ., data = train, family = \"binomial\")\n",
    "summary(model_1)"
   ]
  },
  {
   "cell_type": "markdown",
   "metadata": {},
   "source": [
    "Use StepAIC for variable selection - remove variable iteratively to get a subset of variable that gives the best performing model. "
   ]
  },
  {
   "cell_type": "code",
   "execution_count": 58,
   "metadata": {
    "vscode": {
     "languageId": "r"
    }
   },
   "outputs": [
    {
     "name": "stdout",
     "output_type": "stream",
     "text": [
      "Start:  AIC=4041.29\n",
      "Churn ~ tenure + MonthlyCharges + TotalCharges + gender + SeniorCitizen + \n",
      "    Partner + Dependents + PhoneService + MultipleLines + InternetService.xFiber.optic + \n",
      "    InternetService.xNo + OnlineSecurity + OnlineBackup + DeviceProtection + \n",
      "    TechSupport + StreamingTV + StreamingMovies + Contract.xOne.year + \n",
      "    Contract.xTwo.year + PaperlessBilling + PaymentMethod.xCredit.card..automatic. + \n",
      "    PaymentMethod.xElectronic.check + PaymentMethod.xMailed.check + \n",
      "    tenure_bin.x1.2.years + tenure_bin.x2.3.years + tenure_bin.x3.4.years + \n",
      "    tenure_bin.x4.5.years + tenure_bin.x5.6.years\n",
      "\n"
     ]
    },
    {
     "name": "stdout",
     "output_type": "stream",
     "text": [
      "                                         Df Deviance    AIC\n",
      "- gender                                  1   3983.3 4039.3\n",
      "- TechSupport                             1   3983.3 4039.3\n",
      "- PaymentMethod.xCredit.card..automatic.  1   3983.4 4039.4\n",
      "- Partner                                 1   3983.6 4039.6\n",
      "- PaymentMethod.xMailed.check             1   3983.6 4039.6\n",
      "- OnlineBackup                            1   3983.7 4039.7\n",
      "- PhoneService                            1   3983.9 4039.9\n",
      "- tenure_bin.x1.2.years                   1   3983.9 4039.9\n",
      "- OnlineSecurity                          1   3984.0 4040.0\n",
      "- DeviceProtection                        1   3984.7 4040.7\n",
      "- TotalCharges                            1   3984.7 4040.7\n",
      "- MonthlyCharges                          1   3985.0 4041.0\n",
      "- Dependents                              1   3985.1 4041.1\n",
      "<none>                                        3983.3 4041.3\n",
      "- StreamingMovies                         1   3986.5 4042.5\n",
      "- StreamingTV                             1   3987.0 4043.0\n",
      "- InternetService.xFiber.optic            1   3987.8 4043.8\n",
      "- PaymentMethod.xElectronic.check         1   3988.1 4044.1\n",
      "- InternetService.xNo                     1   3988.6 4044.6\n",
      "- MultipleLines                           1   3989.4 4045.4\n",
      "- tenure_bin.x2.3.years                   1   3992.7 4048.7\n",
      "- SeniorCitizen                           1   3994.5 4050.5\n",
      "- PaperlessBilling                        1   4001.4 4057.4\n",
      "- tenure_bin.x3.4.years                   1   4002.5 4058.5\n",
      "- tenure_bin.x4.5.years                   1   4006.6 4062.6\n",
      "- tenure_bin.x5.6.years                   1   4007.9 4063.9\n",
      "- Contract.xOne.year                      1   4012.9 4068.9\n",
      "- tenure                                  1   4042.6 4098.6\n",
      "- Contract.xTwo.year                      1   4046.3 4102.3\n",
      "\n",
      "Step:  AIC=4039.29\n",
      "Churn ~ tenure + MonthlyCharges + TotalCharges + SeniorCitizen + \n",
      "    Partner + Dependents + PhoneService + MultipleLines + InternetService.xFiber.optic + \n",
      "    InternetService.xNo + OnlineSecurity + OnlineBackup + DeviceProtection + \n",
      "    TechSupport + StreamingTV + StreamingMovies + Contract.xOne.year + \n",
      "    Contract.xTwo.year + PaperlessBilling + PaymentMethod.xCredit.card..automatic. + \n",
      "    PaymentMethod.xElectronic.check + PaymentMethod.xMailed.check + \n",
      "    tenure_bin.x1.2.years + tenure_bin.x2.3.years + tenure_bin.x3.4.years + \n",
      "    tenure_bin.x4.5.years + tenure_bin.x5.6.years\n",
      "\n",
      "                                         Df Deviance    AIC\n",
      "- TechSupport                             1   3983.3 4037.3\n",
      "- PaymentMethod.xCredit.card..automatic.  1   3983.4 4037.4\n",
      "- Partner                                 1   3983.6 4037.6\n",
      "- PaymentMethod.xMailed.check             1   3983.6 4037.6\n",
      "- OnlineBackup                            1   3983.7 4037.7\n",
      "- PhoneService                            1   3983.9 4037.9\n",
      "- tenure_bin.x1.2.years                   1   3983.9 4037.9\n",
      "- OnlineSecurity                          1   3984.0 4038.0\n",
      "- TotalCharges                            1   3984.7 4038.7\n",
      "- DeviceProtection                        1   3984.7 4038.7\n",
      "- MonthlyCharges                          1   3985.0 4039.0\n",
      "- Dependents                              1   3985.1 4039.1\n",
      "<none>                                        3983.3 4039.3\n",
      "- StreamingMovies                         1   3986.6 4040.6\n",
      "- StreamingTV                             1   3987.0 4041.0\n",
      "+ gender                                  1   3983.3 4041.3\n",
      "- InternetService.xFiber.optic            1   3987.9 4041.9\n",
      "- PaymentMethod.xElectronic.check         1   3988.1 4042.1\n",
      "- InternetService.xNo                     1   3988.6 4042.6\n",
      "- MultipleLines                           1   3989.4 4043.4\n",
      "- tenure_bin.x2.3.years                   1   3992.7 4046.7\n",
      "- SeniorCitizen                           1   3994.6 4048.6\n",
      "- PaperlessBilling                        1   4001.4 4055.4\n",
      "- tenure_bin.x3.4.years                   1   4002.6 4056.6\n",
      "- tenure_bin.x4.5.years                   1   4006.6 4060.6\n",
      "- tenure_bin.x5.6.years                   1   4007.9 4061.9\n",
      "- Contract.xOne.year                      1   4012.9 4066.9\n",
      "- tenure                                  1   4042.6 4096.6\n",
      "- Contract.xTwo.year                      1   4046.3 4100.3\n",
      "\n",
      "Step:  AIC=4037.31\n",
      "Churn ~ tenure + MonthlyCharges + TotalCharges + SeniorCitizen + \n",
      "    Partner + Dependents + PhoneService + MultipleLines + InternetService.xFiber.optic + \n",
      "    InternetService.xNo + OnlineSecurity + OnlineBackup + DeviceProtection + \n",
      "    StreamingTV + StreamingMovies + Contract.xOne.year + Contract.xTwo.year + \n",
      "    PaperlessBilling + PaymentMethod.xCredit.card..automatic. + \n",
      "    PaymentMethod.xElectronic.check + PaymentMethod.xMailed.check + \n",
      "    tenure_bin.x1.2.years + tenure_bin.x2.3.years + tenure_bin.x3.4.years + \n",
      "    tenure_bin.x4.5.years + tenure_bin.x5.6.years\n",
      "\n",
      "                                         Df Deviance    AIC\n",
      "- PaymentMethod.xCredit.card..automatic.  1   3983.4 4035.4\n",
      "- Partner                                 1   3983.6 4035.6\n",
      "- PaymentMethod.xMailed.check             1   3983.6 4035.6\n",
      "- tenure_bin.x1.2.years                   1   3983.9 4035.9\n",
      "- OnlineBackup                            1   3984.6 4036.6\n",
      "- OnlineSecurity                          1   3984.6 4036.6\n",
      "- TotalCharges                            1   3984.7 4036.7\n",
      "- Dependents                              1   3985.1 4037.1\n",
      "<none>                                        3983.3 4037.3\n",
      "- PhoneService                            1   3986.2 4038.2\n",
      "+ TechSupport                             1   3983.3 4039.3\n",
      "+ gender                                  1   3983.3 4039.3\n",
      "- DeviceProtection                        1   3987.5 4039.5\n",
      "- PaymentMethod.xElectronic.check         1   3988.1 4040.1\n",
      "- MonthlyCharges                          1   3992.2 4044.2\n",
      "- tenure_bin.x2.3.years                   1   3992.8 4044.8\n",
      "- SeniorCitizen                           1   3994.6 4046.6\n",
      "- StreamingMovies                         1   3996.4 4048.4\n",
      "- StreamingTV                             1   3997.9 4049.9\n",
      "- MultipleLines                           1   4000.8 4052.8\n",
      "- PaperlessBilling                        1   4001.4 4053.4\n",
      "- tenure_bin.x3.4.years                   1   4002.6 4054.6\n",
      "- InternetService.xNo                     1   4004.4 4056.4\n",
      "- InternetService.xFiber.optic            1   4005.7 4057.7\n",
      "- tenure_bin.x4.5.years                   1   4006.7 4058.7\n",
      "- tenure_bin.x5.6.years                   1   4008.0 4060.0\n",
      "- Contract.xOne.year                      1   4013.1 4065.1\n",
      "- tenure                                  1   4042.7 4094.7\n",
      "- Contract.xTwo.year                      1   4046.8 4098.8\n",
      "\n",
      "Step:  AIC=4035.44\n",
      "Churn ~ tenure + MonthlyCharges + TotalCharges + SeniorCitizen + \n",
      "    Partner + Dependents + PhoneService + MultipleLines + InternetService.xFiber.optic + \n",
      "    InternetService.xNo + OnlineSecurity + OnlineBackup + DeviceProtection + \n",
      "    StreamingTV + StreamingMovies + Contract.xOne.year + Contract.xTwo.year + \n",
      "    PaperlessBilling + PaymentMethod.xElectronic.check + PaymentMethod.xMailed.check + \n",
      "    tenure_bin.x1.2.years + tenure_bin.x2.3.years + tenure_bin.x3.4.years + \n",
      "    tenure_bin.x4.5.years + tenure_bin.x5.6.years\n",
      "\n",
      "                                         Df Deviance    AIC\n",
      "- PaymentMethod.xMailed.check             1   3983.6 4033.6\n",
      "- Partner                                 1   3983.7 4033.7\n",
      "- tenure_bin.x1.2.years                   1   3984.0 4034.0\n",
      "- OnlineBackup                            1   3984.7 4034.7\n",
      "- OnlineSecurity                          1   3984.7 4034.7\n",
      "- TotalCharges                            1   3984.9 4034.9\n",
      "- Dependents                              1   3985.3 4035.3\n",
      "<none>                                        3983.4 4035.4\n",
      "- PhoneService                            1   3986.3 4036.3\n",
      "+ PaymentMethod.xCredit.card..automatic.  1   3983.3 4037.3\n",
      "+ TechSupport                             1   3983.4 4037.4\n",
      "+ gender                                  1   3983.4 4037.4\n",
      "- DeviceProtection                        1   3987.6 4037.6\n",
      "- PaymentMethod.xElectronic.check         1   3991.9 4041.9\n",
      "- MonthlyCharges                          1   3992.3 4042.3\n",
      "- tenure_bin.x2.3.years                   1   3992.8 4042.8\n",
      "- SeniorCitizen                           1   3994.8 4044.8\n",
      "- StreamingMovies                         1   3996.5 4046.5\n",
      "- StreamingTV                             1   3998.1 4048.1\n",
      "- MultipleLines                           1   4000.9 4050.9\n",
      "- PaperlessBilling                        1   4001.6 4051.6\n",
      "- tenure_bin.x3.4.years                   1   4002.7 4052.7\n",
      "- InternetService.xNo                     1   4004.5 4054.5\n",
      "- InternetService.xFiber.optic            1   4005.8 4055.8\n",
      "- tenure_bin.x4.5.years                   1   4006.8 4056.8\n",
      "- tenure_bin.x5.6.years                   1   4008.0 4058.0\n",
      "- Contract.xOne.year                      1   4013.3 4063.3\n",
      "- tenure                                  1   4042.8 4092.8\n",
      "- Contract.xTwo.year                      1   4047.0 4097.0\n",
      "\n",
      "Step:  AIC=4033.63\n",
      "Churn ~ tenure + MonthlyCharges + TotalCharges + SeniorCitizen + \n",
      "    Partner + Dependents + PhoneService + MultipleLines + InternetService.xFiber.optic + \n",
      "    InternetService.xNo + OnlineSecurity + OnlineBackup + DeviceProtection + \n",
      "    StreamingTV + StreamingMovies + Contract.xOne.year + Contract.xTwo.year + \n",
      "    PaperlessBilling + PaymentMethod.xElectronic.check + tenure_bin.x1.2.years + \n",
      "    tenure_bin.x2.3.years + tenure_bin.x3.4.years + tenure_bin.x4.5.years + \n",
      "    tenure_bin.x5.6.years\n",
      "\n",
      "                                         Df Deviance    AIC\n",
      "- Partner                                 1   3983.9 4031.9\n",
      "- tenure_bin.x1.2.years                   1   3984.2 4032.2\n",
      "- OnlineSecurity                          1   3984.9 4032.9\n",
      "- OnlineBackup                            1   3984.9 4032.9\n",
      "- TotalCharges                            1   3985.0 4033.0\n",
      "- Dependents                              1   3985.5 4033.5\n",
      "<none>                                        3983.6 4033.6\n",
      "- PhoneService                            1   3986.5 4034.5\n",
      "+ PaymentMethod.xMailed.check             1   3983.4 4035.4\n",
      "+ TechSupport                             1   3983.6 4035.6\n",
      "+ PaymentMethod.xCredit.card..automatic.  1   3983.6 4035.6\n",
      "+ gender                                  1   3983.6 4035.6\n",
      "- DeviceProtection                        1   3987.8 4035.8\n",
      "- MonthlyCharges                          1   3992.5 4040.5\n",
      "- tenure_bin.x2.3.years                   1   3993.0 4041.0\n",
      "- SeniorCitizen                           1   3995.0 4043.0\n",
      "- PaymentMethod.xElectronic.check         1   3995.4 4043.4\n",
      "- StreamingMovies                         1   3996.8 4044.8\n",
      "- StreamingTV                             1   3998.3 4046.3\n",
      "- MultipleLines                           1   4001.3 4049.3\n",
      "- PaperlessBilling                        1   4001.9 4049.9\n",
      "- tenure_bin.x3.4.years                   1   4002.8 4050.8\n",
      "- InternetService.xNo                     1   4005.0 4053.0\n",
      "- InternetService.xFiber.optic            1   4006.2 4054.2\n",
      "- tenure_bin.x4.5.years                   1   4006.8 4054.8\n",
      "- tenure_bin.x5.6.years                   1   4008.1 4056.1\n",
      "- Contract.xOne.year                      1   4013.5 4061.5\n",
      "- tenure                                  1   4043.0 4091.0\n",
      "- Contract.xTwo.year                      1   4047.1 4095.1\n",
      "\n",
      "Step:  AIC=4031.93\n",
      "Churn ~ tenure + MonthlyCharges + TotalCharges + SeniorCitizen + \n",
      "    Dependents + PhoneService + MultipleLines + InternetService.xFiber.optic + \n",
      "    InternetService.xNo + OnlineSecurity + OnlineBackup + DeviceProtection + \n",
      "    StreamingTV + StreamingMovies + Contract.xOne.year + Contract.xTwo.year + \n",
      "    PaperlessBilling + PaymentMethod.xElectronic.check + tenure_bin.x1.2.years + \n",
      "    tenure_bin.x2.3.years + tenure_bin.x3.4.years + tenure_bin.x4.5.years + \n",
      "    tenure_bin.x5.6.years\n",
      "\n",
      "                                         Df Deviance    AIC\n",
      "- tenure_bin.x1.2.years                   1   3984.5 4030.5\n",
      "- OnlineSecurity                          1   3985.2 4031.2\n",
      "- OnlineBackup                            1   3985.2 4031.2\n",
      "- TotalCharges                            1   3985.3 4031.3\n",
      "- Dependents                              1   3985.5 4031.5\n",
      "<none>                                        3983.9 4031.9\n",
      "- PhoneService                            1   3986.8 4032.8\n",
      "+ Partner                                 1   3983.6 4033.6\n",
      "+ PaymentMethod.xMailed.check             1   3983.7 4033.7\n",
      "+ PaymentMethod.xCredit.card..automatic.  1   3983.9 4033.9\n",
      "+ TechSupport                             1   3983.9 4033.9\n",
      "+ gender                                  1   3983.9 4033.9\n",
      "- DeviceProtection                        1   3988.2 4034.2\n",
      "- MonthlyCharges                          1   3992.9 4038.9\n",
      "- tenure_bin.x2.3.years                   1   3993.2 4039.2\n",
      "- PaymentMethod.xElectronic.check         1   3995.7 4041.7\n",
      "- SeniorCitizen                           1   3995.7 4041.7\n",
      "- StreamingMovies                         1   3997.2 4043.2\n",
      "- StreamingTV                             1   3998.7 4044.7\n",
      "- MultipleLines                           1   4001.7 4047.7\n",
      "- PaperlessBilling                        1   4002.3 4048.3\n",
      "- tenure_bin.x3.4.years                   1   4002.9 4048.9\n",
      "- InternetService.xNo                     1   4005.4 4051.4\n",
      "- InternetService.xFiber.optic            1   4006.7 4052.7\n",
      "- tenure_bin.x4.5.years                   1   4007.0 4053.0\n",
      "- tenure_bin.x5.6.years                   1   4008.2 4054.2\n",
      "- Contract.xOne.year                      1   4013.8 4059.8\n",
      "- tenure                                  1   4043.0 4089.0\n",
      "- Contract.xTwo.year                      1   4047.5 4093.5\n",
      "\n",
      "Step:  AIC=4030.5\n",
      "Churn ~ tenure + MonthlyCharges + TotalCharges + SeniorCitizen + \n",
      "    Dependents + PhoneService + MultipleLines + InternetService.xFiber.optic + \n",
      "    InternetService.xNo + OnlineSecurity + OnlineBackup + DeviceProtection + \n",
      "    StreamingTV + StreamingMovies + Contract.xOne.year + Contract.xTwo.year + \n",
      "    PaperlessBilling + PaymentMethod.xElectronic.check + tenure_bin.x2.3.years + \n",
      "    tenure_bin.x3.4.years + tenure_bin.x4.5.years + tenure_bin.x5.6.years\n",
      "\n",
      "                                         Df Deviance    AIC\n",
      "- TotalCharges                            1   3985.8 4029.8\n",
      "- OnlineBackup                            1   3985.8 4029.8\n",
      "- OnlineSecurity                          1   3985.8 4029.8\n",
      "- Dependents                              1   3986.0 4030.0\n",
      "<none>                                        3984.5 4030.5\n",
      "- PhoneService                            1   3987.4 4031.4\n",
      "+ tenure_bin.x1.2.years                   1   3983.9 4031.9\n",
      "+ Partner                                 1   3984.2 4032.2\n",
      "+ PaymentMethod.xMailed.check             1   3984.3 4032.3\n",
      "+ TechSupport                             1   3984.5 4032.5\n",
      "+ PaymentMethod.xCredit.card..automatic.  1   3984.5 4032.5\n",
      "+ gender                                  1   3984.5 4032.5\n",
      "- DeviceProtection                        1   3988.7 4032.7\n",
      "- MonthlyCharges                          1   3993.4 4037.4\n",
      "- PaymentMethod.xElectronic.check         1   3996.2 4040.2\n",
      "- SeniorCitizen                           1   3996.3 4040.3\n",
      "- StreamingMovies                         1   3997.7 4041.7\n",
      "- StreamingTV                             1   3999.2 4043.2\n",
      "- tenure_bin.x2.3.years                   1   4000.3 4044.3\n",
      "- MultipleLines                           1   4002.2 4046.2\n",
      "- PaperlessBilling                        1   4002.9 4046.9\n",
      "- InternetService.xNo                     1   4005.8 4049.8\n",
      "- InternetService.xFiber.optic            1   4007.2 4051.2\n",
      "- Contract.xOne.year                      1   4014.3 4058.3\n",
      "- tenure_bin.x3.4.years                   1   4022.8 4066.8\n",
      "- tenure_bin.x4.5.years                   1   4032.5 4076.5\n",
      "- tenure_bin.x5.6.years                   1   4033.0 4077.0\n",
      "- Contract.xTwo.year                      1   4049.2 4093.2\n",
      "- tenure                                  1   4099.3 4143.3\n",
      "\n",
      "Step:  AIC=4029.75\n",
      "Churn ~ tenure + MonthlyCharges + SeniorCitizen + Dependents + \n",
      "    PhoneService + MultipleLines + InternetService.xFiber.optic + \n",
      "    InternetService.xNo + OnlineSecurity + OnlineBackup + DeviceProtection + \n",
      "    StreamingTV + StreamingMovies + Contract.xOne.year + Contract.xTwo.year + \n",
      "    PaperlessBilling + PaymentMethod.xElectronic.check + tenure_bin.x2.3.years + \n",
      "    tenure_bin.x3.4.years + tenure_bin.x4.5.years + tenure_bin.x5.6.years\n",
      "\n",
      "                                         Df Deviance    AIC\n",
      "- OnlineBackup                            1   3987.0 4029.0\n",
      "- OnlineSecurity                          1   3987.1 4029.1\n",
      "- Dependents                              1   3987.3 4029.3\n",
      "<none>                                        3985.8 4029.8\n",
      "- PhoneService                            1   3988.5 4030.5\n",
      "+ TotalCharges                            1   3984.5 4030.5\n",
      "+ tenure_bin.x1.2.years                   1   3985.3 4031.3\n",
      "+ Partner                                 1   3985.5 4031.5\n",
      "+ PaymentMethod.xMailed.check             1   3985.6 4031.6\n",
      "+ PaymentMethod.xCredit.card..automatic.  1   3985.7 4031.7\n",
      "+ TechSupport                             1   3985.7 4031.7\n",
      "+ gender                                  1   3985.7 4031.7\n",
      "- DeviceProtection                        1   3990.0 4032.0\n",
      "- MonthlyCharges                          1   3993.8 4035.8\n",
      "- PaymentMethod.xElectronic.check         1   3997.1 4039.1\n",
      "- SeniorCitizen                           1   3997.6 4039.6\n",
      "- StreamingMovies                         1   3998.7 4040.7\n",
      "- StreamingTV                             1   4000.2 4042.2\n",
      "- tenure_bin.x2.3.years                   1   4002.5 4044.5\n",
      "- MultipleLines                           1   4003.7 4045.7\n",
      "- PaperlessBilling                        1   4003.9 4045.9\n",
      "- InternetService.xNo                     1   4006.1 4048.1\n",
      "- InternetService.xFiber.optic            1   4007.9 4049.9\n",
      "- Contract.xOne.year                      1   4015.9 4057.9\n",
      "- tenure_bin.x3.4.years                   1   4028.0 4070.0\n",
      "- tenure_bin.x4.5.years                   1   4041.1 4083.1\n",
      "- tenure_bin.x5.6.years                   1   4046.5 4088.5\n",
      "- Contract.xTwo.year                      1   4052.5 4094.5\n",
      "- tenure                                  1   4131.0 4173.0\n",
      "\n",
      "Step:  AIC=4029.04\n",
      "Churn ~ tenure + MonthlyCharges + SeniorCitizen + Dependents + \n",
      "    PhoneService + MultipleLines + InternetService.xFiber.optic + \n",
      "    InternetService.xNo + OnlineSecurity + DeviceProtection + \n",
      "    StreamingTV + StreamingMovies + Contract.xOne.year + Contract.xTwo.year + \n",
      "    PaperlessBilling + PaymentMethod.xElectronic.check + tenure_bin.x2.3.years + \n",
      "    tenure_bin.x3.4.years + tenure_bin.x4.5.years + tenure_bin.x5.6.years\n",
      "\n",
      "                                         Df Deviance    AIC\n",
      "- PhoneService                            1   3988.5 4028.5\n",
      "- Dependents                              1   3988.6 4028.6\n",
      "<none>                                        3987.0 4029.0\n",
      "+ OnlineBackup                            1   3985.8 4029.8\n",
      "+ TotalCharges                            1   3985.8 4029.8\n",
      "- DeviceProtection                        1   3990.0 4030.0\n",
      "+ TechSupport                             1   3986.1 4030.1\n",
      "+ tenure_bin.x1.2.years                   1   3986.6 4030.6\n",
      "- OnlineSecurity                          1   3990.7 4030.7\n",
      "+ Partner                                 1   3986.7 4030.7\n",
      "+ PaymentMethod.xMailed.check             1   3986.9 4030.9\n",
      "+ PaymentMethod.xCredit.card..automatic.  1   3987.0 4031.0\n",
      "+ gender                                  1   3987.0 4031.0\n",
      "- MonthlyCharges                          1   3995.3 4035.3\n",
      "- PaymentMethod.xElectronic.check         1   3998.8 4038.8\n",
      "- SeniorCitizen                           1   3999.4 4039.4\n",
      "- StreamingMovies                         1   4001.0 4041.0\n",
      "- StreamingTV                             1   4002.6 4042.6\n",
      "- tenure_bin.x2.3.years                   1   4003.7 4043.7\n",
      "- MultipleLines                           1   4004.6 4044.6\n",
      "- PaperlessBilling                        1   4005.4 4045.4\n",
      "- InternetService.xNo                     1   4011.2 4051.2\n",
      "- InternetService.xFiber.optic            1   4016.3 4056.3\n",
      "- Contract.xOne.year                      1   4018.2 4058.2\n",
      "- tenure_bin.x3.4.years                   1   4029.0 4069.0\n",
      "- tenure_bin.x4.5.years                   1   4042.5 4082.5\n",
      "- tenure_bin.x5.6.years                   1   4048.1 4088.1\n",
      "- Contract.xTwo.year                      1   4056.9 4096.9\n",
      "- tenure                                  1   4131.3 4171.3\n",
      "\n",
      "Step:  AIC=4028.46\n",
      "Churn ~ tenure + MonthlyCharges + SeniorCitizen + Dependents + \n",
      "    MultipleLines + InternetService.xFiber.optic + InternetService.xNo + \n",
      "    OnlineSecurity + DeviceProtection + StreamingTV + StreamingMovies + \n",
      "    Contract.xOne.year + Contract.xTwo.year + PaperlessBilling + \n",
      "    PaymentMethod.xElectronic.check + tenure_bin.x2.3.years + \n",
      "    tenure_bin.x3.4.years + tenure_bin.x4.5.years + tenure_bin.x5.6.years\n",
      "\n",
      "                                         Df Deviance    AIC\n",
      "- Dependents                              1   3990.0 4028.0\n",
      "- DeviceProtection                        1   3990.1 4028.1\n",
      "+ TechSupport                             1   3986.3 4028.3\n",
      "<none>                                        3988.5 4028.5\n",
      "+ PhoneService                            1   3987.0 4029.0\n",
      "+ TotalCharges                            1   3987.4 4029.4\n",
      "+ tenure_bin.x1.2.years                   1   3988.0 4030.0\n",
      "+ Partner                                 1   3988.1 4030.1\n",
      "+ PaymentMethod.xMailed.check             1   3988.3 4030.3\n",
      "+ PaymentMethod.xCredit.card..automatic.  1   3988.4 4030.4\n",
      "+ OnlineBackup                            1   3988.5 4030.5\n",
      "+ gender                                  1   3988.5 4030.5\n",
      "- OnlineSecurity                          1   3996.2 4034.2\n",
      "- PaymentMethod.xElectronic.check         1   4000.2 4038.2\n",
      "- SeniorCitizen                           1   4001.0 4039.0\n",
      "- MonthlyCharges                          1   4001.6 4039.6\n",
      "- MultipleLines                           1   4004.9 4042.9\n",
      "- StreamingMovies                         1   4005.0 4043.0\n",
      "- tenure_bin.x2.3.years                   1   4005.1 4043.1\n",
      "- PaperlessBilling                        1   4006.5 4044.5\n",
      "- StreamingTV                             1   4007.3 4045.3\n",
      "- Contract.xOne.year                      1   4020.3 4058.3\n",
      "- tenure_bin.x3.4.years                   1   4030.6 4068.6\n",
      "- InternetService.xFiber.optic            1   4033.8 4071.8\n",
      "- InternetService.xNo                     1   4041.7 4079.7\n",
      "- tenure_bin.x4.5.years                   1   4044.1 4082.1\n",
      "- tenure_bin.x5.6.years                   1   4049.7 4087.7\n",
      "- Contract.xTwo.year                      1   4060.4 4098.4\n",
      "- tenure                                  1   4137.1 4175.1\n",
      "\n",
      "Step:  AIC=4028.03\n",
      "Churn ~ tenure + MonthlyCharges + SeniorCitizen + MultipleLines + \n",
      "    InternetService.xFiber.optic + InternetService.xNo + OnlineSecurity + \n",
      "    DeviceProtection + StreamingTV + StreamingMovies + Contract.xOne.year + \n",
      "    Contract.xTwo.year + PaperlessBilling + PaymentMethod.xElectronic.check + \n",
      "    tenure_bin.x2.3.years + tenure_bin.x3.4.years + tenure_bin.x4.5.years + \n",
      "    tenure_bin.x5.6.years\n",
      "\n",
      "                                         Df Deviance    AIC\n",
      "- DeviceProtection                        1   3991.7 4027.7\n",
      "+ TechSupport                             1   3987.8 4027.8\n",
      "<none>                                        3990.0 4028.0\n",
      "+ Dependents                              1   3988.5 4028.5\n",
      "+ PhoneService                            1   3988.6 4028.6\n",
      "+ TotalCharges                            1   3988.9 4028.9\n",
      "+ tenure_bin.x1.2.years                   1   3989.6 4029.6\n",
      "+ PaymentMethod.xMailed.check             1   3989.9 4029.9\n",
      "+ PaymentMethod.xCredit.card..automatic.  1   3990.0 4030.0\n",
      "+ gender                                  1   3990.0 4030.0\n",
      "+ OnlineBackup                            1   3990.0 4030.0\n",
      "+ Partner                                 1   3990.0 4030.0\n",
      "- OnlineSecurity                          1   3997.8 4033.8\n",
      "- PaymentMethod.xElectronic.check         1   4002.1 4038.1\n",
      "- MonthlyCharges                          1   4003.4 4039.4\n",
      "- SeniorCitizen                           1   4004.4 4040.4\n",
      "- MultipleLines                           1   4006.8 4042.8\n",
      "- tenure_bin.x2.3.years                   1   4006.8 4042.8\n",
      "- StreamingMovies                         1   4006.9 4042.9\n",
      "- PaperlessBilling                        1   4008.4 4044.4\n",
      "- StreamingTV                             1   4008.9 4044.9\n",
      "- Contract.xOne.year                      1   4022.6 4058.6\n",
      "- tenure_bin.x3.4.years                   1   4032.5 4068.5\n",
      "- InternetService.xFiber.optic            1   4036.2 4072.2\n",
      "- InternetService.xNo                     1   4043.8 4079.8\n",
      "- tenure_bin.x4.5.years                   1   4046.4 4082.4\n",
      "- tenure_bin.x5.6.years                   1   4052.0 4088.0\n",
      "- Contract.xTwo.year                      1   4063.5 4099.5\n",
      "- tenure                                  1   4141.0 4177.0\n",
      "\n",
      "Step:  AIC=4027.71\n",
      "Churn ~ tenure + MonthlyCharges + SeniorCitizen + MultipleLines + \n",
      "    InternetService.xFiber.optic + InternetService.xNo + OnlineSecurity + \n",
      "    StreamingTV + StreamingMovies + Contract.xOne.year + Contract.xTwo.year + \n",
      "    PaperlessBilling + PaymentMethod.xElectronic.check + tenure_bin.x2.3.years + \n",
      "    tenure_bin.x3.4.years + tenure_bin.x4.5.years + tenure_bin.x5.6.years\n",
      "\n",
      "                                         Df Deviance    AIC\n",
      "+ TechSupport                             1   3989.3 4027.3\n",
      "<none>                                        3991.7 4027.7\n",
      "+ DeviceProtection                        1   3990.0 4028.0\n",
      "+ Dependents                              1   3990.1 4028.1\n",
      "+ TotalCharges                            1   3990.5 4028.5\n",
      "+ tenure_bin.x1.2.years                   1   3991.3 4029.3\n",
      "+ PaymentMethod.xMailed.check             1   3991.6 4029.6\n",
      "+ PhoneService                            1   3991.6 4029.6\n",
      "+ PaymentMethod.xCredit.card..automatic.  1   3991.7 4029.7\n",
      "+ OnlineBackup                            1   3991.7 4029.7\n",
      "+ gender                                  1   3991.7 4029.7\n",
      "+ Partner                                 1   3991.7 4029.7\n",
      "- OnlineSecurity                          1   4000.6 4034.6\n",
      "- MonthlyCharges                          1   4003.4 4037.4\n",
      "- PaymentMethod.xElectronic.check         1   4003.8 4037.8\n",
      "- SeniorCitizen                           1   4006.2 4040.2\n",
      "- MultipleLines                           1   4007.2 4041.2\n",
      "- StreamingMovies                         1   4007.7 4041.7\n",
      "- tenure_bin.x2.3.years                   1   4008.1 4042.1\n",
      "- StreamingTV                             1   4009.6 4043.6\n",
      "- PaperlessBilling                        1   4009.8 4043.8\n",
      "- Contract.xOne.year                      1   4023.5 4057.5\n",
      "- tenure_bin.x3.4.years                   1   4034.1 4068.1\n",
      "- InternetService.xFiber.optic            1   4036.8 4070.8\n",
      "- InternetService.xNo                     1   4043.9 4077.9\n",
      "- tenure_bin.x4.5.years                   1   4047.4 4081.4\n",
      "- tenure_bin.x5.6.years                   1   4053.1 4087.1\n",
      "- Contract.xTwo.year                      1   4064.2 4098.2\n",
      "- tenure                                  1   4141.1 4175.1\n",
      "\n",
      "Step:  AIC=4027.28\n",
      "Churn ~ tenure + MonthlyCharges + SeniorCitizen + MultipleLines + \n",
      "    InternetService.xFiber.optic + InternetService.xNo + OnlineSecurity + \n",
      "    StreamingTV + StreamingMovies + Contract.xOne.year + Contract.xTwo.year + \n",
      "    PaperlessBilling + PaymentMethod.xElectronic.check + tenure_bin.x2.3.years + \n",
      "    tenure_bin.x3.4.years + tenure_bin.x4.5.years + tenure_bin.x5.6.years + \n",
      "    TechSupport\n",
      "\n",
      "                                         Df Deviance    AIC\n",
      "<none>                                        3989.3 4027.3\n",
      "- TechSupport                             1   3991.7 4027.7\n",
      "+ Dependents                              1   3987.7 4027.7\n",
      "+ DeviceProtection                        1   3987.8 4027.8\n",
      "+ TotalCharges                            1   3987.9 4027.9\n",
      "+ tenure_bin.x1.2.years                   1   3988.9 4028.9\n",
      "+ PhoneService                            1   3989.1 4029.1\n",
      "+ PaymentMethod.xMailed.check             1   3989.2 4029.2\n",
      "+ OnlineBackup                            1   3989.2 4029.2\n",
      "+ PaymentMethod.xCredit.card..automatic.  1   3989.3 4029.3\n",
      "+ gender                                  1   3989.3 4029.3\n",
      "+ Partner                                 1   3989.3 4029.3\n",
      "- MonthlyCharges                          1   3996.2 4032.2\n",
      "- OnlineSecurity                          1   3998.8 4034.8\n",
      "- PaymentMethod.xElectronic.check         1   4000.9 4036.9\n",
      "- MultipleLines                           1   4002.2 4038.2\n",
      "- StreamingMovies                         1   4002.8 4038.8\n",
      "- SeniorCitizen                           1   4002.9 4038.9\n",
      "- StreamingTV                             1   4004.6 4040.6\n",
      "- tenure_bin.x2.3.years                   1   4005.8 4041.8\n",
      "- PaperlessBilling                        1   4007.6 4043.6\n",
      "- Contract.xOne.year                      1   4019.1 4055.1\n",
      "- InternetService.xFiber.optic            1   4021.1 4057.1\n",
      "- tenure_bin.x3.4.years                   1   4031.5 4067.5\n",
      "- InternetService.xNo                     1   4038.0 4074.0\n",
      "- tenure_bin.x4.5.years                   1   4044.7 4080.7\n",
      "- tenure_bin.x5.6.years                   1   4050.1 4086.1\n",
      "- Contract.xTwo.year                      1   4055.8 4091.8\n",
      "- tenure                                  1   4137.1 4173.1\n"
     ]
    }
   ],
   "source": [
    "model_2 <- stepAIC(model_1, direction = \"both\")"
   ]
  },
  {
   "cell_type": "code",
   "execution_count": 59,
   "metadata": {
    "vscode": {
     "languageId": "r"
    }
   },
   "outputs": [
    {
     "data": {
      "text/plain": [
       "\n",
       "Call:\n",
       "glm(formula = Churn ~ tenure + MonthlyCharges + SeniorCitizen + \n",
       "    MultipleLines + InternetService.xFiber.optic + InternetService.xNo + \n",
       "    OnlineSecurity + StreamingTV + StreamingMovies + Contract.xOne.year + \n",
       "    Contract.xTwo.year + PaperlessBilling + PaymentMethod.xElectronic.check + \n",
       "    tenure_bin.x2.3.years + tenure_bin.x3.4.years + tenure_bin.x4.5.years + \n",
       "    tenure_bin.x5.6.years + TechSupport, family = \"binomial\", \n",
       "    data = train)\n",
       "\n",
       "Coefficients:\n",
       "                                Estimate Std. Error z value Pr(>|z|)    \n",
       "(Intercept)                     -3.37123    0.27189 -12.399  < 2e-16 ***\n",
       "tenure                          -2.07853    0.17751 -11.709  < 2e-16 ***\n",
       "MonthlyCharges                  -0.52335    0.19800  -2.643 0.008213 ** \n",
       "SeniorCitizen                    0.37111    0.10031   3.700 0.000216 ***\n",
       "MultipleLines                    0.38516    0.10755   3.581 0.000342 ***\n",
       "InternetService.xFiber.optic     1.28144    0.22881   5.601 2.14e-08 ***\n",
       "InternetService.xNo             -1.45816    0.20985  -6.949 3.69e-12 ***\n",
       "OnlineSecurity                  -0.33178    0.10796  -3.073 0.002118 ** \n",
       "StreamingTV                      0.46276    0.11865   3.900 9.61e-05 ***\n",
       "StreamingMovies                  0.42482    0.11585   3.667 0.000246 ***\n",
       "Contract.xOne.year              -0.69055    0.12950  -5.333 9.68e-08 ***\n",
       "Contract.xTwo.year              -1.68164    0.23166  -7.259 3.89e-13 ***\n",
       "PaperlessBilling                 0.38535    0.09046   4.260 2.05e-05 ***\n",
       "PaymentMethod.xElectronic.check  0.28932    0.08445   3.426 0.000613 ***\n",
       "tenure_bin.x2.3.years            0.78164    0.19291   4.052 5.08e-05 ***\n",
       "tenure_bin.x3.4.years            1.72393    0.26800   6.432 1.26e-10 ***\n",
       "tenure_bin.x4.5.years            2.52442    0.34433   7.331 2.28e-13 ***\n",
       "tenure_bin.x5.6.years            3.30141    0.43049   7.669 1.73e-14 ***\n",
       "TechSupport                     -0.17022    0.10928  -1.558 0.119308    \n",
       "---\n",
       "Signif. codes:  0 '***' 0.001 '**' 0.01 '*' 0.05 '.' 0.1 ' ' 1\n",
       "\n",
       "(Dispersion parameter for binomial family taken to be 1)\n",
       "\n",
       "    Null deviance: 5699.5  on 4921  degrees of freedom\n",
       "Residual deviance: 3989.3  on 4903  degrees of freedom\n",
       "AIC: 4027.3\n",
       "\n",
       "Number of Fisher Scoring iterations: 6\n"
      ]
     },
     "metadata": {},
     "output_type": "display_data"
    }
   ],
   "source": [
    "summary(model_2)"
   ]
  },
  {
   "cell_type": "markdown",
   "metadata": {},
   "source": [
    "We can also use VIF to get rid of redundant predictors that have high multicollinearity between them. Multicollinearity exists when two or more predictor variables are highly related to each other, and then it becomes difficult to understand the impact of an independent variable on the dependent variable.\n",
    "\n",
    "The Variance Inflation Factor(VIF) is used to measure the multicollinearity between predictor variables in a model. A predictor having a VIF of 2 or less is generally considered safe and it can be assumed that it is not correlated with other predictor variables. Higher the VIF, greater is the correlation of the predictor variable w.r.t other predictor variables. However, Predictors with high VIF may have high p-value(or highly significant), hence, we need to see the significance of the Predictor variable before removing it from our model."
   ]
  },
  {
   "cell_type": "code",
   "execution_count": 60,
   "metadata": {
    "vscode": {
     "languageId": "r"
    }
   },
   "outputs": [
    {
     "name": "stdout",
     "output_type": "stream",
     "text": [
      "                         tenure                  MonthlyCharges \n",
      "                      15.076710                       20.162188 \n",
      "                  SeniorCitizen                   MultipleLines \n",
      "                       1.100707                        1.838876 \n",
      "   InternetService.xFiber.optic             InternetService.xNo \n",
      "                       8.225529                        2.489968 \n",
      "                 OnlineSecurity                     StreamingTV \n",
      "                       1.246308                        2.206225 \n",
      "                StreamingMovies              Contract.xOne.year \n",
      "                       2.122071                        1.386381 \n",
      "             Contract.xTwo.year                PaperlessBilling \n",
      "                       1.371229                        1.125064 \n",
      "PaymentMethod.xElectronic.check           tenure_bin.x2.3.years \n",
      "                       1.149683                        2.656673 \n",
      "          tenure_bin.x3.4.years           tenure_bin.x4.5.years \n",
      "                       4.106103                        6.527227 \n",
      "          tenure_bin.x5.6.years                     TechSupport \n",
      "                       8.568998                        1.332821 \n"
     ]
    }
   ],
   "source": [
    "print(vif(model_2))"
   ]
  },
  {
   "cell_type": "code",
   "execution_count": 61,
   "metadata": {
    "vscode": {
     "languageId": "r"
    }
   },
   "outputs": [
    {
     "data": {
      "text/plain": [
       "\n",
       "Call:\n",
       "glm(formula = Churn ~ tenure + MonthlyCharges + SeniorCitizen + \n",
       "    MultipleLines + InternetService.xFiber.optic + InternetService.xNo + \n",
       "    OnlineSecurity + StreamingMovies + Contract.xOne.year + Contract.xTwo.year + \n",
       "    PaperlessBilling + PaymentMethod.xElectronic.check + tenure_bin.x2.3.years + \n",
       "    tenure_bin.x3.4.years + tenure_bin.x4.5.years + tenure_bin.x5.6.years + \n",
       "    TechSupport, family = \"binomial\", data = train)\n",
       "\n",
       "Coefficients:\n",
       "                                Estimate Std. Error z value Pr(>|z|)    \n",
       "(Intercept)                     -2.95481    0.24736 -11.945  < 2e-16 ***\n",
       "tenure                          -2.04047    0.17657 -11.556  < 2e-16 ***\n",
       "MonthlyCharges                  -0.07297    0.16228  -0.450 0.652962    \n",
       "SeniorCitizen                    0.37557    0.10002   3.755 0.000173 ***\n",
       "MultipleLines                    0.28240    0.10363   2.725 0.006427 ** \n",
       "InternetService.xFiber.optic     0.84130    0.19835   4.242 2.22e-05 ***\n",
       "InternetService.xNo             -1.17864    0.19898  -5.923 3.15e-09 ***\n",
       "OnlineSecurity                  -0.42389    0.10537  -4.023 5.75e-05 ***\n",
       "StreamingMovies                  0.37462    0.11520   3.252 0.001146 ** \n",
       "Contract.xOne.year              -0.67622    0.12922  -5.233 1.67e-07 ***\n",
       "Contract.xTwo.year              -1.66529    0.23122  -7.202 5.93e-13 ***\n",
       "PaperlessBilling                 0.40950    0.09003   4.548 5.41e-06 ***\n",
       "PaymentMethod.xElectronic.check  0.32283    0.08380   3.852 0.000117 ***\n",
       "tenure_bin.x2.3.years            0.76248    0.19225   3.966 7.30e-05 ***\n",
       "tenure_bin.x3.4.years            1.70679    0.26701   6.392 1.63e-10 ***\n",
       "tenure_bin.x4.5.years            2.49161    0.34304   7.263 3.78e-13 ***\n",
       "tenure_bin.x5.6.years            3.23138    0.42859   7.540 4.72e-14 ***\n",
       "TechSupport                     -0.24081    0.10760  -2.238 0.025222 *  \n",
       "---\n",
       "Signif. codes:  0 '***' 0.001 '**' 0.01 '*' 0.05 '.' 0.1 ' ' 1\n",
       "\n",
       "(Dispersion parameter for binomial family taken to be 1)\n",
       "\n",
       "    Null deviance: 5699.5  on 4921  degrees of freedom\n",
       "Residual deviance: 4004.6  on 4904  degrees of freedom\n",
       "AIC: 4040.6\n",
       "\n",
       "Number of Fisher Scoring iterations: 6\n"
      ]
     },
     "metadata": {},
     "output_type": "display_data"
    }
   ],
   "source": [
    "# remove device protection\n",
    "model_3 <- update(model_2, . ~ . -StreamingTV)\n",
    "summary(model_3)"
   ]
  },
  {
   "cell_type": "code",
   "execution_count": 62,
   "metadata": {
    "vscode": {
     "languageId": "r"
    }
   },
   "outputs": [
    {
     "name": "stdout",
     "output_type": "stream",
     "text": [
      "                         tenure                  MonthlyCharges \n",
      "                      14.948660                       13.493615 \n",
      "                  SeniorCitizen                   MultipleLines \n",
      "                       1.100248                        1.716090 \n",
      "   InternetService.xFiber.optic             InternetService.xNo \n",
      "                       6.207416                        2.242930 \n",
      "                 OnlineSecurity                 StreamingMovies \n",
      "                       1.192771                        2.105943 \n",
      "             Contract.xOne.year              Contract.xTwo.year \n",
      "                       1.386351                        1.367679 \n",
      "               PaperlessBilling PaymentMethod.xElectronic.check \n",
      "                       1.118802                        1.136880 \n",
      "          tenure_bin.x2.3.years           tenure_bin.x3.4.years \n",
      "                       2.649466                        4.113115 \n",
      "          tenure_bin.x4.5.years           tenure_bin.x5.6.years \n",
      "                       6.492949                        8.490850 \n",
      "                    TechSupport \n",
      "                       1.299444 \n"
     ]
    }
   ],
   "source": [
    "print(vif(model_3))"
   ]
  },
  {
   "cell_type": "code",
   "execution_count": 63,
   "metadata": {
    "vscode": {
     "languageId": "r"
    }
   },
   "outputs": [],
   "source": [
    "final_model <- model_3"
   ]
  },
  {
   "cell_type": "code",
   "execution_count": 64,
   "metadata": {
    "vscode": {
     "languageId": "r"
    }
   },
   "outputs": [
    {
     "data": {
      "text/plain": [
       "    Min.  1st Qu.   Median     Mean  3rd Qu.     Max. \n",
       "0.003172 0.039730 0.195851 0.267662 0.459730 0.899692 "
      ]
     },
     "metadata": {},
     "output_type": "display_data"
    },
    {
     "data": {
      "text/plain": [
       "          actual_churn\n",
       "pred_churn   No  Yes\n",
       "       No  1389  267\n",
       "       Yes  160  294"
      ]
     },
     "metadata": {},
     "output_type": "display_data"
    }
   ],
   "source": [
    "pred <- predict(final_model, type = \"response\", newdata = validation[,-24])\n",
    "summary(pred)\n",
    "validation$prob <- pred\n",
    "\n",
    "# confusion matrix\n",
    "pred_churn <- factor(ifelse(pred > 0.5, \"Yes\", \"No\"))\n",
    "actual_churn <- factor(ifelse(validation$Churn == 1, \"Yes\", \"No\"))\n",
    "table(pred_churn, actual_churn)"
   ]
  },
  {
   "cell_type": "code",
   "execution_count": 65,
   "metadata": {
    "vscode": {
     "languageId": "r"
    }
   },
   "outputs": [
    {
     "data": {
      "text/html": [
       "<strong>Accuracy:</strong> 0.797630331753554"
      ],
      "text/latex": [
       "\\textbf{Accuracy:} 0.797630331753554"
      ],
      "text/markdown": [
       "**Accuracy:** 0.797630331753554"
      ],
      "text/plain": [
       " Accuracy \n",
       "0.7976303 "
      ]
     },
     "metadata": {},
     "output_type": "display_data"
    },
    {
     "data": {
      "text/html": [
       "<strong>Sensitivity:</strong> 0.524064171122995"
      ],
      "text/latex": [
       "\\textbf{Sensitivity:} 0.524064171122995"
      ],
      "text/markdown": [
       "**Sensitivity:** 0.524064171122995"
      ],
      "text/plain": [
       "Sensitivity \n",
       "  0.5240642 "
      ]
     },
     "metadata": {},
     "output_type": "display_data"
    },
    {
     "data": {
      "text/html": [
       "<strong>Specificity:</strong> 0.896707553260168"
      ],
      "text/latex": [
       "\\textbf{Specificity:} 0.896707553260168"
      ],
      "text/markdown": [
       "**Specificity:** 0.896707553260168"
      ],
      "text/plain": [
       "Specificity \n",
       "  0.8967076 "
      ]
     },
     "metadata": {},
     "output_type": "display_data"
    }
   ],
   "source": [
    "# accuracy, sensitivity, specificity\n",
    "cutoff_churn <- factor(ifelse(pred >= 0.5, \"Yes\", \"No\"))\n",
    "conf_final <- confusionMatrix(cutoff_churn, actual_churn, positive = \"Yes\")\n",
    "\n",
    "accuracy <- conf_final$overall[1]\n",
    "sensitivity <- conf_final$byClass[1]\n",
    "specificity <- conf_final$byClass[2]\n",
    "\n",
    "accuracy\n",
    "sensitivity\n",
    "specificity"
   ]
  },
  {
   "cell_type": "markdown",
   "metadata": {},
   "source": [
    "We have a good accuracy and specificity with 50 percent cutoff. But the sensitivity is low, we want to find the optimal probability cutoff to yield the maximum accuracy, sensitivity and specificity. "
   ]
  },
  {
   "cell_type": "code",
   "execution_count": 68,
   "metadata": {
    "vscode": {
     "languageId": "r"
    }
   },
   "outputs": [],
   "source": [
    "perform_fn <- function(cutoff){\n",
    "    predicted_churn <- factor(ifelse(pred >= cutoff, \"Yes\", \"No\"))\n",
    "    conf <- confusionMatrix(predicted_churn, actual_churn, positive = \"Yes\")\n",
    "    accuracy <- conf$overall[1]\n",
    "    sensitivity <- conf$byClass[1]\n",
    "    specificity <- conf$byClass[2]\n",
    "    out <- t(as.matrix(c(accuracy, sensitivity, specificity)))\n",
    "    colnames(out) <- c(\"Accuracy\", \"Sensitivity\", \"Specificity\")\n",
    "\n",
    "    return(out)\n",
    "}"
   ]
  },
  {
   "cell_type": "code",
   "execution_count": 69,
   "metadata": {
    "vscode": {
     "languageId": "r"
    }
   },
   "outputs": [
    {
     "data": {
      "text/plain": [
       "    Min.  1st Qu.   Median     Mean  3rd Qu.     Max. \n",
       "0.003172 0.039730 0.195851 0.267662 0.459730 0.899692 "
      ]
     },
     "metadata": {},
     "output_type": "display_data"
    },
    {
     "data": {
      "image/png": "[encoded data removed]",
      "text/plain": [
       "plot without title"
      ]
     },
     "metadata": {
      "image/png": {
       "height": 480,
       "width": 720
      }
     },
     "output_type": "display_data"
    }
   ],
   "source": [
    "summary(pred)\n",
    "s = seq(0.01, 0.80, length = 100)\n",
    "OUT = matrix(0, 100, 3)\n",
    "\n",
    "for (i in 1:100){\n",
    "    OUT[i,] <- perform_fn(s[i])\n",
    "}\n",
    "\n",
    "plot(s, OUT[,1],xlab=\"Cutoff\",ylab=\"Value\",cex.lab=1.5,cex.axis=1.5,ylim=c(0,1),\n",
    "     type=\"l\",lwd=2,axes=FALSE,col=2)\n",
    "axis(1,seq(0,1,length=5),seq(0,1,length=5),cex.lab=1.5)\n",
    "axis(2,seq(0,1,length=5),seq(0,1,length=5),cex.lab=1.5)\n",
    "lines(s,OUT[,2],col=\"darkgreen\",lwd=2)\n",
    "lines(s,OUT[,3],col=4,lwd=2)\n",
    "box()\n",
    "legend(\"bottom\",col=c(2,\"darkgreen\",4,\"darkred\"),text.font =3,inset = 0.02,\n",
    "       box.lty=0,cex = 0.8, \n",
    "       lwd=c(2,2,2,2),c(\"Sensitivity\",\"Specificity\",\"Accuracy\"))\n",
    "abline(v = 0.32, col=\"red\", lwd=1, lty=2)\n",
    "axis(1, at = seq(0.1, 1, by = 0.1))"
   ]
  },
  {
   "cell_type": "code",
   "execution_count": 70,
   "metadata": {
    "vscode": {
     "languageId": "r"
    }
   },
   "outputs": [
    {
     "data": {
      "text/html": [
       "<strong>Accuracy:</strong> 0.761137440758294"
      ],
      "text/latex": [
       "\\textbf{Accuracy:} 0.761137440758294"
      ],
      "text/markdown": [
       "**Accuracy:** 0.761137440758294"
      ],
      "text/plain": [
       " Accuracy \n",
       "0.7611374 "
      ]
     },
     "metadata": {},
     "output_type": "display_data"
    },
    {
     "data": {
      "text/html": [
       "<strong>Sensitivity:</strong> 0.732620320855615"
      ],
      "text/latex": [
       "\\textbf{Sensitivity:} 0.732620320855615"
      ],
      "text/markdown": [
       "**Sensitivity:** 0.732620320855615"
      ],
      "text/plain": [
       "Sensitivity \n",
       "  0.7326203 "
      ]
     },
     "metadata": {},
     "output_type": "display_data"
    },
    {
     "data": {
      "text/html": [
       "<strong>Specificity:</strong> 0.771465461588121"
      ],
      "text/latex": [
       "\\textbf{Specificity:} 0.771465461588121"
      ],
      "text/markdown": [
       "**Specificity:** 0.771465461588121"
      ],
      "text/plain": [
       "Specificity \n",
       "  0.7714655 "
      ]
     },
     "metadata": {},
     "output_type": "display_data"
    }
   ],
   "source": [
    "# we will select 0.32 as the optimal value\n",
    "# compute confusion matrix again\n",
    "\n",
    "cutoff_churn <- factor(ifelse(pred >= 0.32, \"Yes\", \"No\"))\n",
    "conf_final <- confusionMatrix(cutoff_churn, actual_churn, positive = \"Yes\")\n",
    "accuracy <- conf_final$overall[1]\n",
    "sensitivity <- conf_final$byClass[1]\n",
    "specificity <- conf_final$byClass[2]\n",
    "\n",
    "accuracy\n",
    "sensitivity\n",
    "specificity"
   ]
  },
  {
   "cell_type": "markdown",
   "metadata": {},
   "source": [
    "- Now we have a better value of accuracy, sensitivity and specificity in the validation data"
   ]
  },
  {
   "cell_type": "markdown",
   "metadata": {},
   "source": [
    "## Decision Tree\n",
    "Splits the data into multiple sets and each set is further split into subsets to arrive at a tree like structure and make a decision. Homogeneity is the basic concept that helps to determine the attribute on which a split should be made. A split that results into the most homogenous subset is often considered better and step by step each attribute is chosen that maximizes the homogeneity of each subset. Further, this homogeneity is measured using different ways such as Gini Index, Entropy and Information Gain."
   ]
  },
  {
   "cell_type": "code",
   "execution_count": 71,
   "metadata": {
    "vscode": {
     "languageId": "r"
    }
   },
   "outputs": [],
   "source": [
    "set.seed(123)\n",
    "telco_final$Churn <- as.factor(telco_final$Churn)\n",
    "\n",
    "indices = sample.split(telco_final$Churn, SplitRatio = 0.7)\n",
    "train = telco_final[indices,]\n",
    "validation = telco_final[!(indices),]"
   ]
  },
  {
   "cell_type": "code",
   "execution_count": 80,
   "metadata": {
    "vscode": {
     "languageId": "r"
    }
   },
   "outputs": [
    {
     "name": "stderr",
     "output_type": "stream",
     "text": [
      "Removing package from 'C:/Users/Khor Kean Teng/AppData/Local/R/win-library/4.3'\n",
      "(as 'lib' is unspecified)\n",
      "\n"
     ]
    }
   ],
   "source": [
    "remove.packages(\"rpart\")\n",
    "suppressMessages({\n",
    "library(rpart)\n",
    "library(rpart.plot)\n",
    "})"
   ]
  },
  {
   "cell_type": "code",
   "execution_count": 81,
   "metadata": {
    "vscode": {
     "languageId": "r"
    }
   },
   "outputs": [
    {
     "name": "stdout",
     "output_type": "stream",
     "text": [
      "Call:\n",
      "rpart(formula = Churn ~ ., data = train, method = \"class\")\n",
      "  n= 4922 \n",
      "\n",
      "         CP nsplit rel error    xerror       xstd\n",
      "1 0.1100917      0 1.0000000 1.0000000 0.02369296\n",
      "2 0.0100000      2 0.7798165 0.8012232 0.02195745\n",
      "\n",
      "Variable importance\n",
      "                         tenure                    TotalCharges \n",
      "                             28                              24 \n",
      "   InternetService.xFiber.optic                  MonthlyCharges \n",
      "                             17                              16 \n",
      "PaymentMethod.xElectronic.check                   MultipleLines \n",
      "                              5                               5 \n",
      "                    StreamingTV     PaymentMethod.xMailed.check \n",
      "                              4                               1 \n",
      "                        Partner \n",
      "                              1 \n",
      "\n",
      "Node number 1: 4922 observations,    complexity param=0.1100917\n",
      "  predicted class=0  expected loss=0.2657456  P(node) =1\n",
      "    class counts:  3614  1308\n",
      "   probabilities: 0.734 0.266 \n",
      "  left son=2 (3145 obs) right son=3 (1777 obs)\n",
      "  Primary splits:\n",
      "      tenure                          < -0.6486705 to the right, improve=219.2032, (0 missing)\n",
      "      Contract.xTwo.year              < 0.5        to the right, improve=179.0342, (0 missing)\n",
      "      InternetService.xFiber.optic    < 0.5        to the left,  improve=178.5663, (0 missing)\n",
      "      PaymentMethod.xElectronic.check < 0.5        to the left,  improve=171.0993, (0 missing)\n",
      "      TotalCharges                    < -0.8594054 to the right, improve=109.5538, (0 missing)\n",
      "  Surrogate splits:\n",
      "      TotalCharges                < -0.6788402 to the right, agree=0.894, adj=0.706, (0 split)\n",
      "      PaymentMethod.xMailed.check < 0.5        to the left,  agree=0.653, adj=0.038, (0 split)\n",
      "      Partner                     < 0.5        to the right, agree=0.646, adj=0.019, (0 split)\n",
      "      MonthlyCharges              < -1.523075  to the right, agree=0.640, adj=0.003, (0 split)\n",
      "\n",
      "Node number 2: 3145 observations\n",
      "  predicted class=0  expected loss=0.1535771  P(node) =0.6389679\n",
      "    class counts:  2662   483\n",
      "   probabilities: 0.846 0.154 \n",
      "\n",
      "Node number 3: 1777 observations,    complexity param=0.1100917\n",
      "  predicted class=0  expected loss=0.4642656  P(node) =0.3610321\n",
      "    class counts:   952   825\n",
      "   probabilities: 0.536 0.464 \n",
      "  left son=6 (1021 obs) right son=7 (756 obs)\n",
      "  Primary splits:\n",
      "      InternetService.xFiber.optic    < 0.5        to the left,  improve=134.66020, (0 missing)\n",
      "      MonthlyCharges                  < 0.1188857  to the left,  improve=116.61090, (0 missing)\n",
      "      InternetService.xNo             < 0.5        to the right, improve=103.63730, (0 missing)\n",
      "      PaymentMethod.xElectronic.check < 0.5        to the left,  improve= 66.32561, (0 missing)\n",
      "      PaperlessBilling                < 0.5        to the left,  improve= 58.11701, (0 missing)\n",
      "  Surrogate splits:\n",
      "      MonthlyCharges                  < 0.1188857  to the left,  agree=0.974, adj=0.938, (0 split)\n",
      "      PaymentMethod.xElectronic.check < 0.5        to the left,  agree=0.702, adj=0.300, (0 split)\n",
      "      MultipleLines                   < 0.5        to the left,  agree=0.701, adj=0.296, (0 split)\n",
      "      TotalCharges                    < -0.8083526 to the left,  agree=0.681, adj=0.251, (0 split)\n",
      "      StreamingTV                     < 0.5        to the left,  agree=0.666, adj=0.216, (0 split)\n",
      "\n",
      "Node number 6: 1021 observations\n",
      "  predicted class=0  expected loss=0.2967679  P(node) =0.207436\n",
      "    class counts:   718   303\n",
      "   probabilities: 0.703 0.297 \n",
      "\n",
      "Node number 7: 756 observations\n",
      "  predicted class=1  expected loss=0.3095238  P(node) =0.1535961\n",
      "    class counts:   234   522\n",
      "   probabilities: 0.310 0.690 \n",
      "\n"
     ]
    }
   ],
   "source": [
    "Dtree = rpart(Churn ~ ., data = train, method = \"class\")\n",
    "summary(Dtree)"
   ]
  },
  {
   "cell_type": "code",
   "execution_count": 82,
   "metadata": {
    "vscode": {
     "languageId": "r"
    }
   },
   "outputs": [],
   "source": [
    "# predicting\n",
    "DTPred <- predict(Dtree, type = \"class\", newdata = validation[,-24])"
   ]
  },
  {
   "cell_type": "code",
   "execution_count": 83,
   "metadata": {
    "vscode": {
     "languageId": "r"
    }
   },
   "outputs": [
    {
     "data": {
      "text/plain": [
       "Confusion Matrix and Statistics\n",
       "\n",
       "          Reference\n",
       "Prediction    0    1\n",
       "         0 1435  114\n",
       "         1  343  218\n",
       "                                          \n",
       "               Accuracy : 0.7834          \n",
       "                 95% CI : (0.7652, 0.8008)\n",
       "    No Information Rate : 0.8427          \n",
       "    P-Value [Acc > NIR] : 1               \n",
       "                                          \n",
       "                  Kappa : 0.3621          \n",
       "                                          \n",
       " Mcnemar's Test P-Value : <2e-16          \n",
       "                                          \n",
       "            Sensitivity : 0.8071          \n",
       "            Specificity : 0.6566          \n",
       "         Pos Pred Value : 0.9264          \n",
       "         Neg Pred Value : 0.3886          \n",
       "             Prevalence : 0.8427          \n",
       "         Detection Rate : 0.6801          \n",
       "   Detection Prevalence : 0.7341          \n",
       "      Balanced Accuracy : 0.7319          \n",
       "                                          \n",
       "       'Positive' Class : 0               \n",
       "                                          "
      ]
     },
     "metadata": {},
     "output_type": "display_data"
    }
   ],
   "source": [
    "# see the confusion matrix\n",
    "confusionMatrix(validation$Churn, DTPred)"
   ]
  },
  {
   "cell_type": "markdown",
   "metadata": {},
   "source": [
    "- This model gives slightly better accuracy than the logistic regression model. The sensitivity is also higher, but the specificity is lower. "
   ]
  },
  {
   "cell_type": "markdown",
   "metadata": {},
   "source": [
    "## Random Forest\n",
    "Often known as an ensemble of a large number of Decision Trees, that uses bootstrapped aggregation technique to choose random samples from a dataset to train each tree in the forest. The final prediction in a RandomForest is an aggregation of prediction of individual trees. One of the advantages of RandomForest is that, it gives out-of-bag(OOB) error estimates, which is the mean prediction error on a training sample, using the trees that do not have that training sample in their bootstrap sample. It may act as a cross validation error and eliminate the need of using test/validation data, thereby increasing the training the data. However, I am still going to use train and validation concept here as well, like I did in the above two Models."
   ]
  },
  {
   "cell_type": "code",
   "execution_count": 85,
   "metadata": {
    "vscode": {
     "languageId": "r"
    }
   },
   "outputs": [],
   "source": [
    "suppressMessages(library(randomForest))\n",
    "set.seed(123)\n",
    "\n",
    "telco_final$Churn <- as.factor(telco_final$Churn)\n",
    "\n",
    "indices = sample.split(telco_final$Churn, SplitRatio = 0.7)\n",
    "train = telco_final[indices,]\n",
    "validation = telco_final[!(indices),]"
   ]
  },
  {
   "cell_type": "markdown",
   "metadata": {},
   "source": [
    "OOB error estimate comes to around 20 percent, the model has around 79 percent out of sample accuracy for training set."
   ]
  },
  {
   "cell_type": "code",
   "execution_count": 86,
   "metadata": {
    "vscode": {
     "languageId": "r"
    }
   },
   "outputs": [
    {
     "data": {
      "text/plain": [
       "\n",
       "Call:\n",
       " randomForest(formula = Churn ~ ., data = train, ntree = 500,      mtry = 4, proximity = FALSE, important = FALSE, do.trace = FALSE) \n",
       "               Type of random forest: classification\n",
       "                     Number of trees: 500\n",
       "No. of variables tried at each split: 4\n",
       "\n",
       "        OOB estimate of  error rate: 19.59%\n",
       "Confusion matrix:\n",
       "     0   1 class.error\n",
       "0 3258 356  0.09850581\n",
       "1  608 700  0.46483180"
      ]
     },
     "metadata": {},
     "output_type": "display_data"
    }
   ],
   "source": [
    "model.rf <- randomForest(Churn ~ ., data = train, ntree = 500, mtry = 4, proximity = FALSE, important = FALSE, do.trace = FALSE)\n",
    "model.rf"
   ]
  },
  {
   "cell_type": "code",
   "execution_count": 87,
   "metadata": {
    "vscode": {
     "languageId": "r"
    }
   },
   "outputs": [
    {
     "data": {
      "text/plain": [
       "        \n",
       "testPred    0    1\n",
       "       0 1392  283\n",
       "       1  157  278"
      ]
     },
     "metadata": {},
     "output_type": "display_data"
    },
    {
     "data": {
      "text/plain": [
       "Confusion Matrix and Statistics\n",
       "\n",
       "          Reference\n",
       "Prediction    0    1\n",
       "         0 1392  157\n",
       "         1  283  278\n",
       "                                          \n",
       "               Accuracy : 0.7915          \n",
       "                 95% CI : (0.7735, 0.8086)\n",
       "    No Information Rate : 0.7938          \n",
       "    P-Value [Acc > NIR] : 0.6182          \n",
       "                                          \n",
       "                  Kappa : 0.4246          \n",
       "                                          \n",
       " Mcnemar's Test P-Value : 2.536e-09       \n",
       "                                          \n",
       "            Sensitivity : 0.8310          \n",
       "            Specificity : 0.6391          \n",
       "         Pos Pred Value : 0.8986          \n",
       "         Neg Pred Value : 0.4955          \n",
       "             Prevalence : 0.7938          \n",
       "         Detection Rate : 0.6597          \n",
       "   Detection Prevalence : 0.7341          \n",
       "      Balanced Accuracy : 0.7351          \n",
       "                                          \n",
       "       'Positive' Class : 0               \n",
       "                                          "
      ]
     },
     "metadata": {},
     "output_type": "display_data"
    }
   ],
   "source": [
    "testPred <- predict(model.rf, newdata = validation[,-24])\n",
    "table(testPred, validation$Churn)\n",
    "confusionMatrix(validation$Churn, testPred)"
   ]
  },
  {
   "cell_type": "markdown",
   "metadata": {},
   "source": [
    "- The model accuracy is about 79 percent, the sensitivity is high at 83 percent, but the specificity is low at 64 percent.\n",
    "\n",
    "### Variable Importance Plot\n",
    "Below is the variable importance plot, that shows the most significant attribute in decreasing order by mean decrease in Gini. The Mean decrease Gini measures how pure the nodes are at the end of the tree. Higher the Gini Index, better is the homogeneity."
   ]
  },
  {
   "cell_type": "code",
   "execution_count": 88,
   "metadata": {
    "vscode": {
     "languageId": "r"
    }
   },
   "outputs": [
    {
     "data": {
      "image/png": "[encoded data removed]",
      "text/plain": [
       "Plot with title \"model.rf\""
      ]
     },
     "metadata": {
      "image/png": {
       "height": 480,
       "width": 720
      }
     },
     "output_type": "display_data"
    }
   ],
   "source": [
    "varImpPlot(model.rf)"
   ]
  },
  {
   "cell_type": "markdown",
   "metadata": {},
   "source": [
    "### AUC Checking"
   ]
  },
  {
   "cell_type": "code",
   "execution_count": 92,
   "metadata": {
    "vscode": {
     "languageId": "r"
    }
   },
   "outputs": [
    {
     "name": "stderr",
     "output_type": "stream",
     "text": [
      "Setting levels: control = 0, case = 1\n",
      "\n",
      "Setting direction: controls < cases\n",
      "\n",
      "Setting levels: control = 0, case = 1\n",
      "\n",
      "Setting direction: controls < cases\n",
      "\n",
      "Setting levels: control = 0, case = 1\n",
      "\n",
      "Setting direction: controls < cases\n",
      "\n"
     ]
    },
    {
     "data": {
      "image/png": "[encoded data removed]",
      "text/plain": [
       "plot without title"
      ]
     },
     "metadata": {
      "image/png": {
       "height": 480,
       "width": 720
      }
     },
     "output_type": "display_data"
    }
   ],
   "source": [
    "glm.roc <- roc(response = validation$Churn, predictor = as.numeric(pred))\n",
    "DT.roc <- roc(response = validation$Churn, predictor = as.numeric(DTPred))\n",
    "RF.roc <- roc(response = validation$Churn, predictor = as.numeric(testPred))\n",
    "\n",
    "plot(glm.roc,      legacy.axes = TRUE, print.auc.y = 1.0, print.auc = TRUE)\n",
    "plot(DT.roc, col = \"blue\", add = TRUE, print.auc.y = 0.65, print.auc = TRUE)\n",
    "plot(RF.roc, col = \"red\" , add = TRUE, print.auc.y = 0.85, print.auc = TRUE)\n",
    "legend(\"bottom\", c(\"Random Forest\", \"Decision Tree\", \"Logistic\"),\n",
    "       lty = c(1,1), lwd = c(2, 2), col = c(\"red\", \"blue\", \"black\"), cex = 0.75)"
   ]
  },
  {
   "cell_type": "markdown",
   "metadata": {},
   "source": [
    "Useful resources: http://rstudio-pubs-static.s3.amazonaws.com/277278_427ca6a7ce7c4eb688506efc7a6c2435.html"
   ]
  }
 ],
 "metadata": {
  "kernelspec": {
   "display_name": "R",
   "language": "R",
   "name": "ir"
  },
  "language_info": {
   "codemirror_mode": "r",
   "file_extension": ".r",
   "mimetype": "text/x-r-source",
   "name": "R",
   "pygments_lexer": "r",
   "version": "4.3.0"
  }
 },
 "nbformat": 4,
 "nbformat_minor": 2
}
