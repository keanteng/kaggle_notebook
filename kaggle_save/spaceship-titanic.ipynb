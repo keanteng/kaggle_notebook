{
 "cells": [
  {
   "cell_type": "markdown",
   "id": "b0143a80",
   "metadata": {
    "papermill": {
     "duration": 0.01255,
     "end_time": "2023-08-25T11:14:09.720585",
     "exception": false,
     "start_time": "2023-08-25T11:14:09.708035",
     "status": "completed"
    },
    "tags": []
   },
   "source": [
    "# 0. Getting Started\n",
    "\n",
    "## Information to Note\n",
    "train.csv - Personal records for about two-thirds (~8700) of the passengers, to be used as training data.\n",
    "\n",
    "- `PassengerId` - A unique Id for each passenger. Each Id takes the form gggg_pp where gggg indicates a group the passenger is travelling with and pp is their number within the group. People in a group are often family members, but not always.\n",
    "- `HomePlanet` - The planet the passenger departed from, typically their planet of permanent residence.\n",
    "- `CryoSleep` - Indicates whether the passenger elected to be put into suspended animation for the duration of the voyage. Passengers in cryosleep are confined to their cabins.\n",
    "- `Cabin` - The cabin number where the passenger is staying. Takes the form deck/num/side, where side can be either P for Port or S for Starboard.\n",
    "- `Destination` - The planet the passenger will be debarking to.\n",
    "- `Age` - The age of the passenger.\n",
    "- `VIP` - Whether the passenger has paid for special VIP service during the voyage.\n",
    "- `RoomService, FoodCourt, ShoppingMall, Spa, VRDeck` - Amount the passenger has billed at each of the Spaceship Titanic's many luxury amenities.\n",
    "- `Name` - The first and last names of the passenger.\n",
    "- `Transported` - Whether the passenger was transported to another dimension. This is the target, the column you are trying to predict.\n"
   ]
  },
  {
   "cell_type": "code",
   "execution_count": 1,
   "id": "6476378c",
   "metadata": {
    "execution": {
     "iopub.execute_input": "2023-08-25T11:14:09.746304Z",
     "iopub.status.busy": "2023-08-25T11:14:09.745906Z",
     "iopub.status.idle": "2023-08-25T11:14:11.173684Z",
     "shell.execute_reply": "2023-08-25T11:14:11.172519Z"
    },
    "papermill": {
     "duration": 1.443771,
     "end_time": "2023-08-25T11:14:11.176385",
     "exception": false,
     "start_time": "2023-08-25T11:14:09.732614",
     "status": "completed"
    },
    "tags": []
   },
   "outputs": [
    {
     "name": "stderr",
     "output_type": "stream",
     "text": [
      "/opt/conda/lib/python3.10/site-packages/scipy/__init__.py:146: UserWarning: A NumPy version >=1.16.5 and <1.23.0 is required for this version of SciPy (detected version 1.23.5\n",
      "  warnings.warn(f\"A NumPy version >={np_minversion} and <{np_maxversion}\"\n"
     ]
    }
   ],
   "source": [
    "# get libraries\n",
    "import pandas as pd\n",
    "import numpy as np\n",
    "import matplotlib.pyplot as plt\n",
    "import seaborn as sns"
   ]
  },
  {
   "cell_type": "code",
   "execution_count": 2,
   "id": "05274ced",
   "metadata": {
    "execution": {
     "iopub.execute_input": "2023-08-25T11:14:11.202167Z",
     "iopub.status.busy": "2023-08-25T11:14:11.201771Z",
     "iopub.status.idle": "2023-08-25T11:14:11.300998Z",
     "shell.execute_reply": "2023-08-25T11:14:11.299863Z"
    },
    "papermill": {
     "duration": 0.115072,
     "end_time": "2023-08-25T11:14:11.303635",
     "exception": false,
     "start_time": "2023-08-25T11:14:11.188563",
     "status": "completed"
    },
    "tags": []
   },
   "outputs": [],
   "source": [
    "# loading data\n",
    "train = pd.read_csv('/kaggle/input/spaceship-titanic/train.csv')\n",
    "\n",
    "# will be used after model fitting for result submission\n",
    "test = pd.read_csv('/kaggle/input/spaceship-titanic/test.csv')"
   ]
  },
  {
   "cell_type": "code",
   "execution_count": 3,
   "id": "f21934ca",
   "metadata": {
    "execution": {
     "iopub.execute_input": "2023-08-25T11:14:11.330770Z",
     "iopub.status.busy": "2023-08-25T11:14:11.329820Z",
     "iopub.status.idle": "2023-08-25T11:14:11.357415Z",
     "shell.execute_reply": "2023-08-25T11:14:11.356331Z"
    },
    "papermill": {
     "duration": 0.043727,
     "end_time": "2023-08-25T11:14:11.360100",
     "exception": false,
     "start_time": "2023-08-25T11:14:11.316373",
     "status": "completed"
    },
    "tags": []
   },
   "outputs": [
    {
     "data": {
      "text/html": [
       "<div>\n",
       "<style scoped>\n",
       "    .dataframe tbody tr th:only-of-type {\n",
       "        vertical-align: middle;\n",
       "    }\n",
       "\n",
       "    .dataframe tbody tr th {\n",
       "        vertical-align: top;\n",
       "    }\n",
       "\n",
       "    .dataframe thead th {\n",
       "        text-align: right;\n",
       "    }\n",
       "</style>\n",
       "<table border=\"1\" class=\"dataframe\">\n",
       "  <thead>\n",
       "    <tr style=\"text-align: right;\">\n",
       "      <th></th>\n",
       "      <th>PassengerId</th>\n",
       "      <th>HomePlanet</th>\n",
       "      <th>CryoSleep</th>\n",
       "      <th>Cabin</th>\n",
       "      <th>Destination</th>\n",
       "      <th>Age</th>\n",
       "      <th>VIP</th>\n",
       "      <th>RoomService</th>\n",
       "      <th>FoodCourt</th>\n",
       "      <th>ShoppingMall</th>\n",
       "      <th>Spa</th>\n",
       "      <th>VRDeck</th>\n",
       "      <th>Name</th>\n",
       "      <th>Transported</th>\n",
       "    </tr>\n",
       "  </thead>\n",
       "  <tbody>\n",
       "    <tr>\n",
       "      <th>0</th>\n",
       "      <td>0001_01</td>\n",
       "      <td>Europa</td>\n",
       "      <td>False</td>\n",
       "      <td>B/0/P</td>\n",
       "      <td>TRAPPIST-1e</td>\n",
       "      <td>39.0</td>\n",
       "      <td>False</td>\n",
       "      <td>0.0</td>\n",
       "      <td>0.0</td>\n",
       "      <td>0.0</td>\n",
       "      <td>0.0</td>\n",
       "      <td>0.0</td>\n",
       "      <td>Maham Ofracculy</td>\n",
       "      <td>False</td>\n",
       "    </tr>\n",
       "    <tr>\n",
       "      <th>1</th>\n",
       "      <td>0002_01</td>\n",
       "      <td>Earth</td>\n",
       "      <td>False</td>\n",
       "      <td>F/0/S</td>\n",
       "      <td>TRAPPIST-1e</td>\n",
       "      <td>24.0</td>\n",
       "      <td>False</td>\n",
       "      <td>109.0</td>\n",
       "      <td>9.0</td>\n",
       "      <td>25.0</td>\n",
       "      <td>549.0</td>\n",
       "      <td>44.0</td>\n",
       "      <td>Juanna Vines</td>\n",
       "      <td>True</td>\n",
       "    </tr>\n",
       "    <tr>\n",
       "      <th>2</th>\n",
       "      <td>0003_01</td>\n",
       "      <td>Europa</td>\n",
       "      <td>False</td>\n",
       "      <td>A/0/S</td>\n",
       "      <td>TRAPPIST-1e</td>\n",
       "      <td>58.0</td>\n",
       "      <td>True</td>\n",
       "      <td>43.0</td>\n",
       "      <td>3576.0</td>\n",
       "      <td>0.0</td>\n",
       "      <td>6715.0</td>\n",
       "      <td>49.0</td>\n",
       "      <td>Altark Susent</td>\n",
       "      <td>False</td>\n",
       "    </tr>\n",
       "    <tr>\n",
       "      <th>3</th>\n",
       "      <td>0003_02</td>\n",
       "      <td>Europa</td>\n",
       "      <td>False</td>\n",
       "      <td>A/0/S</td>\n",
       "      <td>TRAPPIST-1e</td>\n",
       "      <td>33.0</td>\n",
       "      <td>False</td>\n",
       "      <td>0.0</td>\n",
       "      <td>1283.0</td>\n",
       "      <td>371.0</td>\n",
       "      <td>3329.0</td>\n",
       "      <td>193.0</td>\n",
       "      <td>Solam Susent</td>\n",
       "      <td>False</td>\n",
       "    </tr>\n",
       "    <tr>\n",
       "      <th>4</th>\n",
       "      <td>0004_01</td>\n",
       "      <td>Earth</td>\n",
       "      <td>False</td>\n",
       "      <td>F/1/S</td>\n",
       "      <td>TRAPPIST-1e</td>\n",
       "      <td>16.0</td>\n",
       "      <td>False</td>\n",
       "      <td>303.0</td>\n",
       "      <td>70.0</td>\n",
       "      <td>151.0</td>\n",
       "      <td>565.0</td>\n",
       "      <td>2.0</td>\n",
       "      <td>Willy Santantines</td>\n",
       "      <td>True</td>\n",
       "    </tr>\n",
       "  </tbody>\n",
       "</table>\n",
       "</div>"
      ],
      "text/plain": [
       "  PassengerId HomePlanet CryoSleep  Cabin  Destination   Age    VIP  \\\n",
       "0     0001_01     Europa     False  B/0/P  TRAPPIST-1e  39.0  False   \n",
       "1     0002_01      Earth     False  F/0/S  TRAPPIST-1e  24.0  False   \n",
       "2     0003_01     Europa     False  A/0/S  TRAPPIST-1e  58.0   True   \n",
       "3     0003_02     Europa     False  A/0/S  TRAPPIST-1e  33.0  False   \n",
       "4     0004_01      Earth     False  F/1/S  TRAPPIST-1e  16.0  False   \n",
       "\n",
       "   RoomService  FoodCourt  ShoppingMall     Spa  VRDeck               Name  \\\n",
       "0          0.0        0.0           0.0     0.0     0.0    Maham Ofracculy   \n",
       "1        109.0        9.0          25.0   549.0    44.0       Juanna Vines   \n",
       "2         43.0     3576.0           0.0  6715.0    49.0      Altark Susent   \n",
       "3          0.0     1283.0         371.0  3329.0   193.0       Solam Susent   \n",
       "4        303.0       70.0         151.0   565.0     2.0  Willy Santantines   \n",
       "\n",
       "   Transported  \n",
       "0        False  \n",
       "1         True  \n",
       "2        False  \n",
       "3        False  \n",
       "4         True  "
      ]
     },
     "execution_count": 3,
     "metadata": {},
     "output_type": "execute_result"
    }
   ],
   "source": [
    "train.head()"
   ]
  },
  {
   "cell_type": "code",
   "execution_count": 4,
   "id": "a565a444",
   "metadata": {
    "execution": {
     "iopub.execute_input": "2023-08-25T11:14:11.386459Z",
     "iopub.status.busy": "2023-08-25T11:14:11.386072Z",
     "iopub.status.idle": "2023-08-25T11:14:11.425415Z",
     "shell.execute_reply": "2023-08-25T11:14:11.423012Z"
    },
    "papermill": {
     "duration": 0.056102,
     "end_time": "2023-08-25T11:14:11.428308",
     "exception": false,
     "start_time": "2023-08-25T11:14:11.372206",
     "status": "completed"
    },
    "tags": []
   },
   "outputs": [
    {
     "name": "stdout",
     "output_type": "stream",
     "text": [
      "<class 'pandas.core.frame.DataFrame'>\n",
      "RangeIndex: 8693 entries, 0 to 8692\n",
      "Data columns (total 14 columns):\n",
      " #   Column        Non-Null Count  Dtype  \n",
      "---  ------        --------------  -----  \n",
      " 0   PassengerId   8693 non-null   object \n",
      " 1   HomePlanet    8492 non-null   object \n",
      " 2   CryoSleep     8476 non-null   object \n",
      " 3   Cabin         8494 non-null   object \n",
      " 4   Destination   8511 non-null   object \n",
      " 5   Age           8514 non-null   float64\n",
      " 6   VIP           8490 non-null   object \n",
      " 7   RoomService   8512 non-null   float64\n",
      " 8   FoodCourt     8510 non-null   float64\n",
      " 9   ShoppingMall  8485 non-null   float64\n",
      " 10  Spa           8510 non-null   float64\n",
      " 11  VRDeck        8505 non-null   float64\n",
      " 12  Name          8493 non-null   object \n",
      " 13  Transported   8693 non-null   bool   \n",
      "dtypes: bool(1), float64(6), object(7)\n",
      "memory usage: 891.5+ KB\n"
     ]
    }
   ],
   "source": [
    "train.info()"
   ]
  },
  {
   "cell_type": "code",
   "execution_count": 5,
   "id": "3fc95673",
   "metadata": {
    "execution": {
     "iopub.execute_input": "2023-08-25T11:14:11.465830Z",
     "iopub.status.busy": "2023-08-25T11:14:11.464367Z",
     "iopub.status.idle": "2023-08-25T11:14:11.497673Z",
     "shell.execute_reply": "2023-08-25T11:14:11.495669Z"
    },
    "papermill": {
     "duration": 0.055595,
     "end_time": "2023-08-25T11:14:11.500382",
     "exception": false,
     "start_time": "2023-08-25T11:14:11.444787",
     "status": "completed"
    },
    "tags": []
   },
   "outputs": [
    {
     "data": {
      "text/html": [
       "<div>\n",
       "<style scoped>\n",
       "    .dataframe tbody tr th:only-of-type {\n",
       "        vertical-align: middle;\n",
       "    }\n",
       "\n",
       "    .dataframe tbody tr th {\n",
       "        vertical-align: top;\n",
       "    }\n",
       "\n",
       "    .dataframe thead th {\n",
       "        text-align: right;\n",
       "    }\n",
       "</style>\n",
       "<table border=\"1\" class=\"dataframe\">\n",
       "  <thead>\n",
       "    <tr style=\"text-align: right;\">\n",
       "      <th></th>\n",
       "      <th>Age</th>\n",
       "      <th>RoomService</th>\n",
       "      <th>FoodCourt</th>\n",
       "      <th>ShoppingMall</th>\n",
       "      <th>Spa</th>\n",
       "      <th>VRDeck</th>\n",
       "    </tr>\n",
       "  </thead>\n",
       "  <tbody>\n",
       "    <tr>\n",
       "      <th>count</th>\n",
       "      <td>8514.000000</td>\n",
       "      <td>8512.000000</td>\n",
       "      <td>8510.000000</td>\n",
       "      <td>8485.000000</td>\n",
       "      <td>8510.000000</td>\n",
       "      <td>8505.000000</td>\n",
       "    </tr>\n",
       "    <tr>\n",
       "      <th>mean</th>\n",
       "      <td>28.827930</td>\n",
       "      <td>224.687617</td>\n",
       "      <td>458.077203</td>\n",
       "      <td>173.729169</td>\n",
       "      <td>311.138778</td>\n",
       "      <td>304.854791</td>\n",
       "    </tr>\n",
       "    <tr>\n",
       "      <th>std</th>\n",
       "      <td>14.489021</td>\n",
       "      <td>666.717663</td>\n",
       "      <td>1611.489240</td>\n",
       "      <td>604.696458</td>\n",
       "      <td>1136.705535</td>\n",
       "      <td>1145.717189</td>\n",
       "    </tr>\n",
       "    <tr>\n",
       "      <th>min</th>\n",
       "      <td>0.000000</td>\n",
       "      <td>0.000000</td>\n",
       "      <td>0.000000</td>\n",
       "      <td>0.000000</td>\n",
       "      <td>0.000000</td>\n",
       "      <td>0.000000</td>\n",
       "    </tr>\n",
       "    <tr>\n",
       "      <th>25%</th>\n",
       "      <td>19.000000</td>\n",
       "      <td>0.000000</td>\n",
       "      <td>0.000000</td>\n",
       "      <td>0.000000</td>\n",
       "      <td>0.000000</td>\n",
       "      <td>0.000000</td>\n",
       "    </tr>\n",
       "    <tr>\n",
       "      <th>50%</th>\n",
       "      <td>27.000000</td>\n",
       "      <td>0.000000</td>\n",
       "      <td>0.000000</td>\n",
       "      <td>0.000000</td>\n",
       "      <td>0.000000</td>\n",
       "      <td>0.000000</td>\n",
       "    </tr>\n",
       "    <tr>\n",
       "      <th>75%</th>\n",
       "      <td>38.000000</td>\n",
       "      <td>47.000000</td>\n",
       "      <td>76.000000</td>\n",
       "      <td>27.000000</td>\n",
       "      <td>59.000000</td>\n",
       "      <td>46.000000</td>\n",
       "    </tr>\n",
       "    <tr>\n",
       "      <th>max</th>\n",
       "      <td>79.000000</td>\n",
       "      <td>14327.000000</td>\n",
       "      <td>29813.000000</td>\n",
       "      <td>23492.000000</td>\n",
       "      <td>22408.000000</td>\n",
       "      <td>24133.000000</td>\n",
       "    </tr>\n",
       "  </tbody>\n",
       "</table>\n",
       "</div>"
      ],
      "text/plain": [
       "               Age   RoomService     FoodCourt  ShoppingMall           Spa  \\\n",
       "count  8514.000000   8512.000000   8510.000000   8485.000000   8510.000000   \n",
       "mean     28.827930    224.687617    458.077203    173.729169    311.138778   \n",
       "std      14.489021    666.717663   1611.489240    604.696458   1136.705535   \n",
       "min       0.000000      0.000000      0.000000      0.000000      0.000000   \n",
       "25%      19.000000      0.000000      0.000000      0.000000      0.000000   \n",
       "50%      27.000000      0.000000      0.000000      0.000000      0.000000   \n",
       "75%      38.000000     47.000000     76.000000     27.000000     59.000000   \n",
       "max      79.000000  14327.000000  29813.000000  23492.000000  22408.000000   \n",
       "\n",
       "             VRDeck  \n",
       "count   8505.000000  \n",
       "mean     304.854791  \n",
       "std     1145.717189  \n",
       "min        0.000000  \n",
       "25%        0.000000  \n",
       "50%        0.000000  \n",
       "75%       46.000000  \n",
       "max    24133.000000  "
      ]
     },
     "execution_count": 5,
     "metadata": {},
     "output_type": "execute_result"
    }
   ],
   "source": [
    "train.describe()"
   ]
  },
  {
   "cell_type": "code",
   "execution_count": 6,
   "id": "89a23089",
   "metadata": {
    "execution": {
     "iopub.execute_input": "2023-08-25T11:14:11.528001Z",
     "iopub.status.busy": "2023-08-25T11:14:11.527618Z",
     "iopub.status.idle": "2023-08-25T11:14:11.535893Z",
     "shell.execute_reply": "2023-08-25T11:14:11.534829Z"
    },
    "papermill": {
     "duration": 0.024473,
     "end_time": "2023-08-25T11:14:11.538104",
     "exception": false,
     "start_time": "2023-08-25T11:14:11.513631",
     "status": "completed"
    },
    "tags": []
   },
   "outputs": [],
   "source": [
    "train_df = train.drop(['PassengerId', 'Name'], axis = 1)"
   ]
  },
  {
   "cell_type": "markdown",
   "id": "58f794aa",
   "metadata": {
    "papermill": {
     "duration": 0.012318,
     "end_time": "2023-08-25T11:14:11.563471",
     "exception": false,
     "start_time": "2023-08-25T11:14:11.551153",
     "status": "completed"
    },
    "tags": []
   },
   "source": [
    "# Graphing"
   ]
  },
  {
   "cell_type": "code",
   "execution_count": 7,
   "id": "70a4ec50",
   "metadata": {
    "execution": {
     "iopub.execute_input": "2023-08-25T11:14:11.590981Z",
     "iopub.status.busy": "2023-08-25T11:14:11.590305Z",
     "iopub.status.idle": "2023-08-25T11:14:11.609640Z",
     "shell.execute_reply": "2023-08-25T11:14:11.608521Z"
    },
    "papermill": {
     "duration": 0.03602,
     "end_time": "2023-08-25T11:14:11.612294",
     "exception": false,
     "start_time": "2023-08-25T11:14:11.576274",
     "status": "completed"
    },
    "tags": []
   },
   "outputs": [
    {
     "data": {
      "text/plain": [
       "0      0.00\n",
       "1     35.75\n",
       "2    905.00\n",
       "3    413.50\n",
       "4    131.00\n",
       "Name: mean, dtype: float64"
      ]
     },
     "execution_count": 7,
     "metadata": {},
     "output_type": "execute_result"
    }
   ],
   "source": [
    "# finding row mean for room service until spa\n",
    "train_df['mean'] = train_df.iloc[:,5:9].mean(axis = 1)\n",
    "train_df['mean'].head()"
   ]
  },
  {
   "cell_type": "code",
   "execution_count": 8,
   "id": "c17b5f78",
   "metadata": {
    "execution": {
     "iopub.execute_input": "2023-08-25T11:14:11.640466Z",
     "iopub.status.busy": "2023-08-25T11:14:11.640065Z",
     "iopub.status.idle": "2023-08-25T11:14:13.413063Z",
     "shell.execute_reply": "2023-08-25T11:14:13.411965Z"
    },
    "papermill": {
     "duration": 1.790848,
     "end_time": "2023-08-25T11:14:13.416204",
     "exception": false,
     "start_time": "2023-08-25T11:14:11.625356",
     "status": "completed"
    },
    "tags": []
   },
   "outputs": [
    {
     "data": {
      "text/plain": [
       "Text(0.5, 1.0, 'Survival count by CryoSleep')"
      ]
     },
     "execution_count": 8,
     "metadata": {},
     "output_type": "execute_result"
    },
    {
     "data": {
      "image/png": "[encoded data removed]",
      "text/plain": [
       "<Figure size 1600x1200 with 6 Axes>"
      ]
     },
     "metadata": {},
     "output_type": "display_data"
    }
   ],
   "source": [
    "plt.figure(figsize=(16,12))\n",
    "\n",
    "plt.subplot(2,3,1)\n",
    "sns.countplot(data = train_df, x = 'VIP', hue = 'Transported')\n",
    "plt.title(\"Survival count by VIP\")\n",
    "\n",
    "plt.subplot(2,3,2)\n",
    "sns.countplot(data = train_df, x = 'HomePlanet', hue = 'Transported')\n",
    "plt.title(\"Survival count by Home Planet\")\n",
    "\n",
    "plt.subplot(2,3,3)\n",
    "sns.countplot(data = train_df, x = 'Destination', hue = 'Transported')\n",
    "plt.title(\"Survival count by Destination\")\n",
    "\n",
    "plt.subplot(2,3,4)\n",
    "sns.histplot(data = train_df, x = 'Age', hue = 'Transported', bins = 8, multiple='stack',kde=True)\n",
    "plt.title(\"Survival count by Age\")\n",
    "\n",
    "plt.subplot(2,3,5)\n",
    "sns.histplot(data = train_df, x = 'mean', hue = 'Transported', bins = 8, multiple='stack',kde=True)\n",
    "plt.title(\"Survival count by Mean Spending\")\n",
    "\n",
    "plt.subplot(2,3,6)\n",
    "sns.countplot(data = train_df, x = 'CryoSleep', hue = 'Transported')\n",
    "plt.title(\"Survival count by CryoSleep\")"
   ]
  },
  {
   "cell_type": "markdown",
   "id": "9bf53785",
   "metadata": {
    "papermill": {
     "duration": 0.015038,
     "end_time": "2023-08-25T11:14:13.446116",
     "exception": false,
     "start_time": "2023-08-25T11:14:13.431078",
     "status": "completed"
    },
    "tags": []
   },
   "source": [
    "# Data Cleaning - Categorical Variables"
   ]
  },
  {
   "cell_type": "code",
   "execution_count": 9,
   "id": "d87476cf",
   "metadata": {
    "execution": {
     "iopub.execute_input": "2023-08-25T11:14:13.477750Z",
     "iopub.status.busy": "2023-08-25T11:14:13.477019Z",
     "iopub.status.idle": "2023-08-25T11:14:13.490011Z",
     "shell.execute_reply": "2023-08-25T11:14:13.489170Z"
    },
    "papermill": {
     "duration": 0.03093,
     "end_time": "2023-08-25T11:14:13.492046",
     "exception": false,
     "start_time": "2023-08-25T11:14:13.461116",
     "status": "completed"
    },
    "tags": []
   },
   "outputs": [
    {
     "data": {
      "text/html": [
       "<div>\n",
       "<style scoped>\n",
       "    .dataframe tbody tr th:only-of-type {\n",
       "        vertical-align: middle;\n",
       "    }\n",
       "\n",
       "    .dataframe tbody tr th {\n",
       "        vertical-align: top;\n",
       "    }\n",
       "\n",
       "    .dataframe thead th {\n",
       "        text-align: right;\n",
       "    }\n",
       "</style>\n",
       "<table border=\"1\" class=\"dataframe\">\n",
       "  <thead>\n",
       "    <tr style=\"text-align: right;\">\n",
       "      <th></th>\n",
       "      <th>HomePlanet</th>\n",
       "      <th>CryoSleep</th>\n",
       "      <th>Cabin</th>\n",
       "      <th>Destination</th>\n",
       "      <th>VIP</th>\n",
       "    </tr>\n",
       "  </thead>\n",
       "  <tbody>\n",
       "    <tr>\n",
       "      <th>0</th>\n",
       "      <td>Europa</td>\n",
       "      <td>False</td>\n",
       "      <td>B/0/P</td>\n",
       "      <td>TRAPPIST-1e</td>\n",
       "      <td>False</td>\n",
       "    </tr>\n",
       "    <tr>\n",
       "      <th>1</th>\n",
       "      <td>Earth</td>\n",
       "      <td>False</td>\n",
       "      <td>F/0/S</td>\n",
       "      <td>TRAPPIST-1e</td>\n",
       "      <td>False</td>\n",
       "    </tr>\n",
       "    <tr>\n",
       "      <th>2</th>\n",
       "      <td>Europa</td>\n",
       "      <td>False</td>\n",
       "      <td>A/0/S</td>\n",
       "      <td>TRAPPIST-1e</td>\n",
       "      <td>True</td>\n",
       "    </tr>\n",
       "    <tr>\n",
       "      <th>3</th>\n",
       "      <td>Europa</td>\n",
       "      <td>False</td>\n",
       "      <td>A/0/S</td>\n",
       "      <td>TRAPPIST-1e</td>\n",
       "      <td>False</td>\n",
       "    </tr>\n",
       "    <tr>\n",
       "      <th>4</th>\n",
       "      <td>Earth</td>\n",
       "      <td>False</td>\n",
       "      <td>F/1/S</td>\n",
       "      <td>TRAPPIST-1e</td>\n",
       "      <td>False</td>\n",
       "    </tr>\n",
       "  </tbody>\n",
       "</table>\n",
       "</div>"
      ],
      "text/plain": [
       "  HomePlanet CryoSleep  Cabin  Destination    VIP\n",
       "0     Europa     False  B/0/P  TRAPPIST-1e  False\n",
       "1      Earth     False  F/0/S  TRAPPIST-1e  False\n",
       "2     Europa     False  A/0/S  TRAPPIST-1e   True\n",
       "3     Europa     False  A/0/S  TRAPPIST-1e  False\n",
       "4      Earth     False  F/1/S  TRAPPIST-1e  False"
      ]
     },
     "execution_count": 9,
     "metadata": {},
     "output_type": "execute_result"
    }
   ],
   "source": [
    "categorical = [var for var in train_df.columns if train_df[var].dtype == 'O']\n",
    "train_df[categorical].head()"
   ]
  },
  {
   "cell_type": "code",
   "execution_count": 10,
   "id": "46d401d0",
   "metadata": {
    "execution": {
     "iopub.execute_input": "2023-08-25T11:14:13.524131Z",
     "iopub.status.busy": "2023-08-25T11:14:13.523700Z",
     "iopub.status.idle": "2023-08-25T11:14:13.530450Z",
     "shell.execute_reply": "2023-08-25T11:14:13.529115Z"
    },
    "papermill": {
     "duration": 0.025783,
     "end_time": "2023-08-25T11:14:13.532640",
     "exception": false,
     "start_time": "2023-08-25T11:14:13.506857",
     "status": "completed"
    },
    "tags": []
   },
   "outputs": [
    {
     "name": "stdout",
     "output_type": "stream",
     "text": [
      "['Europa' 'Earth' 'Mars' nan]\n",
      "['TRAPPIST-1e' 'PSO J318.5-22' '55 Cancri e' nan]\n"
     ]
    }
   ],
   "source": [
    "print(train_df['HomePlanet'].unique())\n",
    "print(train_df['Destination'].unique())"
   ]
  },
  {
   "cell_type": "code",
   "execution_count": 11,
   "id": "9aa6f129",
   "metadata": {
    "execution": {
     "iopub.execute_input": "2023-08-25T11:14:13.563734Z",
     "iopub.status.busy": "2023-08-25T11:14:13.563352Z",
     "iopub.status.idle": "2023-08-25T11:14:13.580812Z",
     "shell.execute_reply": "2023-08-25T11:14:13.579418Z"
    },
    "papermill": {
     "duration": 0.035634,
     "end_time": "2023-08-25T11:14:13.583074",
     "exception": false,
     "start_time": "2023-08-25T11:14:13.547440",
     "status": "completed"
    },
    "tags": []
   },
   "outputs": [
    {
     "name": "stdout",
     "output_type": "stream",
     "text": [
      "Earth     0.529391\n",
      "Europa    0.245140\n",
      "Mars      0.202347\n",
      "Name: HomePlanet, dtype: float64\n",
      "False    0.625676\n",
      "True     0.349362\n",
      "Name: CryoSleep, dtype: float64\n",
      "G/734/S     0.000920\n",
      "G/109/P     0.000805\n",
      "B/201/P     0.000805\n",
      "G/1368/P    0.000805\n",
      "G/981/S     0.000805\n",
      "              ...   \n",
      "G/556/P     0.000115\n",
      "E/231/S     0.000115\n",
      "G/545/S     0.000115\n",
      "G/543/S     0.000115\n",
      "F/947/P     0.000115\n",
      "Name: Cabin, Length: 6560, dtype: float64\n",
      "TRAPPIST-1e      0.680433\n",
      "55 Cancri e      0.207063\n",
      "PSO J318.5-22    0.091568\n",
      "Name: Destination, dtype: float64\n",
      "False    0.953756\n",
      "True     0.022892\n",
      "Name: VIP, dtype: float64\n"
     ]
    }
   ],
   "source": [
    "for var in categorical:\n",
    "    print(train_df[var].value_counts()/float(len(train_df)))"
   ]
  },
  {
   "cell_type": "code",
   "execution_count": 12,
   "id": "0b72e33b",
   "metadata": {
    "execution": {
     "iopub.execute_input": "2023-08-25T11:14:13.614876Z",
     "iopub.status.busy": "2023-08-25T11:14:13.614489Z",
     "iopub.status.idle": "2023-08-25T11:14:13.622633Z",
     "shell.execute_reply": "2023-08-25T11:14:13.621551Z"
    },
    "papermill": {
     "duration": 0.026651,
     "end_time": "2023-08-25T11:14:13.624944",
     "exception": false,
     "start_time": "2023-08-25T11:14:13.598293",
     "status": "completed"
    },
    "tags": []
   },
   "outputs": [
    {
     "name": "stdout",
     "output_type": "stream",
     "text": [
      "HomePlanet  contains 4 labels\n",
      "CryoSleep  contains 3 labels\n",
      "Cabin  contains 6561 labels\n",
      "Destination  contains 4 labels\n",
      "VIP  contains 3 labels\n"
     ]
    }
   ],
   "source": [
    "# check cardinality\n",
    "for var in categorical:\n",
    "    print(var, ' contains', len(train_df[var].unique()), 'labels')"
   ]
  },
  {
   "cell_type": "code",
   "execution_count": 13,
   "id": "fccb46d5",
   "metadata": {
    "execution": {
     "iopub.execute_input": "2023-08-25T11:14:13.658875Z",
     "iopub.status.busy": "2023-08-25T11:14:13.657843Z",
     "iopub.status.idle": "2023-08-25T11:14:13.674648Z",
     "shell.execute_reply": "2023-08-25T11:14:13.673616Z"
    },
    "papermill": {
     "duration": 0.036904,
     "end_time": "2023-08-25T11:14:13.676732",
     "exception": false,
     "start_time": "2023-08-25T11:14:13.639828",
     "status": "completed"
    },
    "tags": []
   },
   "outputs": [
    {
     "data": {
      "text/plain": [
       "HomePlanet      201\n",
       "CryoSleep       217\n",
       "Cabin           199\n",
       "Destination     182\n",
       "Age             179\n",
       "VIP             203\n",
       "RoomService     181\n",
       "FoodCourt       183\n",
       "ShoppingMall    208\n",
       "Spa             183\n",
       "VRDeck          188\n",
       "Transported       0\n",
       "mean              0\n",
       "dtype: int64"
      ]
     },
     "execution_count": 13,
     "metadata": {},
     "output_type": "execute_result"
    }
   ],
   "source": [
    "train_df.isnull().sum()"
   ]
  },
  {
   "cell_type": "code",
   "execution_count": 14,
   "id": "680eb6e2",
   "metadata": {
    "execution": {
     "iopub.execute_input": "2023-08-25T11:14:13.709068Z",
     "iopub.status.busy": "2023-08-25T11:14:13.708359Z",
     "iopub.status.idle": "2023-08-25T11:14:13.746939Z",
     "shell.execute_reply": "2023-08-25T11:14:13.745698Z"
    },
    "papermill": {
     "duration": 0.057577,
     "end_time": "2023-08-25T11:14:13.749403",
     "exception": false,
     "start_time": "2023-08-25T11:14:13.691826",
     "status": "completed"
    },
    "tags": []
   },
   "outputs": [
    {
     "data": {
      "text/html": [
       "<div>\n",
       "<style scoped>\n",
       "    .dataframe tbody tr th:only-of-type {\n",
       "        vertical-align: middle;\n",
       "    }\n",
       "\n",
       "    .dataframe tbody tr th {\n",
       "        vertical-align: top;\n",
       "    }\n",
       "\n",
       "    .dataframe thead th {\n",
       "        text-align: right;\n",
       "    }\n",
       "</style>\n",
       "<table border=\"1\" class=\"dataframe\">\n",
       "  <thead>\n",
       "    <tr style=\"text-align: right;\">\n",
       "      <th></th>\n",
       "      <th>HomePlanet</th>\n",
       "      <th>CryoSleep</th>\n",
       "      <th>Destination</th>\n",
       "      <th>Age</th>\n",
       "      <th>VIP</th>\n",
       "      <th>RoomService</th>\n",
       "      <th>FoodCourt</th>\n",
       "      <th>ShoppingMall</th>\n",
       "      <th>Spa</th>\n",
       "      <th>VRDeck</th>\n",
       "      <th>Transported</th>\n",
       "      <th>mean</th>\n",
       "      <th>Deck</th>\n",
       "      <th>Num</th>\n",
       "      <th>Side</th>\n",
       "    </tr>\n",
       "  </thead>\n",
       "  <tbody>\n",
       "    <tr>\n",
       "      <th>0</th>\n",
       "      <td>Europa</td>\n",
       "      <td>False</td>\n",
       "      <td>TRAPPIST-1e</td>\n",
       "      <td>39.0</td>\n",
       "      <td>False</td>\n",
       "      <td>0.0</td>\n",
       "      <td>0.0</td>\n",
       "      <td>0.0</td>\n",
       "      <td>0.0</td>\n",
       "      <td>0.0</td>\n",
       "      <td>False</td>\n",
       "      <td>0.00</td>\n",
       "      <td>B</td>\n",
       "      <td>0</td>\n",
       "      <td>P</td>\n",
       "    </tr>\n",
       "    <tr>\n",
       "      <th>1</th>\n",
       "      <td>Earth</td>\n",
       "      <td>False</td>\n",
       "      <td>TRAPPIST-1e</td>\n",
       "      <td>24.0</td>\n",
       "      <td>False</td>\n",
       "      <td>109.0</td>\n",
       "      <td>9.0</td>\n",
       "      <td>25.0</td>\n",
       "      <td>549.0</td>\n",
       "      <td>44.0</td>\n",
       "      <td>True</td>\n",
       "      <td>35.75</td>\n",
       "      <td>F</td>\n",
       "      <td>0</td>\n",
       "      <td>S</td>\n",
       "    </tr>\n",
       "    <tr>\n",
       "      <th>2</th>\n",
       "      <td>Europa</td>\n",
       "      <td>False</td>\n",
       "      <td>TRAPPIST-1e</td>\n",
       "      <td>58.0</td>\n",
       "      <td>True</td>\n",
       "      <td>43.0</td>\n",
       "      <td>3576.0</td>\n",
       "      <td>0.0</td>\n",
       "      <td>6715.0</td>\n",
       "      <td>49.0</td>\n",
       "      <td>False</td>\n",
       "      <td>905.00</td>\n",
       "      <td>A</td>\n",
       "      <td>0</td>\n",
       "      <td>S</td>\n",
       "    </tr>\n",
       "    <tr>\n",
       "      <th>3</th>\n",
       "      <td>Europa</td>\n",
       "      <td>False</td>\n",
       "      <td>TRAPPIST-1e</td>\n",
       "      <td>33.0</td>\n",
       "      <td>False</td>\n",
       "      <td>0.0</td>\n",
       "      <td>1283.0</td>\n",
       "      <td>371.0</td>\n",
       "      <td>3329.0</td>\n",
       "      <td>193.0</td>\n",
       "      <td>False</td>\n",
       "      <td>413.50</td>\n",
       "      <td>A</td>\n",
       "      <td>0</td>\n",
       "      <td>S</td>\n",
       "    </tr>\n",
       "    <tr>\n",
       "      <th>4</th>\n",
       "      <td>Earth</td>\n",
       "      <td>False</td>\n",
       "      <td>TRAPPIST-1e</td>\n",
       "      <td>16.0</td>\n",
       "      <td>False</td>\n",
       "      <td>303.0</td>\n",
       "      <td>70.0</td>\n",
       "      <td>151.0</td>\n",
       "      <td>565.0</td>\n",
       "      <td>2.0</td>\n",
       "      <td>True</td>\n",
       "      <td>131.00</td>\n",
       "      <td>F</td>\n",
       "      <td>1</td>\n",
       "      <td>S</td>\n",
       "    </tr>\n",
       "  </tbody>\n",
       "</table>\n",
       "</div>"
      ],
      "text/plain": [
       "  HomePlanet CryoSleep  Destination   Age    VIP  RoomService  FoodCourt  \\\n",
       "0     Europa     False  TRAPPIST-1e  39.0  False          0.0        0.0   \n",
       "1      Earth     False  TRAPPIST-1e  24.0  False        109.0        9.0   \n",
       "2     Europa     False  TRAPPIST-1e  58.0   True         43.0     3576.0   \n",
       "3     Europa     False  TRAPPIST-1e  33.0  False          0.0     1283.0   \n",
       "4      Earth     False  TRAPPIST-1e  16.0  False        303.0       70.0   \n",
       "\n",
       "   ShoppingMall     Spa  VRDeck  Transported    mean Deck Num Side  \n",
       "0           0.0     0.0     0.0        False    0.00    B   0    P  \n",
       "1          25.0   549.0    44.0         True   35.75    F   0    S  \n",
       "2           0.0  6715.0    49.0        False  905.00    A   0    S  \n",
       "3         371.0  3329.0   193.0        False  413.50    A   0    S  \n",
       "4         151.0   565.0     2.0         True  131.00    F   1    S  "
      ]
     },
     "execution_count": 14,
     "metadata": {},
     "output_type": "execute_result"
    }
   ],
   "source": [
    "train_df[['Deck', 'Num', 'Side']] = train_df['Cabin'].str.split('/', expand = True)\n",
    "train_df = train_df.drop('Cabin', axis = 1)\n",
    "train_df.head()"
   ]
  },
  {
   "cell_type": "code",
   "execution_count": 15,
   "id": "350320a5",
   "metadata": {
    "execution": {
     "iopub.execute_input": "2023-08-25T11:14:13.782684Z",
     "iopub.status.busy": "2023-08-25T11:14:13.781775Z",
     "iopub.status.idle": "2023-08-25T11:14:13.798421Z",
     "shell.execute_reply": "2023-08-25T11:14:13.797557Z"
    },
    "papermill": {
     "duration": 0.036393,
     "end_time": "2023-08-25T11:14:13.800988",
     "exception": false,
     "start_time": "2023-08-25T11:14:13.764595",
     "status": "completed"
    },
    "tags": []
   },
   "outputs": [],
   "source": [
    "train_df[['CryoSleep','VIP', 'RoomService', 'FoodCourt', 'ShoppingMall', 'Spa', 'VRDeck', 'Transported']] = train_df[['CryoSleep','VIP', 'RoomService', 'FoodCourt', 'ShoppingMall', 'Spa', 'VRDeck', 'Transported']].fillna(value = 0)"
   ]
  },
  {
   "cell_type": "code",
   "execution_count": 16,
   "id": "c39b400f",
   "metadata": {
    "execution": {
     "iopub.execute_input": "2023-08-25T11:14:13.834791Z",
     "iopub.status.busy": "2023-08-25T11:14:13.834180Z",
     "iopub.status.idle": "2023-08-25T11:14:13.839854Z",
     "shell.execute_reply": "2023-08-25T11:14:13.839053Z"
    },
    "papermill": {
     "duration": 0.024745,
     "end_time": "2023-08-25T11:14:13.842042",
     "exception": false,
     "start_time": "2023-08-25T11:14:13.817297",
     "status": "completed"
    },
    "tags": []
   },
   "outputs": [],
   "source": [
    "train_df['Age'] = train_df['Age'].fillna(value = 28.83)"
   ]
  },
  {
   "cell_type": "code",
   "execution_count": 17,
   "id": "d2029fbd",
   "metadata": {
    "execution": {
     "iopub.execute_input": "2023-08-25T11:14:13.874723Z",
     "iopub.status.busy": "2023-08-25T11:14:13.874102Z",
     "iopub.status.idle": "2023-08-25T11:14:14.050824Z",
     "shell.execute_reply": "2023-08-25T11:14:14.049730Z"
    },
    "papermill": {
     "duration": 0.195726,
     "end_time": "2023-08-25T11:14:14.053271",
     "exception": false,
     "start_time": "2023-08-25T11:14:13.857545",
     "status": "completed"
    },
    "tags": []
   },
   "outputs": [
    {
     "data": {
      "text/html": [
       "<div>\n",
       "<style scoped>\n",
       "    .dataframe tbody tr th:only-of-type {\n",
       "        vertical-align: middle;\n",
       "    }\n",
       "\n",
       "    .dataframe tbody tr th {\n",
       "        vertical-align: top;\n",
       "    }\n",
       "\n",
       "    .dataframe thead th {\n",
       "        text-align: right;\n",
       "    }\n",
       "</style>\n",
       "<table border=\"1\" class=\"dataframe\">\n",
       "  <thead>\n",
       "    <tr style=\"text-align: right;\">\n",
       "      <th></th>\n",
       "      <th>HomePlanet</th>\n",
       "      <th>CryoSleep</th>\n",
       "      <th>Destination</th>\n",
       "      <th>Age</th>\n",
       "      <th>VIP</th>\n",
       "      <th>RoomService</th>\n",
       "      <th>FoodCourt</th>\n",
       "      <th>ShoppingMall</th>\n",
       "      <th>Spa</th>\n",
       "      <th>VRDeck</th>\n",
       "      <th>Transported</th>\n",
       "      <th>mean</th>\n",
       "      <th>Deck</th>\n",
       "      <th>Num</th>\n",
       "      <th>Side</th>\n",
       "    </tr>\n",
       "  </thead>\n",
       "  <tbody>\n",
       "    <tr>\n",
       "      <th>0</th>\n",
       "      <td>Europa</td>\n",
       "      <td>False</td>\n",
       "      <td>TRAPPIST-1e</td>\n",
       "      <td>39.0</td>\n",
       "      <td>False</td>\n",
       "      <td>0.000000</td>\n",
       "      <td>0.000000</td>\n",
       "      <td>0.000000</td>\n",
       "      <td>0.000000</td>\n",
       "      <td>0.000</td>\n",
       "      <td>False</td>\n",
       "      <td>0.00</td>\n",
       "      <td>B</td>\n",
       "      <td>0</td>\n",
       "      <td>P</td>\n",
       "    </tr>\n",
       "    <tr>\n",
       "      <th>1</th>\n",
       "      <td>Earth</td>\n",
       "      <td>False</td>\n",
       "      <td>TRAPPIST-1e</td>\n",
       "      <td>24.0</td>\n",
       "      <td>False</td>\n",
       "      <td>2.658537</td>\n",
       "      <td>0.147541</td>\n",
       "      <td>1.136364</td>\n",
       "      <td>10.358491</td>\n",
       "      <td>1.100</td>\n",
       "      <td>True</td>\n",
       "      <td>35.75</td>\n",
       "      <td>F</td>\n",
       "      <td>0</td>\n",
       "      <td>S</td>\n",
       "    </tr>\n",
       "    <tr>\n",
       "      <th>2</th>\n",
       "      <td>Europa</td>\n",
       "      <td>False</td>\n",
       "      <td>TRAPPIST-1e</td>\n",
       "      <td>58.0</td>\n",
       "      <td>True</td>\n",
       "      <td>1.048780</td>\n",
       "      <td>58.622951</td>\n",
       "      <td>0.000000</td>\n",
       "      <td>126.698113</td>\n",
       "      <td>1.225</td>\n",
       "      <td>False</td>\n",
       "      <td>905.00</td>\n",
       "      <td>A</td>\n",
       "      <td>0</td>\n",
       "      <td>S</td>\n",
       "    </tr>\n",
       "    <tr>\n",
       "      <th>3</th>\n",
       "      <td>Europa</td>\n",
       "      <td>False</td>\n",
       "      <td>TRAPPIST-1e</td>\n",
       "      <td>33.0</td>\n",
       "      <td>False</td>\n",
       "      <td>0.000000</td>\n",
       "      <td>21.032787</td>\n",
       "      <td>16.863636</td>\n",
       "      <td>62.811321</td>\n",
       "      <td>4.825</td>\n",
       "      <td>False</td>\n",
       "      <td>413.50</td>\n",
       "      <td>A</td>\n",
       "      <td>0</td>\n",
       "      <td>S</td>\n",
       "    </tr>\n",
       "    <tr>\n",
       "      <th>4</th>\n",
       "      <td>Earth</td>\n",
       "      <td>False</td>\n",
       "      <td>TRAPPIST-1e</td>\n",
       "      <td>16.0</td>\n",
       "      <td>False</td>\n",
       "      <td>7.390244</td>\n",
       "      <td>1.147541</td>\n",
       "      <td>6.863636</td>\n",
       "      <td>10.660377</td>\n",
       "      <td>0.050</td>\n",
       "      <td>True</td>\n",
       "      <td>131.00</td>\n",
       "      <td>F</td>\n",
       "      <td>1</td>\n",
       "      <td>S</td>\n",
       "    </tr>\n",
       "  </tbody>\n",
       "</table>\n",
       "</div>"
      ],
      "text/plain": [
       "  HomePlanet CryoSleep  Destination   Age    VIP  RoomService  FoodCourt  \\\n",
       "0     Europa     False  TRAPPIST-1e  39.0  False     0.000000   0.000000   \n",
       "1      Earth     False  TRAPPIST-1e  24.0  False     2.658537   0.147541   \n",
       "2     Europa     False  TRAPPIST-1e  58.0   True     1.048780  58.622951   \n",
       "3     Europa     False  TRAPPIST-1e  33.0  False     0.000000  21.032787   \n",
       "4      Earth     False  TRAPPIST-1e  16.0  False     7.390244   1.147541   \n",
       "\n",
       "   ShoppingMall         Spa  VRDeck  Transported    mean Deck Num Side  \n",
       "0      0.000000    0.000000   0.000        False    0.00    B   0    P  \n",
       "1      1.136364   10.358491   1.100         True   35.75    F   0    S  \n",
       "2      0.000000  126.698113   1.225        False  905.00    A   0    S  \n",
       "3     16.863636   62.811321   4.825        False  413.50    A   0    S  \n",
       "4      6.863636   10.660377   0.050         True  131.00    F   1    S  "
      ]
     },
     "execution_count": 17,
     "metadata": {},
     "output_type": "execute_result"
    }
   ],
   "source": [
    "# Scaling for numerical columns:\n",
    "from sklearn.preprocessing import RobustScaler\n",
    "\n",
    "col_headers=['RoomService', 'FoodCourt', 'ShoppingMall', 'Spa', 'VRDeck']\n",
    "scl = RobustScaler()\n",
    "train_df[col_headers] = scl.fit_transform(train_df[col_headers])\n",
    "train_df.head()"
   ]
  },
  {
   "cell_type": "code",
   "execution_count": 18,
   "id": "d8c1b403",
   "metadata": {
    "execution": {
     "iopub.execute_input": "2023-08-25T11:14:14.086691Z",
     "iopub.status.busy": "2023-08-25T11:14:14.085814Z",
     "iopub.status.idle": "2023-08-25T11:14:14.104152Z",
     "shell.execute_reply": "2023-08-25T11:14:14.103052Z"
    },
    "papermill": {
     "duration": 0.037432,
     "end_time": "2023-08-25T11:14:14.106430",
     "exception": false,
     "start_time": "2023-08-25T11:14:14.068998",
     "status": "completed"
    },
    "tags": []
   },
   "outputs": [],
   "source": [
    "train_df[['HomePlanet', 'Destination']] = train_df[['HomePlanet', 'Destination']].fillna(method = 'bfill')"
   ]
  },
  {
   "cell_type": "code",
   "execution_count": 19,
   "id": "0472cc0b",
   "metadata": {
    "execution": {
     "iopub.execute_input": "2023-08-25T11:14:14.139142Z",
     "iopub.status.busy": "2023-08-25T11:14:14.138748Z",
     "iopub.status.idle": "2023-08-25T11:14:14.157151Z",
     "shell.execute_reply": "2023-08-25T11:14:14.156280Z"
    },
    "papermill": {
     "duration": 0.037042,
     "end_time": "2023-08-25T11:14:14.159080",
     "exception": false,
     "start_time": "2023-08-25T11:14:14.122038",
     "status": "completed"
    },
    "tags": []
   },
   "outputs": [
    {
     "data": {
      "text/plain": [
       "HomePlanet        0\n",
       "CryoSleep         0\n",
       "Destination       0\n",
       "Age               0\n",
       "VIP               0\n",
       "RoomService       0\n",
       "FoodCourt         0\n",
       "ShoppingMall      0\n",
       "Spa               0\n",
       "VRDeck            0\n",
       "Transported       0\n",
       "mean              0\n",
       "Deck            199\n",
       "Num             199\n",
       "Side            199\n",
       "dtype: int64"
      ]
     },
     "execution_count": 19,
     "metadata": {},
     "output_type": "execute_result"
    }
   ],
   "source": [
    "train_df.isnull().sum()"
   ]
  },
  {
   "cell_type": "code",
   "execution_count": 20,
   "id": "0e2e50be",
   "metadata": {
    "execution": {
     "iopub.execute_input": "2023-08-25T11:14:14.193140Z",
     "iopub.status.busy": "2023-08-25T11:14:14.192344Z",
     "iopub.status.idle": "2023-08-25T11:14:14.216456Z",
     "shell.execute_reply": "2023-08-25T11:14:14.215291Z"
    },
    "papermill": {
     "duration": 0.043857,
     "end_time": "2023-08-25T11:14:14.219090",
     "exception": false,
     "start_time": "2023-08-25T11:14:14.175233",
     "status": "completed"
    },
    "tags": []
   },
   "outputs": [
    {
     "data": {
      "text/html": [
       "<div>\n",
       "<style scoped>\n",
       "    .dataframe tbody tr th:only-of-type {\n",
       "        vertical-align: middle;\n",
       "    }\n",
       "\n",
       "    .dataframe tbody tr th {\n",
       "        vertical-align: top;\n",
       "    }\n",
       "\n",
       "    .dataframe thead th {\n",
       "        text-align: right;\n",
       "    }\n",
       "</style>\n",
       "<table border=\"1\" class=\"dataframe\">\n",
       "  <thead>\n",
       "    <tr style=\"text-align: right;\">\n",
       "      <th></th>\n",
       "      <th>HomePlanet</th>\n",
       "      <th>CryoSleep</th>\n",
       "      <th>Destination</th>\n",
       "      <th>Age</th>\n",
       "      <th>VIP</th>\n",
       "      <th>RoomService</th>\n",
       "      <th>FoodCourt</th>\n",
       "      <th>ShoppingMall</th>\n",
       "      <th>Spa</th>\n",
       "      <th>VRDeck</th>\n",
       "      <th>Transported</th>\n",
       "      <th>mean</th>\n",
       "      <th>Deck</th>\n",
       "      <th>Num</th>\n",
       "      <th>Side</th>\n",
       "    </tr>\n",
       "  </thead>\n",
       "  <tbody>\n",
       "    <tr>\n",
       "      <th>0</th>\n",
       "      <td>Europa</td>\n",
       "      <td>0</td>\n",
       "      <td>TRAPPIST-1e</td>\n",
       "      <td>39.0</td>\n",
       "      <td>0</td>\n",
       "      <td>0</td>\n",
       "      <td>0</td>\n",
       "      <td>0</td>\n",
       "      <td>0</td>\n",
       "      <td>0</td>\n",
       "      <td>0</td>\n",
       "      <td>0.00</td>\n",
       "      <td>B</td>\n",
       "      <td>0</td>\n",
       "      <td>P</td>\n",
       "    </tr>\n",
       "    <tr>\n",
       "      <th>1</th>\n",
       "      <td>Earth</td>\n",
       "      <td>0</td>\n",
       "      <td>TRAPPIST-1e</td>\n",
       "      <td>24.0</td>\n",
       "      <td>0</td>\n",
       "      <td>2</td>\n",
       "      <td>0</td>\n",
       "      <td>1</td>\n",
       "      <td>10</td>\n",
       "      <td>1</td>\n",
       "      <td>1</td>\n",
       "      <td>35.75</td>\n",
       "      <td>F</td>\n",
       "      <td>0</td>\n",
       "      <td>S</td>\n",
       "    </tr>\n",
       "    <tr>\n",
       "      <th>2</th>\n",
       "      <td>Europa</td>\n",
       "      <td>0</td>\n",
       "      <td>TRAPPIST-1e</td>\n",
       "      <td>58.0</td>\n",
       "      <td>1</td>\n",
       "      <td>1</td>\n",
       "      <td>58</td>\n",
       "      <td>0</td>\n",
       "      <td>126</td>\n",
       "      <td>1</td>\n",
       "      <td>0</td>\n",
       "      <td>905.00</td>\n",
       "      <td>A</td>\n",
       "      <td>0</td>\n",
       "      <td>S</td>\n",
       "    </tr>\n",
       "    <tr>\n",
       "      <th>3</th>\n",
       "      <td>Europa</td>\n",
       "      <td>0</td>\n",
       "      <td>TRAPPIST-1e</td>\n",
       "      <td>33.0</td>\n",
       "      <td>0</td>\n",
       "      <td>0</td>\n",
       "      <td>21</td>\n",
       "      <td>16</td>\n",
       "      <td>62</td>\n",
       "      <td>4</td>\n",
       "      <td>0</td>\n",
       "      <td>413.50</td>\n",
       "      <td>A</td>\n",
       "      <td>0</td>\n",
       "      <td>S</td>\n",
       "    </tr>\n",
       "    <tr>\n",
       "      <th>4</th>\n",
       "      <td>Earth</td>\n",
       "      <td>0</td>\n",
       "      <td>TRAPPIST-1e</td>\n",
       "      <td>16.0</td>\n",
       "      <td>0</td>\n",
       "      <td>7</td>\n",
       "      <td>1</td>\n",
       "      <td>6</td>\n",
       "      <td>10</td>\n",
       "      <td>0</td>\n",
       "      <td>1</td>\n",
       "      <td>131.00</td>\n",
       "      <td>F</td>\n",
       "      <td>1</td>\n",
       "      <td>S</td>\n",
       "    </tr>\n",
       "  </tbody>\n",
       "</table>\n",
       "</div>"
      ],
      "text/plain": [
       "  HomePlanet  CryoSleep  Destination   Age  VIP  RoomService  FoodCourt  \\\n",
       "0     Europa          0  TRAPPIST-1e  39.0    0            0          0   \n",
       "1      Earth          0  TRAPPIST-1e  24.0    0            2          0   \n",
       "2     Europa          0  TRAPPIST-1e  58.0    1            1         58   \n",
       "3     Europa          0  TRAPPIST-1e  33.0    0            0         21   \n",
       "4      Earth          0  TRAPPIST-1e  16.0    0            7          1   \n",
       "\n",
       "   ShoppingMall  Spa  VRDeck  Transported    mean Deck Num Side  \n",
       "0             0    0       0            0    0.00    B   0    P  \n",
       "1             1   10       1            1   35.75    F   0    S  \n",
       "2             0  126       1            0  905.00    A   0    S  \n",
       "3            16   62       4            0  413.50    A   0    S  \n",
       "4             6   10       0            1  131.00    F   1    S  "
      ]
     },
     "execution_count": 20,
     "metadata": {},
     "output_type": "execute_result"
    }
   ],
   "source": [
    "# change cryo sleep , vip and transported to int\n",
    "train_df['CryoSleep'] = train_df['CryoSleep'].astype(int)\n",
    "train_df['VIP'] = train_df['VIP'].astype(int)\n",
    "train_df['Transported'] = train_df['Transported'].astype(int)\n",
    "\n",
    "train_df[['RoomService','FoodCourt', 'ShoppingMall','Spa','VRDeck']] = train_df[['RoomService','FoodCourt', 'ShoppingMall','Spa','VRDeck']].astype(int)\n",
    "\n",
    "train_df.head()"
   ]
  },
  {
   "cell_type": "code",
   "execution_count": 21,
   "id": "5398dd67",
   "metadata": {
    "execution": {
     "iopub.execute_input": "2023-08-25T11:14:14.253980Z",
     "iopub.status.busy": "2023-08-25T11:14:14.252777Z",
     "iopub.status.idle": "2023-08-25T11:14:14.283831Z",
     "shell.execute_reply": "2023-08-25T11:14:14.282736Z"
    },
    "papermill": {
     "duration": 0.051212,
     "end_time": "2023-08-25T11:14:14.286201",
     "exception": false,
     "start_time": "2023-08-25T11:14:14.234989",
     "status": "completed"
    },
    "tags": []
   },
   "outputs": [
    {
     "data": {
      "text/html": [
       "<div>\n",
       "<style scoped>\n",
       "    .dataframe tbody tr th:only-of-type {\n",
       "        vertical-align: middle;\n",
       "    }\n",
       "\n",
       "    .dataframe tbody tr th {\n",
       "        vertical-align: top;\n",
       "    }\n",
       "\n",
       "    .dataframe thead th {\n",
       "        text-align: right;\n",
       "    }\n",
       "</style>\n",
       "<table border=\"1\" class=\"dataframe\">\n",
       "  <thead>\n",
       "    <tr style=\"text-align: right;\">\n",
       "      <th></th>\n",
       "      <th>HomePlanet</th>\n",
       "      <th>CryoSleep</th>\n",
       "      <th>Destination</th>\n",
       "      <th>Age</th>\n",
       "      <th>VIP</th>\n",
       "      <th>RoomService</th>\n",
       "      <th>FoodCourt</th>\n",
       "      <th>ShoppingMall</th>\n",
       "      <th>Spa</th>\n",
       "      <th>VRDeck</th>\n",
       "      <th>Transported</th>\n",
       "      <th>mean</th>\n",
       "      <th>Deck</th>\n",
       "      <th>Num</th>\n",
       "      <th>Side</th>\n",
       "    </tr>\n",
       "  </thead>\n",
       "  <tbody>\n",
       "    <tr>\n",
       "      <th>0</th>\n",
       "      <td>Europa</td>\n",
       "      <td>0</td>\n",
       "      <td>TRAPPIST-1e</td>\n",
       "      <td>39.0</td>\n",
       "      <td>0</td>\n",
       "      <td>0</td>\n",
       "      <td>0</td>\n",
       "      <td>0</td>\n",
       "      <td>0</td>\n",
       "      <td>0</td>\n",
       "      <td>0</td>\n",
       "      <td>0.00</td>\n",
       "      <td>1</td>\n",
       "      <td>0</td>\n",
       "      <td>0</td>\n",
       "    </tr>\n",
       "    <tr>\n",
       "      <th>1</th>\n",
       "      <td>Earth</td>\n",
       "      <td>0</td>\n",
       "      <td>TRAPPIST-1e</td>\n",
       "      <td>24.0</td>\n",
       "      <td>0</td>\n",
       "      <td>2</td>\n",
       "      <td>0</td>\n",
       "      <td>1</td>\n",
       "      <td>10</td>\n",
       "      <td>1</td>\n",
       "      <td>1</td>\n",
       "      <td>35.75</td>\n",
       "      <td>5</td>\n",
       "      <td>0</td>\n",
       "      <td>1</td>\n",
       "    </tr>\n",
       "    <tr>\n",
       "      <th>2</th>\n",
       "      <td>Europa</td>\n",
       "      <td>0</td>\n",
       "      <td>TRAPPIST-1e</td>\n",
       "      <td>58.0</td>\n",
       "      <td>1</td>\n",
       "      <td>1</td>\n",
       "      <td>58</td>\n",
       "      <td>0</td>\n",
       "      <td>126</td>\n",
       "      <td>1</td>\n",
       "      <td>0</td>\n",
       "      <td>905.00</td>\n",
       "      <td>0</td>\n",
       "      <td>0</td>\n",
       "      <td>1</td>\n",
       "    </tr>\n",
       "    <tr>\n",
       "      <th>3</th>\n",
       "      <td>Europa</td>\n",
       "      <td>0</td>\n",
       "      <td>TRAPPIST-1e</td>\n",
       "      <td>33.0</td>\n",
       "      <td>0</td>\n",
       "      <td>0</td>\n",
       "      <td>21</td>\n",
       "      <td>16</td>\n",
       "      <td>62</td>\n",
       "      <td>4</td>\n",
       "      <td>0</td>\n",
       "      <td>413.50</td>\n",
       "      <td>0</td>\n",
       "      <td>0</td>\n",
       "      <td>1</td>\n",
       "    </tr>\n",
       "    <tr>\n",
       "      <th>4</th>\n",
       "      <td>Earth</td>\n",
       "      <td>0</td>\n",
       "      <td>TRAPPIST-1e</td>\n",
       "      <td>16.0</td>\n",
       "      <td>0</td>\n",
       "      <td>7</td>\n",
       "      <td>1</td>\n",
       "      <td>6</td>\n",
       "      <td>10</td>\n",
       "      <td>0</td>\n",
       "      <td>1</td>\n",
       "      <td>131.00</td>\n",
       "      <td>5</td>\n",
       "      <td>1</td>\n",
       "      <td>1</td>\n",
       "    </tr>\n",
       "  </tbody>\n",
       "</table>\n",
       "</div>"
      ],
      "text/plain": [
       "  HomePlanet  CryoSleep  Destination   Age  VIP  RoomService  FoodCourt  \\\n",
       "0     Europa          0  TRAPPIST-1e  39.0    0            0          0   \n",
       "1      Earth          0  TRAPPIST-1e  24.0    0            2          0   \n",
       "2     Europa          0  TRAPPIST-1e  58.0    1            1         58   \n",
       "3     Europa          0  TRAPPIST-1e  33.0    0            0         21   \n",
       "4      Earth          0  TRAPPIST-1e  16.0    0            7          1   \n",
       "\n",
       "   ShoppingMall  Spa  VRDeck  Transported    mean  Deck  Num  Side  \n",
       "0             0    0       0            0    0.00     1    0     0  \n",
       "1             1   10       1            1   35.75     5    0     1  \n",
       "2             0  126       1            0  905.00     0    0     1  \n",
       "3            16   62       4            0  413.50     0    0     1  \n",
       "4             6   10       0            1  131.00     5    1     1  "
      ]
     },
     "execution_count": 21,
     "metadata": {},
     "output_type": "execute_result"
    }
   ],
   "source": [
    "from sklearn.preprocessing import LabelEncoder\n",
    "column_headers = ['Deck', 'Num', 'Side']\n",
    "le = LabelEncoder()\n",
    "\n",
    "train_df[column_headers] = train_df[column_headers].apply(le.fit_transform)\n",
    "train_df.head()"
   ]
  },
  {
   "cell_type": "code",
   "execution_count": 22,
   "id": "ea2ed628",
   "metadata": {
    "execution": {
     "iopub.execute_input": "2023-08-25T11:14:14.321228Z",
     "iopub.status.busy": "2023-08-25T11:14:14.320783Z",
     "iopub.status.idle": "2023-08-25T11:14:14.337156Z",
     "shell.execute_reply": "2023-08-25T11:14:14.336041Z"
    },
    "papermill": {
     "duration": 0.036147,
     "end_time": "2023-08-25T11:14:14.339277",
     "exception": false,
     "start_time": "2023-08-25T11:14:14.303130",
     "status": "completed"
    },
    "tags": []
   },
   "outputs": [
    {
     "name": "stdout",
     "output_type": "stream",
     "text": [
      "<class 'pandas.core.frame.DataFrame'>\n",
      "RangeIndex: 8693 entries, 0 to 8692\n",
      "Data columns (total 15 columns):\n",
      " #   Column        Non-Null Count  Dtype  \n",
      "---  ------        --------------  -----  \n",
      " 0   HomePlanet    8693 non-null   object \n",
      " 1   CryoSleep     8693 non-null   int64  \n",
      " 2   Destination   8693 non-null   object \n",
      " 3   Age           8693 non-null   float64\n",
      " 4   VIP           8693 non-null   int64  \n",
      " 5   RoomService   8693 non-null   int64  \n",
      " 6   FoodCourt     8693 non-null   int64  \n",
      " 7   ShoppingMall  8693 non-null   int64  \n",
      " 8   Spa           8693 non-null   int64  \n",
      " 9   VRDeck        8693 non-null   int64  \n",
      " 10  Transported   8693 non-null   int64  \n",
      " 11  mean          8693 non-null   float64\n",
      " 12  Deck          8693 non-null   int64  \n",
      " 13  Num           8693 non-null   int64  \n",
      " 14  Side          8693 non-null   int64  \n",
      "dtypes: float64(2), int64(11), object(2)\n",
      "memory usage: 1018.8+ KB\n"
     ]
    }
   ],
   "source": [
    "train_df.info()"
   ]
  },
  {
   "cell_type": "code",
   "execution_count": 23,
   "id": "344c0c8f",
   "metadata": {
    "execution": {
     "iopub.execute_input": "2023-08-25T11:14:14.375083Z",
     "iopub.status.busy": "2023-08-25T11:14:14.374452Z",
     "iopub.status.idle": "2023-08-25T11:14:14.397975Z",
     "shell.execute_reply": "2023-08-25T11:14:14.396592Z"
    },
    "papermill": {
     "duration": 0.044533,
     "end_time": "2023-08-25T11:14:14.400413",
     "exception": false,
     "start_time": "2023-08-25T11:14:14.355880",
     "status": "completed"
    },
    "tags": []
   },
   "outputs": [],
   "source": [
    "from sklearn.preprocessing import OneHotEncoder\n",
    "# Apply one-hot encoder to each column with categorical data\n",
    "OH_encoder = OneHotEncoder(handle_unknown='ignore', sparse_output=False) # ori: spare = False\n",
    "\n",
    "# Get list of categorical variables\n",
    "s = (train_df.dtypes == 'object')\n",
    "object_cols = list(s[s].index)\n",
    "\n",
    "OH_cols_train = pd.DataFrame(OH_encoder.fit_transform(train_df[object_cols]))\n",
    "\n",
    "# One-hot encoding removed index; put it back\n",
    "OH_cols_train.index = train_df.index\n",
    "\n",
    "# Remove categorical columns (will replace with one-hot encoding)\n",
    "num_X_train = train_df.drop(object_cols, axis=1)\n",
    "\n",
    "# Add one-hot encoded columns to numerical features\n",
    "OH_train_df = pd.concat([num_X_train, OH_cols_train], axis=1)"
   ]
  },
  {
   "cell_type": "code",
   "execution_count": 24,
   "id": "e20fa7d6",
   "metadata": {
    "execution": {
     "iopub.execute_input": "2023-08-25T11:14:14.435556Z",
     "iopub.status.busy": "2023-08-25T11:14:14.435153Z",
     "iopub.status.idle": "2023-08-25T11:14:14.456938Z",
     "shell.execute_reply": "2023-08-25T11:14:14.455934Z"
    },
    "papermill": {
     "duration": 0.04284,
     "end_time": "2023-08-25T11:14:14.459768",
     "exception": false,
     "start_time": "2023-08-25T11:14:14.416928",
     "status": "completed"
    },
    "tags": []
   },
   "outputs": [
    {
     "data": {
      "text/html": [
       "<div>\n",
       "<style scoped>\n",
       "    .dataframe tbody tr th:only-of-type {\n",
       "        vertical-align: middle;\n",
       "    }\n",
       "\n",
       "    .dataframe tbody tr th {\n",
       "        vertical-align: top;\n",
       "    }\n",
       "\n",
       "    .dataframe thead th {\n",
       "        text-align: right;\n",
       "    }\n",
       "</style>\n",
       "<table border=\"1\" class=\"dataframe\">\n",
       "  <thead>\n",
       "    <tr style=\"text-align: right;\">\n",
       "      <th></th>\n",
       "      <th>CryoSleep</th>\n",
       "      <th>Age</th>\n",
       "      <th>VIP</th>\n",
       "      <th>RoomService</th>\n",
       "      <th>FoodCourt</th>\n",
       "      <th>ShoppingMall</th>\n",
       "      <th>Spa</th>\n",
       "      <th>VRDeck</th>\n",
       "      <th>Transported</th>\n",
       "      <th>mean</th>\n",
       "      <th>Deck</th>\n",
       "      <th>Num</th>\n",
       "      <th>Side</th>\n",
       "      <th>0</th>\n",
       "      <th>1</th>\n",
       "      <th>2</th>\n",
       "      <th>3</th>\n",
       "      <th>4</th>\n",
       "      <th>5</th>\n",
       "    </tr>\n",
       "  </thead>\n",
       "  <tbody>\n",
       "    <tr>\n",
       "      <th>0</th>\n",
       "      <td>0</td>\n",
       "      <td>39.0</td>\n",
       "      <td>0</td>\n",
       "      <td>0</td>\n",
       "      <td>0</td>\n",
       "      <td>0</td>\n",
       "      <td>0</td>\n",
       "      <td>0</td>\n",
       "      <td>0</td>\n",
       "      <td>0.00</td>\n",
       "      <td>1</td>\n",
       "      <td>0</td>\n",
       "      <td>0</td>\n",
       "      <td>0.0</td>\n",
       "      <td>1.0</td>\n",
       "      <td>0.0</td>\n",
       "      <td>0.0</td>\n",
       "      <td>0.0</td>\n",
       "      <td>1.0</td>\n",
       "    </tr>\n",
       "    <tr>\n",
       "      <th>1</th>\n",
       "      <td>0</td>\n",
       "      <td>24.0</td>\n",
       "      <td>0</td>\n",
       "      <td>2</td>\n",
       "      <td>0</td>\n",
       "      <td>1</td>\n",
       "      <td>10</td>\n",
       "      <td>1</td>\n",
       "      <td>1</td>\n",
       "      <td>35.75</td>\n",
       "      <td>5</td>\n",
       "      <td>0</td>\n",
       "      <td>1</td>\n",
       "      <td>1.0</td>\n",
       "      <td>0.0</td>\n",
       "      <td>0.0</td>\n",
       "      <td>0.0</td>\n",
       "      <td>0.0</td>\n",
       "      <td>1.0</td>\n",
       "    </tr>\n",
       "    <tr>\n",
       "      <th>2</th>\n",
       "      <td>0</td>\n",
       "      <td>58.0</td>\n",
       "      <td>1</td>\n",
       "      <td>1</td>\n",
       "      <td>58</td>\n",
       "      <td>0</td>\n",
       "      <td>126</td>\n",
       "      <td>1</td>\n",
       "      <td>0</td>\n",
       "      <td>905.00</td>\n",
       "      <td>0</td>\n",
       "      <td>0</td>\n",
       "      <td>1</td>\n",
       "      <td>0.0</td>\n",
       "      <td>1.0</td>\n",
       "      <td>0.0</td>\n",
       "      <td>0.0</td>\n",
       "      <td>0.0</td>\n",
       "      <td>1.0</td>\n",
       "    </tr>\n",
       "    <tr>\n",
       "      <th>3</th>\n",
       "      <td>0</td>\n",
       "      <td>33.0</td>\n",
       "      <td>0</td>\n",
       "      <td>0</td>\n",
       "      <td>21</td>\n",
       "      <td>16</td>\n",
       "      <td>62</td>\n",
       "      <td>4</td>\n",
       "      <td>0</td>\n",
       "      <td>413.50</td>\n",
       "      <td>0</td>\n",
       "      <td>0</td>\n",
       "      <td>1</td>\n",
       "      <td>0.0</td>\n",
       "      <td>1.0</td>\n",
       "      <td>0.0</td>\n",
       "      <td>0.0</td>\n",
       "      <td>0.0</td>\n",
       "      <td>1.0</td>\n",
       "    </tr>\n",
       "    <tr>\n",
       "      <th>4</th>\n",
       "      <td>0</td>\n",
       "      <td>16.0</td>\n",
       "      <td>0</td>\n",
       "      <td>7</td>\n",
       "      <td>1</td>\n",
       "      <td>6</td>\n",
       "      <td>10</td>\n",
       "      <td>0</td>\n",
       "      <td>1</td>\n",
       "      <td>131.00</td>\n",
       "      <td>5</td>\n",
       "      <td>1</td>\n",
       "      <td>1</td>\n",
       "      <td>1.0</td>\n",
       "      <td>0.0</td>\n",
       "      <td>0.0</td>\n",
       "      <td>0.0</td>\n",
       "      <td>0.0</td>\n",
       "      <td>1.0</td>\n",
       "    </tr>\n",
       "  </tbody>\n",
       "</table>\n",
       "</div>"
      ],
      "text/plain": [
       "   CryoSleep   Age  VIP  RoomService  FoodCourt  ShoppingMall  Spa  VRDeck  \\\n",
       "0          0  39.0    0            0          0             0    0       0   \n",
       "1          0  24.0    0            2          0             1   10       1   \n",
       "2          0  58.0    1            1         58             0  126       1   \n",
       "3          0  33.0    0            0         21            16   62       4   \n",
       "4          0  16.0    0            7          1             6   10       0   \n",
       "\n",
       "   Transported    mean  Deck  Num  Side    0    1    2    3    4    5  \n",
       "0            0    0.00     1    0     0  0.0  1.0  0.0  0.0  0.0  1.0  \n",
       "1            1   35.75     5    0     1  1.0  0.0  0.0  0.0  0.0  1.0  \n",
       "2            0  905.00     0    0     1  0.0  1.0  0.0  0.0  0.0  1.0  \n",
       "3            0  413.50     0    0     1  0.0  1.0  0.0  0.0  0.0  1.0  \n",
       "4            1  131.00     5    1     1  1.0  0.0  0.0  0.0  0.0  1.0  "
      ]
     },
     "execution_count": 24,
     "metadata": {},
     "output_type": "execute_result"
    }
   ],
   "source": [
    "OH_train_df.head()"
   ]
  },
  {
   "cell_type": "code",
   "execution_count": 25,
   "id": "9d83df5a",
   "metadata": {
    "execution": {
     "iopub.execute_input": "2023-08-25T11:14:14.496234Z",
     "iopub.status.busy": "2023-08-25T11:14:14.495667Z",
     "iopub.status.idle": "2023-08-25T11:14:14.500751Z",
     "shell.execute_reply": "2023-08-25T11:14:14.499978Z"
    },
    "papermill": {
     "duration": 0.0268,
     "end_time": "2023-08-25T11:14:14.503142",
     "exception": false,
     "start_time": "2023-08-25T11:14:14.476342",
     "status": "completed"
    },
    "tags": []
   },
   "outputs": [
    {
     "name": "stdout",
     "output_type": "stream",
     "text": [
      "Index([   'CryoSleep',          'Age',          'VIP',  'RoomService',\n",
      "          'FoodCourt', 'ShoppingMall',          'Spa',       'VRDeck',\n",
      "        'Transported',         'mean',         'Deck',          'Num',\n",
      "               'Side',              0,              1,              2,\n",
      "                    3,              4,              5],\n",
      "      dtype='object')\n"
     ]
    }
   ],
   "source": [
    "print(OH_train_df.columns)"
   ]
  },
  {
   "cell_type": "code",
   "execution_count": 26,
   "id": "5158d8d9",
   "metadata": {
    "execution": {
     "iopub.execute_input": "2023-08-25T11:14:14.538440Z",
     "iopub.status.busy": "2023-08-25T11:14:14.537661Z",
     "iopub.status.idle": "2023-08-25T11:14:14.543468Z",
     "shell.execute_reply": "2023-08-25T11:14:14.542414Z"
    },
    "papermill": {
     "duration": 0.025722,
     "end_time": "2023-08-25T11:14:14.545470",
     "exception": false,
     "start_time": "2023-08-25T11:14:14.519748",
     "status": "completed"
    },
    "tags": []
   },
   "outputs": [],
   "source": [
    "OH_train_df.columns = [ 'CryoSleep','Age','VIP','RoomService','FoodCourt','ShoppingMall','Spa', 'VRDeck','Transported','mean', 'Deck','Num','Side',\n",
    "                    'Europa',              'Earth',              'Mars',        'TRAPPIST-1e', 'PSOJ318.5-22', '55 Cancrie']"
   ]
  },
  {
   "cell_type": "code",
   "execution_count": 27,
   "id": "a0f5976f",
   "metadata": {
    "execution": {
     "iopub.execute_input": "2023-08-25T11:14:14.580915Z",
     "iopub.status.busy": "2023-08-25T11:14:14.580100Z",
     "iopub.status.idle": "2023-08-25T11:14:14.593369Z",
     "shell.execute_reply": "2023-08-25T11:14:14.592298Z"
    },
    "papermill": {
     "duration": 0.033617,
     "end_time": "2023-08-25T11:14:14.595852",
     "exception": false,
     "start_time": "2023-08-25T11:14:14.562235",
     "status": "completed"
    },
    "tags": []
   },
   "outputs": [],
   "source": [
    "OH_train_df[['Deck','Num','Side','Europa','Earth', 'Mars','TRAPPIST-1e', 'PSOJ318.5-22', '55 Cancrie']] = OH_train_df[['Deck','Num','Side','Europa','Earth', 'Mars','TRAPPIST-1e', 'PSOJ318.5-22', '55 Cancrie']].astype(int)"
   ]
  },
  {
   "cell_type": "code",
   "execution_count": 28,
   "id": "3f2b3f75",
   "metadata": {
    "execution": {
     "iopub.execute_input": "2023-08-25T11:14:14.631583Z",
     "iopub.status.busy": "2023-08-25T11:14:14.630938Z",
     "iopub.status.idle": "2023-08-25T11:14:14.637162Z",
     "shell.execute_reply": "2023-08-25T11:14:14.636343Z"
    },
    "papermill": {
     "duration": 0.026619,
     "end_time": "2023-08-25T11:14:14.639169",
     "exception": false,
     "start_time": "2023-08-25T11:14:14.612550",
     "status": "completed"
    },
    "tags": []
   },
   "outputs": [],
   "source": [
    "OH_train_df = OH_train_df.drop('Num', axis = 1)"
   ]
  },
  {
   "cell_type": "code",
   "execution_count": 29,
   "id": "747e5e8b",
   "metadata": {
    "execution": {
     "iopub.execute_input": "2023-08-25T11:14:14.675733Z",
     "iopub.status.busy": "2023-08-25T11:14:14.675116Z",
     "iopub.status.idle": "2023-08-25T11:14:14.691167Z",
     "shell.execute_reply": "2023-08-25T11:14:14.690070Z"
    },
    "papermill": {
     "duration": 0.0377,
     "end_time": "2023-08-25T11:14:14.693292",
     "exception": false,
     "start_time": "2023-08-25T11:14:14.655592",
     "status": "completed"
    },
    "tags": []
   },
   "outputs": [
    {
     "data": {
      "text/html": [
       "<div>\n",
       "<style scoped>\n",
       "    .dataframe tbody tr th:only-of-type {\n",
       "        vertical-align: middle;\n",
       "    }\n",
       "\n",
       "    .dataframe tbody tr th {\n",
       "        vertical-align: top;\n",
       "    }\n",
       "\n",
       "    .dataframe thead th {\n",
       "        text-align: right;\n",
       "    }\n",
       "</style>\n",
       "<table border=\"1\" class=\"dataframe\">\n",
       "  <thead>\n",
       "    <tr style=\"text-align: right;\">\n",
       "      <th></th>\n",
       "      <th>CryoSleep</th>\n",
       "      <th>Age</th>\n",
       "      <th>VIP</th>\n",
       "      <th>RoomService</th>\n",
       "      <th>FoodCourt</th>\n",
       "      <th>ShoppingMall</th>\n",
       "      <th>Spa</th>\n",
       "      <th>VRDeck</th>\n",
       "      <th>Transported</th>\n",
       "      <th>mean</th>\n",
       "      <th>Deck</th>\n",
       "      <th>Side</th>\n",
       "      <th>Europa</th>\n",
       "      <th>Earth</th>\n",
       "      <th>Mars</th>\n",
       "      <th>TRAPPIST-1e</th>\n",
       "      <th>PSOJ318.5-22</th>\n",
       "      <th>55 Cancrie</th>\n",
       "    </tr>\n",
       "  </thead>\n",
       "  <tbody>\n",
       "    <tr>\n",
       "      <th>0</th>\n",
       "      <td>0</td>\n",
       "      <td>39.0</td>\n",
       "      <td>0</td>\n",
       "      <td>0</td>\n",
       "      <td>0</td>\n",
       "      <td>0</td>\n",
       "      <td>0</td>\n",
       "      <td>0</td>\n",
       "      <td>0</td>\n",
       "      <td>0.00</td>\n",
       "      <td>1</td>\n",
       "      <td>0</td>\n",
       "      <td>0</td>\n",
       "      <td>1</td>\n",
       "      <td>0</td>\n",
       "      <td>0</td>\n",
       "      <td>0</td>\n",
       "      <td>1</td>\n",
       "    </tr>\n",
       "    <tr>\n",
       "      <th>1</th>\n",
       "      <td>0</td>\n",
       "      <td>24.0</td>\n",
       "      <td>0</td>\n",
       "      <td>2</td>\n",
       "      <td>0</td>\n",
       "      <td>1</td>\n",
       "      <td>10</td>\n",
       "      <td>1</td>\n",
       "      <td>1</td>\n",
       "      <td>35.75</td>\n",
       "      <td>5</td>\n",
       "      <td>1</td>\n",
       "      <td>1</td>\n",
       "      <td>0</td>\n",
       "      <td>0</td>\n",
       "      <td>0</td>\n",
       "      <td>0</td>\n",
       "      <td>1</td>\n",
       "    </tr>\n",
       "    <tr>\n",
       "      <th>2</th>\n",
       "      <td>0</td>\n",
       "      <td>58.0</td>\n",
       "      <td>1</td>\n",
       "      <td>1</td>\n",
       "      <td>58</td>\n",
       "      <td>0</td>\n",
       "      <td>126</td>\n",
       "      <td>1</td>\n",
       "      <td>0</td>\n",
       "      <td>905.00</td>\n",
       "      <td>0</td>\n",
       "      <td>1</td>\n",
       "      <td>0</td>\n",
       "      <td>1</td>\n",
       "      <td>0</td>\n",
       "      <td>0</td>\n",
       "      <td>0</td>\n",
       "      <td>1</td>\n",
       "    </tr>\n",
       "    <tr>\n",
       "      <th>3</th>\n",
       "      <td>0</td>\n",
       "      <td>33.0</td>\n",
       "      <td>0</td>\n",
       "      <td>0</td>\n",
       "      <td>21</td>\n",
       "      <td>16</td>\n",
       "      <td>62</td>\n",
       "      <td>4</td>\n",
       "      <td>0</td>\n",
       "      <td>413.50</td>\n",
       "      <td>0</td>\n",
       "      <td>1</td>\n",
       "      <td>0</td>\n",
       "      <td>1</td>\n",
       "      <td>0</td>\n",
       "      <td>0</td>\n",
       "      <td>0</td>\n",
       "      <td>1</td>\n",
       "    </tr>\n",
       "    <tr>\n",
       "      <th>4</th>\n",
       "      <td>0</td>\n",
       "      <td>16.0</td>\n",
       "      <td>0</td>\n",
       "      <td>7</td>\n",
       "      <td>1</td>\n",
       "      <td>6</td>\n",
       "      <td>10</td>\n",
       "      <td>0</td>\n",
       "      <td>1</td>\n",
       "      <td>131.00</td>\n",
       "      <td>5</td>\n",
       "      <td>1</td>\n",
       "      <td>1</td>\n",
       "      <td>0</td>\n",
       "      <td>0</td>\n",
       "      <td>0</td>\n",
       "      <td>0</td>\n",
       "      <td>1</td>\n",
       "    </tr>\n",
       "  </tbody>\n",
       "</table>\n",
       "</div>"
      ],
      "text/plain": [
       "   CryoSleep   Age  VIP  RoomService  FoodCourt  ShoppingMall  Spa  VRDeck  \\\n",
       "0          0  39.0    0            0          0             0    0       0   \n",
       "1          0  24.0    0            2          0             1   10       1   \n",
       "2          0  58.0    1            1         58             0  126       1   \n",
       "3          0  33.0    0            0         21            16   62       4   \n",
       "4          0  16.0    0            7          1             6   10       0   \n",
       "\n",
       "   Transported    mean  Deck  Side  Europa  Earth  Mars  TRAPPIST-1e  \\\n",
       "0            0    0.00     1     0       0      1     0            0   \n",
       "1            1   35.75     5     1       1      0     0            0   \n",
       "2            0  905.00     0     1       0      1     0            0   \n",
       "3            0  413.50     0     1       0      1     0            0   \n",
       "4            1  131.00     5     1       1      0     0            0   \n",
       "\n",
       "   PSOJ318.5-22  55 Cancrie  \n",
       "0             0           1  \n",
       "1             0           1  \n",
       "2             0           1  \n",
       "3             0           1  \n",
       "4             0           1  "
      ]
     },
     "execution_count": 29,
     "metadata": {},
     "output_type": "execute_result"
    }
   ],
   "source": [
    "OH_train_df.head()"
   ]
  },
  {
   "cell_type": "markdown",
   "id": "5e6f8488",
   "metadata": {
    "papermill": {
     "duration": 0.016651,
     "end_time": "2023-08-25T11:14:14.726992",
     "exception": false,
     "start_time": "2023-08-25T11:14:14.710341",
     "status": "completed"
    },
    "tags": []
   },
   "source": [
    "# Model Fitting"
   ]
  },
  {
   "cell_type": "code",
   "execution_count": 30,
   "id": "95411883",
   "metadata": {
    "execution": {
     "iopub.execute_input": "2023-08-25T11:14:14.765219Z",
     "iopub.status.busy": "2023-08-25T11:14:14.763888Z",
     "iopub.status.idle": "2023-08-25T11:14:14.771490Z",
     "shell.execute_reply": "2023-08-25T11:14:14.770385Z"
    },
    "papermill": {
     "duration": 0.028263,
     "end_time": "2023-08-25T11:14:14.773723",
     "exception": false,
     "start_time": "2023-08-25T11:14:14.745460",
     "status": "completed"
    },
    "tags": []
   },
   "outputs": [],
   "source": [
    "X = OH_train_df.drop(['Transported','mean'], axis = 1)\n",
    "y = OH_train_df['Transported']"
   ]
  },
  {
   "cell_type": "code",
   "execution_count": 31,
   "id": "2ec341c5",
   "metadata": {
    "execution": {
     "iopub.execute_input": "2023-08-25T11:14:14.809926Z",
     "iopub.status.busy": "2023-08-25T11:14:14.809174Z",
     "iopub.status.idle": "2023-08-25T11:14:14.917778Z",
     "shell.execute_reply": "2023-08-25T11:14:14.916599Z"
    },
    "papermill": {
     "duration": 0.129541,
     "end_time": "2023-08-25T11:14:14.920429",
     "exception": false,
     "start_time": "2023-08-25T11:14:14.790888",
     "status": "completed"
    },
    "tags": []
   },
   "outputs": [],
   "source": [
    "# Train-test split data:\n",
    "from sklearn.model_selection import train_test_split\n",
    "\n",
    "# Split the data into training and testing sets\n",
    "X_train, X_test, y_train, y_test = train_test_split(X, y, test_size=0.2, random_state=0)"
   ]
  },
  {
   "cell_type": "code",
   "execution_count": 32,
   "id": "35884985",
   "metadata": {
    "execution": {
     "iopub.execute_input": "2023-08-25T11:14:14.955949Z",
     "iopub.status.busy": "2023-08-25T11:14:14.955552Z",
     "iopub.status.idle": "2023-08-25T11:14:14.971323Z",
     "shell.execute_reply": "2023-08-25T11:14:14.970182Z"
    },
    "papermill": {
     "duration": 0.036344,
     "end_time": "2023-08-25T11:14:14.973671",
     "exception": false,
     "start_time": "2023-08-25T11:14:14.937327",
     "status": "completed"
    },
    "tags": []
   },
   "outputs": [
    {
     "data": {
      "text/html": [
       "<div>\n",
       "<style scoped>\n",
       "    .dataframe tbody tr th:only-of-type {\n",
       "        vertical-align: middle;\n",
       "    }\n",
       "\n",
       "    .dataframe tbody tr th {\n",
       "        vertical-align: top;\n",
       "    }\n",
       "\n",
       "    .dataframe thead th {\n",
       "        text-align: right;\n",
       "    }\n",
       "</style>\n",
       "<table border=\"1\" class=\"dataframe\">\n",
       "  <thead>\n",
       "    <tr style=\"text-align: right;\">\n",
       "      <th></th>\n",
       "      <th>CryoSleep</th>\n",
       "      <th>Age</th>\n",
       "      <th>VIP</th>\n",
       "      <th>RoomService</th>\n",
       "      <th>FoodCourt</th>\n",
       "      <th>ShoppingMall</th>\n",
       "      <th>Spa</th>\n",
       "      <th>VRDeck</th>\n",
       "      <th>Deck</th>\n",
       "      <th>Side</th>\n",
       "      <th>Europa</th>\n",
       "      <th>Earth</th>\n",
       "      <th>Mars</th>\n",
       "      <th>TRAPPIST-1e</th>\n",
       "      <th>PSOJ318.5-22</th>\n",
       "      <th>55 Cancrie</th>\n",
       "    </tr>\n",
       "  </thead>\n",
       "  <tbody>\n",
       "    <tr>\n",
       "      <th>4278</th>\n",
       "      <td>0</td>\n",
       "      <td>54.0</td>\n",
       "      <td>0</td>\n",
       "      <td>0</td>\n",
       "      <td>9</td>\n",
       "      <td>0</td>\n",
       "      <td>287</td>\n",
       "      <td>69</td>\n",
       "      <td>2</td>\n",
       "      <td>1</td>\n",
       "      <td>0</td>\n",
       "      <td>1</td>\n",
       "      <td>0</td>\n",
       "      <td>1</td>\n",
       "      <td>0</td>\n",
       "      <td>0</td>\n",
       "    </tr>\n",
       "    <tr>\n",
       "      <th>5971</th>\n",
       "      <td>0</td>\n",
       "      <td>20.0</td>\n",
       "      <td>0</td>\n",
       "      <td>0</td>\n",
       "      <td>0</td>\n",
       "      <td>0</td>\n",
       "      <td>13</td>\n",
       "      <td>0</td>\n",
       "      <td>5</td>\n",
       "      <td>0</td>\n",
       "      <td>1</td>\n",
       "      <td>0</td>\n",
       "      <td>0</td>\n",
       "      <td>0</td>\n",
       "      <td>0</td>\n",
       "      <td>1</td>\n",
       "    </tr>\n",
       "    <tr>\n",
       "      <th>464</th>\n",
       "      <td>0</td>\n",
       "      <td>43.0</td>\n",
       "      <td>0</td>\n",
       "      <td>44</td>\n",
       "      <td>0</td>\n",
       "      <td>2</td>\n",
       "      <td>0</td>\n",
       "      <td>0</td>\n",
       "      <td>5</td>\n",
       "      <td>1</td>\n",
       "      <td>0</td>\n",
       "      <td>0</td>\n",
       "      <td>1</td>\n",
       "      <td>0</td>\n",
       "      <td>0</td>\n",
       "      <td>1</td>\n",
       "    </tr>\n",
       "    <tr>\n",
       "      <th>4475</th>\n",
       "      <td>0</td>\n",
       "      <td>24.0</td>\n",
       "      <td>0</td>\n",
       "      <td>4</td>\n",
       "      <td>0</td>\n",
       "      <td>21</td>\n",
       "      <td>34</td>\n",
       "      <td>1</td>\n",
       "      <td>5</td>\n",
       "      <td>1</td>\n",
       "      <td>1</td>\n",
       "      <td>0</td>\n",
       "      <td>0</td>\n",
       "      <td>0</td>\n",
       "      <td>0</td>\n",
       "      <td>1</td>\n",
       "    </tr>\n",
       "    <tr>\n",
       "      <th>8469</th>\n",
       "      <td>1</td>\n",
       "      <td>25.0</td>\n",
       "      <td>0</td>\n",
       "      <td>0</td>\n",
       "      <td>0</td>\n",
       "      <td>0</td>\n",
       "      <td>0</td>\n",
       "      <td>0</td>\n",
       "      <td>2</td>\n",
       "      <td>1</td>\n",
       "      <td>0</td>\n",
       "      <td>1</td>\n",
       "      <td>0</td>\n",
       "      <td>1</td>\n",
       "      <td>0</td>\n",
       "      <td>0</td>\n",
       "    </tr>\n",
       "  </tbody>\n",
       "</table>\n",
       "</div>"
      ],
      "text/plain": [
       "      CryoSleep   Age  VIP  RoomService  FoodCourt  ShoppingMall  Spa  VRDeck  \\\n",
       "4278          0  54.0    0            0          9             0  287      69   \n",
       "5971          0  20.0    0            0          0             0   13       0   \n",
       "464           0  43.0    0           44          0             2    0       0   \n",
       "4475          0  24.0    0            4          0            21   34       1   \n",
       "8469          1  25.0    0            0          0             0    0       0   \n",
       "\n",
       "      Deck  Side  Europa  Earth  Mars  TRAPPIST-1e  PSOJ318.5-22  55 Cancrie  \n",
       "4278     2     1       0      1     0            1             0           0  \n",
       "5971     5     0       1      0     0            0             0           1  \n",
       "464      5     1       0      0     1            0             0           1  \n",
       "4475     5     1       1      0     0            0             0           1  \n",
       "8469     2     1       0      1     0            1             0           0  "
      ]
     },
     "execution_count": 32,
     "metadata": {},
     "output_type": "execute_result"
    }
   ],
   "source": [
    "X_train.head()"
   ]
  },
  {
   "cell_type": "code",
   "execution_count": 33,
   "id": "0b0de301",
   "metadata": {
    "execution": {
     "iopub.execute_input": "2023-08-25T11:14:15.009549Z",
     "iopub.status.busy": "2023-08-25T11:14:15.009170Z",
     "iopub.status.idle": "2023-08-25T11:14:15.604926Z",
     "shell.execute_reply": "2023-08-25T11:14:15.604040Z"
    },
    "papermill": {
     "duration": 0.617008,
     "end_time": "2023-08-25T11:14:15.607660",
     "exception": false,
     "start_time": "2023-08-25T11:14:14.990652",
     "status": "completed"
    },
    "tags": []
   },
   "outputs": [],
   "source": [
    "from sklearn.metrics import accuracy_score, classification_report\n",
    "import xgboost\n",
    "from xgboost import XGBClassifier\n",
    "\n",
    "model = xgboost.XGBClassifier()\n",
    "\n",
    "model.fit(X_train, y_train)\n",
    "\n",
    "y_pred = model.predict(X_test)"
   ]
  },
  {
   "cell_type": "code",
   "execution_count": 34,
   "id": "aeb5e5df",
   "metadata": {
    "execution": {
     "iopub.execute_input": "2023-08-25T11:14:15.644053Z",
     "iopub.status.busy": "2023-08-25T11:14:15.643627Z",
     "iopub.status.idle": "2023-08-25T11:14:15.660730Z",
     "shell.execute_reply": "2023-08-25T11:14:15.659246Z"
    },
    "papermill": {
     "duration": 0.038934,
     "end_time": "2023-08-25T11:14:15.663864",
     "exception": false,
     "start_time": "2023-08-25T11:14:15.624930",
     "status": "completed"
    },
    "tags": []
   },
   "outputs": [
    {
     "name": "stdout",
     "output_type": "stream",
     "text": [
      "0.7987349051178838\n",
      "              precision    recall  f1-score   support\n",
      "\n",
      "           0       0.80      0.79      0.80       863\n",
      "           1       0.80      0.81      0.80       876\n",
      "\n",
      "    accuracy                           0.80      1739\n",
      "   macro avg       0.80      0.80      0.80      1739\n",
      "weighted avg       0.80      0.80      0.80      1739\n",
      "\n"
     ]
    }
   ],
   "source": [
    "accuracy = accuracy_score(y_test, y_pred)\n",
    "classification_rep = classification_report(y_test, y_pred)\n",
    "\n",
    "print(accuracy)\n",
    "print(classification_rep)"
   ]
  },
  {
   "cell_type": "code",
   "execution_count": 35,
   "id": "c5d1d93b",
   "metadata": {
    "execution": {
     "iopub.execute_input": "2023-08-25T11:14:15.701243Z",
     "iopub.status.busy": "2023-08-25T11:14:15.700021Z",
     "iopub.status.idle": "2023-08-25T11:14:19.419312Z",
     "shell.execute_reply": "2023-08-25T11:14:19.418402Z"
    },
    "papermill": {
     "duration": 3.740147,
     "end_time": "2023-08-25T11:14:19.421716",
     "exception": false,
     "start_time": "2023-08-25T11:14:15.681569",
     "status": "completed"
    },
    "tags": []
   },
   "outputs": [
    {
     "name": "stdout",
     "output_type": "stream",
     "text": [
      "Cross-validation scores:[0.79597701 0.79310345 0.79310345 0.76293103 0.7971223  0.79136691\n",
      " 0.81151079 0.81294964 0.80863309 0.79280576]\n",
      "Average cross-validation score: 0.7960\n"
     ]
    }
   ],
   "source": [
    "# Applying 5-Fold Cross Validation\n",
    "\n",
    "from sklearn.model_selection import cross_val_score\n",
    "scores = cross_val_score(model, X_train, y_train, cv = 10, scoring='accuracy')\n",
    "print('Cross-validation scores:{}'.format(scores))\n",
    "print('Average cross-validation score: {:.4f}'.format(scores.mean()))"
   ]
  },
  {
   "cell_type": "markdown",
   "id": "e4076280",
   "metadata": {
    "papermill": {
     "duration": 0.016875,
     "end_time": "2023-08-25T11:14:19.455689",
     "exception": false,
     "start_time": "2023-08-25T11:14:19.438814",
     "status": "completed"
    },
    "tags": []
   },
   "source": [
    "# Submission"
   ]
  },
  {
   "cell_type": "code",
   "execution_count": 36,
   "id": "f26be5c3",
   "metadata": {
    "execution": {
     "iopub.execute_input": "2023-08-25T11:14:19.492578Z",
     "iopub.status.busy": "2023-08-25T11:14:19.491484Z",
     "iopub.status.idle": "2023-08-25T11:14:19.509283Z",
     "shell.execute_reply": "2023-08-25T11:14:19.507512Z"
    },
    "papermill": {
     "duration": 0.038892,
     "end_time": "2023-08-25T11:14:19.511692",
     "exception": false,
     "start_time": "2023-08-25T11:14:19.472800",
     "status": "completed"
    },
    "tags": []
   },
   "outputs": [
    {
     "name": "stdout",
     "output_type": "stream",
     "text": [
      "<class 'pandas.core.frame.DataFrame'>\n",
      "RangeIndex: 4277 entries, 0 to 4276\n",
      "Data columns (total 13 columns):\n",
      " #   Column        Non-Null Count  Dtype  \n",
      "---  ------        --------------  -----  \n",
      " 0   PassengerId   4277 non-null   object \n",
      " 1   HomePlanet    4190 non-null   object \n",
      " 2   CryoSleep     4184 non-null   object \n",
      " 3   Cabin         4177 non-null   object \n",
      " 4   Destination   4185 non-null   object \n",
      " 5   Age           4186 non-null   float64\n",
      " 6   VIP           4184 non-null   object \n",
      " 7   RoomService   4195 non-null   float64\n",
      " 8   FoodCourt     4171 non-null   float64\n",
      " 9   ShoppingMall  4179 non-null   float64\n",
      " 10  Spa           4176 non-null   float64\n",
      " 11  VRDeck        4197 non-null   float64\n",
      " 12  Name          4183 non-null   object \n",
      "dtypes: float64(6), object(7)\n",
      "memory usage: 434.5+ KB\n"
     ]
    }
   ],
   "source": [
    "test.info()"
   ]
  },
  {
   "cell_type": "code",
   "execution_count": 37,
   "id": "7a896921",
   "metadata": {
    "execution": {
     "iopub.execute_input": "2023-08-25T11:14:19.548066Z",
     "iopub.status.busy": "2023-08-25T11:14:19.547639Z",
     "iopub.status.idle": "2023-08-25T11:14:19.553702Z",
     "shell.execute_reply": "2023-08-25T11:14:19.552540Z"
    },
    "papermill": {
     "duration": 0.026879,
     "end_time": "2023-08-25T11:14:19.555942",
     "exception": false,
     "start_time": "2023-08-25T11:14:19.529063",
     "status": "completed"
    },
    "tags": []
   },
   "outputs": [],
   "source": [
    "test_df = test.drop(['PassengerId', 'Name'], axis =1)"
   ]
  },
  {
   "cell_type": "code",
   "execution_count": 38,
   "id": "6bb5f7d4",
   "metadata": {
    "execution": {
     "iopub.execute_input": "2023-08-25T11:14:19.592216Z",
     "iopub.status.busy": "2023-08-25T11:14:19.591813Z",
     "iopub.status.idle": "2023-08-25T11:14:19.603392Z",
     "shell.execute_reply": "2023-08-25T11:14:19.602379Z"
    },
    "papermill": {
     "duration": 0.032427,
     "end_time": "2023-08-25T11:14:19.605655",
     "exception": false,
     "start_time": "2023-08-25T11:14:19.573228",
     "status": "completed"
    },
    "tags": []
   },
   "outputs": [],
   "source": [
    "test_df[['CryoSleep','VIP', 'RoomService', 'FoodCourt', 'ShoppingMall', 'Spa', 'VRDeck']] = test_df[['CryoSleep','VIP', 'RoomService', 'FoodCourt', 'ShoppingMall', 'Spa', 'VRDeck']].fillna(value = 0)"
   ]
  },
  {
   "cell_type": "code",
   "execution_count": 39,
   "id": "5d4f060b",
   "metadata": {
    "execution": {
     "iopub.execute_input": "2023-08-25T11:14:19.641929Z",
     "iopub.status.busy": "2023-08-25T11:14:19.641538Z",
     "iopub.status.idle": "2023-08-25T11:14:19.670439Z",
     "shell.execute_reply": "2023-08-25T11:14:19.669364Z"
    },
    "papermill": {
     "duration": 0.049618,
     "end_time": "2023-08-25T11:14:19.672548",
     "exception": false,
     "start_time": "2023-08-25T11:14:19.622930",
     "status": "completed"
    },
    "tags": []
   },
   "outputs": [
    {
     "data": {
      "text/html": [
       "<div>\n",
       "<style scoped>\n",
       "    .dataframe tbody tr th:only-of-type {\n",
       "        vertical-align: middle;\n",
       "    }\n",
       "\n",
       "    .dataframe tbody tr th {\n",
       "        vertical-align: top;\n",
       "    }\n",
       "\n",
       "    .dataframe thead th {\n",
       "        text-align: right;\n",
       "    }\n",
       "</style>\n",
       "<table border=\"1\" class=\"dataframe\">\n",
       "  <thead>\n",
       "    <tr style=\"text-align: right;\">\n",
       "      <th></th>\n",
       "      <th>HomePlanet</th>\n",
       "      <th>CryoSleep</th>\n",
       "      <th>Destination</th>\n",
       "      <th>Age</th>\n",
       "      <th>VIP</th>\n",
       "      <th>RoomService</th>\n",
       "      <th>FoodCourt</th>\n",
       "      <th>ShoppingMall</th>\n",
       "      <th>Spa</th>\n",
       "      <th>VRDeck</th>\n",
       "      <th>Deck</th>\n",
       "      <th>Side</th>\n",
       "    </tr>\n",
       "  </thead>\n",
       "  <tbody>\n",
       "    <tr>\n",
       "      <th>0</th>\n",
       "      <td>Earth</td>\n",
       "      <td>True</td>\n",
       "      <td>TRAPPIST-1e</td>\n",
       "      <td>27.0</td>\n",
       "      <td>False</td>\n",
       "      <td>0.0</td>\n",
       "      <td>0.0</td>\n",
       "      <td>0.0</td>\n",
       "      <td>0.0</td>\n",
       "      <td>0.0</td>\n",
       "      <td>G</td>\n",
       "      <td>S</td>\n",
       "    </tr>\n",
       "    <tr>\n",
       "      <th>1</th>\n",
       "      <td>Earth</td>\n",
       "      <td>False</td>\n",
       "      <td>TRAPPIST-1e</td>\n",
       "      <td>19.0</td>\n",
       "      <td>False</td>\n",
       "      <td>0.0</td>\n",
       "      <td>9.0</td>\n",
       "      <td>0.0</td>\n",
       "      <td>2823.0</td>\n",
       "      <td>0.0</td>\n",
       "      <td>F</td>\n",
       "      <td>S</td>\n",
       "    </tr>\n",
       "    <tr>\n",
       "      <th>2</th>\n",
       "      <td>Europa</td>\n",
       "      <td>True</td>\n",
       "      <td>55 Cancri e</td>\n",
       "      <td>31.0</td>\n",
       "      <td>False</td>\n",
       "      <td>0.0</td>\n",
       "      <td>0.0</td>\n",
       "      <td>0.0</td>\n",
       "      <td>0.0</td>\n",
       "      <td>0.0</td>\n",
       "      <td>C</td>\n",
       "      <td>S</td>\n",
       "    </tr>\n",
       "    <tr>\n",
       "      <th>3</th>\n",
       "      <td>Europa</td>\n",
       "      <td>False</td>\n",
       "      <td>TRAPPIST-1e</td>\n",
       "      <td>38.0</td>\n",
       "      <td>False</td>\n",
       "      <td>0.0</td>\n",
       "      <td>6652.0</td>\n",
       "      <td>0.0</td>\n",
       "      <td>181.0</td>\n",
       "      <td>585.0</td>\n",
       "      <td>C</td>\n",
       "      <td>S</td>\n",
       "    </tr>\n",
       "    <tr>\n",
       "      <th>4</th>\n",
       "      <td>Earth</td>\n",
       "      <td>False</td>\n",
       "      <td>TRAPPIST-1e</td>\n",
       "      <td>20.0</td>\n",
       "      <td>False</td>\n",
       "      <td>10.0</td>\n",
       "      <td>0.0</td>\n",
       "      <td>635.0</td>\n",
       "      <td>0.0</td>\n",
       "      <td>0.0</td>\n",
       "      <td>F</td>\n",
       "      <td>S</td>\n",
       "    </tr>\n",
       "  </tbody>\n",
       "</table>\n",
       "</div>"
      ],
      "text/plain": [
       "  HomePlanet CryoSleep  Destination   Age    VIP  RoomService  FoodCourt  \\\n",
       "0      Earth      True  TRAPPIST-1e  27.0  False          0.0        0.0   \n",
       "1      Earth     False  TRAPPIST-1e  19.0  False          0.0        9.0   \n",
       "2     Europa      True  55 Cancri e  31.0  False          0.0        0.0   \n",
       "3     Europa     False  TRAPPIST-1e  38.0  False          0.0     6652.0   \n",
       "4      Earth     False  TRAPPIST-1e  20.0  False         10.0        0.0   \n",
       "\n",
       "   ShoppingMall     Spa  VRDeck Deck Side  \n",
       "0           0.0     0.0     0.0    G    S  \n",
       "1           0.0  2823.0     0.0    F    S  \n",
       "2           0.0     0.0     0.0    C    S  \n",
       "3           0.0   181.0   585.0    C    S  \n",
       "4         635.0     0.0     0.0    F    S  "
      ]
     },
     "execution_count": 39,
     "metadata": {},
     "output_type": "execute_result"
    }
   ],
   "source": [
    "test_df[['Deck', 'Num', 'Side']] = test_df['Cabin'].str.split('/', expand = True)\n",
    "test_df = test_df.drop(['Cabin', 'Num'], axis = 1)\n",
    "test_df.head()"
   ]
  },
  {
   "cell_type": "code",
   "execution_count": 40,
   "id": "8a7d1642",
   "metadata": {
    "execution": {
     "iopub.execute_input": "2023-08-25T11:14:19.709904Z",
     "iopub.status.busy": "2023-08-25T11:14:19.709524Z",
     "iopub.status.idle": "2023-08-25T11:14:19.729170Z",
     "shell.execute_reply": "2023-08-25T11:14:19.728153Z"
    },
    "papermill": {
     "duration": 0.04042,
     "end_time": "2023-08-25T11:14:19.731294",
     "exception": false,
     "start_time": "2023-08-25T11:14:19.690874",
     "status": "completed"
    },
    "tags": []
   },
   "outputs": [
    {
     "data": {
      "text/html": [
       "<div>\n",
       "<style scoped>\n",
       "    .dataframe tbody tr th:only-of-type {\n",
       "        vertical-align: middle;\n",
       "    }\n",
       "\n",
       "    .dataframe tbody tr th {\n",
       "        vertical-align: top;\n",
       "    }\n",
       "\n",
       "    .dataframe thead th {\n",
       "        text-align: right;\n",
       "    }\n",
       "</style>\n",
       "<table border=\"1\" class=\"dataframe\">\n",
       "  <thead>\n",
       "    <tr style=\"text-align: right;\">\n",
       "      <th></th>\n",
       "      <th>HomePlanet</th>\n",
       "      <th>CryoSleep</th>\n",
       "      <th>Destination</th>\n",
       "      <th>Age</th>\n",
       "      <th>VIP</th>\n",
       "      <th>RoomService</th>\n",
       "      <th>FoodCourt</th>\n",
       "      <th>ShoppingMall</th>\n",
       "      <th>Spa</th>\n",
       "      <th>VRDeck</th>\n",
       "      <th>Deck</th>\n",
       "      <th>Side</th>\n",
       "    </tr>\n",
       "  </thead>\n",
       "  <tbody>\n",
       "    <tr>\n",
       "      <th>0</th>\n",
       "      <td>Earth</td>\n",
       "      <td>1</td>\n",
       "      <td>TRAPPIST-1e</td>\n",
       "      <td>27.0</td>\n",
       "      <td>0</td>\n",
       "      <td>0</td>\n",
       "      <td>0</td>\n",
       "      <td>0</td>\n",
       "      <td>0</td>\n",
       "      <td>0</td>\n",
       "      <td>G</td>\n",
       "      <td>S</td>\n",
       "    </tr>\n",
       "    <tr>\n",
       "      <th>1</th>\n",
       "      <td>Earth</td>\n",
       "      <td>0</td>\n",
       "      <td>TRAPPIST-1e</td>\n",
       "      <td>19.0</td>\n",
       "      <td>0</td>\n",
       "      <td>0</td>\n",
       "      <td>9</td>\n",
       "      <td>0</td>\n",
       "      <td>2823</td>\n",
       "      <td>0</td>\n",
       "      <td>F</td>\n",
       "      <td>S</td>\n",
       "    </tr>\n",
       "    <tr>\n",
       "      <th>2</th>\n",
       "      <td>Europa</td>\n",
       "      <td>1</td>\n",
       "      <td>55 Cancri e</td>\n",
       "      <td>31.0</td>\n",
       "      <td>0</td>\n",
       "      <td>0</td>\n",
       "      <td>0</td>\n",
       "      <td>0</td>\n",
       "      <td>0</td>\n",
       "      <td>0</td>\n",
       "      <td>C</td>\n",
       "      <td>S</td>\n",
       "    </tr>\n",
       "    <tr>\n",
       "      <th>3</th>\n",
       "      <td>Europa</td>\n",
       "      <td>0</td>\n",
       "      <td>TRAPPIST-1e</td>\n",
       "      <td>38.0</td>\n",
       "      <td>0</td>\n",
       "      <td>0</td>\n",
       "      <td>6652</td>\n",
       "      <td>0</td>\n",
       "      <td>181</td>\n",
       "      <td>585</td>\n",
       "      <td>C</td>\n",
       "      <td>S</td>\n",
       "    </tr>\n",
       "    <tr>\n",
       "      <th>4</th>\n",
       "      <td>Earth</td>\n",
       "      <td>0</td>\n",
       "      <td>TRAPPIST-1e</td>\n",
       "      <td>20.0</td>\n",
       "      <td>0</td>\n",
       "      <td>10</td>\n",
       "      <td>0</td>\n",
       "      <td>635</td>\n",
       "      <td>0</td>\n",
       "      <td>0</td>\n",
       "      <td>F</td>\n",
       "      <td>S</td>\n",
       "    </tr>\n",
       "  </tbody>\n",
       "</table>\n",
       "</div>"
      ],
      "text/plain": [
       "  HomePlanet  CryoSleep  Destination   Age  VIP  RoomService  FoodCourt  \\\n",
       "0      Earth          1  TRAPPIST-1e  27.0    0            0          0   \n",
       "1      Earth          0  TRAPPIST-1e  19.0    0            0          9   \n",
       "2     Europa          1  55 Cancri e  31.0    0            0          0   \n",
       "3     Europa          0  TRAPPIST-1e  38.0    0            0       6652   \n",
       "4      Earth          0  TRAPPIST-1e  20.0    0           10          0   \n",
       "\n",
       "   ShoppingMall   Spa  VRDeck Deck Side  \n",
       "0             0     0       0    G    S  \n",
       "1             0  2823       0    F    S  \n",
       "2             0     0       0    C    S  \n",
       "3             0   181     585    C    S  \n",
       "4           635     0       0    F    S  "
      ]
     },
     "execution_count": 40,
     "metadata": {},
     "output_type": "execute_result"
    }
   ],
   "source": [
    "# change cryo sleep , vip and transported to int\n",
    "test_df['CryoSleep'] = test_df['CryoSleep'].astype(int)\n",
    "test_df['VIP'] = test_df['VIP'].astype(int)\n",
    "\n",
    "test_df[['RoomService','FoodCourt', 'ShoppingMall','Spa','VRDeck']] = test_df[['RoomService','FoodCourt', 'ShoppingMall','Spa','VRDeck']].astype(int)\n",
    "\n",
    "test_df.head()"
   ]
  },
  {
   "cell_type": "code",
   "execution_count": 41,
   "id": "ebf372e6",
   "metadata": {
    "execution": {
     "iopub.execute_input": "2023-08-25T11:14:19.770282Z",
     "iopub.status.busy": "2023-08-25T11:14:19.769611Z",
     "iopub.status.idle": "2023-08-25T11:14:19.774819Z",
     "shell.execute_reply": "2023-08-25T11:14:19.773686Z"
    },
    "papermill": {
     "duration": 0.027727,
     "end_time": "2023-08-25T11:14:19.776908",
     "exception": false,
     "start_time": "2023-08-25T11:14:19.749181",
     "status": "completed"
    },
    "tags": []
   },
   "outputs": [],
   "source": [
    "test_df['Age'] = test_df['Age'].fillna(value = 28.83)"
   ]
  },
  {
   "cell_type": "code",
   "execution_count": 42,
   "id": "6ace7a5e",
   "metadata": {
    "execution": {
     "iopub.execute_input": "2023-08-25T11:14:19.814548Z",
     "iopub.status.busy": "2023-08-25T11:14:19.813893Z",
     "iopub.status.idle": "2023-08-25T11:14:19.836149Z",
     "shell.execute_reply": "2023-08-25T11:14:19.835187Z"
    },
    "papermill": {
     "duration": 0.043466,
     "end_time": "2023-08-25T11:14:19.838302",
     "exception": false,
     "start_time": "2023-08-25T11:14:19.794836",
     "status": "completed"
    },
    "tags": []
   },
   "outputs": [
    {
     "data": {
      "text/html": [
       "<div>\n",
       "<style scoped>\n",
       "    .dataframe tbody tr th:only-of-type {\n",
       "        vertical-align: middle;\n",
       "    }\n",
       "\n",
       "    .dataframe tbody tr th {\n",
       "        vertical-align: top;\n",
       "    }\n",
       "\n",
       "    .dataframe thead th {\n",
       "        text-align: right;\n",
       "    }\n",
       "</style>\n",
       "<table border=\"1\" class=\"dataframe\">\n",
       "  <thead>\n",
       "    <tr style=\"text-align: right;\">\n",
       "      <th></th>\n",
       "      <th>HomePlanet</th>\n",
       "      <th>CryoSleep</th>\n",
       "      <th>Destination</th>\n",
       "      <th>Age</th>\n",
       "      <th>VIP</th>\n",
       "      <th>RoomService</th>\n",
       "      <th>FoodCourt</th>\n",
       "      <th>ShoppingMall</th>\n",
       "      <th>Spa</th>\n",
       "      <th>VRDeck</th>\n",
       "      <th>Deck</th>\n",
       "      <th>Side</th>\n",
       "    </tr>\n",
       "  </thead>\n",
       "  <tbody>\n",
       "    <tr>\n",
       "      <th>0</th>\n",
       "      <td>Earth</td>\n",
       "      <td>1</td>\n",
       "      <td>TRAPPIST-1e</td>\n",
       "      <td>27.0</td>\n",
       "      <td>0</td>\n",
       "      <td>0.000000</td>\n",
       "      <td>0.000000</td>\n",
       "      <td>0.000000</td>\n",
       "      <td>0.000000</td>\n",
       "      <td>0.000000</td>\n",
       "      <td>G</td>\n",
       "      <td>S</td>\n",
       "    </tr>\n",
       "    <tr>\n",
       "      <th>1</th>\n",
       "      <td>Earth</td>\n",
       "      <td>0</td>\n",
       "      <td>TRAPPIST-1e</td>\n",
       "      <td>19.0</td>\n",
       "      <td>0</td>\n",
       "      <td>0.000000</td>\n",
       "      <td>0.136364</td>\n",
       "      <td>0.000000</td>\n",
       "      <td>65.651163</td>\n",
       "      <td>0.000000</td>\n",
       "      <td>F</td>\n",
       "      <td>S</td>\n",
       "    </tr>\n",
       "    <tr>\n",
       "      <th>2</th>\n",
       "      <td>Europa</td>\n",
       "      <td>1</td>\n",
       "      <td>55 Cancri e</td>\n",
       "      <td>31.0</td>\n",
       "      <td>0</td>\n",
       "      <td>0.000000</td>\n",
       "      <td>0.000000</td>\n",
       "      <td>0.000000</td>\n",
       "      <td>0.000000</td>\n",
       "      <td>0.000000</td>\n",
       "      <td>C</td>\n",
       "      <td>S</td>\n",
       "    </tr>\n",
       "    <tr>\n",
       "      <th>3</th>\n",
       "      <td>Europa</td>\n",
       "      <td>0</td>\n",
       "      <td>TRAPPIST-1e</td>\n",
       "      <td>38.0</td>\n",
       "      <td>0</td>\n",
       "      <td>0.000000</td>\n",
       "      <td>100.787879</td>\n",
       "      <td>0.000000</td>\n",
       "      <td>4.209302</td>\n",
       "      <td>18.870968</td>\n",
       "      <td>C</td>\n",
       "      <td>S</td>\n",
       "    </tr>\n",
       "    <tr>\n",
       "      <th>4</th>\n",
       "      <td>Earth</td>\n",
       "      <td>0</td>\n",
       "      <td>TRAPPIST-1e</td>\n",
       "      <td>20.0</td>\n",
       "      <td>0</td>\n",
       "      <td>0.208333</td>\n",
       "      <td>0.000000</td>\n",
       "      <td>23.518519</td>\n",
       "      <td>0.000000</td>\n",
       "      <td>0.000000</td>\n",
       "      <td>F</td>\n",
       "      <td>S</td>\n",
       "    </tr>\n",
       "  </tbody>\n",
       "</table>\n",
       "</div>"
      ],
      "text/plain": [
       "  HomePlanet  CryoSleep  Destination   Age  VIP  RoomService   FoodCourt  \\\n",
       "0      Earth          1  TRAPPIST-1e  27.0    0     0.000000    0.000000   \n",
       "1      Earth          0  TRAPPIST-1e  19.0    0     0.000000    0.136364   \n",
       "2     Europa          1  55 Cancri e  31.0    0     0.000000    0.000000   \n",
       "3     Europa          0  TRAPPIST-1e  38.0    0     0.000000  100.787879   \n",
       "4      Earth          0  TRAPPIST-1e  20.0    0     0.208333    0.000000   \n",
       "\n",
       "   ShoppingMall        Spa     VRDeck Deck Side  \n",
       "0      0.000000   0.000000   0.000000    G    S  \n",
       "1      0.000000  65.651163   0.000000    F    S  \n",
       "2      0.000000   0.000000   0.000000    C    S  \n",
       "3      0.000000   4.209302  18.870968    C    S  \n",
       "4     23.518519   0.000000   0.000000    F    S  "
      ]
     },
     "execution_count": 42,
     "metadata": {},
     "output_type": "execute_result"
    }
   ],
   "source": [
    "col_headers=['RoomService', 'FoodCourt', 'ShoppingMall', 'Spa', 'VRDeck']\n",
    "scl = RobustScaler()\n",
    "test_df[col_headers] = scl.fit_transform(test_df[col_headers])\n",
    "test_df.head()"
   ]
  },
  {
   "cell_type": "code",
   "execution_count": 43,
   "id": "c02e398d",
   "metadata": {
    "execution": {
     "iopub.execute_input": "2023-08-25T11:14:19.876133Z",
     "iopub.status.busy": "2023-08-25T11:14:19.875406Z",
     "iopub.status.idle": "2023-08-25T11:14:19.895680Z",
     "shell.execute_reply": "2023-08-25T11:14:19.894618Z"
    },
    "papermill": {
     "duration": 0.041758,
     "end_time": "2023-08-25T11:14:19.897949",
     "exception": false,
     "start_time": "2023-08-25T11:14:19.856191",
     "status": "completed"
    },
    "tags": []
   },
   "outputs": [
    {
     "data": {
      "text/html": [
       "<div>\n",
       "<style scoped>\n",
       "    .dataframe tbody tr th:only-of-type {\n",
       "        vertical-align: middle;\n",
       "    }\n",
       "\n",
       "    .dataframe tbody tr th {\n",
       "        vertical-align: top;\n",
       "    }\n",
       "\n",
       "    .dataframe thead th {\n",
       "        text-align: right;\n",
       "    }\n",
       "</style>\n",
       "<table border=\"1\" class=\"dataframe\">\n",
       "  <thead>\n",
       "    <tr style=\"text-align: right;\">\n",
       "      <th></th>\n",
       "      <th>HomePlanet</th>\n",
       "      <th>CryoSleep</th>\n",
       "      <th>Destination</th>\n",
       "      <th>Age</th>\n",
       "      <th>VIP</th>\n",
       "      <th>RoomService</th>\n",
       "      <th>FoodCourt</th>\n",
       "      <th>ShoppingMall</th>\n",
       "      <th>Spa</th>\n",
       "      <th>VRDeck</th>\n",
       "      <th>Deck</th>\n",
       "      <th>Side</th>\n",
       "    </tr>\n",
       "  </thead>\n",
       "  <tbody>\n",
       "    <tr>\n",
       "      <th>0</th>\n",
       "      <td>Earth</td>\n",
       "      <td>1</td>\n",
       "      <td>TRAPPIST-1e</td>\n",
       "      <td>27.0</td>\n",
       "      <td>0</td>\n",
       "      <td>0.000000</td>\n",
       "      <td>0.000000</td>\n",
       "      <td>0.000000</td>\n",
       "      <td>0.000000</td>\n",
       "      <td>0.000000</td>\n",
       "      <td>6</td>\n",
       "      <td>1</td>\n",
       "    </tr>\n",
       "    <tr>\n",
       "      <th>1</th>\n",
       "      <td>Earth</td>\n",
       "      <td>0</td>\n",
       "      <td>TRAPPIST-1e</td>\n",
       "      <td>19.0</td>\n",
       "      <td>0</td>\n",
       "      <td>0.000000</td>\n",
       "      <td>0.136364</td>\n",
       "      <td>0.000000</td>\n",
       "      <td>65.651163</td>\n",
       "      <td>0.000000</td>\n",
       "      <td>5</td>\n",
       "      <td>1</td>\n",
       "    </tr>\n",
       "    <tr>\n",
       "      <th>2</th>\n",
       "      <td>Europa</td>\n",
       "      <td>1</td>\n",
       "      <td>55 Cancri e</td>\n",
       "      <td>31.0</td>\n",
       "      <td>0</td>\n",
       "      <td>0.000000</td>\n",
       "      <td>0.000000</td>\n",
       "      <td>0.000000</td>\n",
       "      <td>0.000000</td>\n",
       "      <td>0.000000</td>\n",
       "      <td>2</td>\n",
       "      <td>1</td>\n",
       "    </tr>\n",
       "    <tr>\n",
       "      <th>3</th>\n",
       "      <td>Europa</td>\n",
       "      <td>0</td>\n",
       "      <td>TRAPPIST-1e</td>\n",
       "      <td>38.0</td>\n",
       "      <td>0</td>\n",
       "      <td>0.000000</td>\n",
       "      <td>100.787879</td>\n",
       "      <td>0.000000</td>\n",
       "      <td>4.209302</td>\n",
       "      <td>18.870968</td>\n",
       "      <td>2</td>\n",
       "      <td>1</td>\n",
       "    </tr>\n",
       "    <tr>\n",
       "      <th>4</th>\n",
       "      <td>Earth</td>\n",
       "      <td>0</td>\n",
       "      <td>TRAPPIST-1e</td>\n",
       "      <td>20.0</td>\n",
       "      <td>0</td>\n",
       "      <td>0.208333</td>\n",
       "      <td>0.000000</td>\n",
       "      <td>23.518519</td>\n",
       "      <td>0.000000</td>\n",
       "      <td>0.000000</td>\n",
       "      <td>5</td>\n",
       "      <td>1</td>\n",
       "    </tr>\n",
       "  </tbody>\n",
       "</table>\n",
       "</div>"
      ],
      "text/plain": [
       "  HomePlanet  CryoSleep  Destination   Age  VIP  RoomService   FoodCourt  \\\n",
       "0      Earth          1  TRAPPIST-1e  27.0    0     0.000000    0.000000   \n",
       "1      Earth          0  TRAPPIST-1e  19.0    0     0.000000    0.136364   \n",
       "2     Europa          1  55 Cancri e  31.0    0     0.000000    0.000000   \n",
       "3     Europa          0  TRAPPIST-1e  38.0    0     0.000000  100.787879   \n",
       "4      Earth          0  TRAPPIST-1e  20.0    0     0.208333    0.000000   \n",
       "\n",
       "   ShoppingMall        Spa     VRDeck  Deck  Side  \n",
       "0      0.000000   0.000000   0.000000     6     1  \n",
       "1      0.000000  65.651163   0.000000     5     1  \n",
       "2      0.000000   0.000000   0.000000     2     1  \n",
       "3      0.000000   4.209302  18.870968     2     1  \n",
       "4     23.518519   0.000000   0.000000     5     1  "
      ]
     },
     "execution_count": 43,
     "metadata": {},
     "output_type": "execute_result"
    }
   ],
   "source": [
    "column_headers = ['Deck', 'Side']\n",
    "le = LabelEncoder()\n",
    "\n",
    "test_df[column_headers] = test_df[column_headers].apply(le.fit_transform)\n",
    "test_df.head()"
   ]
  },
  {
   "cell_type": "code",
   "execution_count": 44,
   "id": "6e1b4340",
   "metadata": {
    "execution": {
     "iopub.execute_input": "2023-08-25T11:14:19.936032Z",
     "iopub.status.busy": "2023-08-25T11:14:19.935579Z",
     "iopub.status.idle": "2023-08-25T11:14:19.946565Z",
     "shell.execute_reply": "2023-08-25T11:14:19.945598Z"
    },
    "papermill": {
     "duration": 0.032295,
     "end_time": "2023-08-25T11:14:19.948567",
     "exception": false,
     "start_time": "2023-08-25T11:14:19.916272",
     "status": "completed"
    },
    "tags": []
   },
   "outputs": [
    {
     "data": {
      "text/plain": [
       "HomePlanet      87\n",
       "CryoSleep        0\n",
       "Destination     92\n",
       "Age              0\n",
       "VIP              0\n",
       "RoomService      0\n",
       "FoodCourt        0\n",
       "ShoppingMall     0\n",
       "Spa              0\n",
       "VRDeck           0\n",
       "Deck             0\n",
       "Side             0\n",
       "dtype: int64"
      ]
     },
     "execution_count": 44,
     "metadata": {},
     "output_type": "execute_result"
    }
   ],
   "source": [
    "test_df.isnull().sum()"
   ]
  },
  {
   "cell_type": "code",
   "execution_count": 45,
   "id": "6c08bbd2",
   "metadata": {
    "execution": {
     "iopub.execute_input": "2023-08-25T11:14:19.986510Z",
     "iopub.status.busy": "2023-08-25T11:14:19.986123Z",
     "iopub.status.idle": "2023-08-25T11:14:19.995909Z",
     "shell.execute_reply": "2023-08-25T11:14:19.994891Z"
    },
    "papermill": {
     "duration": 0.031164,
     "end_time": "2023-08-25T11:14:19.998061",
     "exception": false,
     "start_time": "2023-08-25T11:14:19.966897",
     "status": "completed"
    },
    "tags": []
   },
   "outputs": [],
   "source": [
    "test_df[['HomePlanet', 'Destination']] = test_df[['HomePlanet', 'Destination']].fillna(method = 'bfill')"
   ]
  },
  {
   "cell_type": "code",
   "execution_count": 46,
   "id": "17dac8c7",
   "metadata": {
    "execution": {
     "iopub.execute_input": "2023-08-25T11:14:20.035920Z",
     "iopub.status.busy": "2023-08-25T11:14:20.035527Z",
     "iopub.status.idle": "2023-08-25T11:14:20.050835Z",
     "shell.execute_reply": "2023-08-25T11:14:20.049762Z"
    },
    "papermill": {
     "duration": 0.036823,
     "end_time": "2023-08-25T11:14:20.053047",
     "exception": false,
     "start_time": "2023-08-25T11:14:20.016224",
     "status": "completed"
    },
    "tags": []
   },
   "outputs": [],
   "source": [
    "# Apply one-hot encoder to each column with categorical data\n",
    "OH_encoder = OneHotEncoder(handle_unknown='ignore', sparse_output=False) # ori: spare = False\n",
    "\n",
    "# Get list of categorical variables\n",
    "s = (test_df.dtypes == 'object')\n",
    "object_cols = list(s[s].index)\n",
    "\n",
    "OH_cols_test = pd.DataFrame(OH_encoder.fit_transform(test_df[object_cols]))\n",
    "\n",
    "# One-hot encoding removed index; put it back\n",
    "OH_cols_test.index = test_df.index\n",
    "\n",
    "# Remove categorical columns (will replace with one-hot encoding)\n",
    "num_X_test = test_df.drop(object_cols, axis=1)\n",
    "\n",
    "# Add one-hot encoded columns to numerical features\n",
    "OH_test_df = pd.concat([num_X_test, OH_cols_test], axis=1)"
   ]
  },
  {
   "cell_type": "code",
   "execution_count": 47,
   "id": "713b2463",
   "metadata": {
    "execution": {
     "iopub.execute_input": "2023-08-25T11:14:20.091540Z",
     "iopub.status.busy": "2023-08-25T11:14:20.091150Z",
     "iopub.status.idle": "2023-08-25T11:14:20.100054Z",
     "shell.execute_reply": "2023-08-25T11:14:20.099244Z"
    },
    "papermill": {
     "duration": 0.030155,
     "end_time": "2023-08-25T11:14:20.101829",
     "exception": false,
     "start_time": "2023-08-25T11:14:20.071674",
     "status": "completed"
    },
    "tags": []
   },
   "outputs": [
    {
     "data": {
      "text/plain": [
       "CryoSleep       0\n",
       "Age             0\n",
       "VIP             0\n",
       "RoomService     0\n",
       "FoodCourt       0\n",
       "ShoppingMall    0\n",
       "Spa             0\n",
       "VRDeck          0\n",
       "Deck            0\n",
       "Side            0\n",
       "0               0\n",
       "1               0\n",
       "2               0\n",
       "3               0\n",
       "4               0\n",
       "5               0\n",
       "dtype: int64"
      ]
     },
     "execution_count": 47,
     "metadata": {},
     "output_type": "execute_result"
    }
   ],
   "source": [
    "OH_test_df.isnull().sum()"
   ]
  },
  {
   "cell_type": "code",
   "execution_count": 48,
   "id": "dd69f313",
   "metadata": {
    "execution": {
     "iopub.execute_input": "2023-08-25T11:14:20.140184Z",
     "iopub.status.busy": "2023-08-25T11:14:20.139491Z",
     "iopub.status.idle": "2023-08-25T11:14:20.159969Z",
     "shell.execute_reply": "2023-08-25T11:14:20.158762Z"
    },
    "papermill": {
     "duration": 0.041955,
     "end_time": "2023-08-25T11:14:20.162121",
     "exception": false,
     "start_time": "2023-08-25T11:14:20.120166",
     "status": "completed"
    },
    "tags": []
   },
   "outputs": [
    {
     "data": {
      "text/html": [
       "<div>\n",
       "<style scoped>\n",
       "    .dataframe tbody tr th:only-of-type {\n",
       "        vertical-align: middle;\n",
       "    }\n",
       "\n",
       "    .dataframe tbody tr th {\n",
       "        vertical-align: top;\n",
       "    }\n",
       "\n",
       "    .dataframe thead th {\n",
       "        text-align: right;\n",
       "    }\n",
       "</style>\n",
       "<table border=\"1\" class=\"dataframe\">\n",
       "  <thead>\n",
       "    <tr style=\"text-align: right;\">\n",
       "      <th></th>\n",
       "      <th>CryoSleep</th>\n",
       "      <th>Age</th>\n",
       "      <th>VIP</th>\n",
       "      <th>RoomService</th>\n",
       "      <th>FoodCourt</th>\n",
       "      <th>ShoppingMall</th>\n",
       "      <th>Spa</th>\n",
       "      <th>VRDeck</th>\n",
       "      <th>Deck</th>\n",
       "      <th>Side</th>\n",
       "      <th>0</th>\n",
       "      <th>1</th>\n",
       "      <th>2</th>\n",
       "      <th>3</th>\n",
       "      <th>4</th>\n",
       "      <th>5</th>\n",
       "    </tr>\n",
       "  </thead>\n",
       "  <tbody>\n",
       "    <tr>\n",
       "      <th>0</th>\n",
       "      <td>1</td>\n",
       "      <td>27.0</td>\n",
       "      <td>0</td>\n",
       "      <td>0.000000</td>\n",
       "      <td>0.000000</td>\n",
       "      <td>0.000000</td>\n",
       "      <td>0.000000</td>\n",
       "      <td>0.000000</td>\n",
       "      <td>6</td>\n",
       "      <td>1</td>\n",
       "      <td>1.0</td>\n",
       "      <td>0.0</td>\n",
       "      <td>0.0</td>\n",
       "      <td>0.0</td>\n",
       "      <td>0.0</td>\n",
       "      <td>1.0</td>\n",
       "    </tr>\n",
       "    <tr>\n",
       "      <th>1</th>\n",
       "      <td>0</td>\n",
       "      <td>19.0</td>\n",
       "      <td>0</td>\n",
       "      <td>0.000000</td>\n",
       "      <td>0.136364</td>\n",
       "      <td>0.000000</td>\n",
       "      <td>65.651163</td>\n",
       "      <td>0.000000</td>\n",
       "      <td>5</td>\n",
       "      <td>1</td>\n",
       "      <td>1.0</td>\n",
       "      <td>0.0</td>\n",
       "      <td>0.0</td>\n",
       "      <td>0.0</td>\n",
       "      <td>0.0</td>\n",
       "      <td>1.0</td>\n",
       "    </tr>\n",
       "    <tr>\n",
       "      <th>2</th>\n",
       "      <td>1</td>\n",
       "      <td>31.0</td>\n",
       "      <td>0</td>\n",
       "      <td>0.000000</td>\n",
       "      <td>0.000000</td>\n",
       "      <td>0.000000</td>\n",
       "      <td>0.000000</td>\n",
       "      <td>0.000000</td>\n",
       "      <td>2</td>\n",
       "      <td>1</td>\n",
       "      <td>0.0</td>\n",
       "      <td>1.0</td>\n",
       "      <td>0.0</td>\n",
       "      <td>1.0</td>\n",
       "      <td>0.0</td>\n",
       "      <td>0.0</td>\n",
       "    </tr>\n",
       "    <tr>\n",
       "      <th>3</th>\n",
       "      <td>0</td>\n",
       "      <td>38.0</td>\n",
       "      <td>0</td>\n",
       "      <td>0.000000</td>\n",
       "      <td>100.787879</td>\n",
       "      <td>0.000000</td>\n",
       "      <td>4.209302</td>\n",
       "      <td>18.870968</td>\n",
       "      <td>2</td>\n",
       "      <td>1</td>\n",
       "      <td>0.0</td>\n",
       "      <td>1.0</td>\n",
       "      <td>0.0</td>\n",
       "      <td>0.0</td>\n",
       "      <td>0.0</td>\n",
       "      <td>1.0</td>\n",
       "    </tr>\n",
       "    <tr>\n",
       "      <th>4</th>\n",
       "      <td>0</td>\n",
       "      <td>20.0</td>\n",
       "      <td>0</td>\n",
       "      <td>0.208333</td>\n",
       "      <td>0.000000</td>\n",
       "      <td>23.518519</td>\n",
       "      <td>0.000000</td>\n",
       "      <td>0.000000</td>\n",
       "      <td>5</td>\n",
       "      <td>1</td>\n",
       "      <td>1.0</td>\n",
       "      <td>0.0</td>\n",
       "      <td>0.0</td>\n",
       "      <td>0.0</td>\n",
       "      <td>0.0</td>\n",
       "      <td>1.0</td>\n",
       "    </tr>\n",
       "  </tbody>\n",
       "</table>\n",
       "</div>"
      ],
      "text/plain": [
       "   CryoSleep   Age  VIP  RoomService   FoodCourt  ShoppingMall        Spa  \\\n",
       "0          1  27.0    0     0.000000    0.000000      0.000000   0.000000   \n",
       "1          0  19.0    0     0.000000    0.136364      0.000000  65.651163   \n",
       "2          1  31.0    0     0.000000    0.000000      0.000000   0.000000   \n",
       "3          0  38.0    0     0.000000  100.787879      0.000000   4.209302   \n",
       "4          0  20.0    0     0.208333    0.000000     23.518519   0.000000   \n",
       "\n",
       "      VRDeck  Deck  Side    0    1    2    3    4    5  \n",
       "0   0.000000     6     1  1.0  0.0  0.0  0.0  0.0  1.0  \n",
       "1   0.000000     5     1  1.0  0.0  0.0  0.0  0.0  1.0  \n",
       "2   0.000000     2     1  0.0  1.0  0.0  1.0  0.0  0.0  \n",
       "3  18.870968     2     1  0.0  1.0  0.0  0.0  0.0  1.0  \n",
       "4   0.000000     5     1  1.0  0.0  0.0  0.0  0.0  1.0  "
      ]
     },
     "execution_count": 48,
     "metadata": {},
     "output_type": "execute_result"
    }
   ],
   "source": [
    "OH_test_df.head()"
   ]
  },
  {
   "cell_type": "code",
   "execution_count": 49,
   "id": "34cd11c9",
   "metadata": {
    "execution": {
     "iopub.execute_input": "2023-08-25T11:14:20.200920Z",
     "iopub.status.busy": "2023-08-25T11:14:20.200517Z",
     "iopub.status.idle": "2023-08-25T11:14:20.205295Z",
     "shell.execute_reply": "2023-08-25T11:14:20.204497Z"
    },
    "papermill": {
     "duration": 0.026501,
     "end_time": "2023-08-25T11:14:20.207076",
     "exception": false,
     "start_time": "2023-08-25T11:14:20.180575",
     "status": "completed"
    },
    "tags": []
   },
   "outputs": [],
   "source": [
    "OH_test_df.columns = [ 'CryoSleep','Age','VIP','RoomService','FoodCourt','ShoppingMall','Spa', 'VRDeck', 'Deck','Side',\n",
    "                    'Europa',              'Earth',              'Mars',        'TRAPPIST-1e', 'PSOJ318.5-22', '55 Cancrie']"
   ]
  },
  {
   "cell_type": "code",
   "execution_count": 50,
   "id": "5130ad9a",
   "metadata": {
    "execution": {
     "iopub.execute_input": "2023-08-25T11:14:20.245521Z",
     "iopub.status.busy": "2023-08-25T11:14:20.245127Z",
     "iopub.status.idle": "2023-08-25T11:14:20.310149Z",
     "shell.execute_reply": "2023-08-25T11:14:20.309028Z"
    },
    "papermill": {
     "duration": 0.087155,
     "end_time": "2023-08-25T11:14:20.312682",
     "exception": false,
     "start_time": "2023-08-25T11:14:20.225527",
     "status": "completed"
    },
    "tags": []
   },
   "outputs": [],
   "source": [
    "submission = pd.Series(model.predict(OH_test_df))\n",
    "binary = pd.Series([None]*len(submission))\n",
    "for i in range(0, len(submission)):\n",
    "    if submission[i] == 1:\n",
    "        binary[i] = True\n",
    "    else:\n",
    "        binary[i] = False"
   ]
  },
  {
   "cell_type": "code",
   "execution_count": 51,
   "id": "b6568956",
   "metadata": {
    "execution": {
     "iopub.execute_input": "2023-08-25T11:14:20.352206Z",
     "iopub.status.busy": "2023-08-25T11:14:20.351186Z",
     "iopub.status.idle": "2023-08-25T11:14:20.360389Z",
     "shell.execute_reply": "2023-08-25T11:14:20.359382Z"
    },
    "papermill": {
     "duration": 0.030977,
     "end_time": "2023-08-25T11:14:20.362471",
     "exception": false,
     "start_time": "2023-08-25T11:14:20.331494",
     "status": "completed"
    },
    "tags": []
   },
   "outputs": [
    {
     "data": {
      "text/plain": [
       "0       0013_01\n",
       "1       0018_01\n",
       "2       0019_01\n",
       "3       0021_01\n",
       "4       0023_01\n",
       "         ...   \n",
       "4272    9266_02\n",
       "4273    9269_01\n",
       "4274    9271_01\n",
       "4275    9273_01\n",
       "4276    9277_01\n",
       "Name: PassengerId, Length: 4277, dtype: object"
      ]
     },
     "execution_count": 51,
     "metadata": {},
     "output_type": "execute_result"
    }
   ],
   "source": [
    "id_ = pd.Series(test['PassengerId'])\n",
    "id_\n"
   ]
  },
  {
   "cell_type": "code",
   "execution_count": 52,
   "id": "8da5d019",
   "metadata": {
    "execution": {
     "iopub.execute_input": "2023-08-25T11:14:20.401903Z",
     "iopub.status.busy": "2023-08-25T11:14:20.401540Z",
     "iopub.status.idle": "2023-08-25T11:14:20.413915Z",
     "shell.execute_reply": "2023-08-25T11:14:20.412866Z"
    },
    "papermill": {
     "duration": 0.034464,
     "end_time": "2023-08-25T11:14:20.416036",
     "exception": false,
     "start_time": "2023-08-25T11:14:20.381572",
     "status": "completed"
    },
    "tags": []
   },
   "outputs": [
    {
     "data": {
      "text/html": [
       "<div>\n",
       "<style scoped>\n",
       "    .dataframe tbody tr th:only-of-type {\n",
       "        vertical-align: middle;\n",
       "    }\n",
       "\n",
       "    .dataframe tbody tr th {\n",
       "        vertical-align: top;\n",
       "    }\n",
       "\n",
       "    .dataframe thead th {\n",
       "        text-align: right;\n",
       "    }\n",
       "</style>\n",
       "<table border=\"1\" class=\"dataframe\">\n",
       "  <thead>\n",
       "    <tr style=\"text-align: right;\">\n",
       "      <th></th>\n",
       "      <th>PassengerId</th>\n",
       "      <th>Transported</th>\n",
       "    </tr>\n",
       "  </thead>\n",
       "  <tbody>\n",
       "    <tr>\n",
       "      <th>0</th>\n",
       "      <td>0013_01</td>\n",
       "      <td>True</td>\n",
       "    </tr>\n",
       "    <tr>\n",
       "      <th>1</th>\n",
       "      <td>0018_01</td>\n",
       "      <td>False</td>\n",
       "    </tr>\n",
       "    <tr>\n",
       "      <th>2</th>\n",
       "      <td>0019_01</td>\n",
       "      <td>True</td>\n",
       "    </tr>\n",
       "    <tr>\n",
       "      <th>3</th>\n",
       "      <td>0021_01</td>\n",
       "      <td>True</td>\n",
       "    </tr>\n",
       "    <tr>\n",
       "      <th>4</th>\n",
       "      <td>0023_01</td>\n",
       "      <td>False</td>\n",
       "    </tr>\n",
       "    <tr>\n",
       "      <th>...</th>\n",
       "      <td>...</td>\n",
       "      <td>...</td>\n",
       "    </tr>\n",
       "    <tr>\n",
       "      <th>4272</th>\n",
       "      <td>9266_02</td>\n",
       "      <td>True</td>\n",
       "    </tr>\n",
       "    <tr>\n",
       "      <th>4273</th>\n",
       "      <td>9269_01</td>\n",
       "      <td>True</td>\n",
       "    </tr>\n",
       "    <tr>\n",
       "      <th>4274</th>\n",
       "      <td>9271_01</td>\n",
       "      <td>True</td>\n",
       "    </tr>\n",
       "    <tr>\n",
       "      <th>4275</th>\n",
       "      <td>9273_01</td>\n",
       "      <td>True</td>\n",
       "    </tr>\n",
       "    <tr>\n",
       "      <th>4276</th>\n",
       "      <td>9277_01</td>\n",
       "      <td>False</td>\n",
       "    </tr>\n",
       "  </tbody>\n",
       "</table>\n",
       "<p>4277 rows × 2 columns</p>\n",
       "</div>"
      ],
      "text/plain": [
       "     PassengerId Transported\n",
       "0        0013_01        True\n",
       "1        0018_01       False\n",
       "2        0019_01        True\n",
       "3        0021_01        True\n",
       "4        0023_01       False\n",
       "...          ...         ...\n",
       "4272     9266_02        True\n",
       "4273     9269_01        True\n",
       "4274     9271_01        True\n",
       "4275     9273_01        True\n",
       "4276     9277_01       False\n",
       "\n",
       "[4277 rows x 2 columns]"
      ]
     },
     "execution_count": 52,
     "metadata": {},
     "output_type": "execute_result"
    }
   ],
   "source": [
    "submission_df = pd.DataFrame(\n",
    "    {\n",
    "        'PassengerId': id_,\n",
    "        'Transported': binary,\n",
    "    }\n",
    ")\n",
    "submission_df"
   ]
  },
  {
   "cell_type": "code",
   "execution_count": 53,
   "id": "72393511",
   "metadata": {
    "execution": {
     "iopub.execute_input": "2023-08-25T11:14:20.455830Z",
     "iopub.status.busy": "2023-08-25T11:14:20.455476Z",
     "iopub.status.idle": "2023-08-25T11:14:21.503517Z",
     "shell.execute_reply": "2023-08-25T11:14:21.502284Z"
    },
    "papermill": {
     "duration": 1.070788,
     "end_time": "2023-08-25T11:14:21.506043",
     "exception": false,
     "start_time": "2023-08-25T11:14:20.435255",
     "status": "completed"
    },
    "tags": []
   },
   "outputs": [
    {
     "name": "stdout",
     "output_type": "stream",
     "text": [
      "Done\r\n"
     ]
    }
   ],
   "source": [
    "submission_df.to_csv('submission.csv', index = False)\n",
    "!echo \"Done\""
   ]
  },
  {
   "cell_type": "markdown",
   "id": "00ada27e",
   "metadata": {
    "papermill": {
     "duration": 0.019149,
     "end_time": "2023-08-25T11:14:21.544537",
     "exception": false,
     "start_time": "2023-08-25T11:14:21.525388",
     "status": "completed"
    },
    "tags": []
   },
   "source": [
    "# Multiple Models"
   ]
  },
  {
   "cell_type": "markdown",
   "id": "88b745ee",
   "metadata": {
    "papermill": {
     "duration": 0.019274,
     "end_time": "2023-08-25T11:14:21.583685",
     "exception": false,
     "start_time": "2023-08-25T11:14:21.564411",
     "status": "completed"
    },
    "tags": []
   },
   "source": [
    "# Deep Learning Model"
   ]
  }
 ],
 "metadata": {
  "kernelspec": {
   "display_name": "Python 3",
   "language": "python",
   "name": "python3"
  },
  "language_info": {
   "codemirror_mode": {
    "name": "ipython",
    "version": 3
   },
   "file_extension": ".py",
   "mimetype": "text/x-python",
   "name": "python",
   "nbconvert_exporter": "python",
   "pygments_lexer": "ipython3",
   "version": "3.10.12"
  },
  "papermill": {
   "default_parameters": {},
   "duration": 22.021649,
   "end_time": "2023-08-25T11:14:22.626488",
   "environment_variables": {},
   "exception": null,
   "input_path": "__notebook__.ipynb",
   "output_path": "__notebook__.ipynb",
   "parameters": {},
   "start_time": "2023-08-25T11:14:00.604839",
   "version": "2.4.0"
  }
 },
 "nbformat": 4,
 "nbformat_minor": 5
}
