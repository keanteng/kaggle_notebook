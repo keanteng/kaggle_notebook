{
 "cells": [
  {
   "cell_type": "markdown",
   "id": "272c8180",
   "metadata": {
    "papermill": {
     "duration": 0.024616,
     "end_time": "2023-08-25T11:16:45.296579",
     "exception": false,
     "start_time": "2023-08-25T11:16:45.271963",
     "status": "completed"
    },
    "tags": []
   },
   "source": [
    "# 1. Titanic - Machine Learning from Disaster\n",
    "\n",
    "## a. Insights from Other Notebook\n",
    "1. Variables explanation\n",
    "    - `Sibsp` is the number of slibings or spouses travelling with the passenger\n",
    "    - `Parch` is the number of parents of children travelling with the passenger\n",
    "    - `Embarked` representing by the first letter of Cherbourg, Queenstown and Southampton"
   ]
  },
  {
   "cell_type": "code",
   "execution_count": 1,
   "id": "83df8af1",
   "metadata": {
    "_cell_guid": "b1076dfc-b9ad-4769-8c92-a6c4dae69d19",
    "_uuid": "8f2839f25d086af736a60e9eeb907d3b93b6e0e5",
    "execution": {
     "iopub.execute_input": "2023-08-25T11:16:45.348125Z",
     "iopub.status.busy": "2023-08-25T11:16:45.347615Z",
     "iopub.status.idle": "2023-08-25T11:16:46.999753Z",
     "shell.execute_reply": "2023-08-25T11:16:46.998610Z"
    },
    "papermill": {
     "duration": 1.683475,
     "end_time": "2023-08-25T11:16:47.002649",
     "exception": false,
     "start_time": "2023-08-25T11:16:45.319174",
     "status": "completed"
    },
    "tags": []
   },
   "outputs": [
    {
     "name": "stderr",
     "output_type": "stream",
     "text": [
      "/opt/conda/lib/python3.10/site-packages/scipy/__init__.py:146: UserWarning: A NumPy version >=1.16.5 and <1.23.0 is required for this version of SciPy (detected version 1.23.5\n",
      "  warnings.warn(f\"A NumPy version >={np_minversion} and <{np_maxversion}\"\n"
     ]
    }
   ],
   "source": [
    "# load libraries\n",
    "import pandas as pd\n",
    "import matplotlib.pyplot as plt\n",
    "import seaborn as sns\n",
    "import numpy as np\n",
    "import seaborn as sns\n",
    "\n",
    "from sklearn.preprocessing import RobustScaler, LabelEncoder"
   ]
  },
  {
   "cell_type": "code",
   "execution_count": 2,
   "id": "ea40f9bf",
   "metadata": {
    "execution": {
     "iopub.execute_input": "2023-08-25T11:16:47.044977Z",
     "iopub.status.busy": "2023-08-25T11:16:47.044536Z",
     "iopub.status.idle": "2023-08-25T11:16:47.078225Z",
     "shell.execute_reply": "2023-08-25T11:16:47.076821Z"
    },
    "papermill": {
     "duration": 0.058258,
     "end_time": "2023-08-25T11:16:47.081101",
     "exception": false,
     "start_time": "2023-08-25T11:16:47.022843",
     "status": "completed"
    },
    "tags": []
   },
   "outputs": [],
   "source": [
    "train = pd.read_csv(\"/kaggle/input/titanic/train.csv\")\n",
    "test = pd.read_csv(\"/kaggle/input/titanic/test.csv\")"
   ]
  },
  {
   "cell_type": "code",
   "execution_count": 3,
   "id": "b4a669f0",
   "metadata": {
    "execution": {
     "iopub.execute_input": "2023-08-25T11:16:47.124441Z",
     "iopub.status.busy": "2023-08-25T11:16:47.124007Z",
     "iopub.status.idle": "2023-08-25T11:16:47.153405Z",
     "shell.execute_reply": "2023-08-25T11:16:47.152079Z"
    },
    "papermill": {
     "duration": 0.054543,
     "end_time": "2023-08-25T11:16:47.156378",
     "exception": false,
     "start_time": "2023-08-25T11:16:47.101835",
     "status": "completed"
    },
    "tags": []
   },
   "outputs": [
    {
     "data": {
      "text/html": [
       "<div>\n",
       "<style scoped>\n",
       "    .dataframe tbody tr th:only-of-type {\n",
       "        vertical-align: middle;\n",
       "    }\n",
       "\n",
       "    .dataframe tbody tr th {\n",
       "        vertical-align: top;\n",
       "    }\n",
       "\n",
       "    .dataframe thead th {\n",
       "        text-align: right;\n",
       "    }\n",
       "</style>\n",
       "<table border=\"1\" class=\"dataframe\">\n",
       "  <thead>\n",
       "    <tr style=\"text-align: right;\">\n",
       "      <th></th>\n",
       "      <th>PassengerId</th>\n",
       "      <th>Survived</th>\n",
       "      <th>Pclass</th>\n",
       "      <th>Name</th>\n",
       "      <th>Sex</th>\n",
       "      <th>Age</th>\n",
       "      <th>SibSp</th>\n",
       "      <th>Parch</th>\n",
       "      <th>Ticket</th>\n",
       "      <th>Fare</th>\n",
       "      <th>Cabin</th>\n",
       "      <th>Embarked</th>\n",
       "    </tr>\n",
       "  </thead>\n",
       "  <tbody>\n",
       "    <tr>\n",
       "      <th>0</th>\n",
       "      <td>1</td>\n",
       "      <td>0</td>\n",
       "      <td>3</td>\n",
       "      <td>Braund, Mr. Owen Harris</td>\n",
       "      <td>male</td>\n",
       "      <td>22.0</td>\n",
       "      <td>1</td>\n",
       "      <td>0</td>\n",
       "      <td>A/5 21171</td>\n",
       "      <td>7.2500</td>\n",
       "      <td>NaN</td>\n",
       "      <td>S</td>\n",
       "    </tr>\n",
       "    <tr>\n",
       "      <th>1</th>\n",
       "      <td>2</td>\n",
       "      <td>1</td>\n",
       "      <td>1</td>\n",
       "      <td>Cumings, Mrs. John Bradley (Florence Briggs Th...</td>\n",
       "      <td>female</td>\n",
       "      <td>38.0</td>\n",
       "      <td>1</td>\n",
       "      <td>0</td>\n",
       "      <td>PC 17599</td>\n",
       "      <td>71.2833</td>\n",
       "      <td>C85</td>\n",
       "      <td>C</td>\n",
       "    </tr>\n",
       "    <tr>\n",
       "      <th>2</th>\n",
       "      <td>3</td>\n",
       "      <td>1</td>\n",
       "      <td>3</td>\n",
       "      <td>Heikkinen, Miss. Laina</td>\n",
       "      <td>female</td>\n",
       "      <td>26.0</td>\n",
       "      <td>0</td>\n",
       "      <td>0</td>\n",
       "      <td>STON/O2. 3101282</td>\n",
       "      <td>7.9250</td>\n",
       "      <td>NaN</td>\n",
       "      <td>S</td>\n",
       "    </tr>\n",
       "    <tr>\n",
       "      <th>3</th>\n",
       "      <td>4</td>\n",
       "      <td>1</td>\n",
       "      <td>1</td>\n",
       "      <td>Futrelle, Mrs. Jacques Heath (Lily May Peel)</td>\n",
       "      <td>female</td>\n",
       "      <td>35.0</td>\n",
       "      <td>1</td>\n",
       "      <td>0</td>\n",
       "      <td>113803</td>\n",
       "      <td>53.1000</td>\n",
       "      <td>C123</td>\n",
       "      <td>S</td>\n",
       "    </tr>\n",
       "    <tr>\n",
       "      <th>4</th>\n",
       "      <td>5</td>\n",
       "      <td>0</td>\n",
       "      <td>3</td>\n",
       "      <td>Allen, Mr. William Henry</td>\n",
       "      <td>male</td>\n",
       "      <td>35.0</td>\n",
       "      <td>0</td>\n",
       "      <td>0</td>\n",
       "      <td>373450</td>\n",
       "      <td>8.0500</td>\n",
       "      <td>NaN</td>\n",
       "      <td>S</td>\n",
       "    </tr>\n",
       "  </tbody>\n",
       "</table>\n",
       "</div>"
      ],
      "text/plain": [
       "   PassengerId  Survived  Pclass  \\\n",
       "0            1         0       3   \n",
       "1            2         1       1   \n",
       "2            3         1       3   \n",
       "3            4         1       1   \n",
       "4            5         0       3   \n",
       "\n",
       "                                                Name     Sex   Age  SibSp  \\\n",
       "0                            Braund, Mr. Owen Harris    male  22.0      1   \n",
       "1  Cumings, Mrs. John Bradley (Florence Briggs Th...  female  38.0      1   \n",
       "2                             Heikkinen, Miss. Laina  female  26.0      0   \n",
       "3       Futrelle, Mrs. Jacques Heath (Lily May Peel)  female  35.0      1   \n",
       "4                           Allen, Mr. William Henry    male  35.0      0   \n",
       "\n",
       "   Parch            Ticket     Fare Cabin Embarked  \n",
       "0      0         A/5 21171   7.2500   NaN        S  \n",
       "1      0          PC 17599  71.2833   C85        C  \n",
       "2      0  STON/O2. 3101282   7.9250   NaN        S  \n",
       "3      0            113803  53.1000  C123        S  \n",
       "4      0            373450   8.0500   NaN        S  "
      ]
     },
     "execution_count": 3,
     "metadata": {},
     "output_type": "execute_result"
    }
   ],
   "source": [
    "# preview first 5 rows\n",
    "train.head()"
   ]
  },
  {
   "cell_type": "code",
   "execution_count": 4,
   "id": "d93437f2",
   "metadata": {
    "execution": {
     "iopub.execute_input": "2023-08-25T11:16:47.200245Z",
     "iopub.status.busy": "2023-08-25T11:16:47.199821Z",
     "iopub.status.idle": "2023-08-25T11:16:47.207961Z",
     "shell.execute_reply": "2023-08-25T11:16:47.206852Z"
    },
    "papermill": {
     "duration": 0.032625,
     "end_time": "2023-08-25T11:16:47.210444",
     "exception": false,
     "start_time": "2023-08-25T11:16:47.177819",
     "status": "completed"
    },
    "tags": []
   },
   "outputs": [
    {
     "data": {
      "text/plain": [
       "Index(['PassengerId', 'Survived', 'Pclass', 'Name', 'Sex', 'Age', 'SibSp',\n",
       "       'Parch', 'Ticket', 'Fare', 'Cabin', 'Embarked'],\n",
       "      dtype='object')"
      ]
     },
     "execution_count": 4,
     "metadata": {},
     "output_type": "execute_result"
    }
   ],
   "source": [
    "# read columns name\n",
    "train.columns"
   ]
  },
  {
   "cell_type": "code",
   "execution_count": 5,
   "id": "1aca505d",
   "metadata": {
    "execution": {
     "iopub.execute_input": "2023-08-25T11:16:47.255582Z",
     "iopub.status.busy": "2023-08-25T11:16:47.255149Z",
     "iopub.status.idle": "2023-08-25T11:16:47.294797Z",
     "shell.execute_reply": "2023-08-25T11:16:47.293845Z"
    },
    "papermill": {
     "duration": 0.064341,
     "end_time": "2023-08-25T11:16:47.297077",
     "exception": false,
     "start_time": "2023-08-25T11:16:47.232736",
     "status": "completed"
    },
    "tags": []
   },
   "outputs": [
    {
     "data": {
      "text/html": [
       "<div>\n",
       "<style scoped>\n",
       "    .dataframe tbody tr th:only-of-type {\n",
       "        vertical-align: middle;\n",
       "    }\n",
       "\n",
       "    .dataframe tbody tr th {\n",
       "        vertical-align: top;\n",
       "    }\n",
       "\n",
       "    .dataframe thead th {\n",
       "        text-align: right;\n",
       "    }\n",
       "</style>\n",
       "<table border=\"1\" class=\"dataframe\">\n",
       "  <thead>\n",
       "    <tr style=\"text-align: right;\">\n",
       "      <th></th>\n",
       "      <th>PassengerId</th>\n",
       "      <th>Survived</th>\n",
       "      <th>Pclass</th>\n",
       "      <th>Age</th>\n",
       "      <th>SibSp</th>\n",
       "      <th>Parch</th>\n",
       "      <th>Fare</th>\n",
       "    </tr>\n",
       "  </thead>\n",
       "  <tbody>\n",
       "    <tr>\n",
       "      <th>count</th>\n",
       "      <td>891.000000</td>\n",
       "      <td>891.000000</td>\n",
       "      <td>891.000000</td>\n",
       "      <td>714.000000</td>\n",
       "      <td>891.000000</td>\n",
       "      <td>891.000000</td>\n",
       "      <td>891.000000</td>\n",
       "    </tr>\n",
       "    <tr>\n",
       "      <th>mean</th>\n",
       "      <td>446.000000</td>\n",
       "      <td>0.383838</td>\n",
       "      <td>2.308642</td>\n",
       "      <td>29.699118</td>\n",
       "      <td>0.523008</td>\n",
       "      <td>0.381594</td>\n",
       "      <td>32.204208</td>\n",
       "    </tr>\n",
       "    <tr>\n",
       "      <th>std</th>\n",
       "      <td>257.353842</td>\n",
       "      <td>0.486592</td>\n",
       "      <td>0.836071</td>\n",
       "      <td>14.526497</td>\n",
       "      <td>1.102743</td>\n",
       "      <td>0.806057</td>\n",
       "      <td>49.693429</td>\n",
       "    </tr>\n",
       "    <tr>\n",
       "      <th>min</th>\n",
       "      <td>1.000000</td>\n",
       "      <td>0.000000</td>\n",
       "      <td>1.000000</td>\n",
       "      <td>0.420000</td>\n",
       "      <td>0.000000</td>\n",
       "      <td>0.000000</td>\n",
       "      <td>0.000000</td>\n",
       "    </tr>\n",
       "    <tr>\n",
       "      <th>25%</th>\n",
       "      <td>223.500000</td>\n",
       "      <td>0.000000</td>\n",
       "      <td>2.000000</td>\n",
       "      <td>20.125000</td>\n",
       "      <td>0.000000</td>\n",
       "      <td>0.000000</td>\n",
       "      <td>7.910400</td>\n",
       "    </tr>\n",
       "    <tr>\n",
       "      <th>50%</th>\n",
       "      <td>446.000000</td>\n",
       "      <td>0.000000</td>\n",
       "      <td>3.000000</td>\n",
       "      <td>28.000000</td>\n",
       "      <td>0.000000</td>\n",
       "      <td>0.000000</td>\n",
       "      <td>14.454200</td>\n",
       "    </tr>\n",
       "    <tr>\n",
       "      <th>75%</th>\n",
       "      <td>668.500000</td>\n",
       "      <td>1.000000</td>\n",
       "      <td>3.000000</td>\n",
       "      <td>38.000000</td>\n",
       "      <td>1.000000</td>\n",
       "      <td>0.000000</td>\n",
       "      <td>31.000000</td>\n",
       "    </tr>\n",
       "    <tr>\n",
       "      <th>max</th>\n",
       "      <td>891.000000</td>\n",
       "      <td>1.000000</td>\n",
       "      <td>3.000000</td>\n",
       "      <td>80.000000</td>\n",
       "      <td>8.000000</td>\n",
       "      <td>6.000000</td>\n",
       "      <td>512.329200</td>\n",
       "    </tr>\n",
       "  </tbody>\n",
       "</table>\n",
       "</div>"
      ],
      "text/plain": [
       "       PassengerId    Survived      Pclass         Age       SibSp  \\\n",
       "count   891.000000  891.000000  891.000000  714.000000  891.000000   \n",
       "mean    446.000000    0.383838    2.308642   29.699118    0.523008   \n",
       "std     257.353842    0.486592    0.836071   14.526497    1.102743   \n",
       "min       1.000000    0.000000    1.000000    0.420000    0.000000   \n",
       "25%     223.500000    0.000000    2.000000   20.125000    0.000000   \n",
       "50%     446.000000    0.000000    3.000000   28.000000    0.000000   \n",
       "75%     668.500000    1.000000    3.000000   38.000000    1.000000   \n",
       "max     891.000000    1.000000    3.000000   80.000000    8.000000   \n",
       "\n",
       "            Parch        Fare  \n",
       "count  891.000000  891.000000  \n",
       "mean     0.381594   32.204208  \n",
       "std      0.806057   49.693429  \n",
       "min      0.000000    0.000000  \n",
       "25%      0.000000    7.910400  \n",
       "50%      0.000000   14.454200  \n",
       "75%      0.000000   31.000000  \n",
       "max      6.000000  512.329200  "
      ]
     },
     "execution_count": 5,
     "metadata": {},
     "output_type": "execute_result"
    }
   ],
   "source": [
    "train.describe()"
   ]
  },
  {
   "cell_type": "markdown",
   "id": "f393f185",
   "metadata": {
    "papermill": {
     "duration": 0.020943,
     "end_time": "2023-08-25T11:16:47.339212",
     "exception": false,
     "start_time": "2023-08-25T11:16:47.318269",
     "status": "completed"
    },
    "tags": []
   },
   "source": [
    "## 2. Data Cleaning\n",
    "- For the age columns, there are some missing values, passengers' titles are derived to get an insight of their age distribution by applying the median age for each title. "
   ]
  },
  {
   "cell_type": "code",
   "execution_count": 6,
   "id": "9f1338fb",
   "metadata": {
    "execution": {
     "iopub.execute_input": "2023-08-25T11:16:47.383374Z",
     "iopub.status.busy": "2023-08-25T11:16:47.382901Z",
     "iopub.status.idle": "2023-08-25T11:16:47.401821Z",
     "shell.execute_reply": "2023-08-25T11:16:47.400440Z"
    },
    "papermill": {
     "duration": 0.043835,
     "end_time": "2023-08-25T11:16:47.404180",
     "exception": false,
     "start_time": "2023-08-25T11:16:47.360345",
     "status": "completed"
    },
    "tags": []
   },
   "outputs": [
    {
     "data": {
      "text/html": [
       "<div>\n",
       "<style scoped>\n",
       "    .dataframe tbody tr th:only-of-type {\n",
       "        vertical-align: middle;\n",
       "    }\n",
       "\n",
       "    .dataframe tbody tr th {\n",
       "        vertical-align: top;\n",
       "    }\n",
       "\n",
       "    .dataframe thead th {\n",
       "        text-align: right;\n",
       "    }\n",
       "</style>\n",
       "<table border=\"1\" class=\"dataframe\">\n",
       "  <thead>\n",
       "    <tr style=\"text-align: right;\">\n",
       "      <th></th>\n",
       "      <th>Name</th>\n",
       "      <th>Sex</th>\n",
       "      <th>Ticket</th>\n",
       "      <th>Cabin</th>\n",
       "      <th>Embarked</th>\n",
       "    </tr>\n",
       "  </thead>\n",
       "  <tbody>\n",
       "    <tr>\n",
       "      <th>0</th>\n",
       "      <td>Braund, Mr. Owen Harris</td>\n",
       "      <td>male</td>\n",
       "      <td>A/5 21171</td>\n",
       "      <td>NaN</td>\n",
       "      <td>S</td>\n",
       "    </tr>\n",
       "    <tr>\n",
       "      <th>1</th>\n",
       "      <td>Cumings, Mrs. John Bradley (Florence Briggs Th...</td>\n",
       "      <td>female</td>\n",
       "      <td>PC 17599</td>\n",
       "      <td>C85</td>\n",
       "      <td>C</td>\n",
       "    </tr>\n",
       "    <tr>\n",
       "      <th>2</th>\n",
       "      <td>Heikkinen, Miss. Laina</td>\n",
       "      <td>female</td>\n",
       "      <td>STON/O2. 3101282</td>\n",
       "      <td>NaN</td>\n",
       "      <td>S</td>\n",
       "    </tr>\n",
       "    <tr>\n",
       "      <th>3</th>\n",
       "      <td>Futrelle, Mrs. Jacques Heath (Lily May Peel)</td>\n",
       "      <td>female</td>\n",
       "      <td>113803</td>\n",
       "      <td>C123</td>\n",
       "      <td>S</td>\n",
       "    </tr>\n",
       "    <tr>\n",
       "      <th>4</th>\n",
       "      <td>Allen, Mr. William Henry</td>\n",
       "      <td>male</td>\n",
       "      <td>373450</td>\n",
       "      <td>NaN</td>\n",
       "      <td>S</td>\n",
       "    </tr>\n",
       "  </tbody>\n",
       "</table>\n",
       "</div>"
      ],
      "text/plain": [
       "                                                Name     Sex  \\\n",
       "0                            Braund, Mr. Owen Harris    male   \n",
       "1  Cumings, Mrs. John Bradley (Florence Briggs Th...  female   \n",
       "2                             Heikkinen, Miss. Laina  female   \n",
       "3       Futrelle, Mrs. Jacques Heath (Lily May Peel)  female   \n",
       "4                           Allen, Mr. William Henry    male   \n",
       "\n",
       "             Ticket Cabin Embarked  \n",
       "0         A/5 21171   NaN        S  \n",
       "1          PC 17599   C85        C  \n",
       "2  STON/O2. 3101282   NaN        S  \n",
       "3            113803  C123        S  \n",
       "4            373450   NaN        S  "
      ]
     },
     "execution_count": 6,
     "metadata": {},
     "output_type": "execute_result"
    }
   ],
   "source": [
    "# see the non-numeric columns\n",
    "categorical = [var for var in train.columns if train[var].dtype=='O']\n",
    "train[categorical].head()"
   ]
  },
  {
   "cell_type": "code",
   "execution_count": 7,
   "id": "3f92fb29",
   "metadata": {
    "execution": {
     "iopub.execute_input": "2023-08-25T11:16:47.448913Z",
     "iopub.status.busy": "2023-08-25T11:16:47.448483Z",
     "iopub.status.idle": "2023-08-25T11:16:47.460331Z",
     "shell.execute_reply": "2023-08-25T11:16:47.459110Z"
    },
    "papermill": {
     "duration": 0.037306,
     "end_time": "2023-08-25T11:16:47.462860",
     "exception": false,
     "start_time": "2023-08-25T11:16:47.425554",
     "status": "completed"
    },
    "tags": []
   },
   "outputs": [
    {
     "data": {
      "text/plain": [
       "Name          0\n",
       "Sex           0\n",
       "Ticket        0\n",
       "Cabin       687\n",
       "Embarked      2\n",
       "dtype: int64"
      ]
     },
     "execution_count": 7,
     "metadata": {},
     "output_type": "execute_result"
    }
   ],
   "source": [
    "# check for null\n",
    "train[categorical].isnull().sum()"
   ]
  },
  {
   "cell_type": "code",
   "execution_count": 8,
   "id": "0e49a739",
   "metadata": {
    "execution": {
     "iopub.execute_input": "2023-08-25T11:16:47.509064Z",
     "iopub.status.busy": "2023-08-25T11:16:47.508241Z",
     "iopub.status.idle": "2023-08-25T11:16:47.530104Z",
     "shell.execute_reply": "2023-08-25T11:16:47.528686Z"
    },
    "papermill": {
     "duration": 0.049366,
     "end_time": "2023-08-25T11:16:47.533588",
     "exception": false,
     "start_time": "2023-08-25T11:16:47.484222",
     "status": "completed"
    },
    "tags": []
   },
   "outputs": [
    {
     "name": "stdout",
     "output_type": "stream",
     "text": [
      "Braund, Mr. Owen Harris                     0.001122\n",
      "Boulos, Mr. Hanna                           0.001122\n",
      "Frolicher-Stehli, Mr. Maxmillian            0.001122\n",
      "Gilinski, Mr. Eliezer                       0.001122\n",
      "Murdlin, Mr. Joseph                         0.001122\n",
      "                                              ...   \n",
      "Kelly, Miss. Anna Katherine \"Annie Kate\"    0.001122\n",
      "McCoy, Mr. Bernard                          0.001122\n",
      "Johnson, Mr. William Cahoone Jr             0.001122\n",
      "Keane, Miss. Nora A                         0.001122\n",
      "Dooley, Mr. Patrick                         0.001122\n",
      "Name: Name, Length: 891, dtype: float64\n",
      "male      0.647587\n",
      "female    0.352413\n",
      "Name: Sex, dtype: float64\n",
      "347082      0.007856\n",
      "CA. 2343    0.007856\n",
      "1601        0.007856\n",
      "3101295     0.006734\n",
      "CA 2144     0.006734\n",
      "              ...   \n",
      "9234        0.001122\n",
      "19988       0.001122\n",
      "2693        0.001122\n",
      "PC 17612    0.001122\n",
      "370376      0.001122\n",
      "Name: Ticket, Length: 681, dtype: float64\n",
      "B96 B98        0.004489\n",
      "G6             0.004489\n",
      "C23 C25 C27    0.004489\n",
      "C22 C26        0.003367\n",
      "F33            0.003367\n",
      "                 ...   \n",
      "E34            0.001122\n",
      "C7             0.001122\n",
      "C54            0.001122\n",
      "E36            0.001122\n",
      "C148           0.001122\n",
      "Name: Cabin, Length: 147, dtype: float64\n",
      "S    0.722783\n",
      "C    0.188552\n",
      "Q    0.086420\n",
      "Name: Embarked, dtype: float64\n"
     ]
    },
    {
     "name": "stderr",
     "output_type": "stream",
     "text": [
      "/tmp/ipykernel_20/89510089.py:3: DeprecationWarning: `np.float` is a deprecated alias for the builtin `float`. To silence this warning, use `float` by itself. Doing this will not modify any behavior and is safe. If you specifically wanted the numpy scalar type, use `np.float64` here.\n",
      "Deprecated in NumPy 1.20; for more details and guidance: https://numpy.org/devdocs/release/1.20.0-notes.html#deprecations\n",
      "  print(train[var].value_counts()/np.float(len(train)))\n",
      "/tmp/ipykernel_20/89510089.py:3: DeprecationWarning: `np.float` is a deprecated alias for the builtin `float`. To silence this warning, use `float` by itself. Doing this will not modify any behavior and is safe. If you specifically wanted the numpy scalar type, use `np.float64` here.\n",
      "Deprecated in NumPy 1.20; for more details and guidance: https://numpy.org/devdocs/release/1.20.0-notes.html#deprecations\n",
      "  print(train[var].value_counts()/np.float(len(train)))\n",
      "/tmp/ipykernel_20/89510089.py:3: DeprecationWarning: `np.float` is a deprecated alias for the builtin `float`. To silence this warning, use `float` by itself. Doing this will not modify any behavior and is safe. If you specifically wanted the numpy scalar type, use `np.float64` here.\n",
      "Deprecated in NumPy 1.20; for more details and guidance: https://numpy.org/devdocs/release/1.20.0-notes.html#deprecations\n",
      "  print(train[var].value_counts()/np.float(len(train)))\n",
      "/tmp/ipykernel_20/89510089.py:3: DeprecationWarning: `np.float` is a deprecated alias for the builtin `float`. To silence this warning, use `float` by itself. Doing this will not modify any behavior and is safe. If you specifically wanted the numpy scalar type, use `np.float64` here.\n",
      "Deprecated in NumPy 1.20; for more details and guidance: https://numpy.org/devdocs/release/1.20.0-notes.html#deprecations\n",
      "  print(train[var].value_counts()/np.float(len(train)))\n",
      "/tmp/ipykernel_20/89510089.py:3: DeprecationWarning: `np.float` is a deprecated alias for the builtin `float`. To silence this warning, use `float` by itself. Doing this will not modify any behavior and is safe. If you specifically wanted the numpy scalar type, use `np.float64` here.\n",
      "Deprecated in NumPy 1.20; for more details and guidance: https://numpy.org/devdocs/release/1.20.0-notes.html#deprecations\n",
      "  print(train[var].value_counts()/np.float(len(train)))\n"
     ]
    }
   ],
   "source": [
    "# check the category values distribution\n",
    "for var in categorical: \n",
    "    print(train[var].value_counts()/np.float(len(train)))"
   ]
  },
  {
   "cell_type": "code",
   "execution_count": 9,
   "id": "be768d20",
   "metadata": {
    "execution": {
     "iopub.execute_input": "2023-08-25T11:16:47.581856Z",
     "iopub.status.busy": "2023-08-25T11:16:47.581460Z",
     "iopub.status.idle": "2023-08-25T11:16:47.591743Z",
     "shell.execute_reply": "2023-08-25T11:16:47.590309Z"
    },
    "papermill": {
     "duration": 0.038518,
     "end_time": "2023-08-25T11:16:47.594171",
     "exception": false,
     "start_time": "2023-08-25T11:16:47.555653",
     "status": "completed"
    },
    "tags": []
   },
   "outputs": [
    {
     "name": "stdout",
     "output_type": "stream",
     "text": [
      "Name  contains  891  labels\n",
      "Sex  contains  2  labels\n",
      "Ticket  contains  681  labels\n",
      "Cabin  contains  148  labels\n",
      "Embarked  contains  4  labels\n"
     ]
    }
   ],
   "source": [
    "# check for cardinality\n",
    "for var in categorical:\n",
    "    print(var, ' contains ', len(train[var].unique()), ' labels')"
   ]
  },
  {
   "cell_type": "code",
   "execution_count": 10,
   "id": "2cf63837",
   "metadata": {
    "execution": {
     "iopub.execute_input": "2023-08-25T11:16:47.641114Z",
     "iopub.status.busy": "2023-08-25T11:16:47.640230Z",
     "iopub.status.idle": "2023-08-25T11:16:47.652418Z",
     "shell.execute_reply": "2023-08-25T11:16:47.651084Z"
    },
    "papermill": {
     "duration": 0.038849,
     "end_time": "2023-08-25T11:16:47.655144",
     "exception": false,
     "start_time": "2023-08-25T11:16:47.616295",
     "status": "completed"
    },
    "tags": []
   },
   "outputs": [
    {
     "data": {
      "text/plain": [
       "0      Mr\n",
       "1     Mrs\n",
       "2    Miss\n",
       "3     Mrs\n",
       "Name: title, dtype: object"
      ]
     },
     "execution_count": 10,
     "metadata": {},
     "output_type": "execute_result"
    }
   ],
   "source": [
    "title = [i.split(',')[1].split('.')[0].strip() for i in train['Name']]\n",
    "train['title'] = pd.Series(title)\n",
    "train['title'].head(4)"
   ]
  },
  {
   "cell_type": "code",
   "execution_count": 11,
   "id": "26f2a85a",
   "metadata": {
    "execution": {
     "iopub.execute_input": "2023-08-25T11:16:47.702329Z",
     "iopub.status.busy": "2023-08-25T11:16:47.701186Z",
     "iopub.status.idle": "2023-08-25T11:16:47.711092Z",
     "shell.execute_reply": "2023-08-25T11:16:47.709858Z"
    },
    "papermill": {
     "duration": 0.036524,
     "end_time": "2023-08-25T11:16:47.713757",
     "exception": false,
     "start_time": "2023-08-25T11:16:47.677233",
     "status": "completed"
    },
    "tags": []
   },
   "outputs": [
    {
     "data": {
      "text/plain": [
       "Mr              517\n",
       "Miss            182\n",
       "Mrs             125\n",
       "Master           40\n",
       "Dr                7\n",
       "Rev               6\n",
       "Mlle              2\n",
       "Major             2\n",
       "Col               2\n",
       "the Countess      1\n",
       "Capt              1\n",
       "Ms                1\n",
       "Sir               1\n",
       "Lady              1\n",
       "Mme               1\n",
       "Don               1\n",
       "Jonkheer          1\n",
       "Name: title, dtype: int64"
      ]
     },
     "execution_count": 11,
     "metadata": {},
     "output_type": "execute_result"
    }
   ],
   "source": [
    "train['title'].value_counts()"
   ]
  },
  {
   "cell_type": "markdown",
   "id": "88dc31ab",
   "metadata": {
    "papermill": {
     "duration": 0.022059,
     "end_time": "2023-08-25T11:16:47.758084",
     "exception": false,
     "start_time": "2023-08-25T11:16:47.736025",
     "status": "completed"
    },
    "tags": []
   },
   "source": [
    "We can see that there are some rare titles such as Col, the Coutess and so on af if for nobility and people with some rankings. We will group these titles together"
   ]
  },
  {
   "cell_type": "code",
   "execution_count": 12,
   "id": "f6367cf5",
   "metadata": {
    "execution": {
     "iopub.execute_input": "2023-08-25T11:16:47.804445Z",
     "iopub.status.busy": "2023-08-25T11:16:47.803973Z",
     "iopub.status.idle": "2023-08-25T11:16:48.134167Z",
     "shell.execute_reply": "2023-08-25T11:16:48.132856Z"
    },
    "papermill": {
     "duration": 0.356704,
     "end_time": "2023-08-25T11:16:48.136972",
     "exception": false,
     "start_time": "2023-08-25T11:16:47.780268",
     "status": "completed"
    },
    "tags": []
   },
   "outputs": [
    {
     "data": {
      "image/png": "[encoded data removed]",
      "text/plain": [
       "<Figure size 640x480 with 1 Axes>"
      ]
     },
     "metadata": {},
     "output_type": "display_data"
    }
   ],
   "source": [
    "train['title'] = train['title'].replace(['Lady', 'the Countess', 'Countess', 'Capt', 'Col', 'Don', 'Dr', 'Major', 'Rev', 'Sir', 'Jonkheer', 'Dona'], 'Rare')\n",
    "\n",
    "train['title'] = train['title'].replace(['Miss', 'Ms', 'Mlle'],'Ms')\n",
    "train['title'] = train['title'].replace(['Mrs', 'Mme'], 'Mrs')\n",
    "\n",
    "train['title'].value_counts().plot(kind = 'bar', width = 0.3)\n",
    "plt.title(\"Distribution of title\")\n",
    "plt.ylabel('Count')\n",
    "plt.show()"
   ]
  },
  {
   "cell_type": "code",
   "execution_count": 13,
   "id": "9e569d51",
   "metadata": {
    "execution": {
     "iopub.execute_input": "2023-08-25T11:16:48.183838Z",
     "iopub.status.busy": "2023-08-25T11:16:48.183412Z",
     "iopub.status.idle": "2023-08-25T11:16:48.207722Z",
     "shell.execute_reply": "2023-08-25T11:16:48.206571Z"
    },
    "papermill": {
     "duration": 0.05136,
     "end_time": "2023-08-25T11:16:48.210850",
     "exception": false,
     "start_time": "2023-08-25T11:16:48.159490",
     "status": "completed"
    },
    "tags": []
   },
   "outputs": [],
   "source": [
    "# fill up the age using the title based median\n",
    "train.loc[(train['title'] == 'Mr') & (train['Age'].isnull()), 'Age'] = train[train['title'] == 'Mr']['Age'].median()\n",
    "train.loc[(train['title'] == 'Ms') & (train['Age'].isnull()), 'Age'] = train[train['title'] == 'Ms']['Age'].median()\n",
    "train.loc[(train['title'] == 'Mrs') & (train['Age'].isnull()), 'Age'] = train[train['title'] == 'Mrs']['Age'].median()\n",
    "train.loc[(train['title'] == 'Master') & (train['Age'].isnull()), 'Age'] = train[train['title'] == 'Master']['Age'].median()\n",
    "train.loc[(train['title'] == 'Rare') & (train['Age'].isnull()), 'Age'] = train[train['title'] == 'Rare']['Age'].median()"
   ]
  },
  {
   "cell_type": "code",
   "execution_count": 14,
   "id": "9e53ab15",
   "metadata": {
    "execution": {
     "iopub.execute_input": "2023-08-25T11:16:48.257693Z",
     "iopub.status.busy": "2023-08-25T11:16:48.257245Z",
     "iopub.status.idle": "2023-08-25T11:16:48.265404Z",
     "shell.execute_reply": "2023-08-25T11:16:48.264212Z"
    },
    "papermill": {
     "duration": 0.034604,
     "end_time": "2023-08-25T11:16:48.267980",
     "exception": false,
     "start_time": "2023-08-25T11:16:48.233376",
     "status": "completed"
    },
    "tags": []
   },
   "outputs": [
    {
     "data": {
      "text/plain": [
       "0"
      ]
     },
     "execution_count": 14,
     "metadata": {},
     "output_type": "execute_result"
    }
   ],
   "source": [
    "train['Age'].isnull().sum()"
   ]
  },
  {
   "cell_type": "code",
   "execution_count": 15,
   "id": "e9ba5f9b",
   "metadata": {
    "execution": {
     "iopub.execute_input": "2023-08-25T11:16:48.315119Z",
     "iopub.status.busy": "2023-08-25T11:16:48.314720Z",
     "iopub.status.idle": "2023-08-25T11:16:48.325935Z",
     "shell.execute_reply": "2023-08-25T11:16:48.324734Z"
    },
    "papermill": {
     "duration": 0.037852,
     "end_time": "2023-08-25T11:16:48.328363",
     "exception": false,
     "start_time": "2023-08-25T11:16:48.290511",
     "status": "completed"
    },
    "tags": []
   },
   "outputs": [
    {
     "data": {
      "text/plain": [
       "PassengerId      0\n",
       "Survived         0\n",
       "Pclass           0\n",
       "Name             0\n",
       "Sex              0\n",
       "Age              0\n",
       "SibSp            0\n",
       "Parch            0\n",
       "Ticket           0\n",
       "Fare             0\n",
       "Cabin          687\n",
       "Embarked         2\n",
       "title            0\n",
       "dtype: int64"
      ]
     },
     "execution_count": 15,
     "metadata": {},
     "output_type": "execute_result"
    }
   ],
   "source": [
    "# check for other columsn with null\n",
    "train.isnull().sum()"
   ]
  },
  {
   "cell_type": "markdown",
   "id": "01da275b",
   "metadata": {
    "papermill": {
     "duration": 0.022732,
     "end_time": "2023-08-25T11:16:48.373844",
     "exception": false,
     "start_time": "2023-08-25T11:16:48.351112",
     "status": "completed"
    },
    "tags": []
   },
   "source": [
    "- How to fill up the cabin empty cells\n",
    "    - There are more first class ticket fare\n",
    "    - Since first class ticket cost more, the passengers will recieve more quality and safety ride"
   ]
  },
  {
   "cell_type": "code",
   "execution_count": 16,
   "id": "9faa005a",
   "metadata": {
    "execution": {
     "iopub.execute_input": "2023-08-25T11:16:48.421246Z",
     "iopub.status.busy": "2023-08-25T11:16:48.420827Z",
     "iopub.status.idle": "2023-08-25T11:16:48.454900Z",
     "shell.execute_reply": "2023-08-25T11:16:48.453606Z"
    },
    "papermill": {
     "duration": 0.06081,
     "end_time": "2023-08-25T11:16:48.457453",
     "exception": false,
     "start_time": "2023-08-25T11:16:48.396643",
     "status": "completed"
    },
    "tags": []
   },
   "outputs": [
    {
     "data": {
      "text/html": [
       "<div>\n",
       "<style scoped>\n",
       "    .dataframe tbody tr th:only-of-type {\n",
       "        vertical-align: middle;\n",
       "    }\n",
       "\n",
       "    .dataframe tbody tr th {\n",
       "        vertical-align: top;\n",
       "    }\n",
       "\n",
       "    .dataframe thead th {\n",
       "        text-align: right;\n",
       "    }\n",
       "</style>\n",
       "<table border=\"1\" class=\"dataframe\">\n",
       "  <thead>\n",
       "    <tr style=\"text-align: right;\">\n",
       "      <th></th>\n",
       "      <th>Class 1</th>\n",
       "      <th>Class 2</th>\n",
       "      <th>Class 3</th>\n",
       "    </tr>\n",
       "  </thead>\n",
       "  <tbody>\n",
       "    <tr>\n",
       "      <th>count</th>\n",
       "      <td>216.000000</td>\n",
       "      <td>184.000000</td>\n",
       "      <td>491.000000</td>\n",
       "    </tr>\n",
       "    <tr>\n",
       "      <th>mean</th>\n",
       "      <td>84.154687</td>\n",
       "      <td>20.662183</td>\n",
       "      <td>13.675550</td>\n",
       "    </tr>\n",
       "    <tr>\n",
       "      <th>std</th>\n",
       "      <td>78.380373</td>\n",
       "      <td>13.417399</td>\n",
       "      <td>11.778142</td>\n",
       "    </tr>\n",
       "    <tr>\n",
       "      <th>min</th>\n",
       "      <td>0.000000</td>\n",
       "      <td>0.000000</td>\n",
       "      <td>0.000000</td>\n",
       "    </tr>\n",
       "    <tr>\n",
       "      <th>25%</th>\n",
       "      <td>30.923950</td>\n",
       "      <td>13.000000</td>\n",
       "      <td>7.750000</td>\n",
       "    </tr>\n",
       "    <tr>\n",
       "      <th>50%</th>\n",
       "      <td>60.287500</td>\n",
       "      <td>14.250000</td>\n",
       "      <td>8.050000</td>\n",
       "    </tr>\n",
       "    <tr>\n",
       "      <th>75%</th>\n",
       "      <td>93.500000</td>\n",
       "      <td>26.000000</td>\n",
       "      <td>15.500000</td>\n",
       "    </tr>\n",
       "    <tr>\n",
       "      <th>max</th>\n",
       "      <td>512.329200</td>\n",
       "      <td>73.500000</td>\n",
       "      <td>69.550000</td>\n",
       "    </tr>\n",
       "  </tbody>\n",
       "</table>\n",
       "</div>"
      ],
      "text/plain": [
       "          Class 1     Class 2     Class 3\n",
       "count  216.000000  184.000000  491.000000\n",
       "mean    84.154687   20.662183   13.675550\n",
       "std     78.380373   13.417399   11.778142\n",
       "min      0.000000    0.000000    0.000000\n",
       "25%     30.923950   13.000000    7.750000\n",
       "50%     60.287500   14.250000    8.050000\n",
       "75%     93.500000   26.000000   15.500000\n",
       "max    512.329200   73.500000   69.550000"
      ]
     },
     "execution_count": 16,
     "metadata": {},
     "output_type": "execute_result"
    }
   ],
   "source": [
    "new1 = pd.Series(train.loc[train['Pclass'] == 1]['Fare'])\n",
    "new2 = pd.Series(train.loc[train['Pclass'] == 2]['Fare'])\n",
    "new3 = pd.Series(train.loc[train['Pclass'] == 3]['Fare'])\n",
    "\n",
    "new_t = pd.DataFrame(\n",
    "    {'Class 1': new1,\n",
    "    'Class 2': new2,\n",
    "    'Class 3': new3,}\n",
    "                    )\n",
    "new_t.describe()"
   ]
  },
  {
   "cell_type": "code",
   "execution_count": 17,
   "id": "43a7206f",
   "metadata": {
    "execution": {
     "iopub.execute_input": "2023-08-25T11:16:48.505900Z",
     "iopub.status.busy": "2023-08-25T11:16:48.505049Z",
     "iopub.status.idle": "2023-08-25T11:16:48.516037Z",
     "shell.execute_reply": "2023-08-25T11:16:48.514937Z"
    },
    "papermill": {
     "duration": 0.037729,
     "end_time": "2023-08-25T11:16:48.518330",
     "exception": false,
     "start_time": "2023-08-25T11:16:48.480601",
     "status": "completed"
    },
    "tags": []
   },
   "outputs": [
    {
     "data": {
      "text/plain": [
       "1    136\n",
       "0     80\n",
       "Name: Survived, dtype: int64"
      ]
     },
     "execution_count": 17,
     "metadata": {},
     "output_type": "execute_result"
    }
   ],
   "source": [
    "p1_survival = train[(train['Pclass'] == 1) & (train['Fare'] <= 512.329200)]\n",
    "p1_survival['Survived'].value_counts()"
   ]
  },
  {
   "cell_type": "code",
   "execution_count": 18,
   "id": "dc3f72a1",
   "metadata": {
    "execution": {
     "iopub.execute_input": "2023-08-25T11:16:48.567253Z",
     "iopub.status.busy": "2023-08-25T11:16:48.566768Z",
     "iopub.status.idle": "2023-08-25T11:16:48.588856Z",
     "shell.execute_reply": "2023-08-25T11:16:48.587552Z"
    },
    "papermill": {
     "duration": 0.049807,
     "end_time": "2023-08-25T11:16:48.591682",
     "exception": false,
     "start_time": "2023-08-25T11:16:48.541875",
     "status": "completed"
    },
    "tags": []
   },
   "outputs": [
    {
     "data": {
      "text/html": [
       "<div>\n",
       "<style scoped>\n",
       "    .dataframe tbody tr th:only-of-type {\n",
       "        vertical-align: middle;\n",
       "    }\n",
       "\n",
       "    .dataframe tbody tr th {\n",
       "        vertical-align: top;\n",
       "    }\n",
       "\n",
       "    .dataframe thead th {\n",
       "        text-align: right;\n",
       "    }\n",
       "</style>\n",
       "<table border=\"1\" class=\"dataframe\">\n",
       "  <thead>\n",
       "    <tr style=\"text-align: right;\">\n",
       "      <th></th>\n",
       "      <th>PassengerId</th>\n",
       "      <th>Survived</th>\n",
       "      <th>Pclass</th>\n",
       "      <th>Name</th>\n",
       "      <th>Sex</th>\n",
       "      <th>Age</th>\n",
       "      <th>SibSp</th>\n",
       "      <th>Parch</th>\n",
       "      <th>Ticket</th>\n",
       "      <th>Fare</th>\n",
       "      <th>Cabin</th>\n",
       "      <th>Embarked</th>\n",
       "      <th>title</th>\n",
       "    </tr>\n",
       "  </thead>\n",
       "  <tbody>\n",
       "    <tr>\n",
       "      <th>1</th>\n",
       "      <td>2</td>\n",
       "      <td>1</td>\n",
       "      <td>1</td>\n",
       "      <td>Cumings, Mrs. John Bradley (Florence Briggs Th...</td>\n",
       "      <td>female</td>\n",
       "      <td>38.0</td>\n",
       "      <td>1</td>\n",
       "      <td>0</td>\n",
       "      <td>PC 17599</td>\n",
       "      <td>71.2833</td>\n",
       "      <td>C85</td>\n",
       "      <td>C</td>\n",
       "      <td>Mrs</td>\n",
       "    </tr>\n",
       "    <tr>\n",
       "      <th>3</th>\n",
       "      <td>4</td>\n",
       "      <td>1</td>\n",
       "      <td>1</td>\n",
       "      <td>Futrelle, Mrs. Jacques Heath (Lily May Peel)</td>\n",
       "      <td>female</td>\n",
       "      <td>35.0</td>\n",
       "      <td>1</td>\n",
       "      <td>0</td>\n",
       "      <td>113803</td>\n",
       "      <td>53.1000</td>\n",
       "      <td>C123</td>\n",
       "      <td>S</td>\n",
       "      <td>Mrs</td>\n",
       "    </tr>\n",
       "    <tr>\n",
       "      <th>6</th>\n",
       "      <td>7</td>\n",
       "      <td>0</td>\n",
       "      <td>1</td>\n",
       "      <td>McCarthy, Mr. Timothy J</td>\n",
       "      <td>male</td>\n",
       "      <td>54.0</td>\n",
       "      <td>0</td>\n",
       "      <td>0</td>\n",
       "      <td>17463</td>\n",
       "      <td>51.8625</td>\n",
       "      <td>E46</td>\n",
       "      <td>S</td>\n",
       "      <td>Mr</td>\n",
       "    </tr>\n",
       "    <tr>\n",
       "      <th>11</th>\n",
       "      <td>12</td>\n",
       "      <td>1</td>\n",
       "      <td>1</td>\n",
       "      <td>Bonnell, Miss. Elizabeth</td>\n",
       "      <td>female</td>\n",
       "      <td>58.0</td>\n",
       "      <td>0</td>\n",
       "      <td>0</td>\n",
       "      <td>113783</td>\n",
       "      <td>26.5500</td>\n",
       "      <td>C103</td>\n",
       "      <td>S</td>\n",
       "      <td>Ms</td>\n",
       "    </tr>\n",
       "    <tr>\n",
       "      <th>23</th>\n",
       "      <td>24</td>\n",
       "      <td>1</td>\n",
       "      <td>1</td>\n",
       "      <td>Sloper, Mr. William Thompson</td>\n",
       "      <td>male</td>\n",
       "      <td>28.0</td>\n",
       "      <td>0</td>\n",
       "      <td>0</td>\n",
       "      <td>113788</td>\n",
       "      <td>35.5000</td>\n",
       "      <td>A6</td>\n",
       "      <td>S</td>\n",
       "      <td>Mr</td>\n",
       "    </tr>\n",
       "  </tbody>\n",
       "</table>\n",
       "</div>"
      ],
      "text/plain": [
       "    PassengerId  Survived  Pclass  \\\n",
       "1             2         1       1   \n",
       "3             4         1       1   \n",
       "6             7         0       1   \n",
       "11           12         1       1   \n",
       "23           24         1       1   \n",
       "\n",
       "                                                 Name     Sex   Age  SibSp  \\\n",
       "1   Cumings, Mrs. John Bradley (Florence Briggs Th...  female  38.0      1   \n",
       "3        Futrelle, Mrs. Jacques Heath (Lily May Peel)  female  35.0      1   \n",
       "6                             McCarthy, Mr. Timothy J    male  54.0      0   \n",
       "11                           Bonnell, Miss. Elizabeth  female  58.0      0   \n",
       "23                       Sloper, Mr. William Thompson    male  28.0      0   \n",
       "\n",
       "    Parch    Ticket     Fare Cabin Embarked title  \n",
       "1       0  PC 17599  71.2833   C85        C   Mrs  \n",
       "3       0    113803  53.1000  C123        S   Mrs  \n",
       "6       0     17463  51.8625   E46        S    Mr  \n",
       "11      0    113783  26.5500  C103        S    Ms  \n",
       "23      0    113788  35.5000    A6        S    Mr  "
      ]
     },
     "execution_count": 18,
     "metadata": {},
     "output_type": "execute_result"
    }
   ],
   "source": [
    "p1_survival.head()"
   ]
  },
  {
   "cell_type": "code",
   "execution_count": 19,
   "id": "b32ec9b8",
   "metadata": {
    "execution": {
     "iopub.execute_input": "2023-08-25T11:16:48.643263Z",
     "iopub.status.busy": "2023-08-25T11:16:48.642535Z",
     "iopub.status.idle": "2023-08-25T11:16:48.656973Z",
     "shell.execute_reply": "2023-08-25T11:16:48.655554Z"
    },
    "papermill": {
     "duration": 0.043572,
     "end_time": "2023-08-25T11:16:48.659742",
     "exception": false,
     "start_time": "2023-08-25T11:16:48.616170",
     "status": "completed"
    },
    "tags": []
   },
   "outputs": [
    {
     "name": "stdout",
     "output_type": "stream",
     "text": [
      "21\n"
     ]
    }
   ],
   "source": [
    "# impute NaN values values equally distributed with cabins\n",
    "# based on first calss, high fare and first class passenger cabins\n",
    "# who were died in 1st class\n",
    "\n",
    "p1_died_null_cabin = p1_survival[(p1_survival['Survived'] == 0) & (p1_survival['Cabin'].isnull())]\n",
    "print(len(p1_died_null_cabin))\n",
    "\n",
    "for i in p1_died_null_cabin.index.to_list():\n",
    "    if i <= 5:\n",
    "        train.loc[i, 'Cabin'] = 'C30'\n",
    "    elif (i > 5) & (i <= 10):\n",
    "        train.loc[i, 'Cabin'] = 'C110'\n",
    "    elif (i > 10) & (i <= 15):\n",
    "        train.loc[i, 'Cabin'] = 'B94'\n",
    "    else:\n",
    "        train.loc[i, 'Cabin'] = 'E44'"
   ]
  },
  {
   "cell_type": "code",
   "execution_count": 20,
   "id": "3b23c3a0",
   "metadata": {
    "execution": {
     "iopub.execute_input": "2023-08-25T11:16:48.709422Z",
     "iopub.status.busy": "2023-08-25T11:16:48.708984Z",
     "iopub.status.idle": "2023-08-25T11:16:48.721177Z",
     "shell.execute_reply": "2023-08-25T11:16:48.719788Z"
    },
    "papermill": {
     "duration": 0.041075,
     "end_time": "2023-08-25T11:16:48.724710",
     "exception": false,
     "start_time": "2023-08-25T11:16:48.683635",
     "status": "completed"
    },
    "tags": []
   },
   "outputs": [
    {
     "name": "stdout",
     "output_type": "stream",
     "text": [
      "19\n"
     ]
    }
   ],
   "source": [
    "p1_alive_null_cabin = p1_survival[(p1_survival['Survived'] ==1) & (p1_survival['Cabin'].isnull())]\n",
    "for i in p1_alive_null_cabin.index.to_list():\n",
    "    if i>=5:\n",
    "        train.loc[i,'Cabin'] = 'B96 B98'\n",
    "    elif (i>5) & (i<=10):\n",
    "        train.loc[i,'Cabin'] = 'E40'\n",
    "    elif (i>10) & (i<=15):\n",
    "        train.loc[i,'Cabin'] = 'E34'\n",
    "    else:\n",
    "        train.loc[i,'Cabin'] = 'C7'\n",
    "        \n",
    "print(len(p1_alive_null_cabin))"
   ]
  },
  {
   "cell_type": "code",
   "execution_count": 21,
   "id": "08575e4e",
   "metadata": {
    "execution": {
     "iopub.execute_input": "2023-08-25T11:16:48.776274Z",
     "iopub.status.busy": "2023-08-25T11:16:48.775857Z",
     "iopub.status.idle": "2023-08-25T11:16:48.790057Z",
     "shell.execute_reply": "2023-08-25T11:16:48.788854Z"
    },
    "papermill": {
     "duration": 0.043281,
     "end_time": "2023-08-25T11:16:48.793062",
     "exception": false,
     "start_time": "2023-08-25T11:16:48.749781",
     "status": "completed"
    },
    "tags": []
   },
   "outputs": [
    {
     "name": "stdout",
     "output_type": "stream",
     "text": [
      "0    97\n",
      "1    87\n",
      "Name: Survived, dtype: int64\n",
      "F2     1\n",
      "D      1\n",
      "E77    1\n",
      "Name: Cabin, dtype: int64\n",
      "F33     3\n",
      "E101    3\n",
      "F4      2\n",
      "F2      2\n",
      "D       2\n",
      "D56     1\n",
      "Name: Cabin, dtype: int64\n"
     ]
    }
   ],
   "source": [
    "# impute NaN values values equally distributed with cabins\n",
    "# based on first calss, high fare and 2nd class passenger cabins\n",
    "# who were died in 2nd class\n",
    "\n",
    "p2_survival = train[(train['Pclass'] == 2) & (train['Fare'] <= 73.500000)]\n",
    "print(p2_survival['Survived'].value_counts())\n",
    "print(p2_survival[p2_survival['Survived'] == 0]['Cabin'].value_counts())\n",
    "print(p2_survival[p2_survival['Survived'] == 1]['Cabin'].value_counts())"
   ]
  },
  {
   "cell_type": "code",
   "execution_count": 22,
   "id": "ea6bc342",
   "metadata": {
    "execution": {
     "iopub.execute_input": "2023-08-25T11:16:48.844156Z",
     "iopub.status.busy": "2023-08-25T11:16:48.843756Z",
     "iopub.status.idle": "2023-08-25T11:16:48.866705Z",
     "shell.execute_reply": "2023-08-25T11:16:48.865319Z"
    },
    "papermill": {
     "duration": 0.051913,
     "end_time": "2023-08-25T11:16:48.869460",
     "exception": false,
     "start_time": "2023-08-25T11:16:48.817547",
     "status": "completed"
    },
    "tags": []
   },
   "outputs": [],
   "source": [
    "p2_died_null_cabin =p2_survival[(p2_survival['Survived'] == 0) & (p2_survival['Cabin'].isnull())]\n",
    "for i in p2_died_null_cabin.index.to_list():\n",
    "    if i<=61:\n",
    "        train.loc[i,'Cabin'] = 'F2'\n",
    "    elif (i>61) & (i<=122):\n",
    "        train.loc[i,'Cabin'] = 'D'\n",
    "    else:\n",
    "        train.loc[i,'Cabin'] = 'E77'"
   ]
  },
  {
   "cell_type": "code",
   "execution_count": 23,
   "id": "10b36949",
   "metadata": {
    "execution": {
     "iopub.execute_input": "2023-08-25T11:16:48.921193Z",
     "iopub.status.busy": "2023-08-25T11:16:48.920785Z",
     "iopub.status.idle": "2023-08-25T11:16:48.941837Z",
     "shell.execute_reply": "2023-08-25T11:16:48.940608Z"
    },
    "papermill": {
     "duration": 0.050095,
     "end_time": "2023-08-25T11:16:48.944568",
     "exception": false,
     "start_time": "2023-08-25T11:16:48.894473",
     "status": "completed"
    },
    "tags": []
   },
   "outputs": [],
   "source": [
    "p2_alive_null_cabin = p2_survival[(p2_survival['Survived'] == 1) & (p2_survival['Cabin'].isnull())]\n",
    "for i in p2_alive_null_cabin.index.to_list():\n",
    "    if i<=15:\n",
    "        train.loc[i,'Cabin'] = 'F33'\n",
    "    elif (i>15) & (i<=30):\n",
    "        train.loc[i,'Cabin'] = 'E101'\n",
    "    elif (i>30) & (i<=40):\n",
    "        train.loc[i,'Cabin'] = 'F4'\n",
    "    elif (i>40) & (i<=50):\n",
    "        train.loc[i,'Cabin'] = 'F2'\n",
    "    elif (i>50) & (i<=60):\n",
    "        train.loc[i,'Cabin'] = 'D'\n",
    "    else:\n",
    "        train.loc[i,'Cabin'] = 'D56'"
   ]
  },
  {
   "cell_type": "code",
   "execution_count": 24,
   "id": "edccc5bb",
   "metadata": {
    "execution": {
     "iopub.execute_input": "2023-08-25T11:16:48.994959Z",
     "iopub.status.busy": "2023-08-25T11:16:48.994060Z",
     "iopub.status.idle": "2023-08-25T11:16:49.007886Z",
     "shell.execute_reply": "2023-08-25T11:16:49.006889Z"
    },
    "papermill": {
     "duration": 0.04196,
     "end_time": "2023-08-25T11:16:49.010388",
     "exception": false,
     "start_time": "2023-08-25T11:16:48.968428",
     "status": "completed"
    },
    "tags": []
   },
   "outputs": [
    {
     "name": "stdout",
     "output_type": "stream",
     "text": [
      "0    372\n",
      "1    119\n",
      "Name: Survived, dtype: int64\n",
      "F G73    2\n",
      "G6       2\n",
      "F G63    1\n",
      "F38      1\n",
      "Name: Cabin, dtype: int64\n",
      "G6       2\n",
      "E121     2\n",
      "F E69    1\n",
      "E10      1\n",
      "Name: Cabin, dtype: int64\n"
     ]
    }
   ],
   "source": [
    "p3_survival = train[(train['Pclass'] == 3) & (train['Fare'] <= 69.550000)]\n",
    "print(p3_survival['Survived'].value_counts())\n",
    "print(p3_survival[p3_survival['Survived'] == 0]['Cabin'].value_counts())\n",
    "print(p3_survival[p3_survival['Survived'] == 1]['Cabin'].value_counts())"
   ]
  },
  {
   "cell_type": "code",
   "execution_count": 25,
   "id": "050de42b",
   "metadata": {
    "execution": {
     "iopub.execute_input": "2023-08-25T11:16:49.062064Z",
     "iopub.status.busy": "2023-08-25T11:16:49.060714Z",
     "iopub.status.idle": "2023-08-25T11:16:49.115430Z",
     "shell.execute_reply": "2023-08-25T11:16:49.113916Z"
    },
    "papermill": {
     "duration": 0.083658,
     "end_time": "2023-08-25T11:16:49.118694",
     "exception": false,
     "start_time": "2023-08-25T11:16:49.035036",
     "status": "completed"
    },
    "tags": []
   },
   "outputs": [],
   "source": [
    "p3_died_null_cabin = p3_survival[(p3_survival['Survived'] == 0) & (p3_survival['Cabin'].isnull())]\n",
    "for i in p3_died_null_cabin.index.to_list():\n",
    "    if i<=122:\n",
    "        train.loc[i,\"Cabin\"]=\"G6\"\n",
    "    elif (i>122) & (i<=244):\n",
    "        train.loc[i,'Cabin']='G6'\n",
    "    elif (i>244) & (i<=305):\n",
    "        train.loc[i,'Cabin']='F G63'\n",
    "    else:\n",
    "        train.loc[i,'Cabin']='F38'"
   ]
  },
  {
   "cell_type": "code",
   "execution_count": 26,
   "id": "dd47a4d5",
   "metadata": {
    "execution": {
     "iopub.execute_input": "2023-08-25T11:16:49.170522Z",
     "iopub.status.busy": "2023-08-25T11:16:49.170048Z",
     "iopub.status.idle": "2023-08-25T11:16:49.194876Z",
     "shell.execute_reply": "2023-08-25T11:16:49.193581Z"
    },
    "papermill": {
     "duration": 0.054934,
     "end_time": "2023-08-25T11:16:49.198219",
     "exception": false,
     "start_time": "2023-08-25T11:16:49.143285",
     "status": "completed"
    },
    "tags": []
   },
   "outputs": [],
   "source": [
    "p3_alive_null_cabin = p3_survival[(p3_survival['Survived'] == 1) & (p3_survival['Cabin'].isnull())]\n",
    "for i in p3_alive_null_cabin.index.to_list():\n",
    "    if i<=38:\n",
    "        train.loc[i,\"Cabin\"]=\"F G73\"\n",
    "    elif (i>38) & (i<=76):\n",
    "        train.loc[i,'Cabin']='E121'\n",
    "    elif (i>76) & (i<=95):\n",
    "        train.loc[i,'Cabin']='F E69'\n",
    "    else:\n",
    "        train.loc[i,'Cabin']='E10'"
   ]
  },
  {
   "cell_type": "code",
   "execution_count": 27,
   "id": "78f6d789",
   "metadata": {
    "execution": {
     "iopub.execute_input": "2023-08-25T11:16:49.253318Z",
     "iopub.status.busy": "2023-08-25T11:16:49.252860Z",
     "iopub.status.idle": "2023-08-25T11:16:49.265649Z",
     "shell.execute_reply": "2023-08-25T11:16:49.264305Z"
    },
    "papermill": {
     "duration": 0.042805,
     "end_time": "2023-08-25T11:16:49.269048",
     "exception": false,
     "start_time": "2023-08-25T11:16:49.226243",
     "status": "completed"
    },
    "tags": []
   },
   "outputs": [
    {
     "data": {
      "text/plain": [
       "PassengerId    0\n",
       "Survived       0\n",
       "Pclass         0\n",
       "Name           0\n",
       "Sex            0\n",
       "Age            0\n",
       "SibSp          0\n",
       "Parch          0\n",
       "Ticket         0\n",
       "Fare           0\n",
       "Cabin          0\n",
       "Embarked       2\n",
       "title          0\n",
       "dtype: int64"
      ]
     },
     "execution_count": 27,
     "metadata": {},
     "output_type": "execute_result"
    }
   ],
   "source": [
    "# verify null columns\n",
    "train.isnull().sum()"
   ]
  },
  {
   "cell_type": "code",
   "execution_count": 28,
   "id": "eacc85f8",
   "metadata": {
    "execution": {
     "iopub.execute_input": "2023-08-25T11:16:49.320445Z",
     "iopub.status.busy": "2023-08-25T11:16:49.319950Z",
     "iopub.status.idle": "2023-08-25T11:16:49.330139Z",
     "shell.execute_reply": "2023-08-25T11:16:49.328861Z"
    },
    "papermill": {
     "duration": 0.039186,
     "end_time": "2023-08-25T11:16:49.332769",
     "exception": false,
     "start_time": "2023-08-25T11:16:49.293583",
     "status": "completed"
    },
    "tags": []
   },
   "outputs": [
    {
     "data": {
      "text/plain": [
       "S    644\n",
       "C    168\n",
       "Q     77\n",
       "Name: Embarked, dtype: int64"
      ]
     },
     "execution_count": 28,
     "metadata": {},
     "output_type": "execute_result"
    }
   ],
   "source": [
    "train['Embarked'].value_counts()"
   ]
  },
  {
   "cell_type": "code",
   "execution_count": 29,
   "id": "c1d5065d",
   "metadata": {
    "execution": {
     "iopub.execute_input": "2023-08-25T11:16:49.383856Z",
     "iopub.status.busy": "2023-08-25T11:16:49.383450Z",
     "iopub.status.idle": "2023-08-25T11:16:49.396456Z",
     "shell.execute_reply": "2023-08-25T11:16:49.395080Z"
    },
    "papermill": {
     "duration": 0.041714,
     "end_time": "2023-08-25T11:16:49.399228",
     "exception": false,
     "start_time": "2023-08-25T11:16:49.357514",
     "status": "completed"
    },
    "tags": []
   },
   "outputs": [
    {
     "data": {
      "text/plain": [
       "PassengerId    0\n",
       "Survived       0\n",
       "Pclass         0\n",
       "Name           0\n",
       "Sex            0\n",
       "Age            0\n",
       "SibSp          0\n",
       "Parch          0\n",
       "Ticket         0\n",
       "Fare           0\n",
       "Cabin          0\n",
       "Embarked       0\n",
       "title          0\n",
       "dtype: int64"
      ]
     },
     "execution_count": 29,
     "metadata": {},
     "output_type": "execute_result"
    }
   ],
   "source": [
    "# filling embarked null values with least onboarded location:\n",
    "train['Embarked'].replace(np.nan,'Q',inplace=True)\n",
    "train.isnull().sum()"
   ]
  },
  {
   "cell_type": "code",
   "execution_count": 30,
   "id": "359f275f",
   "metadata": {
    "execution": {
     "iopub.execute_input": "2023-08-25T11:16:49.450686Z",
     "iopub.status.busy": "2023-08-25T11:16:49.450250Z",
     "iopub.status.idle": "2023-08-25T11:16:49.873828Z",
     "shell.execute_reply": "2023-08-25T11:16:49.872441Z"
    },
    "papermill": {
     "duration": 0.452871,
     "end_time": "2023-08-25T11:16:49.876811",
     "exception": false,
     "start_time": "2023-08-25T11:16:49.423940",
     "status": "completed"
    },
    "tags": []
   },
   "outputs": [
    {
     "data": {
      "image/png": "[encoded data removed]",
      "text/plain": [
       "<Figure size 800x400 with 2 Axes>"
      ]
     },
     "metadata": {},
     "output_type": "display_data"
    }
   ],
   "source": [
    "# outliers detection\n",
    "plt.figure(figsize=(8,4))\n",
    "plt.subplot(1,2,1)\n",
    "sns.boxplot(data=train,y='Age')\n",
    "plt.subplot(1,2,2)\n",
    "sns.boxplot(data=train,y='Fare')\n",
    "plt.tight_layout()\n",
    "plt.show()"
   ]
  },
  {
   "cell_type": "code",
   "execution_count": 31,
   "id": "9fce6a13",
   "metadata": {
    "execution": {
     "iopub.execute_input": "2023-08-25T11:16:49.931240Z",
     "iopub.status.busy": "2023-08-25T11:16:49.930794Z",
     "iopub.status.idle": "2023-08-25T11:16:49.943000Z",
     "shell.execute_reply": "2023-08-25T11:16:49.941854Z"
    },
    "papermill": {
     "duration": 0.042522,
     "end_time": "2023-08-25T11:16:49.945571",
     "exception": false,
     "start_time": "2023-08-25T11:16:49.903049",
     "status": "completed"
    },
    "tags": []
   },
   "outputs": [
    {
     "data": {
      "text/plain": [
       "count    891.000000\n",
       "mean      29.392447\n",
       "std       13.268389\n",
       "min        0.420000\n",
       "25%       21.000000\n",
       "50%       30.000000\n",
       "75%       35.000000\n",
       "max       80.000000\n",
       "Name: Age, dtype: float64"
      ]
     },
     "execution_count": 31,
     "metadata": {},
     "output_type": "execute_result"
    }
   ],
   "source": [
    "train['Age'].describe()"
   ]
  },
  {
   "cell_type": "code",
   "execution_count": 32,
   "id": "a4eab9f9",
   "metadata": {
    "execution": {
     "iopub.execute_input": "2023-08-25T11:16:49.998066Z",
     "iopub.status.busy": "2023-08-25T11:16:49.997620Z",
     "iopub.status.idle": "2023-08-25T11:16:52.742247Z",
     "shell.execute_reply": "2023-08-25T11:16:52.741191Z"
    },
    "papermill": {
     "duration": 2.774685,
     "end_time": "2023-08-25T11:16:52.745807",
     "exception": false,
     "start_time": "2023-08-25T11:16:49.971122",
     "status": "completed"
    },
    "tags": []
   },
   "outputs": [
    {
     "data": {
      "text/plain": [
       "Text(0.5, 1.0, '6. Distribution of survival with respect to Pclass')"
      ]
     },
     "execution_count": 32,
     "metadata": {},
     "output_type": "execute_result"
    },
    {
     "data": {
      "image/png": "[encoded data removed]",
      "text/plain": [
       "<Figure size 1600x1200 with 6 Axes>"
      ]
     },
     "metadata": {},
     "output_type": "display_data"
    }
   ],
   "source": [
    "# predictor and target variable\n",
    "sns.set(style=\"whitegrid\") \n",
    "plt.figure(figsize=(16,12))\n",
    "\n",
    "# sex vs survival rate:\n",
    "plt.subplot(2,3,1)\n",
    "sns.countplot(train,x='Survived',hue='Sex',palette='tab20',width=0.3)\n",
    "plt.title('1. Survival Count by Sex')\n",
    "\n",
    "# Passenger class vs survival rate:\n",
    "plt.subplot(2,3,2)\n",
    "sns.countplot(x=\"Survived\", hue=\"Pclass\", data=train, palette=\"tab20\",width=0.5)\n",
    "plt.title('2. Survival Count by Pclass')\n",
    "\n",
    "# Siblings vs survival rate:\n",
    "plt.subplot(2,3,3)\n",
    "sns.countplot(x=\"Survived\", hue=\"Embarked\", data=train, palette=\"tab20\",width=0.5)\n",
    "plt.title('3. Survival Count by onboarding location')\n",
    "\n",
    "# Onboarding location vs survival rate:\n",
    "plt.subplot(2,3,4)\n",
    "sns.histplot(data=train,x='Age',hue='Survived',bins=8,multiple='stack',kde=True, palette='Set1')\n",
    "plt.title('4. Distribution of survival with respect to Age')\n",
    "\n",
    "# Age vs survival rate:\n",
    "plt.subplot(2,3,5)\n",
    "sns.histplot(data=train, x=\"Fare\", hue=\"Survived\", bins=10,multiple='stack',kde=True,palette='Set1')\n",
    "plt.title('5. Distribution of survival with respect to Fare')\n",
    "\n",
    "# Ticket Fare vs survival rate:\n",
    "plt.subplot(2,3,6)\n",
    "sns.histplot(train, x='Age', hue='Pclass',bins=8,multiple='stack',kde=True,palette='Set1')\n",
    "plt.title('6. Distribution of survival with respect to Pclass')"
   ]
  },
  {
   "cell_type": "code",
   "execution_count": 33,
   "id": "eddc15cf",
   "metadata": {
    "execution": {
     "iopub.execute_input": "2023-08-25T11:16:52.803401Z",
     "iopub.status.busy": "2023-08-25T11:16:52.802556Z",
     "iopub.status.idle": "2023-08-25T11:17:03.735636Z",
     "shell.execute_reply": "2023-08-25T11:17:03.734201Z"
    },
    "papermill": {
     "duration": 10.965576,
     "end_time": "2023-08-25T11:17:03.738830",
     "exception": false,
     "start_time": "2023-08-25T11:16:52.773254",
     "status": "completed"
    },
    "tags": []
   },
   "outputs": [
    {
     "name": "stderr",
     "output_type": "stream",
     "text": [
      "/opt/conda/lib/python3.10/site-packages/seaborn/categorical.py:3544: UserWarning: 12.9% of the points cannot be placed; you may want to decrease the size of the markers or use stripplot.\n",
      "  warnings.warn(msg, UserWarning)\n",
      "/opt/conda/lib/python3.10/site-packages/seaborn/axisgrid.py:118: UserWarning: The figure layout has changed to tight\n",
      "  self._figure.tight_layout(*args, **kwargs)\n",
      "/opt/conda/lib/python3.10/site-packages/seaborn/categorical.py:3544: UserWarning: 22.2% of the points cannot be placed; you may want to decrease the size of the markers or use stripplot.\n",
      "  warnings.warn(msg, UserWarning)\n",
      "/opt/conda/lib/python3.10/site-packages/seaborn/categorical.py:3544: UserWarning: 20.8% of the points cannot be placed; you may want to decrease the size of the markers or use stripplot.\n",
      "  warnings.warn(msg, UserWarning)\n"
     ]
    },
    {
     "data": {
      "text/plain": [
       "<seaborn.axisgrid.FacetGrid at 0x7fe105a47580>"
      ]
     },
     "execution_count": 33,
     "metadata": {},
     "output_type": "execute_result"
    },
    {
     "name": "stderr",
     "output_type": "stream",
     "text": [
      "/opt/conda/lib/python3.10/site-packages/seaborn/categorical.py:3544: UserWarning: 22.0% of the points cannot be placed; you may want to decrease the size of the markers or use stripplot.\n",
      "  warnings.warn(msg, UserWarning)\n"
     ]
    },
    {
     "data": {
      "image/png": "[encoded data removed]",
      "text/plain": [
       "<Figure size 664.75x600 with 1 Axes>"
      ]
     },
     "metadata": {},
     "output_type": "display_data"
    }
   ],
   "source": [
    "sns.catplot(train,x='Survived',y='Age',hue='Pclass',kind='swarm',height=6,palette='copper')"
   ]
  },
  {
   "cell_type": "code",
   "execution_count": 34,
   "id": "288b5d9c",
   "metadata": {
    "execution": {
     "iopub.execute_input": "2023-08-25T11:17:03.799492Z",
     "iopub.status.busy": "2023-08-25T11:17:03.799032Z",
     "iopub.status.idle": "2023-08-25T11:17:03.822982Z",
     "shell.execute_reply": "2023-08-25T11:17:03.821786Z"
    },
    "papermill": {
     "duration": 0.05733,
     "end_time": "2023-08-25T11:17:03.825570",
     "exception": false,
     "start_time": "2023-08-25T11:17:03.768240",
     "status": "completed"
    },
    "tags": []
   },
   "outputs": [
    {
     "data": {
      "text/html": [
       "<div>\n",
       "<style scoped>\n",
       "    .dataframe tbody tr th:only-of-type {\n",
       "        vertical-align: middle;\n",
       "    }\n",
       "\n",
       "    .dataframe tbody tr th {\n",
       "        vertical-align: top;\n",
       "    }\n",
       "\n",
       "    .dataframe thead th {\n",
       "        text-align: right;\n",
       "    }\n",
       "</style>\n",
       "<table border=\"1\" class=\"dataframe\">\n",
       "  <thead>\n",
       "    <tr style=\"text-align: right;\">\n",
       "      <th></th>\n",
       "      <th>PassengerId</th>\n",
       "      <th>Survived</th>\n",
       "      <th>Pclass</th>\n",
       "      <th>Name</th>\n",
       "      <th>Sex</th>\n",
       "      <th>Age</th>\n",
       "      <th>SibSp</th>\n",
       "      <th>Parch</th>\n",
       "      <th>Ticket</th>\n",
       "      <th>Fare</th>\n",
       "      <th>Cabin</th>\n",
       "      <th>Embarked</th>\n",
       "      <th>title</th>\n",
       "    </tr>\n",
       "  </thead>\n",
       "  <tbody>\n",
       "    <tr>\n",
       "      <th>0</th>\n",
       "      <td>1</td>\n",
       "      <td>0</td>\n",
       "      <td>3</td>\n",
       "      <td>Braund, Mr. Owen Harris</td>\n",
       "      <td>male</td>\n",
       "      <td>-0.571429</td>\n",
       "      <td>1</td>\n",
       "      <td>0</td>\n",
       "      <td>A/5 21171</td>\n",
       "      <td>-0.312011</td>\n",
       "      <td>G6</td>\n",
       "      <td>S</td>\n",
       "      <td>Mr</td>\n",
       "    </tr>\n",
       "    <tr>\n",
       "      <th>1</th>\n",
       "      <td>2</td>\n",
       "      <td>1</td>\n",
       "      <td>1</td>\n",
       "      <td>Cumings, Mrs. John Bradley (Florence Briggs Th...</td>\n",
       "      <td>female</td>\n",
       "      <td>0.571429</td>\n",
       "      <td>1</td>\n",
       "      <td>0</td>\n",
       "      <td>PC 17599</td>\n",
       "      <td>2.461242</td>\n",
       "      <td>C85</td>\n",
       "      <td>C</td>\n",
       "      <td>Mrs</td>\n",
       "    </tr>\n",
       "    <tr>\n",
       "      <th>2</th>\n",
       "      <td>3</td>\n",
       "      <td>1</td>\n",
       "      <td>3</td>\n",
       "      <td>Heikkinen, Miss. Laina</td>\n",
       "      <td>female</td>\n",
       "      <td>-0.285714</td>\n",
       "      <td>0</td>\n",
       "      <td>0</td>\n",
       "      <td>STON/O2. 3101282</td>\n",
       "      <td>-0.282777</td>\n",
       "      <td>F G73</td>\n",
       "      <td>S</td>\n",
       "      <td>Ms</td>\n",
       "    </tr>\n",
       "    <tr>\n",
       "      <th>3</th>\n",
       "      <td>4</td>\n",
       "      <td>1</td>\n",
       "      <td>1</td>\n",
       "      <td>Futrelle, Mrs. Jacques Heath (Lily May Peel)</td>\n",
       "      <td>female</td>\n",
       "      <td>0.357143</td>\n",
       "      <td>1</td>\n",
       "      <td>0</td>\n",
       "      <td>113803</td>\n",
       "      <td>1.673732</td>\n",
       "      <td>C123</td>\n",
       "      <td>S</td>\n",
       "      <td>Mrs</td>\n",
       "    </tr>\n",
       "    <tr>\n",
       "      <th>4</th>\n",
       "      <td>5</td>\n",
       "      <td>0</td>\n",
       "      <td>3</td>\n",
       "      <td>Allen, Mr. William Henry</td>\n",
       "      <td>male</td>\n",
       "      <td>0.357143</td>\n",
       "      <td>0</td>\n",
       "      <td>0</td>\n",
       "      <td>373450</td>\n",
       "      <td>-0.277363</td>\n",
       "      <td>G6</td>\n",
       "      <td>S</td>\n",
       "      <td>Mr</td>\n",
       "    </tr>\n",
       "  </tbody>\n",
       "</table>\n",
       "</div>"
      ],
      "text/plain": [
       "   PassengerId  Survived  Pclass  \\\n",
       "0            1         0       3   \n",
       "1            2         1       1   \n",
       "2            3         1       3   \n",
       "3            4         1       1   \n",
       "4            5         0       3   \n",
       "\n",
       "                                                Name     Sex       Age  SibSp  \\\n",
       "0                            Braund, Mr. Owen Harris    male -0.571429      1   \n",
       "1  Cumings, Mrs. John Bradley (Florence Briggs Th...  female  0.571429      1   \n",
       "2                             Heikkinen, Miss. Laina  female -0.285714      0   \n",
       "3       Futrelle, Mrs. Jacques Heath (Lily May Peel)  female  0.357143      1   \n",
       "4                           Allen, Mr. William Henry    male  0.357143      0   \n",
       "\n",
       "   Parch            Ticket      Fare  Cabin Embarked title  \n",
       "0      0         A/5 21171 -0.312011     G6        S    Mr  \n",
       "1      0          PC 17599  2.461242    C85        C   Mrs  \n",
       "2      0  STON/O2. 3101282 -0.282777  F G73        S    Ms  \n",
       "3      0            113803  1.673732   C123        S   Mrs  \n",
       "4      0            373450 -0.277363     G6        S    Mr  "
      ]
     },
     "execution_count": 34,
     "metadata": {},
     "output_type": "execute_result"
    }
   ],
   "source": [
    "# Scaling for numerical columns:\n",
    "col_headers=['Age','Fare']\n",
    "scl = RobustScaler()\n",
    "train[col_headers] = scl.fit_transform(train[col_headers])\n",
    "train.head()"
   ]
  },
  {
   "cell_type": "code",
   "execution_count": 35,
   "id": "6a8cb1e7",
   "metadata": {
    "execution": {
     "iopub.execute_input": "2023-08-25T11:17:03.888005Z",
     "iopub.status.busy": "2023-08-25T11:17:03.887592Z",
     "iopub.status.idle": "2023-08-25T11:17:03.916002Z",
     "shell.execute_reply": "2023-08-25T11:17:03.914695Z"
    },
    "papermill": {
     "duration": 0.062893,
     "end_time": "2023-08-25T11:17:03.919089",
     "exception": false,
     "start_time": "2023-08-25T11:17:03.856196",
     "status": "completed"
    },
    "tags": []
   },
   "outputs": [
    {
     "data": {
      "text/html": [
       "<div>\n",
       "<style scoped>\n",
       "    .dataframe tbody tr th:only-of-type {\n",
       "        vertical-align: middle;\n",
       "    }\n",
       "\n",
       "    .dataframe tbody tr th {\n",
       "        vertical-align: top;\n",
       "    }\n",
       "\n",
       "    .dataframe thead th {\n",
       "        text-align: right;\n",
       "    }\n",
       "</style>\n",
       "<table border=\"1\" class=\"dataframe\">\n",
       "  <thead>\n",
       "    <tr style=\"text-align: right;\">\n",
       "      <th></th>\n",
       "      <th>PassengerId</th>\n",
       "      <th>Survived</th>\n",
       "      <th>Pclass</th>\n",
       "      <th>Name</th>\n",
       "      <th>Sex</th>\n",
       "      <th>Age</th>\n",
       "      <th>SibSp</th>\n",
       "      <th>Parch</th>\n",
       "      <th>Ticket</th>\n",
       "      <th>Fare</th>\n",
       "      <th>Cabin</th>\n",
       "      <th>Embarked</th>\n",
       "      <th>title</th>\n",
       "    </tr>\n",
       "  </thead>\n",
       "  <tbody>\n",
       "    <tr>\n",
       "      <th>0</th>\n",
       "      <td>1</td>\n",
       "      <td>0</td>\n",
       "      <td>3</td>\n",
       "      <td>108</td>\n",
       "      <td>1</td>\n",
       "      <td>-0.571429</td>\n",
       "      <td>1</td>\n",
       "      <td>0</td>\n",
       "      <td>523</td>\n",
       "      <td>-0.312011</td>\n",
       "      <td>145</td>\n",
       "      <td>2</td>\n",
       "      <td>1</td>\n",
       "    </tr>\n",
       "    <tr>\n",
       "      <th>1</th>\n",
       "      <td>2</td>\n",
       "      <td>1</td>\n",
       "      <td>1</td>\n",
       "      <td>190</td>\n",
       "      <td>0</td>\n",
       "      <td>0.571429</td>\n",
       "      <td>1</td>\n",
       "      <td>0</td>\n",
       "      <td>596</td>\n",
       "      <td>2.461242</td>\n",
       "      <td>81</td>\n",
       "      <td>0</td>\n",
       "      <td>2</td>\n",
       "    </tr>\n",
       "    <tr>\n",
       "      <th>2</th>\n",
       "      <td>3</td>\n",
       "      <td>1</td>\n",
       "      <td>3</td>\n",
       "      <td>353</td>\n",
       "      <td>0</td>\n",
       "      <td>-0.285714</td>\n",
       "      <td>0</td>\n",
       "      <td>0</td>\n",
       "      <td>669</td>\n",
       "      <td>-0.282777</td>\n",
       "      <td>140</td>\n",
       "      <td>2</td>\n",
       "      <td>3</td>\n",
       "    </tr>\n",
       "    <tr>\n",
       "      <th>3</th>\n",
       "      <td>4</td>\n",
       "      <td>1</td>\n",
       "      <td>1</td>\n",
       "      <td>272</td>\n",
       "      <td>0</td>\n",
       "      <td>0.357143</td>\n",
       "      <td>1</td>\n",
       "      <td>0</td>\n",
       "      <td>49</td>\n",
       "      <td>1.673732</td>\n",
       "      <td>55</td>\n",
       "      <td>2</td>\n",
       "      <td>2</td>\n",
       "    </tr>\n",
       "    <tr>\n",
       "      <th>4</th>\n",
       "      <td>5</td>\n",
       "      <td>0</td>\n",
       "      <td>3</td>\n",
       "      <td>15</td>\n",
       "      <td>1</td>\n",
       "      <td>0.357143</td>\n",
       "      <td>0</td>\n",
       "      <td>0</td>\n",
       "      <td>472</td>\n",
       "      <td>-0.277363</td>\n",
       "      <td>145</td>\n",
       "      <td>2</td>\n",
       "      <td>1</td>\n",
       "    </tr>\n",
       "  </tbody>\n",
       "</table>\n",
       "</div>"
      ],
      "text/plain": [
       "   PassengerId  Survived  Pclass  Name  Sex       Age  SibSp  Parch  Ticket  \\\n",
       "0            1         0       3   108    1 -0.571429      1      0     523   \n",
       "1            2         1       1   190    0  0.571429      1      0     596   \n",
       "2            3         1       3   353    0 -0.285714      0      0     669   \n",
       "3            4         1       1   272    0  0.357143      1      0      49   \n",
       "4            5         0       3    15    1  0.357143      0      0     472   \n",
       "\n",
       "       Fare  Cabin  Embarked  title  \n",
       "0 -0.312011    145         2      1  \n",
       "1  2.461242     81         0      2  \n",
       "2 -0.282777    140         2      3  \n",
       "3  1.673732     55         2      2  \n",
       "4 -0.277363    145         2      1  "
      ]
     },
     "execution_count": 35,
     "metadata": {},
     "output_type": "execute_result"
    }
   ],
   "source": [
    "column_headers = ['Name', 'Sex', 'Ticket', 'Cabin', 'Embarked', 'title']\n",
    "le = LabelEncoder()\n",
    "\n",
    "train[column_headers] = train[column_headers].apply(le.fit_transform)\n",
    "train.head()"
   ]
  },
  {
   "cell_type": "code",
   "execution_count": 36,
   "id": "8c132a68",
   "metadata": {
    "execution": {
     "iopub.execute_input": "2023-08-25T11:17:03.983378Z",
     "iopub.status.busy": "2023-08-25T11:17:03.982691Z",
     "iopub.status.idle": "2023-08-25T11:17:05.379627Z",
     "shell.execute_reply": "2023-08-25T11:17:05.378346Z"
    },
    "papermill": {
     "duration": 1.433181,
     "end_time": "2023-08-25T11:17:05.383564",
     "exception": false,
     "start_time": "2023-08-25T11:17:03.950383",
     "status": "completed"
    },
    "tags": []
   },
   "outputs": [
    {
     "data": {
      "text/plain": [
       "<Axes: >"
      ]
     },
     "execution_count": 36,
     "metadata": {},
     "output_type": "execute_result"
    },
    {
     "data": {
      "image/png": "[encoded data removed]",
      "text/plain": [
       "<Figure size 1200x600 with 2 Axes>"
      ]
     },
     "metadata": {},
     "output_type": "display_data"
    }
   ],
   "source": [
    "# correlation matrix plot\n",
    "plt.figure(figsize = (12,6))\n",
    "sns.heatmap(train.corr(), annot = True, fmt = '.2f')"
   ]
  },
  {
   "cell_type": "markdown",
   "id": "fbf9b1d6",
   "metadata": {
    "papermill": {
     "duration": 0.032896,
     "end_time": "2023-08-25T11:17:05.449681",
     "exception": false,
     "start_time": "2023-08-25T11:17:05.416785",
     "status": "completed"
    },
    "tags": []
   },
   "source": [
    "# Test Set Preparation"
   ]
  },
  {
   "cell_type": "code",
   "execution_count": 37,
   "id": "9b2a0019",
   "metadata": {
    "execution": {
     "iopub.execute_input": "2023-08-25T11:17:05.517710Z",
     "iopub.status.busy": "2023-08-25T11:17:05.516839Z",
     "iopub.status.idle": "2023-08-25T11:17:05.528624Z",
     "shell.execute_reply": "2023-08-25T11:17:05.527375Z"
    },
    "papermill": {
     "duration": 0.048867,
     "end_time": "2023-08-25T11:17:05.531399",
     "exception": false,
     "start_time": "2023-08-25T11:17:05.482532",
     "status": "completed"
    },
    "tags": []
   },
   "outputs": [
    {
     "data": {
      "text/plain": [
       "0     Mr\n",
       "1    Mrs\n",
       "2     Mr\n",
       "3     Mr\n",
       "Name: title, dtype: object"
      ]
     },
     "execution_count": 37,
     "metadata": {},
     "output_type": "execute_result"
    }
   ],
   "source": [
    "title = [i.split(',')[1].split('.')[0].strip() for i in test['Name']]\n",
    "test['title'] = pd.Series(title)\n",
    "test['title'].head(4)"
   ]
  },
  {
   "cell_type": "code",
   "execution_count": 38,
   "id": "7a2fccdd",
   "metadata": {
    "execution": {
     "iopub.execute_input": "2023-08-25T11:17:05.599421Z",
     "iopub.status.busy": "2023-08-25T11:17:05.598917Z",
     "iopub.status.idle": "2023-08-25T11:17:05.927641Z",
     "shell.execute_reply": "2023-08-25T11:17:05.926433Z"
    },
    "papermill": {
     "duration": 0.366013,
     "end_time": "2023-08-25T11:17:05.930243",
     "exception": false,
     "start_time": "2023-08-25T11:17:05.564230",
     "status": "completed"
    },
    "tags": []
   },
   "outputs": [
    {
     "data": {
      "image/png": "[encoded data removed]",
      "text/plain": [
       "<Figure size 640x480 with 1 Axes>"
      ]
     },
     "metadata": {},
     "output_type": "display_data"
    }
   ],
   "source": [
    "test['title'] = test['title'].replace(['Lady', 'the Countess', 'Countess', 'Capt', 'Col', 'Don', 'Dr', 'Major', 'Rev', 'Sir', 'Jonkheer', 'Dona'], 'Rare')\n",
    "\n",
    "test['title'] = test['title'].replace(['Miss', 'Ms', 'Mlle'],'Ms')\n",
    "test['title'] = test['title'].replace(['Mrs', 'Mme'], 'Mrs')\n",
    "\n",
    "test['title'].value_counts().plot(kind = 'bar', width = 0.3)\n",
    "plt.title(\"Distribution of title\")\n",
    "plt.ylabel('Count')\n",
    "plt.show()"
   ]
  },
  {
   "cell_type": "code",
   "execution_count": 39,
   "id": "9ce03715",
   "metadata": {
    "execution": {
     "iopub.execute_input": "2023-08-25T11:17:06.000390Z",
     "iopub.status.busy": "2023-08-25T11:17:05.999972Z",
     "iopub.status.idle": "2023-08-25T11:17:06.020233Z",
     "shell.execute_reply": "2023-08-25T11:17:06.019201Z"
    },
    "papermill": {
     "duration": 0.058385,
     "end_time": "2023-08-25T11:17:06.023127",
     "exception": false,
     "start_time": "2023-08-25T11:17:05.964742",
     "status": "completed"
    },
    "tags": []
   },
   "outputs": [],
   "source": [
    "# fill up the age using the title based median\n",
    "test.loc[(test['title'] == 'Mr') & (test['Age'].isnull()), 'Age'] = test[test['title'] == 'Mr']['Age'].median()\n",
    "test.loc[(test['title'] == 'Ms') & (test['Age'].isnull()), 'Age'] = test[test['title'] == 'Ms']['Age'].median()\n",
    "test.loc[(test['title'] == 'Mrs') & (test['Age'].isnull()), 'Age'] = test[test['title'] == 'Mrs']['Age'].median()\n",
    "test.loc[(test['title'] == 'Master') & (test['Age'].isnull()), 'Age'] = test[test['title'] == 'Master']['Age'].median()\n",
    "test.loc[(test['title'] == 'Rare') & (test['Age'].isnull()), 'Age'] = test[test['title'] == 'Rare']['Age'].median()"
   ]
  },
  {
   "cell_type": "code",
   "execution_count": 40,
   "id": "49074f03",
   "metadata": {
    "execution": {
     "iopub.execute_input": "2023-08-25T11:17:06.092142Z",
     "iopub.status.busy": "2023-08-25T11:17:06.091750Z",
     "iopub.status.idle": "2023-08-25T11:17:06.103223Z",
     "shell.execute_reply": "2023-08-25T11:17:06.102156Z"
    },
    "papermill": {
     "duration": 0.048845,
     "end_time": "2023-08-25T11:17:06.105541",
     "exception": false,
     "start_time": "2023-08-25T11:17:06.056696",
     "status": "completed"
    },
    "tags": []
   },
   "outputs": [
    {
     "data": {
      "text/plain": [
       "PassengerId      0\n",
       "Pclass           0\n",
       "Name             0\n",
       "Sex              0\n",
       "Age              0\n",
       "SibSp            0\n",
       "Parch            0\n",
       "Ticket           0\n",
       "Fare             1\n",
       "Cabin          327\n",
       "Embarked         0\n",
       "title            0\n",
       "dtype: int64"
      ]
     },
     "execution_count": 40,
     "metadata": {},
     "output_type": "execute_result"
    }
   ],
   "source": [
    "# filling embarked null values with least onboarded location:\n",
    "test['Embarked'].replace(np.nan,'Q',inplace=True)\n",
    "test.isnull().sum()"
   ]
  },
  {
   "cell_type": "code",
   "execution_count": 41,
   "id": "d7dd3bad",
   "metadata": {
    "execution": {
     "iopub.execute_input": "2023-08-25T11:17:06.175257Z",
     "iopub.status.busy": "2023-08-25T11:17:06.174871Z",
     "iopub.status.idle": "2023-08-25T11:17:06.198548Z",
     "shell.execute_reply": "2023-08-25T11:17:06.197364Z"
    },
    "papermill": {
     "duration": 0.061639,
     "end_time": "2023-08-25T11:17:06.201015",
     "exception": false,
     "start_time": "2023-08-25T11:17:06.139376",
     "status": "completed"
    },
    "tags": []
   },
   "outputs": [
    {
     "data": {
      "text/html": [
       "<div>\n",
       "<style scoped>\n",
       "    .dataframe tbody tr th:only-of-type {\n",
       "        vertical-align: middle;\n",
       "    }\n",
       "\n",
       "    .dataframe tbody tr th {\n",
       "        vertical-align: top;\n",
       "    }\n",
       "\n",
       "    .dataframe thead th {\n",
       "        text-align: right;\n",
       "    }\n",
       "</style>\n",
       "<table border=\"1\" class=\"dataframe\">\n",
       "  <thead>\n",
       "    <tr style=\"text-align: right;\">\n",
       "      <th></th>\n",
       "      <th>PassengerId</th>\n",
       "      <th>Pclass</th>\n",
       "      <th>Name</th>\n",
       "      <th>Sex</th>\n",
       "      <th>Age</th>\n",
       "      <th>SibSp</th>\n",
       "      <th>Parch</th>\n",
       "      <th>Ticket</th>\n",
       "      <th>Fare</th>\n",
       "      <th>Cabin</th>\n",
       "      <th>Embarked</th>\n",
       "      <th>title</th>\n",
       "    </tr>\n",
       "  </thead>\n",
       "  <tbody>\n",
       "    <tr>\n",
       "      <th>0</th>\n",
       "      <td>892</td>\n",
       "      <td>3</td>\n",
       "      <td>Kelly, Mr. James</td>\n",
       "      <td>male</td>\n",
       "      <td>0.413793</td>\n",
       "      <td>0</td>\n",
       "      <td>0</td>\n",
       "      <td>330911</td>\n",
       "      <td>-0.280670</td>\n",
       "      <td>NaN</td>\n",
       "      <td>Q</td>\n",
       "      <td>Mr</td>\n",
       "    </tr>\n",
       "    <tr>\n",
       "      <th>1</th>\n",
       "      <td>893</td>\n",
       "      <td>3</td>\n",
       "      <td>Wilkes, Mrs. James (Ellen Needs)</td>\n",
       "      <td>female</td>\n",
       "      <td>1.275862</td>\n",
       "      <td>1</td>\n",
       "      <td>0</td>\n",
       "      <td>363272</td>\n",
       "      <td>-0.315800</td>\n",
       "      <td>NaN</td>\n",
       "      <td>S</td>\n",
       "      <td>Mrs</td>\n",
       "    </tr>\n",
       "    <tr>\n",
       "      <th>2</th>\n",
       "      <td>894</td>\n",
       "      <td>2</td>\n",
       "      <td>Myles, Mr. Thomas Francis</td>\n",
       "      <td>male</td>\n",
       "      <td>2.310345</td>\n",
       "      <td>0</td>\n",
       "      <td>0</td>\n",
       "      <td>240276</td>\n",
       "      <td>-0.201943</td>\n",
       "      <td>NaN</td>\n",
       "      <td>Q</td>\n",
       "      <td>Mr</td>\n",
       "    </tr>\n",
       "    <tr>\n",
       "      <th>3</th>\n",
       "      <td>895</td>\n",
       "      <td>3</td>\n",
       "      <td>Wirz, Mr. Albert</td>\n",
       "      <td>male</td>\n",
       "      <td>-0.103448</td>\n",
       "      <td>0</td>\n",
       "      <td>0</td>\n",
       "      <td>315154</td>\n",
       "      <td>-0.245367</td>\n",
       "      <td>NaN</td>\n",
       "      <td>S</td>\n",
       "      <td>Mr</td>\n",
       "    </tr>\n",
       "    <tr>\n",
       "      <th>4</th>\n",
       "      <td>896</td>\n",
       "      <td>3</td>\n",
       "      <td>Hirvonen, Mrs. Alexander (Helga E Lindqvist)</td>\n",
       "      <td>female</td>\n",
       "      <td>-0.448276</td>\n",
       "      <td>1</td>\n",
       "      <td>1</td>\n",
       "      <td>3101298</td>\n",
       "      <td>-0.091793</td>\n",
       "      <td>NaN</td>\n",
       "      <td>S</td>\n",
       "      <td>Mrs</td>\n",
       "    </tr>\n",
       "  </tbody>\n",
       "</table>\n",
       "</div>"
      ],
      "text/plain": [
       "   PassengerId  Pclass                                          Name     Sex  \\\n",
       "0          892       3                              Kelly, Mr. James    male   \n",
       "1          893       3              Wilkes, Mrs. James (Ellen Needs)  female   \n",
       "2          894       2                     Myles, Mr. Thomas Francis    male   \n",
       "3          895       3                              Wirz, Mr. Albert    male   \n",
       "4          896       3  Hirvonen, Mrs. Alexander (Helga E Lindqvist)  female   \n",
       "\n",
       "        Age  SibSp  Parch   Ticket      Fare Cabin Embarked title  \n",
       "0  0.413793      0      0   330911 -0.280670   NaN        Q    Mr  \n",
       "1  1.275862      1      0   363272 -0.315800   NaN        S   Mrs  \n",
       "2  2.310345      0      0   240276 -0.201943   NaN        Q    Mr  \n",
       "3 -0.103448      0      0   315154 -0.245367   NaN        S    Mr  \n",
       "4 -0.448276      1      1  3101298 -0.091793   NaN        S   Mrs  "
      ]
     },
     "execution_count": 41,
     "metadata": {},
     "output_type": "execute_result"
    }
   ],
   "source": [
    "# Scaling for numerical columns:\n",
    "col_headers=['Age','Fare']\n",
    "scl = RobustScaler()\n",
    "test[col_headers] = scl.fit_transform(test[col_headers])\n",
    "test.head()"
   ]
  },
  {
   "cell_type": "code",
   "execution_count": 42,
   "id": "03a96000",
   "metadata": {
    "execution": {
     "iopub.execute_input": "2023-08-25T11:17:06.270689Z",
     "iopub.status.busy": "2023-08-25T11:17:06.270230Z",
     "iopub.status.idle": "2023-08-25T11:17:06.294314Z",
     "shell.execute_reply": "2023-08-25T11:17:06.293417Z"
    },
    "papermill": {
     "duration": 0.061735,
     "end_time": "2023-08-25T11:17:06.296532",
     "exception": false,
     "start_time": "2023-08-25T11:17:06.234797",
     "status": "completed"
    },
    "tags": []
   },
   "outputs": [
    {
     "data": {
      "text/html": [
       "<div>\n",
       "<style scoped>\n",
       "    .dataframe tbody tr th:only-of-type {\n",
       "        vertical-align: middle;\n",
       "    }\n",
       "\n",
       "    .dataframe tbody tr th {\n",
       "        vertical-align: top;\n",
       "    }\n",
       "\n",
       "    .dataframe thead th {\n",
       "        text-align: right;\n",
       "    }\n",
       "</style>\n",
       "<table border=\"1\" class=\"dataframe\">\n",
       "  <thead>\n",
       "    <tr style=\"text-align: right;\">\n",
       "      <th></th>\n",
       "      <th>PassengerId</th>\n",
       "      <th>Pclass</th>\n",
       "      <th>Name</th>\n",
       "      <th>Sex</th>\n",
       "      <th>Age</th>\n",
       "      <th>SibSp</th>\n",
       "      <th>Parch</th>\n",
       "      <th>Ticket</th>\n",
       "      <th>Fare</th>\n",
       "      <th>Cabin</th>\n",
       "      <th>Embarked</th>\n",
       "      <th>title</th>\n",
       "    </tr>\n",
       "  </thead>\n",
       "  <tbody>\n",
       "    <tr>\n",
       "      <th>0</th>\n",
       "      <td>892</td>\n",
       "      <td>3</td>\n",
       "      <td>206</td>\n",
       "      <td>1</td>\n",
       "      <td>0.413793</td>\n",
       "      <td>0</td>\n",
       "      <td>0</td>\n",
       "      <td>152</td>\n",
       "      <td>-0.280670</td>\n",
       "      <td>76</td>\n",
       "      <td>1</td>\n",
       "      <td>1</td>\n",
       "    </tr>\n",
       "    <tr>\n",
       "      <th>1</th>\n",
       "      <td>893</td>\n",
       "      <td>3</td>\n",
       "      <td>403</td>\n",
       "      <td>0</td>\n",
       "      <td>1.275862</td>\n",
       "      <td>1</td>\n",
       "      <td>0</td>\n",
       "      <td>221</td>\n",
       "      <td>-0.315800</td>\n",
       "      <td>76</td>\n",
       "      <td>2</td>\n",
       "      <td>2</td>\n",
       "    </tr>\n",
       "    <tr>\n",
       "      <th>2</th>\n",
       "      <td>894</td>\n",
       "      <td>2</td>\n",
       "      <td>269</td>\n",
       "      <td>1</td>\n",
       "      <td>2.310345</td>\n",
       "      <td>0</td>\n",
       "      <td>0</td>\n",
       "      <td>73</td>\n",
       "      <td>-0.201943</td>\n",
       "      <td>76</td>\n",
       "      <td>1</td>\n",
       "      <td>1</td>\n",
       "    </tr>\n",
       "    <tr>\n",
       "      <th>3</th>\n",
       "      <td>895</td>\n",
       "      <td>3</td>\n",
       "      <td>408</td>\n",
       "      <td>1</td>\n",
       "      <td>-0.103448</td>\n",
       "      <td>0</td>\n",
       "      <td>0</td>\n",
       "      <td>147</td>\n",
       "      <td>-0.245367</td>\n",
       "      <td>76</td>\n",
       "      <td>2</td>\n",
       "      <td>1</td>\n",
       "    </tr>\n",
       "    <tr>\n",
       "      <th>4</th>\n",
       "      <td>896</td>\n",
       "      <td>3</td>\n",
       "      <td>178</td>\n",
       "      <td>0</td>\n",
       "      <td>-0.448276</td>\n",
       "      <td>1</td>\n",
       "      <td>1</td>\n",
       "      <td>138</td>\n",
       "      <td>-0.091793</td>\n",
       "      <td>76</td>\n",
       "      <td>2</td>\n",
       "      <td>2</td>\n",
       "    </tr>\n",
       "  </tbody>\n",
       "</table>\n",
       "</div>"
      ],
      "text/plain": [
       "   PassengerId  Pclass  Name  Sex       Age  SibSp  Parch  Ticket      Fare  \\\n",
       "0          892       3   206    1  0.413793      0      0     152 -0.280670   \n",
       "1          893       3   403    0  1.275862      1      0     221 -0.315800   \n",
       "2          894       2   269    1  2.310345      0      0      73 -0.201943   \n",
       "3          895       3   408    1 -0.103448      0      0     147 -0.245367   \n",
       "4          896       3   178    0 -0.448276      1      1     138 -0.091793   \n",
       "\n",
       "   Cabin  Embarked  title  \n",
       "0     76         1      1  \n",
       "1     76         2      2  \n",
       "2     76         1      1  \n",
       "3     76         2      1  \n",
       "4     76         2      2  "
      ]
     },
     "execution_count": 42,
     "metadata": {},
     "output_type": "execute_result"
    }
   ],
   "source": [
    "column_headers = ['Name', 'Sex', 'Ticket', 'Cabin', 'Embarked', 'title']\n",
    "le = LabelEncoder()\n",
    "\n",
    "test[column_headers] = test[column_headers].apply(le.fit_transform)\n",
    "test.head()"
   ]
  },
  {
   "cell_type": "code",
   "execution_count": 43,
   "id": "a2004fa3",
   "metadata": {
    "execution": {
     "iopub.execute_input": "2023-08-25T11:17:06.366493Z",
     "iopub.status.busy": "2023-08-25T11:17:06.365705Z",
     "iopub.status.idle": "2023-08-25T11:17:06.375945Z",
     "shell.execute_reply": "2023-08-25T11:17:06.374958Z"
    },
    "papermill": {
     "duration": 0.048323,
     "end_time": "2023-08-25T11:17:06.378750",
     "exception": false,
     "start_time": "2023-08-25T11:17:06.330427",
     "status": "completed"
    },
    "tags": []
   },
   "outputs": [],
   "source": [
    "test['Fare'] = test['Fare'].fillna(method = 'bfill')"
   ]
  },
  {
   "cell_type": "code",
   "execution_count": 44,
   "id": "066ab43c",
   "metadata": {
    "execution": {
     "iopub.execute_input": "2023-08-25T11:17:06.450842Z",
     "iopub.status.busy": "2023-08-25T11:17:06.449619Z",
     "iopub.status.idle": "2023-08-25T11:17:06.455791Z",
     "shell.execute_reply": "2023-08-25T11:17:06.454740Z"
    },
    "papermill": {
     "duration": 0.044412,
     "end_time": "2023-08-25T11:17:06.458057",
     "exception": false,
     "start_time": "2023-08-25T11:17:06.413645",
     "status": "completed"
    },
    "tags": []
   },
   "outputs": [],
   "source": [
    "test['Cabin'] = test['Cabin'].fillna(method = 'bfill')"
   ]
  },
  {
   "cell_type": "code",
   "execution_count": 45,
   "id": "90b4edc2",
   "metadata": {
    "execution": {
     "iopub.execute_input": "2023-08-25T11:17:06.528965Z",
     "iopub.status.busy": "2023-08-25T11:17:06.527976Z",
     "iopub.status.idle": "2023-08-25T11:17:06.537785Z",
     "shell.execute_reply": "2023-08-25T11:17:06.536916Z"
    },
    "papermill": {
     "duration": 0.047883,
     "end_time": "2023-08-25T11:17:06.540060",
     "exception": false,
     "start_time": "2023-08-25T11:17:06.492177",
     "status": "completed"
    },
    "tags": []
   },
   "outputs": [
    {
     "data": {
      "text/plain": [
       "PassengerId    0\n",
       "Pclass         0\n",
       "Name           0\n",
       "Sex            0\n",
       "Age            0\n",
       "SibSp          0\n",
       "Parch          0\n",
       "Ticket         0\n",
       "Fare           0\n",
       "Cabin          0\n",
       "Embarked       0\n",
       "title          0\n",
       "dtype: int64"
      ]
     },
     "execution_count": 45,
     "metadata": {},
     "output_type": "execute_result"
    }
   ],
   "source": [
    "test.isnull().sum()"
   ]
  },
  {
   "cell_type": "code",
   "execution_count": 46,
   "id": "7db74670",
   "metadata": {
    "execution": {
     "iopub.execute_input": "2023-08-25T11:17:06.611552Z",
     "iopub.status.busy": "2023-08-25T11:17:06.610776Z",
     "iopub.status.idle": "2023-08-25T11:17:06.626226Z",
     "shell.execute_reply": "2023-08-25T11:17:06.624906Z"
    },
    "papermill": {
     "duration": 0.054345,
     "end_time": "2023-08-25T11:17:06.628628",
     "exception": false,
     "start_time": "2023-08-25T11:17:06.574283",
     "status": "completed"
    },
    "tags": []
   },
   "outputs": [
    {
     "data": {
      "text/html": [
       "<div>\n",
       "<style scoped>\n",
       "    .dataframe tbody tr th:only-of-type {\n",
       "        vertical-align: middle;\n",
       "    }\n",
       "\n",
       "    .dataframe tbody tr th {\n",
       "        vertical-align: top;\n",
       "    }\n",
       "\n",
       "    .dataframe thead th {\n",
       "        text-align: right;\n",
       "    }\n",
       "</style>\n",
       "<table border=\"1\" class=\"dataframe\">\n",
       "  <thead>\n",
       "    <tr style=\"text-align: right;\">\n",
       "      <th></th>\n",
       "      <th>PassengerId</th>\n",
       "      <th>Pclass</th>\n",
       "      <th>Name</th>\n",
       "      <th>Sex</th>\n",
       "      <th>Age</th>\n",
       "      <th>SibSp</th>\n",
       "      <th>Parch</th>\n",
       "      <th>Ticket</th>\n",
       "      <th>Fare</th>\n",
       "      <th>Cabin</th>\n",
       "      <th>Embarked</th>\n",
       "      <th>title</th>\n",
       "    </tr>\n",
       "  </thead>\n",
       "  <tbody>\n",
       "    <tr>\n",
       "      <th>0</th>\n",
       "      <td>892</td>\n",
       "      <td>3</td>\n",
       "      <td>206</td>\n",
       "      <td>1</td>\n",
       "      <td>0.413793</td>\n",
       "      <td>0</td>\n",
       "      <td>0</td>\n",
       "      <td>152</td>\n",
       "      <td>-0.280670</td>\n",
       "      <td>76</td>\n",
       "      <td>1</td>\n",
       "      <td>1</td>\n",
       "    </tr>\n",
       "    <tr>\n",
       "      <th>1</th>\n",
       "      <td>893</td>\n",
       "      <td>3</td>\n",
       "      <td>403</td>\n",
       "      <td>0</td>\n",
       "      <td>1.275862</td>\n",
       "      <td>1</td>\n",
       "      <td>0</td>\n",
       "      <td>221</td>\n",
       "      <td>-0.315800</td>\n",
       "      <td>76</td>\n",
       "      <td>2</td>\n",
       "      <td>2</td>\n",
       "    </tr>\n",
       "    <tr>\n",
       "      <th>2</th>\n",
       "      <td>894</td>\n",
       "      <td>2</td>\n",
       "      <td>269</td>\n",
       "      <td>1</td>\n",
       "      <td>2.310345</td>\n",
       "      <td>0</td>\n",
       "      <td>0</td>\n",
       "      <td>73</td>\n",
       "      <td>-0.201943</td>\n",
       "      <td>76</td>\n",
       "      <td>1</td>\n",
       "      <td>1</td>\n",
       "    </tr>\n",
       "    <tr>\n",
       "      <th>3</th>\n",
       "      <td>895</td>\n",
       "      <td>3</td>\n",
       "      <td>408</td>\n",
       "      <td>1</td>\n",
       "      <td>-0.103448</td>\n",
       "      <td>0</td>\n",
       "      <td>0</td>\n",
       "      <td>147</td>\n",
       "      <td>-0.245367</td>\n",
       "      <td>76</td>\n",
       "      <td>2</td>\n",
       "      <td>1</td>\n",
       "    </tr>\n",
       "    <tr>\n",
       "      <th>4</th>\n",
       "      <td>896</td>\n",
       "      <td>3</td>\n",
       "      <td>178</td>\n",
       "      <td>0</td>\n",
       "      <td>-0.448276</td>\n",
       "      <td>1</td>\n",
       "      <td>1</td>\n",
       "      <td>138</td>\n",
       "      <td>-0.091793</td>\n",
       "      <td>76</td>\n",
       "      <td>2</td>\n",
       "      <td>2</td>\n",
       "    </tr>\n",
       "  </tbody>\n",
       "</table>\n",
       "</div>"
      ],
      "text/plain": [
       "   PassengerId  Pclass  Name  Sex       Age  SibSp  Parch  Ticket      Fare  \\\n",
       "0          892       3   206    1  0.413793      0      0     152 -0.280670   \n",
       "1          893       3   403    0  1.275862      1      0     221 -0.315800   \n",
       "2          894       2   269    1  2.310345      0      0      73 -0.201943   \n",
       "3          895       3   408    1 -0.103448      0      0     147 -0.245367   \n",
       "4          896       3   178    0 -0.448276      1      1     138 -0.091793   \n",
       "\n",
       "   Cabin  Embarked  title  \n",
       "0     76         1      1  \n",
       "1     76         2      2  \n",
       "2     76         1      1  \n",
       "3     76         2      1  \n",
       "4     76         2      2  "
      ]
     },
     "execution_count": 46,
     "metadata": {},
     "output_type": "execute_result"
    }
   ],
   "source": [
    "test.head()"
   ]
  },
  {
   "cell_type": "markdown",
   "id": "cc4f6291",
   "metadata": {
    "papermill": {
     "duration": 0.036643,
     "end_time": "2023-08-25T11:17:06.699624",
     "exception": false,
     "start_time": "2023-08-25T11:17:06.662981",
     "status": "completed"
    },
    "tags": []
   },
   "source": [
    "# Model fitting"
   ]
  },
  {
   "cell_type": "code",
   "execution_count": 47,
   "id": "9a33867e",
   "metadata": {
    "execution": {
     "iopub.execute_input": "2023-08-25T11:17:06.771307Z",
     "iopub.status.busy": "2023-08-25T11:17:06.770875Z",
     "iopub.status.idle": "2023-08-25T11:17:06.777728Z",
     "shell.execute_reply": "2023-08-25T11:17:06.776582Z"
    },
    "papermill": {
     "duration": 0.045537,
     "end_time": "2023-08-25T11:17:06.780013",
     "exception": false,
     "start_time": "2023-08-25T11:17:06.734476",
     "status": "completed"
    },
    "tags": []
   },
   "outputs": [],
   "source": [
    "X = train.drop(['Survived', 'PassengerId', 'Cabin', 'Ticket'], axis = 1)\n",
    "y = train['Survived']"
   ]
  },
  {
   "cell_type": "code",
   "execution_count": 48,
   "id": "6bf9252f",
   "metadata": {
    "execution": {
     "iopub.execute_input": "2023-08-25T11:17:06.852460Z",
     "iopub.status.busy": "2023-08-25T11:17:06.851502Z",
     "iopub.status.idle": "2023-08-25T11:17:06.866331Z",
     "shell.execute_reply": "2023-08-25T11:17:06.865067Z"
    },
    "papermill": {
     "duration": 0.053938,
     "end_time": "2023-08-25T11:17:06.868853",
     "exception": false,
     "start_time": "2023-08-25T11:17:06.814915",
     "status": "completed"
    },
    "tags": []
   },
   "outputs": [
    {
     "data": {
      "text/html": [
       "<div>\n",
       "<style scoped>\n",
       "    .dataframe tbody tr th:only-of-type {\n",
       "        vertical-align: middle;\n",
       "    }\n",
       "\n",
       "    .dataframe tbody tr th {\n",
       "        vertical-align: top;\n",
       "    }\n",
       "\n",
       "    .dataframe thead th {\n",
       "        text-align: right;\n",
       "    }\n",
       "</style>\n",
       "<table border=\"1\" class=\"dataframe\">\n",
       "  <thead>\n",
       "    <tr style=\"text-align: right;\">\n",
       "      <th></th>\n",
       "      <th>Pclass</th>\n",
       "      <th>Name</th>\n",
       "      <th>Sex</th>\n",
       "      <th>Age</th>\n",
       "      <th>SibSp</th>\n",
       "      <th>Parch</th>\n",
       "      <th>Fare</th>\n",
       "      <th>Embarked</th>\n",
       "      <th>title</th>\n",
       "    </tr>\n",
       "  </thead>\n",
       "  <tbody>\n",
       "    <tr>\n",
       "      <th>0</th>\n",
       "      <td>3</td>\n",
       "      <td>108</td>\n",
       "      <td>1</td>\n",
       "      <td>-0.571429</td>\n",
       "      <td>1</td>\n",
       "      <td>0</td>\n",
       "      <td>-0.312011</td>\n",
       "      <td>2</td>\n",
       "      <td>1</td>\n",
       "    </tr>\n",
       "    <tr>\n",
       "      <th>1</th>\n",
       "      <td>1</td>\n",
       "      <td>190</td>\n",
       "      <td>0</td>\n",
       "      <td>0.571429</td>\n",
       "      <td>1</td>\n",
       "      <td>0</td>\n",
       "      <td>2.461242</td>\n",
       "      <td>0</td>\n",
       "      <td>2</td>\n",
       "    </tr>\n",
       "    <tr>\n",
       "      <th>2</th>\n",
       "      <td>3</td>\n",
       "      <td>353</td>\n",
       "      <td>0</td>\n",
       "      <td>-0.285714</td>\n",
       "      <td>0</td>\n",
       "      <td>0</td>\n",
       "      <td>-0.282777</td>\n",
       "      <td>2</td>\n",
       "      <td>3</td>\n",
       "    </tr>\n",
       "    <tr>\n",
       "      <th>3</th>\n",
       "      <td>1</td>\n",
       "      <td>272</td>\n",
       "      <td>0</td>\n",
       "      <td>0.357143</td>\n",
       "      <td>1</td>\n",
       "      <td>0</td>\n",
       "      <td>1.673732</td>\n",
       "      <td>2</td>\n",
       "      <td>2</td>\n",
       "    </tr>\n",
       "    <tr>\n",
       "      <th>4</th>\n",
       "      <td>3</td>\n",
       "      <td>15</td>\n",
       "      <td>1</td>\n",
       "      <td>0.357143</td>\n",
       "      <td>0</td>\n",
       "      <td>0</td>\n",
       "      <td>-0.277363</td>\n",
       "      <td>2</td>\n",
       "      <td>1</td>\n",
       "    </tr>\n",
       "  </tbody>\n",
       "</table>\n",
       "</div>"
      ],
      "text/plain": [
       "   Pclass  Name  Sex       Age  SibSp  Parch      Fare  Embarked  title\n",
       "0       3   108    1 -0.571429      1      0 -0.312011         2      1\n",
       "1       1   190    0  0.571429      1      0  2.461242         0      2\n",
       "2       3   353    0 -0.285714      0      0 -0.282777         2      3\n",
       "3       1   272    0  0.357143      1      0  1.673732         2      2\n",
       "4       3    15    1  0.357143      0      0 -0.277363         2      1"
      ]
     },
     "execution_count": 48,
     "metadata": {},
     "output_type": "execute_result"
    }
   ],
   "source": [
    "X.head()"
   ]
  },
  {
   "cell_type": "code",
   "execution_count": 49,
   "id": "e9925a7f",
   "metadata": {
    "execution": {
     "iopub.execute_input": "2023-08-25T11:17:06.941640Z",
     "iopub.status.busy": "2023-08-25T11:17:06.940833Z",
     "iopub.status.idle": "2023-08-25T11:17:07.052993Z",
     "shell.execute_reply": "2023-08-25T11:17:07.051727Z"
    },
    "papermill": {
     "duration": 0.15222,
     "end_time": "2023-08-25T11:17:07.055979",
     "exception": false,
     "start_time": "2023-08-25T11:17:06.903759",
     "status": "completed"
    },
    "tags": []
   },
   "outputs": [],
   "source": [
    "# Train-test split data:\n",
    "from sklearn.model_selection import train_test_split\n",
    "\n",
    "# Split the data into training and testing sets\n",
    "X_train, X_test, y_train, y_test = train_test_split(X, y, test_size=0.2, random_state=0)"
   ]
  },
  {
   "cell_type": "code",
   "execution_count": 50,
   "id": "862cb631",
   "metadata": {
    "execution": {
     "iopub.execute_input": "2023-08-25T11:17:07.128815Z",
     "iopub.status.busy": "2023-08-25T11:17:07.128346Z",
     "iopub.status.idle": "2023-08-25T11:17:07.230613Z",
     "shell.execute_reply": "2023-08-25T11:17:07.229399Z"
    },
    "papermill": {
     "duration": 0.142282,
     "end_time": "2023-08-25T11:17:07.233781",
     "exception": false,
     "start_time": "2023-08-25T11:17:07.091499",
     "status": "completed"
    },
    "tags": []
   },
   "outputs": [],
   "source": [
    "from sklearn.linear_model import LogisticRegression\n",
    "from sklearn.metrics import accuracy_score, classification_report\n",
    "\n",
    "model = LogisticRegression(solver = 'liblinear')\n",
    "\n",
    "model.fit(X_train, y_train)\n",
    "\n",
    "y_pred = model.predict(X_test)"
   ]
  },
  {
   "cell_type": "code",
   "execution_count": 51,
   "id": "53ebb379",
   "metadata": {
    "execution": {
     "iopub.execute_input": "2023-08-25T11:17:07.306129Z",
     "iopub.status.busy": "2023-08-25T11:17:07.305474Z",
     "iopub.status.idle": "2023-08-25T11:17:07.320751Z",
     "shell.execute_reply": "2023-08-25T11:17:07.319196Z"
    },
    "papermill": {
     "duration": 0.054575,
     "end_time": "2023-08-25T11:17:07.323085",
     "exception": false,
     "start_time": "2023-08-25T11:17:07.268510",
     "status": "completed"
    },
    "tags": []
   },
   "outputs": [
    {
     "name": "stdout",
     "output_type": "stream",
     "text": [
      "0.8044692737430168\n",
      "              precision    recall  f1-score   support\n",
      "\n",
      "           0       0.83      0.86      0.84       110\n",
      "           1       0.77      0.71      0.74        69\n",
      "\n",
      "    accuracy                           0.80       179\n",
      "   macro avg       0.80      0.79      0.79       179\n",
      "weighted avg       0.80      0.80      0.80       179\n",
      "\n"
     ]
    }
   ],
   "source": [
    "accuracy = accuracy_score(y_test, y_pred)\n",
    "classification_rep = classification_report(y_test, y_pred)\n",
    "\n",
    "print(accuracy)\n",
    "print(classification_rep)"
   ]
  },
  {
   "cell_type": "code",
   "execution_count": 52,
   "id": "cb0dfeb3",
   "metadata": {
    "execution": {
     "iopub.execute_input": "2023-08-25T11:17:07.396094Z",
     "iopub.status.busy": "2023-08-25T11:17:07.395334Z",
     "iopub.status.idle": "2023-08-25T11:17:07.791759Z",
     "shell.execute_reply": "2023-08-25T11:17:07.790438Z"
    },
    "papermill": {
     "duration": 0.436243,
     "end_time": "2023-08-25T11:17:07.794744",
     "exception": false,
     "start_time": "2023-08-25T11:17:07.358501",
     "status": "completed"
    },
    "tags": []
   },
   "outputs": [
    {
     "data": {
      "text/plain": [
       "<sklearn.metrics._plot.confusion_matrix.ConfusionMatrixDisplay at 0x7fe1011f8700>"
      ]
     },
     "execution_count": 52,
     "metadata": {},
     "output_type": "execute_result"
    },
    {
     "data": {
      "image/png": "[encoded data removed]",
      "text/plain": [
       "<Figure size 640x480 with 2 Axes>"
      ]
     },
     "metadata": {},
     "output_type": "display_data"
    }
   ],
   "source": [
    "# confusion matrix\n",
    "from sklearn.metrics import confusion_matrix, ConfusionMatrixDisplay\n",
    "\n",
    "cm = confusion_matrix(y_test, y_pred)\n",
    "disp = ConfusionMatrixDisplay(confusion_matrix=cm)\n",
    "disp.plot()"
   ]
  },
  {
   "cell_type": "code",
   "execution_count": 53,
   "id": "735ece34",
   "metadata": {
    "execution": {
     "iopub.execute_input": "2023-08-25T11:17:07.868963Z",
     "iopub.status.busy": "2023-08-25T11:17:07.868194Z",
     "iopub.status.idle": "2023-08-25T11:17:08.404620Z",
     "shell.execute_reply": "2023-08-25T11:17:08.403538Z"
    },
    "papermill": {
     "duration": 0.576472,
     "end_time": "2023-08-25T11:17:08.407542",
     "exception": false,
     "start_time": "2023-08-25T11:17:07.831070",
     "status": "completed"
    },
    "tags": []
   },
   "outputs": [],
   "source": [
    "from sklearn.metrics import mean_squared_error,confusion_matrix, precision_score, recall_score, auc,roc_curve\n",
    "from sklearn import ensemble, linear_model, neighbors, svm, tree, neural_network\n",
    "from sklearn.linear_model import Ridge\n",
    "from sklearn.preprocessing import PolynomialFeatures\n",
    "from sklearn.model_selection import train_test_split, cross_val_score\n",
    "from sklearn.pipeline import make_pipeline\n",
    "from sklearn import svm,model_selection, tree, linear_model, neighbors, naive_bayes, ensemble, discriminant_analysis, gaussian_process\n",
    "from sklearn.discriminant_analysis import LinearDiscriminantAnalysis\n",
    "from sklearn.neighbors import KNeighborsClassifier\n",
    "from sklearn.tree import DecisionTreeClassifier\n",
    "from sklearn.naive_bayes import GaussianNB\n",
    "from sklearn.svm import SVC\n",
    "from sklearn.preprocessing import OneHotEncoder\n",
    "from sklearn.linear_model import LogisticRegression\n",
    "import xgboost\n",
    "from xgboost import XGBClassifier"
   ]
  },
  {
   "cell_type": "code",
   "execution_count": 54,
   "id": "9c79fa39",
   "metadata": {
    "execution": {
     "iopub.execute_input": "2023-08-25T11:17:08.481144Z",
     "iopub.status.busy": "2023-08-25T11:17:08.480751Z",
     "iopub.status.idle": "2023-08-25T11:17:08.488196Z",
     "shell.execute_reply": "2023-08-25T11:17:08.487118Z"
    },
    "papermill": {
     "duration": 0.046987,
     "end_time": "2023-08-25T11:17:08.490707",
     "exception": false,
     "start_time": "2023-08-25T11:17:08.443720",
     "status": "completed"
    },
    "tags": []
   },
   "outputs": [],
   "source": [
    "algorithms = [\n",
    "     #GLM\n",
    "    linear_model.LogisticRegressionCV(solver = 'liblinear'),\n",
    "    linear_model.PassiveAggressiveClassifier(),\n",
    "    \n",
    "    #Ensemble Methods\n",
    "    ensemble.AdaBoostClassifier(),\n",
    "    ensemble.GradientBoostingClassifier(),\n",
    "    ensemble.RandomForestClassifier(),\n",
    "\n",
    "    #Gaussian Processes\n",
    "    gaussian_process.GaussianProcessClassifier(),\n",
    "    \n",
    "    #SVM\n",
    "    svm.SVC(probability=True),\n",
    "    svm.NuSVC(probability=True),\n",
    "    svm.LinearSVC(),\n",
    "    \n",
    "    #Trees    \n",
    "    tree.DecisionTreeClassifier(),\n",
    "  \n",
    "    #Navies Bayes\n",
    "    naive_bayes.BernoulliNB(),\n",
    "    naive_bayes.GaussianNB(),\n",
    "    xgboost.XGBClassifier()\n",
    "    \n",
    "]"
   ]
  },
  {
   "cell_type": "code",
   "execution_count": 55,
   "id": "7bf28b54",
   "metadata": {
    "execution": {
     "iopub.execute_input": "2023-08-25T11:17:08.564961Z",
     "iopub.status.busy": "2023-08-25T11:17:08.564558Z",
     "iopub.status.idle": "2023-08-25T11:17:10.969383Z",
     "shell.execute_reply": "2023-08-25T11:17:10.968516Z"
    },
    "papermill": {
     "duration": 2.444135,
     "end_time": "2023-08-25T11:17:10.971580",
     "exception": false,
     "start_time": "2023-08-25T11:17:08.527445",
     "status": "completed"
    },
    "tags": []
   },
   "outputs": [
    {
     "name": "stderr",
     "output_type": "stream",
     "text": [
      "/opt/conda/lib/python3.10/site-packages/sklearn/metrics/_classification.py:1344: UndefinedMetricWarning: Precision is ill-defined and being set to 0.0 due to no predicted samples. Use `zero_division` parameter to control this behavior.\n",
      "  _warn_prf(average, modifier, msg_start, len(result))\n",
      "/opt/conda/lib/python3.10/site-packages/sklearn/svm/_base.py:1244: ConvergenceWarning: Liblinear failed to converge, increase the number of iterations.\n",
      "  warnings.warn(\n"
     ]
    },
    {
     "data": {
      "text/html": [
       "<div>\n",
       "<style scoped>\n",
       "    .dataframe tbody tr th:only-of-type {\n",
       "        vertical-align: middle;\n",
       "    }\n",
       "\n",
       "    .dataframe tbody tr th {\n",
       "        vertical-align: top;\n",
       "    }\n",
       "\n",
       "    .dataframe thead th {\n",
       "        text-align: right;\n",
       "    }\n",
       "</style>\n",
       "<table border=\"1\" class=\"dataframe\">\n",
       "  <thead>\n",
       "    <tr style=\"text-align: right;\">\n",
       "      <th></th>\n",
       "      <th>MLA used</th>\n",
       "      <th>Train Accuracy</th>\n",
       "      <th>Test Accuracy</th>\n",
       "      <th>Precission</th>\n",
       "      <th>Recall</th>\n",
       "      <th>AUC</th>\n",
       "    </tr>\n",
       "  </thead>\n",
       "  <tbody>\n",
       "    <tr>\n",
       "      <th>3</th>\n",
       "      <td>GradientBoostingClassifier</td>\n",
       "      <td>0.91573</td>\n",
       "      <td>0.84916</td>\n",
       "      <td>0.862069</td>\n",
       "      <td>0.724638</td>\n",
       "      <td>0.825955</td>\n",
       "    </tr>\n",
       "    <tr>\n",
       "      <th>12</th>\n",
       "      <td>XGBClassifier</td>\n",
       "      <td>0.99860</td>\n",
       "      <td>0.84916</td>\n",
       "      <td>0.850000</td>\n",
       "      <td>0.739130</td>\n",
       "      <td>0.828656</td>\n",
       "    </tr>\n",
       "    <tr>\n",
       "      <th>2</th>\n",
       "      <td>AdaBoostClassifier</td>\n",
       "      <td>0.84972</td>\n",
       "      <td>0.83799</td>\n",
       "      <td>0.794118</td>\n",
       "      <td>0.782609</td>\n",
       "      <td>0.827668</td>\n",
       "    </tr>\n",
       "    <tr>\n",
       "      <th>4</th>\n",
       "      <td>RandomForestClassifier</td>\n",
       "      <td>1.00000</td>\n",
       "      <td>0.83799</td>\n",
       "      <td>0.822581</td>\n",
       "      <td>0.739130</td>\n",
       "      <td>0.819565</td>\n",
       "    </tr>\n",
       "    <tr>\n",
       "      <th>0</th>\n",
       "      <td>LogisticRegressionCV</td>\n",
       "      <td>0.81882</td>\n",
       "      <td>0.81564</td>\n",
       "      <td>0.764706</td>\n",
       "      <td>0.753623</td>\n",
       "      <td>0.804084</td>\n",
       "    </tr>\n",
       "    <tr>\n",
       "      <th>10</th>\n",
       "      <td>BernoulliNB</td>\n",
       "      <td>0.74017</td>\n",
       "      <td>0.81006</td>\n",
       "      <td>0.786885</td>\n",
       "      <td>0.695652</td>\n",
       "      <td>0.788735</td>\n",
       "    </tr>\n",
       "    <tr>\n",
       "      <th>11</th>\n",
       "      <td>GaussianNB</td>\n",
       "      <td>0.78792</td>\n",
       "      <td>0.76536</td>\n",
       "      <td>0.670886</td>\n",
       "      <td>0.768116</td>\n",
       "      <td>0.765876</td>\n",
       "    </tr>\n",
       "    <tr>\n",
       "      <th>9</th>\n",
       "      <td>DecisionTreeClassifier</td>\n",
       "      <td>1.00000</td>\n",
       "      <td>0.74302</td>\n",
       "      <td>0.676923</td>\n",
       "      <td>0.637681</td>\n",
       "      <td>0.723386</td>\n",
       "    </tr>\n",
       "    <tr>\n",
       "      <th>1</th>\n",
       "      <td>PassiveAggressiveClassifier</td>\n",
       "      <td>0.78511</td>\n",
       "      <td>0.73743</td>\n",
       "      <td>0.671875</td>\n",
       "      <td>0.623188</td>\n",
       "      <td>0.716140</td>\n",
       "    </tr>\n",
       "    <tr>\n",
       "      <th>7</th>\n",
       "      <td>NuSVC</td>\n",
       "      <td>0.72191</td>\n",
       "      <td>0.67598</td>\n",
       "      <td>0.569620</td>\n",
       "      <td>0.652174</td>\n",
       "      <td>0.671542</td>\n",
       "    </tr>\n",
       "    <tr>\n",
       "      <th>8</th>\n",
       "      <td>LinearSVC</td>\n",
       "      <td>0.63343</td>\n",
       "      <td>0.63128</td>\n",
       "      <td>0.800000</td>\n",
       "      <td>0.057971</td>\n",
       "      <td>0.524440</td>\n",
       "    </tr>\n",
       "    <tr>\n",
       "      <th>6</th>\n",
       "      <td>SVC</td>\n",
       "      <td>0.61657</td>\n",
       "      <td>0.61453</td>\n",
       "      <td>0.000000</td>\n",
       "      <td>0.000000</td>\n",
       "      <td>0.500000</td>\n",
       "    </tr>\n",
       "    <tr>\n",
       "      <th>5</th>\n",
       "      <td>GaussianProcessClassifier</td>\n",
       "      <td>1.00000</td>\n",
       "      <td>0.58659</td>\n",
       "      <td>0.456140</td>\n",
       "      <td>0.376812</td>\n",
       "      <td>0.547497</td>\n",
       "    </tr>\n",
       "  </tbody>\n",
       "</table>\n",
       "</div>"
      ],
      "text/plain": [
       "                       MLA used  Train Accuracy  Test Accuracy  Precission  \\\n",
       "3    GradientBoostingClassifier         0.91573        0.84916    0.862069   \n",
       "12                XGBClassifier         0.99860        0.84916    0.850000   \n",
       "2            AdaBoostClassifier         0.84972        0.83799    0.794118   \n",
       "4        RandomForestClassifier         1.00000        0.83799    0.822581   \n",
       "0          LogisticRegressionCV         0.81882        0.81564    0.764706   \n",
       "10                  BernoulliNB         0.74017        0.81006    0.786885   \n",
       "11                   GaussianNB         0.78792        0.76536    0.670886   \n",
       "9        DecisionTreeClassifier         1.00000        0.74302    0.676923   \n",
       "1   PassiveAggressiveClassifier         0.78511        0.73743    0.671875   \n",
       "7                         NuSVC         0.72191        0.67598    0.569620   \n",
       "8                     LinearSVC         0.63343        0.63128    0.800000   \n",
       "6                           SVC         0.61657        0.61453    0.000000   \n",
       "5     GaussianProcessClassifier         1.00000        0.58659    0.456140   \n",
       "\n",
       "      Recall       AUC  \n",
       "3   0.724638  0.825955  \n",
       "12  0.739130  0.828656  \n",
       "2   0.782609  0.827668  \n",
       "4   0.739130  0.819565  \n",
       "0   0.753623  0.804084  \n",
       "10  0.695652  0.788735  \n",
       "11  0.768116  0.765876  \n",
       "9   0.637681  0.723386  \n",
       "1   0.623188  0.716140  \n",
       "7   0.652174  0.671542  \n",
       "8   0.057971  0.524440  \n",
       "6   0.000000  0.500000  \n",
       "5   0.376812  0.547497  "
      ]
     },
     "execution_count": 55,
     "metadata": {},
     "output_type": "execute_result"
    }
   ],
   "source": [
    "# performance comparison\n",
    "MLA_columns = []\n",
    "MLA_compare = pd.DataFrame(columns = MLA_columns)\n",
    "row_index = 0\n",
    "for alg in algorithms:  \n",
    "    \n",
    "    predicted = alg.fit(X_train, y_train).predict(X_test)\n",
    "    fp, tp, th = roc_curve(y_test, predicted)\n",
    "    MLA_name = alg.__class__.__name__\n",
    "    MLA_compare.loc[row_index,'MLA used'] = MLA_name\n",
    "    MLA_compare.loc[row_index, 'Train Accuracy'] = round(alg.score(X_train, y_train), 5)\n",
    "    MLA_compare.loc[row_index, 'Test Accuracy'] = round(alg.score(X_test, y_test), 5)\n",
    "    MLA_compare.loc[row_index, 'Precission'] = precision_score(y_test, predicted)\n",
    "    MLA_compare.loc[row_index, 'Recall'] = recall_score(y_test, predicted)\n",
    "    MLA_compare.loc[row_index, 'AUC'] = auc(fp, tp)\n",
    "\n",
    "    row_index+=1\n",
    "    \n",
    "MLA_compare.sort_values(by = ['Test Accuracy'], ascending = False, inplace = True)    \n",
    "MLA_compare"
   ]
  },
  {
   "cell_type": "markdown",
   "id": "0d5127d9",
   "metadata": {
    "papermill": {
     "duration": 0.03565,
     "end_time": "2023-08-25T11:17:11.043643",
     "exception": false,
     "start_time": "2023-08-25T11:17:11.007993",
     "status": "completed"
    },
    "tags": []
   },
   "source": [
    "# Submission"
   ]
  },
  {
   "cell_type": "code",
   "execution_count": 56,
   "id": "d26ee215",
   "metadata": {
    "execution": {
     "iopub.execute_input": "2023-08-25T11:17:11.118574Z",
     "iopub.status.busy": "2023-08-25T11:17:11.117340Z",
     "iopub.status.idle": "2023-08-25T11:17:11.133234Z",
     "shell.execute_reply": "2023-08-25T11:17:11.132152Z"
    },
    "papermill": {
     "duration": 0.055594,
     "end_time": "2023-08-25T11:17:11.135720",
     "exception": false,
     "start_time": "2023-08-25T11:17:11.080126",
     "status": "completed"
    },
    "tags": []
   },
   "outputs": [
    {
     "data": {
      "text/html": [
       "<div>\n",
       "<style scoped>\n",
       "    .dataframe tbody tr th:only-of-type {\n",
       "        vertical-align: middle;\n",
       "    }\n",
       "\n",
       "    .dataframe tbody tr th {\n",
       "        vertical-align: top;\n",
       "    }\n",
       "\n",
       "    .dataframe thead th {\n",
       "        text-align: right;\n",
       "    }\n",
       "</style>\n",
       "<table border=\"1\" class=\"dataframe\">\n",
       "  <thead>\n",
       "    <tr style=\"text-align: right;\">\n",
       "      <th></th>\n",
       "      <th>PassengerId</th>\n",
       "      <th>Pclass</th>\n",
       "      <th>Name</th>\n",
       "      <th>Sex</th>\n",
       "      <th>Age</th>\n",
       "      <th>SibSp</th>\n",
       "      <th>Parch</th>\n",
       "      <th>Ticket</th>\n",
       "      <th>Fare</th>\n",
       "      <th>Cabin</th>\n",
       "      <th>Embarked</th>\n",
       "      <th>title</th>\n",
       "    </tr>\n",
       "  </thead>\n",
       "  <tbody>\n",
       "    <tr>\n",
       "      <th>0</th>\n",
       "      <td>892</td>\n",
       "      <td>3</td>\n",
       "      <td>206</td>\n",
       "      <td>1</td>\n",
       "      <td>0.413793</td>\n",
       "      <td>0</td>\n",
       "      <td>0</td>\n",
       "      <td>152</td>\n",
       "      <td>-0.280670</td>\n",
       "      <td>76</td>\n",
       "      <td>1</td>\n",
       "      <td>1</td>\n",
       "    </tr>\n",
       "    <tr>\n",
       "      <th>1</th>\n",
       "      <td>893</td>\n",
       "      <td>3</td>\n",
       "      <td>403</td>\n",
       "      <td>0</td>\n",
       "      <td>1.275862</td>\n",
       "      <td>1</td>\n",
       "      <td>0</td>\n",
       "      <td>221</td>\n",
       "      <td>-0.315800</td>\n",
       "      <td>76</td>\n",
       "      <td>2</td>\n",
       "      <td>2</td>\n",
       "    </tr>\n",
       "    <tr>\n",
       "      <th>2</th>\n",
       "      <td>894</td>\n",
       "      <td>2</td>\n",
       "      <td>269</td>\n",
       "      <td>1</td>\n",
       "      <td>2.310345</td>\n",
       "      <td>0</td>\n",
       "      <td>0</td>\n",
       "      <td>73</td>\n",
       "      <td>-0.201943</td>\n",
       "      <td>76</td>\n",
       "      <td>1</td>\n",
       "      <td>1</td>\n",
       "    </tr>\n",
       "    <tr>\n",
       "      <th>3</th>\n",
       "      <td>895</td>\n",
       "      <td>3</td>\n",
       "      <td>408</td>\n",
       "      <td>1</td>\n",
       "      <td>-0.103448</td>\n",
       "      <td>0</td>\n",
       "      <td>0</td>\n",
       "      <td>147</td>\n",
       "      <td>-0.245367</td>\n",
       "      <td>76</td>\n",
       "      <td>2</td>\n",
       "      <td>1</td>\n",
       "    </tr>\n",
       "    <tr>\n",
       "      <th>4</th>\n",
       "      <td>896</td>\n",
       "      <td>3</td>\n",
       "      <td>178</td>\n",
       "      <td>0</td>\n",
       "      <td>-0.448276</td>\n",
       "      <td>1</td>\n",
       "      <td>1</td>\n",
       "      <td>138</td>\n",
       "      <td>-0.091793</td>\n",
       "      <td>76</td>\n",
       "      <td>2</td>\n",
       "      <td>2</td>\n",
       "    </tr>\n",
       "  </tbody>\n",
       "</table>\n",
       "</div>"
      ],
      "text/plain": [
       "   PassengerId  Pclass  Name  Sex       Age  SibSp  Parch  Ticket      Fare  \\\n",
       "0          892       3   206    1  0.413793      0      0     152 -0.280670   \n",
       "1          893       3   403    0  1.275862      1      0     221 -0.315800   \n",
       "2          894       2   269    1  2.310345      0      0      73 -0.201943   \n",
       "3          895       3   408    1 -0.103448      0      0     147 -0.245367   \n",
       "4          896       3   178    0 -0.448276      1      1     138 -0.091793   \n",
       "\n",
       "   Cabin  Embarked  title  \n",
       "0     76         1      1  \n",
       "1     76         2      2  \n",
       "2     76         1      1  \n",
       "3     76         2      1  \n",
       "4     76         2      2  "
      ]
     },
     "execution_count": 56,
     "metadata": {},
     "output_type": "execute_result"
    }
   ],
   "source": [
    "test.head()"
   ]
  },
  {
   "cell_type": "code",
   "execution_count": 57,
   "id": "c763c8c6",
   "metadata": {
    "execution": {
     "iopub.execute_input": "2023-08-25T11:17:11.210610Z",
     "iopub.status.busy": "2023-08-25T11:17:11.209553Z",
     "iopub.status.idle": "2023-08-25T11:17:11.231823Z",
     "shell.execute_reply": "2023-08-25T11:17:11.230538Z"
    },
    "papermill": {
     "duration": 0.062069,
     "end_time": "2023-08-25T11:17:11.234327",
     "exception": false,
     "start_time": "2023-08-25T11:17:11.172258",
     "status": "completed"
    },
    "tags": []
   },
   "outputs": [
    {
     "data": {
      "text/html": [
       "<div>\n",
       "<style scoped>\n",
       "    .dataframe tbody tr th:only-of-type {\n",
       "        vertical-align: middle;\n",
       "    }\n",
       "\n",
       "    .dataframe tbody tr th {\n",
       "        vertical-align: top;\n",
       "    }\n",
       "\n",
       "    .dataframe thead th {\n",
       "        text-align: right;\n",
       "    }\n",
       "</style>\n",
       "<table border=\"1\" class=\"dataframe\">\n",
       "  <thead>\n",
       "    <tr style=\"text-align: right;\">\n",
       "      <th></th>\n",
       "      <th>Pclass</th>\n",
       "      <th>Name</th>\n",
       "      <th>Sex</th>\n",
       "      <th>Age</th>\n",
       "      <th>SibSp</th>\n",
       "      <th>Parch</th>\n",
       "      <th>Fare</th>\n",
       "      <th>Embarked</th>\n",
       "      <th>title</th>\n",
       "    </tr>\n",
       "  </thead>\n",
       "  <tbody>\n",
       "    <tr>\n",
       "      <th>0</th>\n",
       "      <td>3</td>\n",
       "      <td>206</td>\n",
       "      <td>1</td>\n",
       "      <td>0.413793</td>\n",
       "      <td>0</td>\n",
       "      <td>0</td>\n",
       "      <td>-0.280670</td>\n",
       "      <td>1</td>\n",
       "      <td>1</td>\n",
       "    </tr>\n",
       "    <tr>\n",
       "      <th>1</th>\n",
       "      <td>3</td>\n",
       "      <td>403</td>\n",
       "      <td>0</td>\n",
       "      <td>1.275862</td>\n",
       "      <td>1</td>\n",
       "      <td>0</td>\n",
       "      <td>-0.315800</td>\n",
       "      <td>2</td>\n",
       "      <td>2</td>\n",
       "    </tr>\n",
       "    <tr>\n",
       "      <th>2</th>\n",
       "      <td>2</td>\n",
       "      <td>269</td>\n",
       "      <td>1</td>\n",
       "      <td>2.310345</td>\n",
       "      <td>0</td>\n",
       "      <td>0</td>\n",
       "      <td>-0.201943</td>\n",
       "      <td>1</td>\n",
       "      <td>1</td>\n",
       "    </tr>\n",
       "    <tr>\n",
       "      <th>3</th>\n",
       "      <td>3</td>\n",
       "      <td>408</td>\n",
       "      <td>1</td>\n",
       "      <td>-0.103448</td>\n",
       "      <td>0</td>\n",
       "      <td>0</td>\n",
       "      <td>-0.245367</td>\n",
       "      <td>2</td>\n",
       "      <td>1</td>\n",
       "    </tr>\n",
       "    <tr>\n",
       "      <th>4</th>\n",
       "      <td>3</td>\n",
       "      <td>178</td>\n",
       "      <td>0</td>\n",
       "      <td>-0.448276</td>\n",
       "      <td>1</td>\n",
       "      <td>1</td>\n",
       "      <td>-0.091793</td>\n",
       "      <td>2</td>\n",
       "      <td>2</td>\n",
       "    </tr>\n",
       "    <tr>\n",
       "      <th>...</th>\n",
       "      <td>...</td>\n",
       "      <td>...</td>\n",
       "      <td>...</td>\n",
       "      <td>...</td>\n",
       "      <td>...</td>\n",
       "      <td>...</td>\n",
       "      <td>...</td>\n",
       "      <td>...</td>\n",
       "      <td>...</td>\n",
       "    </tr>\n",
       "    <tr>\n",
       "      <th>413</th>\n",
       "      <td>3</td>\n",
       "      <td>353</td>\n",
       "      <td>1</td>\n",
       "      <td>0.000000</td>\n",
       "      <td>0</td>\n",
       "      <td>0</td>\n",
       "      <td>-0.271316</td>\n",
       "      <td>2</td>\n",
       "      <td>1</td>\n",
       "    </tr>\n",
       "    <tr>\n",
       "      <th>414</th>\n",
       "      <td>1</td>\n",
       "      <td>283</td>\n",
       "      <td>0</td>\n",
       "      <td>0.724138</td>\n",
       "      <td>0</td>\n",
       "      <td>0</td>\n",
       "      <td>4.001229</td>\n",
       "      <td>0</td>\n",
       "      <td>4</td>\n",
       "    </tr>\n",
       "    <tr>\n",
       "      <th>415</th>\n",
       "      <td>3</td>\n",
       "      <td>332</td>\n",
       "      <td>1</td>\n",
       "      <td>0.689655</td>\n",
       "      <td>0</td>\n",
       "      <td>0</td>\n",
       "      <td>-0.305208</td>\n",
       "      <td>2</td>\n",
       "      <td>1</td>\n",
       "    </tr>\n",
       "    <tr>\n",
       "      <th>416</th>\n",
       "      <td>3</td>\n",
       "      <td>384</td>\n",
       "      <td>1</td>\n",
       "      <td>0.000000</td>\n",
       "      <td>0</td>\n",
       "      <td>0</td>\n",
       "      <td>-0.271316</td>\n",
       "      <td>2</td>\n",
       "      <td>1</td>\n",
       "    </tr>\n",
       "    <tr>\n",
       "      <th>417</th>\n",
       "      <td>3</td>\n",
       "      <td>302</td>\n",
       "      <td>1</td>\n",
       "      <td>-1.482759</td>\n",
       "      <td>1</td>\n",
       "      <td>1</td>\n",
       "      <td>0.334860</td>\n",
       "      <td>0</td>\n",
       "      <td>0</td>\n",
       "    </tr>\n",
       "  </tbody>\n",
       "</table>\n",
       "<p>418 rows × 9 columns</p>\n",
       "</div>"
      ],
      "text/plain": [
       "     Pclass  Name  Sex       Age  SibSp  Parch      Fare  Embarked  title\n",
       "0         3   206    1  0.413793      0      0 -0.280670         1      1\n",
       "1         3   403    0  1.275862      1      0 -0.315800         2      2\n",
       "2         2   269    1  2.310345      0      0 -0.201943         1      1\n",
       "3         3   408    1 -0.103448      0      0 -0.245367         2      1\n",
       "4         3   178    0 -0.448276      1      1 -0.091793         2      2\n",
       "..      ...   ...  ...       ...    ...    ...       ...       ...    ...\n",
       "413       3   353    1  0.000000      0      0 -0.271316         2      1\n",
       "414       1   283    0  0.724138      0      0  4.001229         0      4\n",
       "415       3   332    1  0.689655      0      0 -0.305208         2      1\n",
       "416       3   384    1  0.000000      0      0 -0.271316         2      1\n",
       "417       3   302    1 -1.482759      1      1  0.334860         0      0\n",
       "\n",
       "[418 rows x 9 columns]"
      ]
     },
     "execution_count": 57,
     "metadata": {},
     "output_type": "execute_result"
    }
   ],
   "source": [
    "X_valid = test.drop(['PassengerId', 'Cabin', 'Ticket'], axis = 1)\n",
    "X_valid"
   ]
  },
  {
   "cell_type": "code",
   "execution_count": 58,
   "id": "e4492d5c",
   "metadata": {
    "execution": {
     "iopub.execute_input": "2023-08-25T11:17:11.311435Z",
     "iopub.status.busy": "2023-08-25T11:17:11.310962Z",
     "iopub.status.idle": "2023-08-25T11:17:11.330938Z",
     "shell.execute_reply": "2023-08-25T11:17:11.329784Z"
    },
    "papermill": {
     "duration": 0.061263,
     "end_time": "2023-08-25T11:17:11.333237",
     "exception": false,
     "start_time": "2023-08-25T11:17:11.271974",
     "status": "completed"
    },
    "tags": []
   },
   "outputs": [
    {
     "data": {
      "text/plain": [
       "array([0, 0, 0, 0, 1, 0, 1, 0, 1, 0, 0, 0, 1, 0, 1, 1, 0, 0, 1, 1, 0, 0,\n",
       "       1, 1, 1, 0, 1, 0, 0, 0, 0, 0, 0, 0, 0, 0, 1, 1, 0, 0, 0, 0, 0, 1,\n",
       "       1, 0, 0, 0, 1, 1, 0, 0, 1, 1, 0, 0, 0, 0, 0, 1, 0, 0, 0, 1, 1, 1,\n",
       "       1, 0, 0, 1, 1, 0, 1, 0, 1, 1, 0, 1, 0, 1, 0, 0, 0, 0, 0, 0, 1, 1,\n",
       "       1, 0, 1, 0, 1, 0, 1, 0, 1, 0, 1, 0, 1, 0, 0, 0, 1, 0, 0, 0, 0, 0,\n",
       "       0, 1, 1, 1, 1, 0, 0, 1, 0, 1, 1, 0, 1, 0, 0, 1, 0, 1, 0, 0, 0, 0,\n",
       "       1, 0, 0, 0, 0, 0, 1, 0, 0, 1, 0, 0, 0, 0, 0, 0, 0, 0, 1, 0, 0, 1,\n",
       "       0, 0, 1, 1, 0, 1, 1, 0, 1, 0, 0, 1, 0, 0, 1, 1, 0, 0, 0, 0, 0, 1,\n",
       "       1, 0, 1, 1, 0, 0, 1, 0, 1, 0, 1, 0, 0, 0, 0, 0, 0, 0, 0, 0, 1, 1,\n",
       "       0, 1, 1, 0, 0, 1, 0, 0, 1, 0, 1, 0, 0, 0, 0, 0, 0, 0, 1, 0, 1, 0,\n",
       "       1, 0, 1, 0, 1, 1, 0, 1, 0, 0, 0, 1, 0, 0, 0, 0, 0, 0, 1, 1, 1, 1,\n",
       "       0, 0, 0, 0, 1, 0, 1, 0, 1, 0, 1, 0, 0, 0, 0, 0, 1, 0, 0, 0, 1, 1,\n",
       "       0, 0, 0, 0, 1, 0, 0, 0, 1, 1, 0, 1, 0, 0, 0, 0, 1, 0, 1, 1, 1, 0,\n",
       "       0, 0, 0, 0, 0, 1, 0, 0, 0, 0, 1, 0, 0, 0, 0, 0, 0, 0, 1, 1, 0, 0,\n",
       "       0, 0, 0, 0, 0, 1, 1, 1, 0, 0, 0, 0, 0, 0, 0, 0, 1, 0, 1, 0, 0, 0,\n",
       "       1, 0, 0, 1, 0, 0, 0, 0, 0, 0, 0, 0, 0, 1, 0, 1, 0, 1, 0, 1, 1, 0,\n",
       "       0, 0, 1, 0, 1, 0, 0, 1, 0, 1, 1, 0, 1, 0, 0, 1, 1, 0, 0, 1, 0, 0,\n",
       "       1, 1, 0, 0, 0, 0, 0, 0, 1, 1, 0, 1, 0, 0, 0, 0, 1, 1, 0, 0, 0, 1,\n",
       "       0, 1, 0, 0, 1, 0, 1, 1, 0, 0, 0, 0, 1, 1, 1, 1, 1, 0, 1, 0, 0, 0])"
      ]
     },
     "execution_count": 58,
     "metadata": {},
     "output_type": "execute_result"
    }
   ],
   "source": [
    "model_f = xgboost.XGBClassifier()\n",
    "\n",
    "model.fit(X_train, y_train)\n",
    "\n",
    "y_pred = model.predict(X_valid)\n",
    "y_pred"
   ]
  },
  {
   "cell_type": "code",
   "execution_count": 59,
   "id": "529e4389",
   "metadata": {
    "execution": {
     "iopub.execute_input": "2023-08-25T11:17:11.410132Z",
     "iopub.status.busy": "2023-08-25T11:17:11.409677Z",
     "iopub.status.idle": "2023-08-25T11:17:11.416105Z",
     "shell.execute_reply": "2023-08-25T11:17:11.415056Z"
    },
    "papermill": {
     "duration": 0.047698,
     "end_time": "2023-08-25T11:17:11.418237",
     "exception": false,
     "start_time": "2023-08-25T11:17:11.370539",
     "status": "completed"
    },
    "tags": []
   },
   "outputs": [],
   "source": [
    "submission = pd.DataFrame(\n",
    "    {'PassengerId': test['PassengerId'],\n",
    "     'Survived': pd.Series(y_pred),\n",
    "    }\n",
    ")"
   ]
  },
  {
   "cell_type": "code",
   "execution_count": 60,
   "id": "8cbb844c",
   "metadata": {
    "execution": {
     "iopub.execute_input": "2023-08-25T11:17:11.495265Z",
     "iopub.status.busy": "2023-08-25T11:17:11.494806Z",
     "iopub.status.idle": "2023-08-25T11:17:11.504974Z",
     "shell.execute_reply": "2023-08-25T11:17:11.503809Z"
    },
    "papermill": {
     "duration": 0.051901,
     "end_time": "2023-08-25T11:17:11.507515",
     "exception": false,
     "start_time": "2023-08-25T11:17:11.455614",
     "status": "completed"
    },
    "tags": []
   },
   "outputs": [
    {
     "data": {
      "text/html": [
       "<div>\n",
       "<style scoped>\n",
       "    .dataframe tbody tr th:only-of-type {\n",
       "        vertical-align: middle;\n",
       "    }\n",
       "\n",
       "    .dataframe tbody tr th {\n",
       "        vertical-align: top;\n",
       "    }\n",
       "\n",
       "    .dataframe thead th {\n",
       "        text-align: right;\n",
       "    }\n",
       "</style>\n",
       "<table border=\"1\" class=\"dataframe\">\n",
       "  <thead>\n",
       "    <tr style=\"text-align: right;\">\n",
       "      <th></th>\n",
       "      <th>PassengerId</th>\n",
       "      <th>Survived</th>\n",
       "    </tr>\n",
       "  </thead>\n",
       "  <tbody>\n",
       "    <tr>\n",
       "      <th>0</th>\n",
       "      <td>892</td>\n",
       "      <td>0</td>\n",
       "    </tr>\n",
       "    <tr>\n",
       "      <th>1</th>\n",
       "      <td>893</td>\n",
       "      <td>0</td>\n",
       "    </tr>\n",
       "    <tr>\n",
       "      <th>2</th>\n",
       "      <td>894</td>\n",
       "      <td>0</td>\n",
       "    </tr>\n",
       "    <tr>\n",
       "      <th>3</th>\n",
       "      <td>895</td>\n",
       "      <td>0</td>\n",
       "    </tr>\n",
       "    <tr>\n",
       "      <th>4</th>\n",
       "      <td>896</td>\n",
       "      <td>1</td>\n",
       "    </tr>\n",
       "  </tbody>\n",
       "</table>\n",
       "</div>"
      ],
      "text/plain": [
       "   PassengerId  Survived\n",
       "0          892         0\n",
       "1          893         0\n",
       "2          894         0\n",
       "3          895         0\n",
       "4          896         1"
      ]
     },
     "execution_count": 60,
     "metadata": {},
     "output_type": "execute_result"
    }
   ],
   "source": [
    "submission.head()"
   ]
  },
  {
   "cell_type": "code",
   "execution_count": 61,
   "id": "0c2731cb",
   "metadata": {
    "execution": {
     "iopub.execute_input": "2023-08-25T11:17:11.584852Z",
     "iopub.status.busy": "2023-08-25T11:17:11.584409Z",
     "iopub.status.idle": "2023-08-25T11:17:11.592715Z",
     "shell.execute_reply": "2023-08-25T11:17:11.591620Z"
    },
    "papermill": {
     "duration": 0.049938,
     "end_time": "2023-08-25T11:17:11.595150",
     "exception": false,
     "start_time": "2023-08-25T11:17:11.545212",
     "status": "completed"
    },
    "tags": []
   },
   "outputs": [],
   "source": [
    "submission.to_csv('submission.csv', index = False)"
   ]
  }
 ],
 "metadata": {
  "kernelspec": {
   "display_name": "Python 3",
   "language": "python",
   "name": "python3"
  },
  "language_info": {
   "codemirror_mode": {
    "name": "ipython",
    "version": 3
   },
   "file_extension": ".py",
   "mimetype": "text/x-python",
   "name": "python",
   "nbconvert_exporter": "python",
   "pygments_lexer": "ipython3",
   "version": "3.10.12"
  },
  "papermill": {
   "default_parameters": {},
   "duration": 39.736916,
   "end_time": "2023-08-25T11:17:12.856155",
   "environment_variables": {},
   "exception": null,
   "input_path": "__notebook__.ipynb",
   "output_path": "__notebook__.ipynb",
   "parameters": {},
   "start_time": "2023-08-25T11:16:33.119239",
   "version": "2.4.0"
  }
 },
 "nbformat": 4,
 "nbformat_minor": 5
}
